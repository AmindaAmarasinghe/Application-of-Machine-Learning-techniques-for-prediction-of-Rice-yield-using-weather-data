{
  "nbformat": 4,
  "nbformat_minor": 0,
  "metadata": {
    "colab": {
      "provenance": []
    },
    "kernelspec": {
      "name": "python3",
      "display_name": "Python 3"
    },
    "language_info": {
      "name": "python"
    }
  },
  "cells": [
    {
      "cell_type": "code",
      "execution_count": null,
      "metadata": {
        "colab": {
          "base_uri": "https://localhost:8080/"
        },
        "id": "CVRWlce-Eu-_",
        "outputId": "f8c189a2-6e6b-48f7-e98f-725a57438c86"
      },
      "outputs": [
        {
          "output_type": "stream",
          "name": "stdout",
          "text": [
            "Mounted at /content/drive\n"
          ]
        }
      ],
      "source": [
        "from google.colab import drive\n",
        "drive.mount('/content/drive')"
      ]
    },
    {
      "cell_type": "code",
      "execution_count": null,
      "metadata": {
        "id": "AMcXr6qpE7Ep"
      },
      "outputs": [],
      "source": [
        "import numpy as np\n",
        "import pandas as pd\n",
        "from array import *\n",
        "import math"
      ]
    },
    {
      "cell_type": "markdown",
      "metadata": {
        "id": "_7eC-Wi-U-4R"
      },
      "source": [
        "##All datasets"
      ]
    },
    {
      "cell_type": "code",
      "execution_count": null,
      "metadata": {
        "id": "JHpptGXZFPRA"
      },
      "outputs": [],
      "source": [
        "df1 = pd.read_csv('/content/drive/MyDrive/ML_research/Am.csv')\n",
        "dataset1=\"Anuradhapura maha kannaya\""
      ]
    },
    {
      "cell_type": "code",
      "execution_count": null,
      "metadata": {
        "id": "xboE-hgKVWER"
      },
      "outputs": [],
      "source": [
        "df2 = pd.read_csv('/content/drive/MyDrive/ML_research/Ay.csv')\n",
        "dataset2=\"Anuradhapura yala kannaya\""
      ]
    },
    {
      "cell_type": "code",
      "execution_count": null,
      "metadata": {
        "id": "HEj561w1VYn-"
      },
      "outputs": [],
      "source": [
        "df3 = pd.read_csv('/content/drive/MyDrive/ML_research/Km.csv')\n",
        "dataset3=\"Kurunegala maha kannaya\""
      ]
    },
    {
      "cell_type": "code",
      "execution_count": null,
      "metadata": {
        "id": "s-VIkr7XVa0z"
      },
      "outputs": [],
      "source": [
        "df4 = pd.read_csv('/content/drive/MyDrive/ML_research/Ky.csv')\n",
        "dataset4=\"Kurunegala yala kannaya\""
      ]
    },
    {
      "cell_type": "code",
      "source": [
        "df5 = pd.read_csv('/content/drive/MyDrive/ML_research/total.csv')"
      ],
      "metadata": {
        "id": "FL3XfO2E2k_B"
      },
      "execution_count": null,
      "outputs": []
    },
    {
      "cell_type": "code",
      "execution_count": null,
      "metadata": {
        "id": "tKnzCD9d2aLH",
        "colab": {
          "base_uri": "https://localhost:8080/"
        },
        "outputId": "30b1fdd0-88d5-427a-96aa-a9ac166561cf"
      },
      "outputs": [
        {
          "output_type": "stream",
          "name": "stdout",
          "text": [
            "    year          X1         X2         X3         X4   X5  X6  X7   X8   X9  \\\n",
            "0   1982  639.600000  30.594059  33.550000  28.680000  101  12  10   27   96   \n",
            "1   1983  431.300000  31.305102  33.816000   0.000000   98  25   0   16  107   \n",
            "2   1984  284.900000  30.709184  33.600000  28.390000   98  15  10   30   93   \n",
            "3   1985  662.900000  30.158537  34.126667  28.396154   82  15  26   29   94   \n",
            "4   1986  230.500000  31.207407  33.625000  28.518182  108   4  11   26   97   \n",
            "5   1987  510.500000  31.073077  33.905556  28.100000  104  18   1   21  102   \n",
            "6   1988  637.200000  30.839450  33.500000  28.633333  109   5   9   21  102   \n",
            "7   1989  597.011765  30.436547  33.600000  28.169231  103   7  13   27   96   \n",
            "8   1990  409.400000  30.702941  34.433333  28.200000  102   3  18   13  110   \n",
            "9   1991  552.800000  30.642391  33.665217  28.512500   92  23   8   18  105   \n",
            "10  1992  457.900000  30.516129  33.537500  28.222727   93   8  22   49   74   \n",
            "11  1993  505.800000  30.564078  33.585714  28.476923  103   7  13   56   67   \n",
            "12  1994  313.382353  30.614141  33.671429  28.440000   99  14  10   28   95   \n",
            "13  1995  543.000000  30.632456  33.650000  28.385714  114   2   7   34   89   \n",
            "14  1996  258.900000  30.903968  33.240000  28.421053   94  10  19   42   81   \n",
            "15  1997  658.900000  31.012264  33.307692  28.575000  106  13   4   34   89   \n",
            "16  1998  678.200000  30.902970  33.936364  28.136364  101  11  11   34   89   \n",
            "17  1999  402.500000  30.361682  33.100000  27.920000  107   1  15   50   73   \n",
            "18  2000  367.500000  30.664211  33.325000  27.912500   95  20   8   37   86   \n",
            "19  2001  143.400000  30.898095  33.269231  27.900000  105  13   5   33   90   \n",
            "20  2002  216.000000  30.970000  33.257143  28.033333  110   7   6   28   95   \n",
            "21  2003  284.600000  31.209735  33.220000  28.200000  113   5   5   33   90   \n",
            "22  2004  346.000000  30.726087   0.000000  25.062500  115   0   8   26   97   \n",
            "23  2005  259.600000  30.965347  33.415000  28.450000  101  20   2   22  101   \n",
            "24  2006  397.300000  30.728261  33.503846  27.600000   92  26   5   57   66   \n",
            "25  2007  401.000000  31.046296  33.266667  27.933333  108   9   6   45   78   \n",
            "26  2008  420.500000  30.911111  33.100000  28.300000  117   2   4   54   69   \n",
            "27  2009  357.000000  30.808738  33.658824  25.933333  103  17   3   41   82   \n",
            "28  2010  685.700000  30.883333  33.742857  27.933333   96  21   6   72   51   \n",
            "29  2011  219.800000  31.040171  33.350000   0.000000  117   6   0  104   19   \n",
            "30  2012  232.500000  31.061905  33.260000  28.449279  105  15   3   35   88   \n",
            "31  2013  593.400000  30.416667  33.516667  27.933333  108   6   9   39   84   \n",
            "32  2014  415.600000  31.021053  33.100000  27.850000  114   3   6   30   93   \n",
            "33  2015  499.200000  31.123932  33.200000  28.600000  117   5   1   27   96   \n",
            "34  2016  779.700000  30.618349  34.100000  26.433333  109  11   3   41   82   \n",
            "35  2017  408.400000  30.735789  33.674074  28.600000   96  26   1   35   88   \n",
            "36  2018  740.000000  30.276636  33.745455  28.200000  107  11   5   76   47   \n",
            "37  2019  242.910000  31.280000  34.683429  28.174286   81  35   7   61   62   \n",
            "\n",
            "          X10        X11         prod  \n",
            "0   24.965625  23.400000  3453.000000  \n",
            "1   25.425234  23.537500  3300.000000  \n",
            "2   25.344086  23.240000  2985.000000  \n",
            "3   24.950000  23.272414  2989.000000  \n",
            "4   25.279381  22.184615  2811.000000  \n",
            "5   25.230392  23.357143  3330.000000  \n",
            "6   25.440196  23.609524  3009.000000  \n",
            "7   25.131127  23.096514  3259.000000  \n",
            "8   25.421818  22.061538  2667.000000  \n",
            "9   25.381905  22.316667  2815.000000  \n",
            "10  25.008108  23.524490  3291.000000  \n",
            "11  24.644776  23.567857  2740.000000  \n",
            "12  25.043820  23.339286  2780.000000  \n",
            "13  25.024719  23.314706  3007.000000  \n",
            "14  24.944444  23.354762  2309.000000  \n",
            "15  24.978652  23.511765  2678.000000  \n",
            "16  25.468539  23.300000  3294.000000  \n",
            "17  24.826027  23.374000  3349.000000  \n",
            "18  25.105814  23.037838  3142.000000  \n",
            "19  25.058889  23.515152  3101.000000  \n",
            "20  25.100000  23.621429  3207.000000  \n",
            "21  25.396667  23.151515  3170.000000  \n",
            "22  24.983505  23.642308  3661.000000  \n",
            "23  25.017822  23.336364  2955.000000  \n",
            "24  24.937879  23.008772  3653.000000  \n",
            "25  25.100000  23.506667  3755.000000  \n",
            "26  24.834783  23.131481  3148.000000  \n",
            "27  24.869512  23.412195  3534.000000  \n",
            "28  24.786275  23.212500  3993.000000  \n",
            "29  24.726316  23.182692  3757.570272  \n",
            "30  25.155682  23.485714  3412.746783  \n",
            "31  25.154762  23.335897  3619.164244  \n",
            "32  25.231183  23.433333  3453.000000  \n",
            "33  27.297917  22.777778  3562.000000  \n",
            "34  24.845122  23.670732  3537.000000  \n",
            "35  24.907865  23.294118  3940.000000  \n",
            "36  24.604255  23.203041  3899.000000  \n",
            "37  24.639032  23.216885  4015.000000  \n"
          ]
        }
      ],
      "source": [
        "df = df4\n",
        "df\n",
        "\n",
        "dataset=dataset4\n",
        "print(df)"
      ]
    },
    {
      "cell_type": "markdown",
      "metadata": {
        "id": "2z3Q9IRiaBy0"
      },
      "source": [
        "##pre processing"
      ]
    },
    {
      "cell_type": "code",
      "execution_count": null,
      "metadata": {
        "id": "fYnSW3lAaJID",
        "colab": {
          "base_uri": "https://localhost:8080/"
        },
        "outputId": "db93f5b6-de36-4a86-b6a7-b30c82a46b9b"
      },
      "outputs": [
        {
          "output_type": "stream",
          "name": "stdout",
          "text": [
            "    year          X1         X2         X3         X4   X5  X6  X7  X8   X9  \\\n",
            "0   1982  639.600000  30.594059  33.550000  28.680000  101  12  10  27   96   \n",
            "2   1984  284.900000  30.709184  33.600000  28.390000   98  15  10  30   93   \n",
            "3   1985  662.900000  30.158537  34.126667  28.396154   82  15  26  29   94   \n",
            "4   1986  230.500000  31.207407  33.625000  28.518182  108   4  11  26   97   \n",
            "5   1987  510.500000  31.073077  33.905556  28.100000  104  18   1  21  102   \n",
            "6   1988  637.200000  30.839450  33.500000  28.633333  109   5   9  21  102   \n",
            "7   1989  597.011765  30.436547  33.600000  28.169231  103   7  13  27   96   \n",
            "8   1990  409.400000  30.702941  34.433333  28.200000  102   3  18  13  110   \n",
            "9   1991  552.800000  30.642391  33.665217  28.512500   92  23   8  18  105   \n",
            "10  1992  457.900000  30.516129  33.537500  28.222727   93   8  22  49   74   \n",
            "11  1993  505.800000  30.564078  33.585714  28.476923  103   7  13  56   67   \n",
            "12  1994  313.382353  30.614141  33.671429  28.440000   99  14  10  28   95   \n",
            "13  1995  543.000000  30.632456  33.650000  28.385714  114   2   7  34   89   \n",
            "14  1996  258.900000  30.903968  33.240000  28.421053   94  10  19  42   81   \n",
            "15  1997  658.900000  31.012264  33.307692  28.575000  106  13   4  34   89   \n",
            "16  1998  678.200000  30.902970  33.936364  28.136364  101  11  11  34   89   \n",
            "17  1999  402.500000  30.361682  33.100000  27.920000  107   1  15  50   73   \n",
            "18  2000  367.500000  30.664211  33.325000  27.912500   95  20   8  37   86   \n",
            "19  2001  143.400000  30.898095  33.269231  27.900000  105  13   5  33   90   \n",
            "20  2002  216.000000  30.970000  33.257143  28.033333  110   7   6  28   95   \n",
            "21  2003  284.600000  31.209735  33.220000  28.200000  113   5   5  33   90   \n",
            "23  2005  259.600000  30.965347  33.415000  28.450000  101  20   2  22  101   \n",
            "24  2006  397.300000  30.728261  33.503846  27.600000   92  26   5  57   66   \n",
            "25  2007  401.000000  31.046296  33.266667  27.933333  108   9   6  45   78   \n",
            "26  2008  420.500000  30.911111  33.100000  28.300000  117   2   4  54   69   \n",
            "27  2009  357.000000  30.808738  33.658824  25.933333  103  17   3  41   82   \n",
            "28  2010  685.700000  30.883333  33.742857  27.933333   96  21   6  72   51   \n",
            "30  2012  232.500000  31.061905  33.260000  28.449279  105  15   3  35   88   \n",
            "31  2013  593.400000  30.416667  33.516667  27.933333  108   6   9  39   84   \n",
            "32  2014  415.600000  31.021053  33.100000  27.850000  114   3   6  30   93   \n",
            "33  2015  499.200000  31.123932  33.200000  28.600000  117   5   1  27   96   \n",
            "34  2016  779.700000  30.618349  34.100000  26.433333  109  11   3  41   82   \n",
            "35  2017  408.400000  30.735789  33.674074  28.600000   96  26   1  35   88   \n",
            "36  2018  740.000000  30.276636  33.745455  28.200000  107  11   5  76   47   \n",
            "37  2019  242.910000  31.280000  34.683429  28.174286   81  35   7  61   62   \n",
            "\n",
            "          X10        X11         prod  \n",
            "0   24.965625  23.400000  3453.000000  \n",
            "2   25.344086  23.240000  2985.000000  \n",
            "3   24.950000  23.272414  2989.000000  \n",
            "4   25.279381  22.184615  2811.000000  \n",
            "5   25.230392  23.357143  3330.000000  \n",
            "6   25.440196  23.609524  3009.000000  \n",
            "7   25.131127  23.096514  3259.000000  \n",
            "8   25.421818  22.061538  2667.000000  \n",
            "9   25.381905  22.316667  2815.000000  \n",
            "10  25.008108  23.524490  3291.000000  \n",
            "11  24.644776  23.567857  2740.000000  \n",
            "12  25.043820  23.339286  2780.000000  \n",
            "13  25.024719  23.314706  3007.000000  \n",
            "14  24.944444  23.354762  2309.000000  \n",
            "15  24.978652  23.511765  2678.000000  \n",
            "16  25.468539  23.300000  3294.000000  \n",
            "17  24.826027  23.374000  3349.000000  \n",
            "18  25.105814  23.037838  3142.000000  \n",
            "19  25.058889  23.515152  3101.000000  \n",
            "20  25.100000  23.621429  3207.000000  \n",
            "21  25.396667  23.151515  3170.000000  \n",
            "23  25.017822  23.336364  2955.000000  \n",
            "24  24.937879  23.008772  3653.000000  \n",
            "25  25.100000  23.506667  3755.000000  \n",
            "26  24.834783  23.131481  3148.000000  \n",
            "27  24.869512  23.412195  3534.000000  \n",
            "28  24.786275  23.212500  3993.000000  \n",
            "30  25.155682  23.485714  3412.746783  \n",
            "31  25.154762  23.335897  3619.164244  \n",
            "32  25.231183  23.433333  3453.000000  \n",
            "33  27.297917  22.777778  3562.000000  \n",
            "34  24.845122  23.670732  3537.000000  \n",
            "35  24.907865  23.294118  3940.000000  \n",
            "36  24.604255  23.203041  3899.000000  \n",
            "37  24.639032  23.216885  4015.000000  \n"
          ]
        }
      ],
      "source": [
        "#Delete row whose column value is equal to 0\n",
        "df = df.drop(df.index[df['X2'] == 0])\n",
        "df = df.drop(df.index[df['X3'] == 0])\n",
        "df = df.drop(df.index[df['X4'] == 0])\n",
        "df = df.drop(df.index[df['X10'] == 0])\n",
        "df = df.drop(df.index[df['X11'] == 0])\n",
        "df.size\n",
        "\n",
        "import matplotlib.pyplot as plt\n",
        "from sklearn.metrics import mean_squared_error\n",
        "from sklearn.model_selection import KFold\n",
        "from sklearn.model_selection import train_test_split\n",
        "from sklearn.metrics import r2_score\n",
        "from sklearn.preprocessing import MinMaxScaler\n",
        "from sklearn.linear_model import Lasso\n",
        "from sklearn.linear_model import LinearRegression \n",
        "from sklearn.metrics import mean_absolute_error\n",
        "from sklearn.linear_model import Ridge\n",
        "from sklearn.svm import SVR\n",
        "from sklearn.linear_model import ElasticNet\n",
        "from sklearn.neural_network import MLPRegressor\n",
        "from sklearn import neighbors\n",
        "from sklearn.ensemble import RandomForestRegressor\n",
        "print(df)"
      ]
    },
    {
      "cell_type": "code",
      "source": [
        "df.boxplot(column=['X1'])"
      ],
      "metadata": {
        "colab": {
          "base_uri": "https://localhost:8080/",
          "height": 447
        },
        "id": "uszZ_JGwGDMv",
        "outputId": "206e5f2d-bb22-4a18-b737-1d66e4ac165f"
      },
      "execution_count": null,
      "outputs": [
        {
          "output_type": "execute_result",
          "data": {
            "text/plain": [
              "<Axes: >"
            ]
          },
          "metadata": {},
          "execution_count": 10
        },
        {
          "output_type": "display_data",
          "data": {
            "text/plain": [
              "<Figure size 640x480 with 1 Axes>"
            ],
            "image/png": "[encoded data removed]"
          },
          "metadata": {}
        }
      ]
    },
    {
      "cell_type": "code",
      "source": [
        "df.boxplot(column=['X2'])\n"
      ],
      "metadata": {
        "colab": {
          "base_uri": "https://localhost:8080/",
          "height": 447
        },
        "id": "Ez_zO8aWGc2A",
        "outputId": "206f2e92-9c74-445a-f2dc-0e859eadd02e"
      },
      "execution_count": null,
      "outputs": [
        {
          "output_type": "execute_result",
          "data": {
            "text/plain": [
              "<Axes: >"
            ]
          },
          "metadata": {},
          "execution_count": 11
        },
        {
          "output_type": "display_data",
          "data": {
            "text/plain": [
              "<Figure size 640x480 with 1 Axes>"
            ],
            "image/png": "[encoded data removed]"
          },
          "metadata": {}
        }
      ]
    },
    {
      "cell_type": "code",
      "source": [
        "df.boxplot(column=['X3'])\n"
      ],
      "metadata": {
        "colab": {
          "base_uri": "https://localhost:8080/",
          "height": 447
        },
        "id": "wAUa2JNuGh7I",
        "outputId": "52cde671-f178-41bc-dd9d-1de79680dbfb"
      },
      "execution_count": null,
      "outputs": [
        {
          "output_type": "execute_result",
          "data": {
            "text/plain": [
              "<Axes: >"
            ]
          },
          "metadata": {},
          "execution_count": 12
        },
        {
          "output_type": "display_data",
          "data": {
            "text/plain": [
              "<Figure size 640x480 with 1 Axes>"
            ],
            "image/png": "[encoded data removed]"
          },
          "metadata": {}
        }
      ]
    },
    {
      "cell_type": "code",
      "source": [
        "df.boxplot(column=['X4'])\n"
      ],
      "metadata": {
        "colab": {
          "base_uri": "https://localhost:8080/",
          "height": 447
        },
        "id": "yhwHBUNlGm88",
        "outputId": "857a3dab-db5c-4aa2-c3de-fb57b54f5efb"
      },
      "execution_count": null,
      "outputs": [
        {
          "output_type": "execute_result",
          "data": {
            "text/plain": [
              "<Axes: >"
            ]
          },
          "metadata": {},
          "execution_count": 13
        },
        {
          "output_type": "display_data",
          "data": {
            "text/plain": [
              "<Figure size 640x480 with 1 Axes>"
            ],
            "image/png": "[encoded data removed]"
          },
          "metadata": {}
        }
      ]
    },
    {
      "cell_type": "code",
      "source": [
        "df.boxplot(column=['X5'])\n"
      ],
      "metadata": {
        "colab": {
          "base_uri": "https://localhost:8080/",
          "height": 447
        },
        "id": "WSlAB0JIGq7e",
        "outputId": "ac50f796-187a-40d6-c68e-5c4073361218"
      },
      "execution_count": null,
      "outputs": [
        {
          "output_type": "execute_result",
          "data": {
            "text/plain": [
              "<Axes: >"
            ]
          },
          "metadata": {},
          "execution_count": 14
        },
        {
          "output_type": "display_data",
          "data": {
            "text/plain": [
              "<Figure size 640x480 with 1 Axes>"
            ],
            "image/png": "[encoded data removed]"
          },
          "metadata": {}
        }
      ]
    },
    {
      "cell_type": "code",
      "source": [
        "df.boxplot(column=['X6'])\n"
      ],
      "metadata": {
        "colab": {
          "base_uri": "https://localhost:8080/",
          "height": 447
        },
        "id": "06aNmoMkGsyL",
        "outputId": "96378060-74c8-4e58-f2e0-91490c095fa4"
      },
      "execution_count": null,
      "outputs": [
        {
          "output_type": "execute_result",
          "data": {
            "text/plain": [
              "<Axes: >"
            ]
          },
          "metadata": {},
          "execution_count": 15
        },
        {
          "output_type": "display_data",
          "data": {
            "text/plain": [
              "<Figure size 640x480 with 1 Axes>"
            ],
            "image/png": "[encoded data removed]"
          },
          "metadata": {}
        }
      ]
    },
    {
      "cell_type": "code",
      "source": [
        "df.boxplot(column=['X7'])\n"
      ],
      "metadata": {
        "colab": {
          "base_uri": "https://localhost:8080/",
          "height": 447
        },
        "id": "8tXSdesCGvPa",
        "outputId": "d0a4e378-f9a1-451e-a6af-7c42f27d8ff2"
      },
      "execution_count": null,
      "outputs": [
        {
          "output_type": "execute_result",
          "data": {
            "text/plain": [
              "<Axes: >"
            ]
          },
          "metadata": {},
          "execution_count": 16
        },
        {
          "output_type": "display_data",
          "data": {
            "text/plain": [
              "<Figure size 640x480 with 1 Axes>"
            ],
            "image/png": "[encoded data removed]"
          },
          "metadata": {}
        }
      ]
    },
    {
      "cell_type": "code",
      "source": [
        "df.boxplot(column=['X8'])\n"
      ],
      "metadata": {
        "colab": {
          "base_uri": "https://localhost:8080/",
          "height": 447
        },
        "id": "yh8zbLUqGyBV",
        "outputId": "604164a4-042c-4c69-bb6a-df4b73319389"
      },
      "execution_count": null,
      "outputs": [
        {
          "output_type": "execute_result",
          "data": {
            "text/plain": [
              "<Axes: >"
            ]
          },
          "metadata": {},
          "execution_count": 17
        },
        {
          "output_type": "display_data",
          "data": {
            "text/plain": [
              "<Figure size 640x480 with 1 Axes>"
            ],
            "image/png": "[encoded data removed]"
          },
          "metadata": {}
        }
      ]
    },
    {
      "cell_type": "code",
      "source": [
        "df.boxplot(column=['X9'])\n"
      ],
      "metadata": {
        "colab": {
          "base_uri": "https://localhost:8080/",
          "height": 447
        },
        "id": "EY6sjX8hG1X1",
        "outputId": "6a2ad577-76f6-487d-f3b3-fc69b8a54bfd"
      },
      "execution_count": null,
      "outputs": [
        {
          "output_type": "execute_result",
          "data": {
            "text/plain": [
              "<Axes: >"
            ]
          },
          "metadata": {},
          "execution_count": 18
        },
        {
          "output_type": "display_data",
          "data": {
            "text/plain": [
              "<Figure size 640x480 with 1 Axes>"
            ],
            "image/png": "[encoded data removed]"
          },
          "metadata": {}
        }
      ]
    },
    {
      "cell_type": "code",
      "source": [
        "df.boxplot(column=['X10'])\n"
      ],
      "metadata": {
        "colab": {
          "base_uri": "https://localhost:8080/",
          "height": 447
        },
        "id": "bPdc2bfVG4S-",
        "outputId": "829af655-7012-4ccc-ce12-2639f0558b66"
      },
      "execution_count": null,
      "outputs": [
        {
          "output_type": "execute_result",
          "data": {
            "text/plain": [
              "<Axes: >"
            ]
          },
          "metadata": {},
          "execution_count": 19
        },
        {
          "output_type": "display_data",
          "data": {
            "text/plain": [
              "<Figure size 640x480 with 1 Axes>"
            ],
            "image/png": "[encoded data removed]"
          },
          "metadata": {}
        }
      ]
    },
    {
      "cell_type": "code",
      "source": [
        "df.boxplot(column=['X11'])"
      ],
      "metadata": {
        "colab": {
          "base_uri": "https://localhost:8080/",
          "height": 447
        },
        "id": "QMVx-bMMG6ML",
        "outputId": "952483c0-dc1e-450a-e2eb-8ff6e583a2f9"
      },
      "execution_count": null,
      "outputs": [
        {
          "output_type": "execute_result",
          "data": {
            "text/plain": [
              "<Axes: >"
            ]
          },
          "metadata": {},
          "execution_count": 20
        },
        {
          "output_type": "display_data",
          "data": {
            "text/plain": [
              "<Figure size 640x480 with 1 Axes>"
            ],
            "image/png": "[encoded data removed]"
          },
          "metadata": {}
        }
      ]
    },
    {
      "cell_type": "code",
      "source": [
        "df['X1'] = np.where(df['X1'] < (df['X1'].quantile(0.10)), (df['X1'].quantile(0.10)),df['X1'])\n",
        "df['X1'] = np.where(df['X1'] >(df['X1'].quantile(0.90)), (df['X1'].quantile(0.90)),df['X1'])\n",
        "\n",
        "df['X2'] = np.where(df['X2'] < (df['X2'].quantile(0.10)), (df['X2'].quantile(0.10)),df['X2'])\n",
        "df['X2'] = np.where(df['X2'] >(df['X2'].quantile(0.90)), (df['X2'].quantile(0.90)),df['X2'])\n",
        "\n",
        "df['X3'] = np.where(df['X3'] < (df['X3'].quantile(0.10)), (df['X3'].quantile(0.10)),df['X3'])\n",
        "df['X3'] = np.where(df['X3'] >(df['X3'].quantile(0.90)), (df['X3'].quantile(0.90)),df['X3'])\n",
        "\n",
        "df['X4'] = np.where(df['X4'] < (df['X4'].quantile(0.10)), (df['X4'].quantile(0.10)),df['X4'])\n",
        "df['X4'] = np.where(df['X4'] >(df['X4'].quantile(0.90)), (df['X4'].quantile(0.90)),df['X4'])\n",
        "\n",
        "df['X5'] = np.where(df['X5'] < (df['X5'].quantile(0.10)), (df['X5'].quantile(0.10)),df['X5'])\n",
        "df['X5'] = np.where(df['X5'] >(df['X5'].quantile(0.90)), (df['X5'].quantile(0.90)),df['X5'])\n",
        "\n",
        "df['X6'] = np.where(df['X6'] < (df['X6'].quantile(0.10)), (df['X6'].quantile(0.10)),df['X6'])\n",
        "df['X6'] = np.where(df['X6'] >(df['X6'].quantile(0.90)), (df['X6'].quantile(0.90)),df['X6'])\n",
        "\n",
        "df['X7'] = np.where(df['X7'] < (df['X7'].quantile(0.10)), (df['X7'].quantile(0.10)),df['X7'])\n",
        "df['X7'] = np.where(df['X7'] >(df['X7'].quantile(0.90)), (df['X7'].quantile(0.90)),df['X7'])\n",
        "\n",
        "df['X8'] = np.where(df['X8'] < (df['X8'].quantile(0.10)), (df['X8'].quantile(0.10)),df['X8'])\n",
        "df['X8'] = np.where(df['X8'] >(df['X8'].quantile(0.90)), (df['X8'].quantile(0.90)),df['X8'])\n",
        "\n",
        "df['X9'] = np.where(df['X9'] < (df['X9'].quantile(0.10)), (df['X9'].quantile(0.10)),df['X9'])\n",
        "df['X9'] = np.where(df['X9'] >(df['X9'].quantile(0.90)), (df['X9'].quantile(0.90)),df['X9'])\n",
        "\n",
        "df['X10'] = np.where(df['X10'] < (df['X10'].quantile(0.10)), (df['X10'].quantile(0.10)),df['X10'])\n",
        "df['X10'] = np.where(df['X10'] >(df['X10'].quantile(0.90)), (df['X10'].quantile(0.90)),df['X10'])\n",
        "\n",
        "df['X11'] = np.where(df['X11'] < (df['X11'].quantile(0.10)), (df['X11'].quantile(0.10)),df['X11'])\n",
        "df['X11'] = np.where(df['X11'] >(df['X11'].quantile(0.90)), (df['X11'].quantile(0.90)),df['X11'])"
      ],
      "metadata": {
        "id": "X33VYWV6SLAc"
      },
      "execution_count": null,
      "outputs": []
    },
    {
      "cell_type": "code",
      "execution_count": null,
      "metadata": {
        "colab": {
          "base_uri": "https://localhost:8080/"
        },
        "id": "X119TUHM7yJr",
        "outputId": "598b64a7-6cbf-47ff-d3e9-44285f96eb4d"
      },
      "outputs": [
        {
          "output_type": "stream",
          "name": "stdout",
          "text": [
            "              Method  RMSE test  RMSE train  RRMSE test  RRMSE train  \\\n",
            "0  Linear Regression          0           0           0            0   \n",
            "1                SVR          0           0           0            0   \n",
            "2                MLP          0           0           0            0   \n",
            "3                KNN          0           0           0            0   \n",
            "4      Random Forest          0           0           0            0   \n",
            "\n",
            "   MAE test  MAE train  R2_score test  R2_score train  Bias test  Bias train  \n",
            "0         0          0              0               0          0           0  \n",
            "1         0          0              0               0          0           0  \n",
            "2         0          0              0               0          0           0  \n",
            "3         0          0              0               0          0           0  \n",
            "4         0          0              0               0          0           0  \n",
            "10\n",
            "35 25 10\n"
          ]
        }
      ],
      "source": [
        "####################3\n",
        "def bias_value(y_test, y_pred):\n",
        "  ytest_list = list(y_test.values)\n",
        "  diff=0.0\n",
        "  avg_diff=0.0\n",
        "  for i in range(0,len(ytest_list)):\n",
        "    diff=diff+ytest_list[i]-y_pred[i]\n",
        "\n",
        "  avg_diff=diff/len(ytest_list)\n",
        "  return avg_diff\n",
        "\n",
        "data = {'Method': ['Linear Regression','SVR','MLP','KNN','Random Forest'],\n",
        "        'RMSE test': [0,0,0,0,0],\n",
        "        'RMSE train': [0,0,0,0,0],\n",
        "        'RRMSE test': [0,0,0,0,0],\n",
        "        'RRMSE train': [0,0,0,0,0],\n",
        "        'MAE test': [0,0,0,0,0],\n",
        "        'MAE train': [0,0,0,0,0],\n",
        "        'R2_score test': [0,0,0,0,0],\n",
        "        'R2_score train': [0,0,0,0,0],\n",
        "        'Bias test': [0,0,0,0,0],\n",
        "        'Bias train': [0,0,0,0,0],\n",
        "        }\n",
        "\n",
        "mydf = pd.DataFrame(data, columns = ['Method', 'RMSE test','RMSE train','RRMSE test','RRMSE train','MAE test','MAE train','R2_score test','R2_score train','Bias test','Bias train'])\n",
        "print(mydf)\n",
        "test_percentage = 0.3\n",
        "test_size = math.floor(len(df.index)*test_percentage)\n",
        "print(test_size)\n",
        "\n",
        "df_train = df[:-test_size]\n",
        "df_test = df[-test_size:]\n",
        "\n",
        "print(len(df.index), len(df_train.index) , len(df_test.index))"
      ]
    },
    {
      "cell_type": "code",
      "execution_count": null,
      "metadata": {
        "id": "3YTL0bgKLRLk",
        "colab": {
          "base_uri": "https://localhost:8080/",
          "height": 658
        },
        "outputId": "aa8cf9f3-0912-41f9-d715-fe7778f5cef6"
      },
      "outputs": [
        {
          "output_type": "stream",
          "name": "stdout",
          "text": [
            "Feature: 0, Score: 0.02862\n",
            "Feature: 1, Score: 0.03547\n",
            "Feature: 2, Score: 0.05162\n",
            "Feature: 3, Score: 0.53177\n",
            "Feature: 4, Score: 0.07631\n",
            "Feature: 5, Score: 0.05098\n",
            "Feature: 6, Score: 0.05426\n",
            "Feature: 7, Score: 0.05092\n",
            "Feature: 8, Score: 0.04402\n",
            "Feature: 9, Score: 0.03425\n",
            "Feature: 10, Score: 0.04178\n"
          ]
        },
        {
          "output_type": "display_data",
          "data": {
            "text/plain": [
              "<Figure size 640x480 with 1 Axes>"
            ],
            "image/png": "[encoded data removed]"
          },
          "metadata": {}
        },
        {
          "output_type": "stream",
          "name": "stdout",
          "text": [
            "[[0, 0.028620218612369863], [1, 0.03547025590725611], [2, 0.051617063190256184], [3, 0.5317689969891107], [4, 0.07630734672199521], [5, 0.05098226551791129], [6, 0.05426379064290176], [7, 0.05092144577280784], [8, 0.044020699745528837], [9, 0.03425050547778725], [10, 0.041777411422074855]]\n"
          ]
        }
      ],
      "source": [
        "#Random forest\n",
        "from sklearn.ensemble import RandomForestRegressor\n",
        "from sklearn.model_selection import train_test_split\n",
        "from sklearn.feature_selection import RFECV\n",
        "import matplotlib.pyplot as plt\n",
        "\n",
        "X=df_train.drop(['year','prod'], axis=1)\n",
        "y=df_train['prod']\n",
        "from sklearn.model_selection import train_test_split\n",
        "x_train, x_test, y_train, y_test= train_test_split(X,y,test_size=0.3,random_state=42)\n",
        "\n",
        "feature_names = [f\"feature {i}\" for i in range(X.shape[1])]\n",
        "\n",
        "from sklearn.preprocessing import MinMaxScaler\n",
        "scaler = MinMaxScaler()\n",
        "X_train = scaler.fit_transform(x_train)\n",
        "x_train = pd.DataFrame(X_train)\n",
        "X_test = scaler.transform(x_test)\n",
        "x_test = pd.DataFrame(X_test)\n",
        "\n",
        "rf = RandomForestRegressor(random_state=42)\n",
        "\n",
        "rf.fit(x_train,y_train)\n",
        "\n",
        "importance = rf.feature_importances_\n",
        "# summarize feature importance and assign them to an array 'arr' with the feature index\n",
        "arr = [[0 for x in range(2)] for y in range(11)] \n",
        "for i,v in enumerate(importance):\n",
        "\tarr[i][0] = i\n",
        "\tarr[i][1] = v\n",
        "\tprint('Feature: %0d, Score: %.5f' % (i,v))\n",
        "# plot feature importance\n",
        "plt.barh([x for x in range(len(importance))], importance)\n",
        "plt.show()\n",
        "\n",
        "print(arr)\n"
      ]
    },
    {
      "cell_type": "code",
      "source": [
        "arr.sort(key=lambda row: (row[1]), reverse=True)\n",
        "print(arr)\n",
        "plt.barh([x[0] for x in arr],[x[1] for x in arr])\n",
        "plt.show()\n"
      ],
      "metadata": {
        "id": "glTOJObVxpfk",
        "colab": {
          "base_uri": "https://localhost:8080/",
          "height": 467
        },
        "outputId": "88d3dfbe-9d65-46db-b7b3-0a3079f47212"
      },
      "execution_count": null,
      "outputs": [
        {
          "output_type": "stream",
          "name": "stdout",
          "text": [
            "[[3, 0.5317689969891107], [4, 0.07630734672199521], [6, 0.05426379064290176], [2, 0.051617063190256184], [5, 0.05098226551791129], [7, 0.05092144577280784], [8, 0.044020699745528837], [10, 0.041777411422074855], [1, 0.03547025590725611], [9, 0.03425050547778725], [0, 0.028620218612369863]]\n"
          ]
        },
        {
          "output_type": "display_data",
          "data": {
            "text/plain": [
              "<Figure size 640x480 with 1 Axes>"
            ],
            "image/png": "[encoded data removed]"
          },
          "metadata": {}
        }
      ]
    },
    {
      "cell_type": "code",
      "source": [
        "acc_array=list()\n",
        "#feature_array=list()\n",
        "\n",
        "\n",
        "cv = KFold(n_splits=5, shuffle=True, random_state=42)\n",
        "\n",
        "for n in range(1,12):\n",
        "  num_of_features = n\n",
        "  #print(num_of_features)\n",
        "  selected = [0 for y in range(num_of_features)]\n",
        "  for i in range(num_of_features):\n",
        "    selected[i] = sorted(arr,key=lambda row: (row[1]), reverse=True)[i]\n",
        "  print(selected) \n",
        "  selected_features_list = [0 for y in range(num_of_features)]\n",
        "  for i in range(num_of_features):\n",
        "    selected_features_list[i] = df_train.columns[selected[i][0]+1]\n",
        "  print(selected_features_list)"
      ],
      "metadata": {
        "id": "L4rm4Yp3Bc3u",
        "colab": {
          "base_uri": "https://localhost:8080/"
        },
        "outputId": "fb963b36-209f-42f4-c3d7-35aa3c7ee556"
      },
      "execution_count": null,
      "outputs": [
        {
          "output_type": "stream",
          "name": "stdout",
          "text": [
            "[[3, 0.5317689969891107]]\n",
            "['X4']\n",
            "[[3, 0.5317689969891107], [4, 0.07630734672199521]]\n",
            "['X4', 'X5']\n",
            "[[3, 0.5317689969891107], [4, 0.07630734672199521], [6, 0.05426379064290176]]\n",
            "['X4', 'X5', 'X7']\n",
            "[[3, 0.5317689969891107], [4, 0.07630734672199521], [6, 0.05426379064290176], [2, 0.051617063190256184]]\n",
            "['X4', 'X5', 'X7', 'X3']\n",
            "[[3, 0.5317689969891107], [4, 0.07630734672199521], [6, 0.05426379064290176], [2, 0.051617063190256184], [5, 0.05098226551791129]]\n",
            "['X4', 'X5', 'X7', 'X3', 'X6']\n",
            "[[3, 0.5317689969891107], [4, 0.07630734672199521], [6, 0.05426379064290176], [2, 0.051617063190256184], [5, 0.05098226551791129], [7, 0.05092144577280784]]\n",
            "['X4', 'X5', 'X7', 'X3', 'X6', 'X8']\n",
            "[[3, 0.5317689969891107], [4, 0.07630734672199521], [6, 0.05426379064290176], [2, 0.051617063190256184], [5, 0.05098226551791129], [7, 0.05092144577280784], [8, 0.044020699745528837]]\n",
            "['X4', 'X5', 'X7', 'X3', 'X6', 'X8', 'X9']\n",
            "[[3, 0.5317689969891107], [4, 0.07630734672199521], [6, 0.05426379064290176], [2, 0.051617063190256184], [5, 0.05098226551791129], [7, 0.05092144577280784], [8, 0.044020699745528837], [10, 0.041777411422074855]]\n",
            "['X4', 'X5', 'X7', 'X3', 'X6', 'X8', 'X9', 'X11']\n",
            "[[3, 0.5317689969891107], [4, 0.07630734672199521], [6, 0.05426379064290176], [2, 0.051617063190256184], [5, 0.05098226551791129], [7, 0.05092144577280784], [8, 0.044020699745528837], [10, 0.041777411422074855], [1, 0.03547025590725611]]\n",
            "['X4', 'X5', 'X7', 'X3', 'X6', 'X8', 'X9', 'X11', 'X2']\n",
            "[[3, 0.5317689969891107], [4, 0.07630734672199521], [6, 0.05426379064290176], [2, 0.051617063190256184], [5, 0.05098226551791129], [7, 0.05092144577280784], [8, 0.044020699745528837], [10, 0.041777411422074855], [1, 0.03547025590725611], [9, 0.03425050547778725]]\n",
            "['X4', 'X5', 'X7', 'X3', 'X6', 'X8', 'X9', 'X11', 'X2', 'X10']\n",
            "[[3, 0.5317689969891107], [4, 0.07630734672199521], [6, 0.05426379064290176], [2, 0.051617063190256184], [5, 0.05098226551791129], [7, 0.05092144577280784], [8, 0.044020699745528837], [10, 0.041777411422074855], [1, 0.03547025590725611], [9, 0.03425050547778725], [0, 0.028620218612369863]]\n",
            "['X4', 'X5', 'X7', 'X3', 'X6', 'X8', 'X9', 'X11', 'X2', 'X10', 'X1']\n"
          ]
        }
      ]
    },
    {
      "cell_type": "code",
      "source": [
        "\n",
        "acc_array=list()\n",
        "#feature_array=list()\n",
        "\n",
        "\n",
        "cv = KFold(n_splits=5, shuffle=True, random_state=42)\n",
        "min=2000\n",
        "selected_features_final=list()\n",
        "for n in range(1,12):\n",
        "  num_of_features = n\n",
        "  selected = [[0 for x in range(2)] for y in range(num_of_features)] \n",
        "  #copy the selected most important n features' indices and their importance to 'selected' array\n",
        "  for i in range(num_of_features):\n",
        "    selected[i] = sorted(arr,key=lambda row: (row[1]), reverse=True)[i]\n",
        "  #assign selected feature columns in 'X' dataset to new dataset 'selected_features'\n",
        "  selected_features = pd.DataFrame()\n",
        "  selected_features_list = [0 for y in range(num_of_features)]\n",
        "  for i in range(num_of_features):\n",
        "    selected_features[i] = df_train.iloc[:, selected[i][0]+1]\n",
        "    #print(selected_features)\n",
        "    selected_features_list[i] = df_train.columns[selected[i][0]+1]\n",
        "  #print(selected_features_list)\n",
        "  rmse_test_arr = []\n",
        "  rrmse_test_arr =[]\n",
        "  r2_test_arr= []\n",
        "  mae_test_arr = []\n",
        "\n",
        "  rmse_train_arr = []\n",
        "  rrmse_train_arr =[]\n",
        "  r2_train_arr= []\n",
        "  mae_train_arr = []\n",
        "\n",
        "  bias_test_arr = []\n",
        "  bias_train_arr = []\n",
        "  #print(selected_features[i])\n",
        "  for tr, tt in cv.split(df_train): #tr,tt are indexes\n",
        "    x_train, x_test = selected_features[i].iloc[tr], selected_features[i].iloc[tt]\n",
        "    y_train, y_test = df_train['prod'].iloc[tr], df_train['prod'].iloc[tt]\n",
        "    #print(tr,tt)\n",
        "    scaler = MinMaxScaler()\n",
        "    X_train = scaler.fit_transform(pd.DataFrame(x_train))\n",
        "    X_test = scaler.transform(pd.DataFrame(x_test))\n",
        "    model =  RandomForestRegressor(n_estimators = 1000, random_state = 42).fit(X_train, y_train)\n",
        "    y_pred= model.predict(X_test)\n",
        "    y_pred_train= model.predict(X_train)\n",
        "\n",
        "    r2_test=r2_score(y_test,y_pred)\n",
        "    r2_train=r2_score(y_train,y_pred_train)\n",
        "    #print(r2_test)\n",
        "    #print(r2_train)\n",
        "    r2_test_arr.append(r2_test)\n",
        "    r2_train_arr.append(r2_train)\n",
        "\n",
        "    rmse_test = float(format(np.sqrt(mean_squared_error(y_test, y_pred)), '.3f'))\n",
        "    #print(\"\\nRMSE test: \", rmse_test)\n",
        "    rmse_test_arr.append(rmse_test)\n",
        "\n",
        "    rrmse_test = format(float(rmse_test*100/np.mean(y_test)),'.2f')\n",
        "    #print(\"\\nRRMSE test: \", rrmse_test,\"%\")\n",
        "    rrmse_test_arr.append(rrmse_test)\n",
        "\n",
        "    rmse_train = float(format(np.sqrt(mean_squared_error(y_train, y_pred_train)), '.3f'))\n",
        "    #print(\"\\nRMSE train: \", rmse_train)\n",
        "    rmse_train_arr.append(rmse_train)\n",
        "\n",
        "    rrmse_train = format(float(rmse_train*100/np.mean(y_train)),'.2f')\n",
        "    #print(\"\\nRRMSE train: \", rrmse_train,\"%\")\n",
        "    rrmse_train_arr.append(rrmse_train)\n",
        "\n",
        "\n",
        "    mae_test = float(format(mean_absolute_error(y_test, y_pred), '.3f'))\n",
        "    #print(\"\\nMAE Test: \", mae_test)\n",
        "    mae_test_arr.append(mae_test)\n",
        "    mae_train = float(format(mean_absolute_error(y_train, y_pred_train), '.3f'))\n",
        "    #print(\"\\nMAE Train: \", mae_train)\n",
        "    mae_train_arr.append(mae_train)\n",
        "\n",
        "    #print(\"\\nBias Test: \\n\", bias_value(y_test,y_pred))\n",
        "    bias_test_arr.append(bias_value(y_test,y_pred))\n",
        "    #print(\"\\nBias Train: \\n\", bias_value(y_train, y_pred_train))\n",
        "    bias_train_arr.append(bias_value(y_train, y_pred_train))\n",
        "    \n",
        "  acc_array.append(np.mean(np.array(rmse_test_arr).astype(np.float)))\n",
        "  if(min > np.mean(np.array(rmse_test_arr).astype(np.float))):\n",
        "    min=np.mean(np.array(rmse_test_arr).astype(np.float))\n",
        "    selected_features_final = selected_features_list\n",
        "plt.plot(np.arange(11), acc_array)\n",
        "plt.show()\n",
        "print(selected_features_final)\n",
        "print(min)"
      ],
      "metadata": {
        "id": "z28t7juDs5RB",
        "colab": {
          "base_uri": "https://localhost:8080/",
          "height": 1000
        },
        "outputId": "8d276dd3-2390-45cc-fe45-50bcb4585038"
      },
      "execution_count": null,
      "outputs": [
        {
          "output_type": "stream",
          "name": "stderr",
          "text": [
            "<ipython-input-26-457796cc4b7d>:82: DeprecationWarning: `np.float` is a deprecated alias for the builtin `float`. To silence this warning, use `float` by itself. Doing this will not modify any behavior and is safe. If you specifically wanted the numpy scalar type, use `np.float64` here.\n",
            "Deprecated in NumPy 1.20; for more details and guidance: https://numpy.org/devdocs/release/1.20.0-notes.html#deprecations\n",
            "  acc_array.append(np.mean(np.array(rmse_test_arr).astype(np.float)))\n",
            "<ipython-input-26-457796cc4b7d>:83: DeprecationWarning: `np.float` is a deprecated alias for the builtin `float`. To silence this warning, use `float` by itself. Doing this will not modify any behavior and is safe. If you specifically wanted the numpy scalar type, use `np.float64` here.\n",
            "Deprecated in NumPy 1.20; for more details and guidance: https://numpy.org/devdocs/release/1.20.0-notes.html#deprecations\n",
            "  if(min > np.mean(np.array(rmse_test_arr).astype(np.float))):\n",
            "<ipython-input-26-457796cc4b7d>:84: DeprecationWarning: `np.float` is a deprecated alias for the builtin `float`. To silence this warning, use `float` by itself. Doing this will not modify any behavior and is safe. If you specifically wanted the numpy scalar type, use `np.float64` here.\n",
            "Deprecated in NumPy 1.20; for more details and guidance: https://numpy.org/devdocs/release/1.20.0-notes.html#deprecations\n",
            "  min=np.mean(np.array(rmse_test_arr).astype(np.float))\n",
            "<ipython-input-26-457796cc4b7d>:82: DeprecationWarning: `np.float` is a deprecated alias for the builtin `float`. To silence this warning, use `float` by itself. Doing this will not modify any behavior and is safe. If you specifically wanted the numpy scalar type, use `np.float64` here.\n",
            "Deprecated in NumPy 1.20; for more details and guidance: https://numpy.org/devdocs/release/1.20.0-notes.html#deprecations\n",
            "  acc_array.append(np.mean(np.array(rmse_test_arr).astype(np.float)))\n",
            "<ipython-input-26-457796cc4b7d>:83: DeprecationWarning: `np.float` is a deprecated alias for the builtin `float`. To silence this warning, use `float` by itself. Doing this will not modify any behavior and is safe. If you specifically wanted the numpy scalar type, use `np.float64` here.\n",
            "Deprecated in NumPy 1.20; for more details and guidance: https://numpy.org/devdocs/release/1.20.0-notes.html#deprecations\n",
            "  if(min > np.mean(np.array(rmse_test_arr).astype(np.float))):\n",
            "<ipython-input-26-457796cc4b7d>:82: DeprecationWarning: `np.float` is a deprecated alias for the builtin `float`. To silence this warning, use `float` by itself. Doing this will not modify any behavior and is safe. If you specifically wanted the numpy scalar type, use `np.float64` here.\n",
            "Deprecated in NumPy 1.20; for more details and guidance: https://numpy.org/devdocs/release/1.20.0-notes.html#deprecations\n",
            "  acc_array.append(np.mean(np.array(rmse_test_arr).astype(np.float)))\n",
            "<ipython-input-26-457796cc4b7d>:83: DeprecationWarning: `np.float` is a deprecated alias for the builtin `float`. To silence this warning, use `float` by itself. Doing this will not modify any behavior and is safe. If you specifically wanted the numpy scalar type, use `np.float64` here.\n",
            "Deprecated in NumPy 1.20; for more details and guidance: https://numpy.org/devdocs/release/1.20.0-notes.html#deprecations\n",
            "  if(min > np.mean(np.array(rmse_test_arr).astype(np.float))):\n",
            "<ipython-input-26-457796cc4b7d>:82: DeprecationWarning: `np.float` is a deprecated alias for the builtin `float`. To silence this warning, use `float` by itself. Doing this will not modify any behavior and is safe. If you specifically wanted the numpy scalar type, use `np.float64` here.\n",
            "Deprecated in NumPy 1.20; for more details and guidance: https://numpy.org/devdocs/release/1.20.0-notes.html#deprecations\n",
            "  acc_array.append(np.mean(np.array(rmse_test_arr).astype(np.float)))\n",
            "<ipython-input-26-457796cc4b7d>:83: DeprecationWarning: `np.float` is a deprecated alias for the builtin `float`. To silence this warning, use `float` by itself. Doing this will not modify any behavior and is safe. If you specifically wanted the numpy scalar type, use `np.float64` here.\n",
            "Deprecated in NumPy 1.20; for more details and guidance: https://numpy.org/devdocs/release/1.20.0-notes.html#deprecations\n",
            "  if(min > np.mean(np.array(rmse_test_arr).astype(np.float))):\n",
            "<ipython-input-26-457796cc4b7d>:82: DeprecationWarning: `np.float` is a deprecated alias for the builtin `float`. To silence this warning, use `float` by itself. Doing this will not modify any behavior and is safe. If you specifically wanted the numpy scalar type, use `np.float64` here.\n",
            "Deprecated in NumPy 1.20; for more details and guidance: https://numpy.org/devdocs/release/1.20.0-notes.html#deprecations\n",
            "  acc_array.append(np.mean(np.array(rmse_test_arr).astype(np.float)))\n",
            "<ipython-input-26-457796cc4b7d>:83: DeprecationWarning: `np.float` is a deprecated alias for the builtin `float`. To silence this warning, use `float` by itself. Doing this will not modify any behavior and is safe. If you specifically wanted the numpy scalar type, use `np.float64` here.\n",
            "Deprecated in NumPy 1.20; for more details and guidance: https://numpy.org/devdocs/release/1.20.0-notes.html#deprecations\n",
            "  if(min > np.mean(np.array(rmse_test_arr).astype(np.float))):\n",
            "<ipython-input-26-457796cc4b7d>:82: DeprecationWarning: `np.float` is a deprecated alias for the builtin `float`. To silence this warning, use `float` by itself. Doing this will not modify any behavior and is safe. If you specifically wanted the numpy scalar type, use `np.float64` here.\n",
            "Deprecated in NumPy 1.20; for more details and guidance: https://numpy.org/devdocs/release/1.20.0-notes.html#deprecations\n",
            "  acc_array.append(np.mean(np.array(rmse_test_arr).astype(np.float)))\n",
            "<ipython-input-26-457796cc4b7d>:83: DeprecationWarning: `np.float` is a deprecated alias for the builtin `float`. To silence this warning, use `float` by itself. Doing this will not modify any behavior and is safe. If you specifically wanted the numpy scalar type, use `np.float64` here.\n",
            "Deprecated in NumPy 1.20; for more details and guidance: https://numpy.org/devdocs/release/1.20.0-notes.html#deprecations\n",
            "  if(min > np.mean(np.array(rmse_test_arr).astype(np.float))):\n",
            "<ipython-input-26-457796cc4b7d>:82: DeprecationWarning: `np.float` is a deprecated alias for the builtin `float`. To silence this warning, use `float` by itself. Doing this will not modify any behavior and is safe. If you specifically wanted the numpy scalar type, use `np.float64` here.\n",
            "Deprecated in NumPy 1.20; for more details and guidance: https://numpy.org/devdocs/release/1.20.0-notes.html#deprecations\n",
            "  acc_array.append(np.mean(np.array(rmse_test_arr).astype(np.float)))\n",
            "<ipython-input-26-457796cc4b7d>:83: DeprecationWarning: `np.float` is a deprecated alias for the builtin `float`. To silence this warning, use `float` by itself. Doing this will not modify any behavior and is safe. If you specifically wanted the numpy scalar type, use `np.float64` here.\n",
            "Deprecated in NumPy 1.20; for more details and guidance: https://numpy.org/devdocs/release/1.20.0-notes.html#deprecations\n",
            "  if(min > np.mean(np.array(rmse_test_arr).astype(np.float))):\n",
            "<ipython-input-26-457796cc4b7d>:82: DeprecationWarning: `np.float` is a deprecated alias for the builtin `float`. To silence this warning, use `float` by itself. Doing this will not modify any behavior and is safe. If you specifically wanted the numpy scalar type, use `np.float64` here.\n",
            "Deprecated in NumPy 1.20; for more details and guidance: https://numpy.org/devdocs/release/1.20.0-notes.html#deprecations\n",
            "  acc_array.append(np.mean(np.array(rmse_test_arr).astype(np.float)))\n",
            "<ipython-input-26-457796cc4b7d>:83: DeprecationWarning: `np.float` is a deprecated alias for the builtin `float`. To silence this warning, use `float` by itself. Doing this will not modify any behavior and is safe. If you specifically wanted the numpy scalar type, use `np.float64` here.\n",
            "Deprecated in NumPy 1.20; for more details and guidance: https://numpy.org/devdocs/release/1.20.0-notes.html#deprecations\n",
            "  if(min > np.mean(np.array(rmse_test_arr).astype(np.float))):\n",
            "<ipython-input-26-457796cc4b7d>:82: DeprecationWarning: `np.float` is a deprecated alias for the builtin `float`. To silence this warning, use `float` by itself. Doing this will not modify any behavior and is safe. If you specifically wanted the numpy scalar type, use `np.float64` here.\n",
            "Deprecated in NumPy 1.20; for more details and guidance: https://numpy.org/devdocs/release/1.20.0-notes.html#deprecations\n",
            "  acc_array.append(np.mean(np.array(rmse_test_arr).astype(np.float)))\n",
            "<ipython-input-26-457796cc4b7d>:83: DeprecationWarning: `np.float` is a deprecated alias for the builtin `float`. To silence this warning, use `float` by itself. Doing this will not modify any behavior and is safe. If you specifically wanted the numpy scalar type, use `np.float64` here.\n",
            "Deprecated in NumPy 1.20; for more details and guidance: https://numpy.org/devdocs/release/1.20.0-notes.html#deprecations\n",
            "  if(min > np.mean(np.array(rmse_test_arr).astype(np.float))):\n",
            "<ipython-input-26-457796cc4b7d>:82: DeprecationWarning: `np.float` is a deprecated alias for the builtin `float`. To silence this warning, use `float` by itself. Doing this will not modify any behavior and is safe. If you specifically wanted the numpy scalar type, use `np.float64` here.\n",
            "Deprecated in NumPy 1.20; for more details and guidance: https://numpy.org/devdocs/release/1.20.0-notes.html#deprecations\n",
            "  acc_array.append(np.mean(np.array(rmse_test_arr).astype(np.float)))\n",
            "<ipython-input-26-457796cc4b7d>:83: DeprecationWarning: `np.float` is a deprecated alias for the builtin `float`. To silence this warning, use `float` by itself. Doing this will not modify any behavior and is safe. If you specifically wanted the numpy scalar type, use `np.float64` here.\n",
            "Deprecated in NumPy 1.20; for more details and guidance: https://numpy.org/devdocs/release/1.20.0-notes.html#deprecations\n",
            "  if(min > np.mean(np.array(rmse_test_arr).astype(np.float))):\n",
            "<ipython-input-26-457796cc4b7d>:82: DeprecationWarning: `np.float` is a deprecated alias for the builtin `float`. To silence this warning, use `float` by itself. Doing this will not modify any behavior and is safe. If you specifically wanted the numpy scalar type, use `np.float64` here.\n",
            "Deprecated in NumPy 1.20; for more details and guidance: https://numpy.org/devdocs/release/1.20.0-notes.html#deprecations\n",
            "  acc_array.append(np.mean(np.array(rmse_test_arr).astype(np.float)))\n",
            "<ipython-input-26-457796cc4b7d>:83: DeprecationWarning: `np.float` is a deprecated alias for the builtin `float`. To silence this warning, use `float` by itself. Doing this will not modify any behavior and is safe. If you specifically wanted the numpy scalar type, use `np.float64` here.\n",
            "Deprecated in NumPy 1.20; for more details and guidance: https://numpy.org/devdocs/release/1.20.0-notes.html#deprecations\n",
            "  if(min > np.mean(np.array(rmse_test_arr).astype(np.float))):\n"
          ]
        },
        {
          "output_type": "display_data",
          "data": {
            "text/plain": [
              "<Figure size 640x480 with 1 Axes>"
            ],
            "image/png": "[encoded data removed]"
          },
          "metadata": {}
        },
        {
          "output_type": "stream",
          "name": "stdout",
          "text": [
            "['X4']\n",
            "301.65819999999997\n"
          ]
        }
      ]
    },
    {
      "cell_type": "markdown",
      "metadata": {
        "id": "HLhsL0ezHk_8"
      },
      "source": [
        "##LinearRegression"
      ]
    },
    {
      "cell_type": "code",
      "source": [
        "cv = KFold(n_splits=5, shuffle=True,random_state=42)\n",
        "\n",
        "rmse_test_arr = []\n",
        "rrmse_test_arr =[]\n",
        "r2_test_arr= []\n",
        "mae_test_arr = []\n",
        "\n",
        "rmse_train_arr = []\n",
        "rrmse_train_arr =[]\n",
        "r2_train_arr= []\n",
        "mae_train_arr = []\n",
        "\n",
        "bias_test_arr = []\n",
        "bias_train_arr = []\n",
        "\n",
        "for tr, tt in cv.split(df_train): #tr,tt are indexes\n",
        "    x_train, x_test = df_train[selected_features_final].iloc[tr], df_train[selected_features_final].iloc[tt]\n",
        "    y_train, y_test = df_train['prod'].iloc[tr], df_train['prod'].iloc[tt]\n",
        "    print(tr,tt)\n",
        "    scaler = MinMaxScaler()\n",
        "    X_train = scaler.fit_transform(x_train)\n",
        "    X_test = scaler.transform(x_test)\n",
        "    model = LinearRegression().fit(X_train, y_train)\n",
        "    y_pred= model.predict(X_test)\n",
        "    y_pred_train= model.predict(X_train)\n",
        "\n",
        "    r2_test=r2_score(y_test,y_pred)\n",
        "    r2_train=r2_score(y_train,y_pred_train)\n",
        "    #print(r2_test)\n",
        "    #print(r2_train)\n",
        "    r2_test_arr.append(r2_test)\n",
        "    r2_train_arr.append(r2_train)\n",
        "\n",
        "    rmse_test = float(format(np.sqrt(mean_squared_error(y_test, y_pred)), '.3f'))\n",
        "    #print(\"\\nRMSE test: \", rmse_test)\n",
        "    rmse_test_arr.append(rmse_test)\n",
        "\n",
        "    rrmse_test = format(float(rmse_test*100/np.mean(y_test)),'.2f')\n",
        "    #print(\"\\nRRMSE test: \", rrmse_test,\"%\")\n",
        "    rrmse_test_arr.append(rrmse_test)\n",
        "\n",
        "    rmse_train = float(format(np.sqrt(mean_squared_error(y_train, y_pred_train)), '.3f'))\n",
        "    #print(\"\\nRMSE train: \", rmse_train)\n",
        "    rmse_train_arr.append(rmse_train)\n",
        "\n",
        "    rrmse_train = format(float(rmse_train*100/np.mean(y_train)),'.2f')\n",
        "    #print(\"\\nRRMSE train: \", rrmse_train,\"%\")\n",
        "    rrmse_train_arr.append(rrmse_train)\n",
        "\n",
        "    mae_test = float(format(mean_absolute_error(y_test, y_pred), '.3f'))\n",
        "    #print(\"\\nMAE Test: \", mae_test)\n",
        "    mae_test_arr.append(mae_test)\n",
        "    mae_train = float(format(mean_absolute_error(y_train, y_pred_train), '.3f'))\n",
        "    #print(\"\\nMAE Train: \", mae_train)\n",
        "    mae_train_arr.append(mae_train)\n",
        "\n",
        "    #print(\"\\nBias Test: \\n\", bias_value(y_test,y_pred))\n",
        "    bias_test_arr.append(bias_value(y_test,y_pred))\n",
        "    #print(\"\\nBias Train: \\n\", bias_value(y_train, y_pred_train))\n",
        "    bias_train_arr.append(bias_value(y_train, y_pred_train))\n",
        "\n",
        "data['Method'][0]='Linear Regression'\n",
        "data['RMSE test'][0]=np.mean(rmse_test_arr)\n",
        "data['RMSE train'][0]=np.mean(rmse_train_arr)\n",
        "data['RRMSE test'][0]=np.mean(np.array(rrmse_test_arr).astype(np.float))\n",
        "data['RRMSE train'][0]=np.mean(np.array(rrmse_train_arr).astype(np.float))\n",
        "data['MAE test'][0]=np.mean(mae_test_arr)\n",
        "data['MAE train'][0]=np.mean(mae_train_arr)\n",
        "data['R2_score test'][0]=np.mean(r2_test_arr)\n",
        "data['R2_score train'][0]=np.mean(r2_train_arr)\n",
        "data['Bias test'][0]=np.mean(bias_test_arr)\n",
        "data['Bias train'][0]=np.mean(bias_train_arr)\n",
        "\n",
        "#print(np.array(rmse_test_arr).astype(np.float))\n",
        "print(rmse_test_arr)\n",
        "print(sum(rmse_test_arr)/5)\n",
        "plt.figure(figsize=(12,12))\n",
        "plt.subplot(4, 2, 1)\n",
        "plt.title(\"rmse_test\")\n",
        "plt.bar([x for x in [0,1,2,3,4]],[rmse_test_arr[x] for x in [0,1,2,3,4]])"
      ],
      "metadata": {
        "colab": {
          "base_uri": "https://localhost:8080/",
          "height": 546
        },
        "id": "Q1Ivz1Pdrnje",
        "outputId": "6848d15d-85d7-4c0d-eb3d-b7dea86ec252"
      },
      "execution_count": null,
      "outputs": [
        {
          "output_type": "stream",
          "name": "stdout",
          "text": [
            "[ 1  2  3  4  5  6  7  9 10 12 13 14 15 17 18 19 20 21 22 24] [ 0  8 11 16 23]\n",
            "[ 0  2  3  4  6  7  8 10 11 12 14 15 16 17 18 19 20 21 23 24] [ 1  5  9 13 22]\n",
            "[ 0  1  5  6  7  8  9 10 11 13 14 16 17 18 19 20 21 22 23 24] [ 2  3  4 12 15]\n",
            "[ 0  1  2  3  4  5  6  7  8  9 10 11 12 13 14 15 16 19 22 23] [17 18 20 21 24]\n",
            "[ 0  1  2  3  4  5  8  9 11 12 13 15 16 17 18 20 21 22 23 24] [ 6  7 10 14 19]\n",
            "[370.893, 342.085, 88.126, 219.48, 260.48]\n",
            "256.21279999999996\n"
          ]
        },
        {
          "output_type": "stream",
          "name": "stderr",
          "text": [
            "<ipython-input-27-703380dd22a2>:65: DeprecationWarning: `np.float` is a deprecated alias for the builtin `float`. To silence this warning, use `float` by itself. Doing this will not modify any behavior and is safe. If you specifically wanted the numpy scalar type, use `np.float64` here.\n",
            "Deprecated in NumPy 1.20; for more details and guidance: https://numpy.org/devdocs/release/1.20.0-notes.html#deprecations\n",
            "  data['RRMSE test'][0]=np.mean(np.array(rrmse_test_arr).astype(np.float))\n",
            "<ipython-input-27-703380dd22a2>:66: DeprecationWarning: `np.float` is a deprecated alias for the builtin `float`. To silence this warning, use `float` by itself. Doing this will not modify any behavior and is safe. If you specifically wanted the numpy scalar type, use `np.float64` here.\n",
            "Deprecated in NumPy 1.20; for more details and guidance: https://numpy.org/devdocs/release/1.20.0-notes.html#deprecations\n",
            "  data['RRMSE train'][0]=np.mean(np.array(rrmse_train_arr).astype(np.float))\n"
          ]
        },
        {
          "output_type": "execute_result",
          "data": {
            "text/plain": [
              "<BarContainer object of 5 artists>"
            ]
          },
          "metadata": {},
          "execution_count": 27
        },
        {
          "output_type": "display_data",
          "data": {
            "text/plain": [
              "<Figure size 1200x1200 with 1 Axes>"
            ],
            "image/png": "[encoded data removed]"
          },
          "metadata": {}
        }
      ]
    },
    {
      "cell_type": "code",
      "source": [
        "tr = [ 0 , 1,  5,  6,  7 , 8 , 9 ,10 ,11, 13, 14, 16, 17, 18 ,19 ,20, 21, 22 ,23 ,24] \n",
        "tt = [ 2 ,3 , 4 ,12 ,15]\n",
        "x_train, x_test = df_train[selected_features_final].iloc[tr], df_train[selected_features_final].iloc[tt]\n",
        "y_train, y_test = df_train['prod'].iloc[tr], df_train['prod'].iloc[tt]\n",
        "print(tr,tt)\n",
        "scaler = MinMaxScaler()\n",
        "X_train = scaler.fit_transform(x_train)\n",
        "X_test = scaler.transform(x_test)\n",
        "model = LinearRegression().fit(X_train, y_train)\n",
        "\n",
        "x_ = df_test[selected_features_final]\n",
        "y_ = df_test['prod']\n",
        "y_pred_ = model.predict(x_)\n",
        "\n",
        "rmse_test = float(format(np.sqrt(mean_squared_error(y_pred_, y_)), '.3f'))\n",
        "print(\"\\nRMSE test: \", rmse_test)\n",
        "\n",
        "rrmse_test = format(float(rmse_test*100/np.mean(y_)),'.2f')\n",
        "print(\"\\nRRMSE test: \", rrmse_test,\"%\")\n",
        "\n",
        "\n",
        "# plt.figure(figsize=(12,12))\n",
        "# plt.scatter(y_, y_pred_)\n",
        "# # p1 = max(max(y_pred_), max(y_))\n",
        "# # p2 = min(min(y_pred_), min(y_))\n",
        "# # plt.plot( [p1,p2], [p1,p2], linestyle='--', color='k' )\n",
        "# plt.show()\n",
        "\n"
      ],
      "metadata": {
        "colab": {
          "base_uri": "https://localhost:8080/"
        },
        "id": "BHMi5wcLggTN",
        "outputId": "0deb4227-2e16-44f1-a47a-7552998b6f17"
      },
      "execution_count": null,
      "outputs": [
        {
          "output_type": "stream",
          "name": "stdout",
          "text": [
            "[0, 1, 5, 6, 7, 8, 9, 10, 11, 13, 14, 16, 17, 18, 19, 20, 21, 22, 23, 24] [2, 3, 4, 12, 15]\n",
            "\n",
            "RMSE test:  16389.285\n",
            "\n",
            "RRMSE test:  443.37 %\n"
          ]
        },
        {
          "output_type": "stream",
          "name": "stderr",
          "text": [
            "/usr/local/lib/python3.10/dist-packages/sklearn/base.py:432: UserWarning: X has feature names, but LinearRegression was fitted without feature names\n",
            "  warnings.warn(\n"
          ]
        }
      ]
    },
    {
      "cell_type": "markdown",
      "metadata": {
        "id": "R80vCw0NI3xI"
      },
      "source": [
        "##SVR"
      ]
    },
    {
      "cell_type": "code",
      "execution_count": null,
      "metadata": {
        "id": "4E-wKr-LIYz2",
        "colab": {
          "base_uri": "https://localhost:8080/",
          "height": 511
        },
        "outputId": "14f5c43b-4389-4cba-c0df-456261c52159"
      },
      "outputs": [
        {
          "output_type": "stream",
          "name": "stdout",
          "text": [
            "[ 1  2  3  4  5  6  7  9 10 12 13 14 15 17 18 19 20 21 22 24] [ 0  8 11 16 23]\n",
            "[ 0  2  3  4  6  7  8 10 11 12 14 15 16 17 18 19 20 21 23 24] [ 1  5  9 13 22]\n",
            "[ 0  1  5  6  7  8  9 10 11 13 14 16 17 18 19 20 21 22 23 24] [ 2  3  4 12 15]\n",
            "[ 0  1  2  3  4  5  6  7  8  9 10 11 12 13 14 15 16 19 22 23] [17 18 20 21 24]\n",
            "[ 0  1  2  3  4  5  8  9 11 12 13 15 16 17 18 20 21 22 23 24] [ 6  7 10 14 19]\n"
          ]
        },
        {
          "output_type": "stream",
          "name": "stderr",
          "text": [
            "<ipython-input-40-c4e701f267ca>:68: DeprecationWarning: `np.float` is a deprecated alias for the builtin `float`. To silence this warning, use `float` by itself. Doing this will not modify any behavior and is safe. If you specifically wanted the numpy scalar type, use `np.float64` here.\n",
            "Deprecated in NumPy 1.20; for more details and guidance: https://numpy.org/devdocs/release/1.20.0-notes.html#deprecations\n",
            "  data['RRMSE test'][1]=np.mean(np.array(rrmse_test_arr).astype(np.float))\n",
            "<ipython-input-40-c4e701f267ca>:69: DeprecationWarning: `np.float` is a deprecated alias for the builtin `float`. To silence this warning, use `float` by itself. Doing this will not modify any behavior and is safe. If you specifically wanted the numpy scalar type, use `np.float64` here.\n",
            "Deprecated in NumPy 1.20; for more details and guidance: https://numpy.org/devdocs/release/1.20.0-notes.html#deprecations\n",
            "  data['RRMSE train'][1]=np.mean(np.array(rrmse_train_arr).astype(np.float))\n"
          ]
        },
        {
          "output_type": "execute_result",
          "data": {
            "text/plain": [
              "<BarContainer object of 5 artists>"
            ]
          },
          "metadata": {},
          "execution_count": 40
        },
        {
          "output_type": "display_data",
          "data": {
            "text/plain": [
              "<Figure size 1200x1200 with 1 Axes>"
            ],
            "image/png": "[encoded data removed]"
          },
          "metadata": {}
        }
      ],
      "source": [
        "\n",
        "\n",
        "cv = KFold(n_splits=5, shuffle=True, random_state=42)\n",
        "\n",
        "# Iterate through CV splits\n",
        "rmse_test_arr = []\n",
        "rrmse_test_arr =[]\n",
        "r2_test_arr= []\n",
        "mae_test_arr = []\n",
        "\n",
        "rmse_train_arr = []\n",
        "rrmse_train_arr =[]\n",
        "r2_train_arr= []\n",
        "mae_train_arr = []\n",
        "\n",
        "bias_test_arr = []\n",
        "bias_train_arr = []\n",
        "\n",
        "\n",
        "for tr, tt in cv.split(df_train): #tr,tt are indexes\n",
        "    x_train, x_test = df_train[selected_features_final].iloc[tr], df_train[selected_features_final].iloc[tt]\n",
        "    y_train, y_test = df_train['prod'].iloc[tr], df_train['prod'].iloc[tt]\n",
        "    scaler = MinMaxScaler()\n",
        "    print(tr,tt)\n",
        "    X_train = scaler.fit_transform(x_train)\n",
        "    X_test = scaler.transform(x_test)\n",
        "    model = SVR().fit(X_train, y_train)\n",
        "    y_pred= model.predict(X_test)\n",
        "    y_pred_train= model.predict(X_train)\n",
        "\n",
        "    r2_test=r2_score(y_test,y_pred)\n",
        "    r2_train=r2_score(y_train,y_pred_train)\n",
        "    #print(r2_test)\n",
        "    #print(r2_train)\n",
        "    r2_test_arr.append(r2_test)\n",
        "    r2_train_arr.append(r2_train)\n",
        "\n",
        "    rmse_test = float(format(np.sqrt(mean_squared_error(y_test, y_pred)), '.3f'))\n",
        "    #print(\"\\nRMSE test: \", rmse_test)\n",
        "    rmse_test_arr.append(rmse_test)\n",
        "\n",
        "    rrmse_test = format(float(rmse_test*100/np.mean(y_test)),'.2f')\n",
        "    #print(\"\\nRRMSE test: \", rrmse_test,\"%\")\n",
        "    rrmse_test_arr.append(rrmse_test)\n",
        "\n",
        "    rmse_train = float(format(np.sqrt(mean_squared_error(y_train, y_pred_train)), '.3f'))\n",
        "    #print(\"\\nRMSE train: \", rmse_train)\n",
        "    rmse_train_arr.append(rmse_train)\n",
        "\n",
        "    rrmse_train = format(float(rmse_train*100/np.mean(y_train)),'.2f')\n",
        "    #print(\"\\nRRMSE train: \", rrmse_train,\"%\")\n",
        "    rrmse_train_arr.append(rrmse_train)\n",
        "\n",
        "\n",
        "    mae_test = float(format(mean_absolute_error(y_test, y_pred), '.3f'))\n",
        "    #print(\"\\nMAE Test: \", mae_test)\n",
        "    mae_test_arr.append(mae_test)\n",
        "    mae_train = float(format(mean_absolute_error(y_train, y_pred_train), '.3f'))\n",
        "    #print(\"\\nMAE Train: \", mae_train)\n",
        "    mae_train_arr.append(mae_train)\n",
        "\n",
        "                #print(\"\\nBias Test: \\n\", bias_value(y_test,y_pred))\n",
        "    bias_test_arr.append(bias_value(y_test,y_pred))\n",
        "    #print(\"\\nBias Train: \\n\", bias_value(y_train, y_pred_train))\n",
        "    bias_train_arr.append(bias_value(y_train, y_pred_train))\n",
        "\n",
        "data['Method'][1]='SVR'\n",
        "data['RMSE test'][1]=np.mean(rmse_test_arr)\n",
        "data['RMSE train'][1]=np.mean(rmse_train_arr)\n",
        "data['RRMSE test'][1]=np.mean(np.array(rrmse_test_arr).astype(np.float))\n",
        "data['RRMSE train'][1]=np.mean(np.array(rrmse_train_arr).astype(np.float))\n",
        "data['MAE test'][1]=np.mean(mae_test_arr)\n",
        "data['MAE train'][1]=np.mean(mae_train_arr)\n",
        "data['R2_score test'][1]=np.mean(r2_test_arr)\n",
        "data['R2_score train'][1]=np.mean(r2_train_arr)\n",
        "data['Bias test'][1]=np.mean(bias_test_arr)\n",
        "data['Bias train'][1]=np.mean(bias_train_arr)\n",
        "\n",
        "plt.figure(figsize=(12,12))\n",
        "plt.subplot(4, 2, 1)\n",
        "plt.title(\"rmse_test\")\n",
        "plt.bar([x for x in [0,1,2,3,4]],[rmse_test_arr[x] for x in [0,1,2,3,4]])\n",
        "\n",
        "# plt.subplot(4, 2, 2)\n",
        "# plt.title(\"rmse_train\")\n",
        "# plt.bar([x for x in [0,1,2,3,4]],[rmse_train_arr[x] for x in [0,1,2,3,4]])\n",
        "\n",
        "# plt.subplot(4, 2, 3)\n",
        "# plt.title(\"rrmse_test\")\n",
        "# plt.bar([x for x in [0,1,2,3,4]],[rrmse_test_arr[x] for x in [0,1,2,3,4]])\n",
        "\n",
        "# plt.subplot(4, 2, 4)\n",
        "# plt.title(\"rrmse_train\")\n",
        "# plt.bar([x for x in [0,1,2,3,4]],[rrmse_train_arr[x] for x in [0,1,2,3,4]])\n",
        "\n",
        "# plt.subplot(4, 2, 5)\n",
        "# plt.title(\"r2_test\")\n",
        "# plt.bar([x for x in [0,1,2,3,4]],[r2_test_arr[x] for x in [0,1,2,3,4]])\n",
        "\n",
        "# plt.subplot(4, 2, 6)\n",
        "# plt.title(\"r2_train\")\n",
        "# plt.bar([x for x in [0,1,2,3,4]],[r2_train_arr[x] for x in [0,1,2,3,4]])\n",
        "\n",
        "# plt.subplot(4, 2, 7)\n",
        "# plt.title(\"mae_test\")\n",
        "# plt.bar([x for x in [0,1,2,3,4]],[mae_test_arr[x] for x in [0,1,2,3,4]])\n",
        "\n",
        "# plt.subplot(4, 2, 8)\n",
        "# plt.title(\"mae_train\")\n",
        "# plt.bar([x for x in [0,1,2,3,4]],[mae_train_arr[x] for x in [0,1,2,3,4]])\n",
        "# plt.show()\n",
        "\n"
      ]
    },
    {
      "cell_type": "code",
      "source": [
        "tr = [ 0 , 1 , 2 , 3 , 4 , 5 , 6 , 7,  8,  9, 10, 11, 12, 13 ,14, 15, 16, 19, 22, 23] \n",
        "tt = [17, 18, 20, 21, 24]\n",
        "x_train, x_test = df_train[selected_features_final].iloc[tr], df_train[selected_features_final].iloc[tt]\n",
        "y_train, y_test = df_train['prod'].iloc[tr], df_train['prod'].iloc[tt]\n",
        "print(tr,tt)\n",
        "scaler = MinMaxScaler()\n",
        "X_train = scaler.fit_transform(x_train)\n",
        "X_test = scaler.transform(x_test)\n",
        "model = SVR().fit(X_train, y_train)\n",
        "\n",
        "x_ = df_test[selected_features_final]\n",
        "y_ = df_test['prod']\n",
        "y_pred_ = model.predict(x_)\n",
        "\n",
        "rmse_test = float(format(np.sqrt(mean_squared_error(y_pred_, y_)), '.3f'))\n",
        "print(\"\\nRMSE test: \", rmse_test)\n",
        "\n",
        "rrmse_test = format(float(rmse_test*100/np.mean(y_)),'.2f')\n",
        "print(\"\\nRRMSE test: \", rrmse_test,\"%\")\n",
        "\n",
        "\n",
        "# plt.figure(figsize=(12,12))\n",
        "# plt.scatter(y_, y_pred_)\n",
        "# # p1 = max(max(y_pred_), max(y_))\n",
        "# # p2 = min(min(y_pred_), min(y_))\n",
        "# # plt.plot( [p1,p2], [p1,p2], linestyle='--', color='k' )\n",
        "# plt.show()\n",
        "\n"
      ],
      "metadata": {
        "colab": {
          "base_uri": "https://localhost:8080/"
        },
        "id": "Wo_qOTLhhVE0",
        "outputId": "0af7776b-af6e-4541-9447-0c160d37207c"
      },
      "execution_count": null,
      "outputs": [
        {
          "output_type": "stream",
          "name": "stdout",
          "text": [
            "[0, 1, 2, 3, 4, 5, 6, 7, 8, 9, 10, 11, 12, 13, 14, 15, 16, 19, 22, 23] [17, 18, 20, 21, 24]\n",
            "\n",
            "RMSE test:  719.601\n",
            "\n",
            "RRMSE test:  19.47 %\n"
          ]
        },
        {
          "output_type": "stream",
          "name": "stderr",
          "text": [
            "/usr/local/lib/python3.10/dist-packages/sklearn/base.py:432: UserWarning: X has feature names, but SVR was fitted without feature names\n",
            "  warnings.warn(\n"
          ]
        }
      ]
    },
    {
      "cell_type": "markdown",
      "source": [
        "##MLP"
      ],
      "metadata": {
        "id": "lMO0wcDQGt6B"
      }
    },
    {
      "cell_type": "code",
      "execution_count": null,
      "metadata": {
        "id": "E-mvNIKke2P3",
        "colab": {
          "base_uri": "https://localhost:8080/",
          "height": 425
        },
        "outputId": "f237aa04-1783-4d05-84e3-6e8944baf662"
      },
      "outputs": [
        {
          "output_type": "stream",
          "name": "stderr",
          "text": [
            "<ipython-input-32-0930d9ed6269>:67: DeprecationWarning: `np.float` is a deprecated alias for the builtin `float`. To silence this warning, use `float` by itself. Doing this will not modify any behavior and is safe. If you specifically wanted the numpy scalar type, use `np.float64` here.\n",
            "Deprecated in NumPy 1.20; for more details and guidance: https://numpy.org/devdocs/release/1.20.0-notes.html#deprecations\n",
            "  data['RRMSE test'][2]=np.mean(np.array(rrmse_test_arr).astype(np.float))\n",
            "<ipython-input-32-0930d9ed6269>:68: DeprecationWarning: `np.float` is a deprecated alias for the builtin `float`. To silence this warning, use `float` by itself. Doing this will not modify any behavior and is safe. If you specifically wanted the numpy scalar type, use `np.float64` here.\n",
            "Deprecated in NumPy 1.20; for more details and guidance: https://numpy.org/devdocs/release/1.20.0-notes.html#deprecations\n",
            "  data['RRMSE train'][2]=np.mean(np.array(rrmse_train_arr).astype(np.float))\n"
          ]
        },
        {
          "output_type": "execute_result",
          "data": {
            "text/plain": [
              "<BarContainer object of 5 artists>"
            ]
          },
          "metadata": {},
          "execution_count": 32
        },
        {
          "output_type": "display_data",
          "data": {
            "text/plain": [
              "<Figure size 1200x1200 with 1 Axes>"
            ],
            "image/png": "[encoded data removed]"
          },
          "metadata": {}
        }
      ],
      "source": [
        "\n",
        "cv = KFold(n_splits=5, shuffle=True, random_state=42)\n",
        "\n",
        "# Iterate through CV splits\n",
        "rmse_test_arr = []\n",
        "rrmse_test_arr =[]\n",
        "r2_test_arr= []\n",
        "mae_test_arr = []\n",
        "\n",
        "rmse_train_arr = []\n",
        "rrmse_train_arr =[]\n",
        "r2_train_arr= []\n",
        "mae_train_arr = []\n",
        "\n",
        "bias_test_arr = []\n",
        "bias_train_arr = []\n",
        "\n",
        "\n",
        "for tr, tt in cv.split(df_train): #tr,tt are indexes\n",
        "    x_train, x_test = df_train[selected_features_final].iloc[tr], df_train[selected_features_final].iloc[tt]\n",
        "    y_train, y_test = df_train['prod'].iloc[tr], df_train['prod'].iloc[tt]\n",
        "    scaler = MinMaxScaler()\n",
        "    X_train = scaler.fit_transform(x_train)\n",
        "    X_test = scaler.transform(x_test)\n",
        "    model = MLPRegressor(hidden_layer_sizes=(64,64,64),activation=\"relu\" ,random_state=1, max_iter=2000).fit(X_train, y_train)\n",
        "    y_pred= model.predict(X_test)\n",
        "    y_pred_train= model.predict(X_train)\n",
        "\n",
        "    r2_test=r2_score(y_test,y_pred)\n",
        "    r2_train=r2_score(y_train,y_pred_train)\n",
        "    #print(r2_test)\n",
        "    #print(r2_train)\n",
        "    r2_test_arr.append(r2_test)\n",
        "    r2_train_arr.append(r2_train)\n",
        "\n",
        "    rmse_test = float(format(np.sqrt(mean_squared_error(y_test, y_pred)), '.3f'))\n",
        "    #print(\"\\nRMSE test: \", rmse_test)\n",
        "    rmse_test_arr.append(rmse_test)\n",
        "\n",
        "    rrmse_test = format(float(rmse_test*100/np.mean(y_test)),'.2f')\n",
        "    #print(\"\\nRRMSE test: \", rrmse_test,\"%\")\n",
        "    rrmse_test_arr.append(rrmse_test)\n",
        "\n",
        "    rmse_train = float(format(np.sqrt(mean_squared_error(y_train, y_pred_train)), '.3f'))\n",
        "    #print(\"\\nRMSE train: \", rmse_train)\n",
        "    rmse_train_arr.append(rmse_train)\n",
        "\n",
        "    rrmse_train = format(float(rmse_train*100/np.mean(y_train)),'.2f')\n",
        "    #print(\"\\nRRMSE train: \", rrmse_train,\"%\")\n",
        "    rrmse_train_arr.append(rrmse_train)\n",
        "\n",
        "\n",
        "    mae_test = float(format(mean_absolute_error(y_test, y_pred), '.3f'))\n",
        "    #print(\"\\nMAE Test: \", mae_test)\n",
        "    mae_test_arr.append(mae_test)\n",
        "    mae_train = float(format(mean_absolute_error(y_train, y_pred_train), '.3f'))\n",
        "    #print(\"\\nMAE Train: \", mae_train)\n",
        "    mae_train_arr.append(mae_train)\n",
        "\n",
        "                #print(\"\\nBias Test: \\n\", bias_value(y_test,y_pred))\n",
        "    bias_test_arr.append(bias_value(y_test,y_pred))\n",
        "    #print(\"\\nBias Train: \\n\", bias_value(y_train, y_pred_train))\n",
        "    bias_train_arr.append(bias_value(y_train, y_pred_train))\n",
        "\n",
        "data['Method'][2]='MLP'\n",
        "data['RMSE test'][2]=np.mean(rmse_test_arr)\n",
        "data['RMSE train'][2]=np.mean(rmse_train_arr)\n",
        "data['RRMSE test'][2]=np.mean(np.array(rrmse_test_arr).astype(np.float))\n",
        "data['RRMSE train'][2]=np.mean(np.array(rrmse_train_arr).astype(np.float))\n",
        "data['MAE test'][2]=np.mean(mae_test_arr)\n",
        "data['MAE train'][2]=np.mean(mae_train_arr)\n",
        "data['R2_score test'][2]=np.mean(r2_test_arr)\n",
        "data['R2_score train'][2]=np.mean(r2_train_arr)\n",
        "data['Bias test'][2]=np.mean(bias_test_arr)\n",
        "data['Bias train'][2]=np.mean(bias_train_arr)\n",
        "\n",
        "plt.figure(figsize=(12,12))\n",
        "plt.subplot(4, 2, 1)\n",
        "plt.title(\"rmse_test\")\n",
        "plt.bar([x for x in [0,1,2,3,4]],[rmse_test_arr[x] for x in [0,1,2,3,4]])\n",
        "\n",
        "# plt.subplot(4, 2, 2)\n",
        "# plt.title(\"rmse_train\")\n",
        "# plt.bar([x for x in [0,1,2,3,4]],[rmse_train_arr[x] for x in [0,1,2,3,4]])\n",
        "\n",
        "# plt.subplot(4, 2, 3)\n",
        "# plt.title(\"rrmse_test\")\n",
        "# plt.bar([x for x in [0,1,2,3,4]],[rrmse_test_arr[x] for x in [0,1,2,3,4]])\n",
        "\n",
        "# plt.subplot(4, 2, 4)\n",
        "# plt.title(\"rrmse_train\")\n",
        "# plt.bar([x for x in [0,1,2,3,4]],[rrmse_train_arr[x] for x in [0,1,2,3,4]])\n",
        "\n",
        "# plt.subplot(4, 2, 5)\n",
        "# plt.title(\"r2_test\")\n",
        "# plt.bar([x for x in [0,1,2,3,4]],[r2_test_arr[x] for x in [0,1,2,3,4]])\n",
        "\n",
        "# plt.subplot(4, 2, 6)\n",
        "# plt.title(\"r2_train\")\n",
        "# plt.bar([x for x in [0,1,2,3,4]],[r2_train_arr[x] for x in [0,1,2,3,4]])\n",
        "\n",
        "# plt.subplot(4, 2, 7)\n",
        "# plt.title(\"mae_test\")\n",
        "# plt.bar([x for x in [0,1,2,3,4]],[mae_test_arr[x] for x in [0,1,2,3,4]])\n",
        "\n",
        "# plt.subplot(4, 2, 8)\n",
        "# plt.title(\"mae_train\")\n",
        "# plt.bar([x for x in [0,1,2,3,4]],[mae_train_arr[x] for x in [0,1,2,3,4]])\n",
        "# plt.show()\n",
        "\n"
      ]
    },
    {
      "cell_type": "code",
      "source": [
        "tr = [ 0 , 1,  5,  6,  7 , 8 , 9 ,10 ,11, 13, 14, 16, 17, 18 ,19 ,20, 21, 22 ,23 ,24] \n",
        "tt = [ 2 ,3 , 4 ,12 ,15]\n",
        "x_train, x_test = df_train[selected_features_final].iloc[tr], df_train[selected_features_final].iloc[tt]\n",
        "y_train, y_test = df_train['prod'].iloc[tr], df_train['prod'].iloc[tt]\n",
        "print(tr,tt)\n",
        "scaler = MinMaxScaler()\n",
        "X_train = scaler.fit_transform(x_train)\n",
        "X_test = scaler.transform(x_test)\n",
        "model = MLPRegressor(hidden_layer_sizes=(64,64,64),activation=\"relu\" ,random_state=1, max_iter=2000).fit(X_train, y_train)\n",
        "\n",
        "\n",
        "x_ = df_test[selected_features_final]\n",
        "y_ = df_test['prod']\n",
        "y_pred_ = model.predict(x_)\n",
        "\n",
        "rmse_test = float(format(np.sqrt(mean_squared_error(y_pred_, y_)), '.3f'))\n",
        "print(\"\\nRMSE test: \", rmse_test)\n",
        "\n",
        "rrmse_test = format(float(rmse_test*100/np.mean(y_)),'.2f')\n",
        "print(\"\\nRRMSE test: \", rrmse_test,\"%\")\n",
        "\n",
        "\n",
        "# plt.figure(figsize=(12,12))\n",
        "# plt.scatter(y_, y_pred_)\n",
        "# # p1 = max(max(y_pred_), max(y_))\n",
        "# # p2 = min(min(y_pred_), min(y_))\n",
        "# # plt.plot( [p1,p2], [p1,p2], linestyle='--', color='k' )\n",
        "# plt.show()"
      ],
      "metadata": {
        "colab": {
          "base_uri": "https://localhost:8080/"
        },
        "id": "nJPkdNhohyKh",
        "outputId": "f22b5ae6-0781-4985-d8e0-97c285d1279d"
      },
      "execution_count": null,
      "outputs": [
        {
          "output_type": "stream",
          "name": "stdout",
          "text": [
            "[0, 1, 5, 6, 7, 8, 9, 10, 11, 13, 14, 16, 17, 18, 19, 20, 21, 22, 23, 24] [2, 3, 4, 12, 15]\n",
            "\n",
            "RMSE test:  5051.798\n",
            "\n",
            "RRMSE test:  136.66 %\n"
          ]
        },
        {
          "output_type": "stream",
          "name": "stderr",
          "text": [
            "/usr/local/lib/python3.10/dist-packages/sklearn/base.py:432: UserWarning: X has feature names, but MLPRegressor was fitted without feature names\n",
            "  warnings.warn(\n"
          ]
        }
      ]
    },
    {
      "cell_type": "markdown",
      "metadata": {
        "id": "YC7q8JzuRjUg"
      },
      "source": [
        "##KNN"
      ]
    },
    {
      "cell_type": "code",
      "source": [
        "\n",
        "\n",
        "cv = KFold(n_splits=5, shuffle=True, random_state=42)\n",
        "\n",
        "# Iterate through CV splits\n",
        "rmse_test_arr = []\n",
        "rrmse_test_arr =[]\n",
        "r2_test_arr= []\n",
        "mae_test_arr = []\n",
        "\n",
        "rmse_train_arr = []\n",
        "rrmse_train_arr =[]\n",
        "r2_train_arr= []\n",
        "mae_train_arr = []\n",
        "\n",
        "bias_test_arr = []\n",
        "bias_train_arr = []\n",
        "\n",
        "\n",
        "for tr, tt in cv.split(df_train): #tr,tt are indexes\n",
        "    x_train, x_test = df_train[selected_features_final].iloc[tr], df_train[selected_features_final].iloc[tt]\n",
        "    y_train, y_test = df_train['prod'].iloc[tr], df_train['prod'].iloc[tt]\n",
        "    scaler = MinMaxScaler()\n",
        "    X_train = scaler.fit_transform(x_train)\n",
        "    X_test = scaler.transform(x_test)\n",
        "    K=5\n",
        "    model = neighbors.KNeighborsRegressor(n_neighbors = K).fit(X_train, y_train)\n",
        "    y_pred= model.predict(X_test)\n",
        "    y_pred_train= model.predict(X_train)\n",
        "\n",
        "    r2_test=r2_score(y_test,y_pred)\n",
        "    r2_train=r2_score(y_train,y_pred_train)\n",
        "    #print(r2_test)\n",
        "    #print(r2_train)\n",
        "    r2_test_arr.append(r2_test)\n",
        "    r2_train_arr.append(r2_train)\n",
        "\n",
        "    rmse_test = float(format(np.sqrt(mean_squared_error(y_test, y_pred)), '.3f'))\n",
        "    #print(\"\\nRMSE test: \", rmse_test)\n",
        "    rmse_test_arr.append(rmse_test)\n",
        "\n",
        "    rrmse_test = format(float(rmse_test*100/np.mean(y_test)),'.2f')\n",
        "    #print(\"\\nRRMSE test: \", rrmse_test,\"%\")\n",
        "    rrmse_test_arr.append(rrmse_test)\n",
        "\n",
        "    rmse_train = float(format(np.sqrt(mean_squared_error(y_train, y_pred_train)), '.3f'))\n",
        "    #print(\"\\nRMSE train: \", rmse_train)\n",
        "    rmse_train_arr.append(rmse_train)\n",
        "\n",
        "    rrmse_train = format(float(rmse_train*100/np.mean(y_train)),'.2f')\n",
        "    #print(\"\\nRRMSE train: \", rrmse_train,\"%\")\n",
        "    rrmse_train_arr.append(rrmse_train)\n",
        "\n",
        "\n",
        "    mae_test = float(format(mean_absolute_error(y_test, y_pred), '.3f'))\n",
        "    #print(\"\\nMAE Test: \", mae_test)\n",
        "    mae_test_arr.append(mae_test)\n",
        "    mae_train = float(format(mean_absolute_error(y_train, y_pred_train), '.3f'))\n",
        "    #print(\"\\nMAE Train: \", mae_train)\n",
        "    mae_train_arr.append(mae_train)\n",
        "\n",
        "                #print(\"\\nBias Test: \\n\", bias_value(y_test,y_pred))\n",
        "    bias_test_arr.append(bias_value(y_test,y_pred))\n",
        "    #print(\"\\nBias Train: \\n\", bias_value(y_train, y_pred_train))\n",
        "    bias_train_arr.append(bias_value(y_train, y_pred_train))\n",
        "\n",
        "data['Method'][3]='KNN'\n",
        "data['RMSE test'][3]=np.mean(rmse_test_arr)\n",
        "data['RMSE train'][3]=np.mean(rmse_train_arr)\n",
        "data['RRMSE test'][3]=np.mean(np.array(rrmse_test_arr).astype(np.float))\n",
        "data['RRMSE train'][3]=np.mean(np.array(rrmse_train_arr).astype(np.float))\n",
        "data['MAE test'][3]=np.mean(mae_test_arr)\n",
        "data['MAE train'][3]=np.mean(mae_train_arr)\n",
        "data['R2_score test'][3]=np.mean(r2_test_arr)\n",
        "data['R2_score train'][3]=np.mean(r2_train_arr)\n",
        "data['Bias test'][3]=np.mean(bias_test_arr)\n",
        "data['Bias train'][3]=np.mean(bias_train_arr)\n",
        "\n",
        "plt.figure(figsize=(12,12))\n",
        "plt.subplot(4, 2, 1)\n",
        "plt.title(\"rmse_test\")\n",
        "plt.bar([x for x in [0,1,2,3,4]],[rmse_test_arr[x] for x in [0,1,2,3,4]])\n",
        "\n",
        "# plt.subplot(4, 2, 2)\n",
        "# plt.title(\"rmse_train\")\n",
        "# plt.bar([x for x in [0,1,2,3,4]],[rmse_train_arr[x] for x in [0,1,2,3,4]])\n",
        "\n",
        "# plt.subplot(4, 2, 3)\n",
        "# plt.title(\"rrmse_test\")\n",
        "# plt.bar([x for x in [0,1,2,3,4]],[rrmse_test_arr[x] for x in [0,1,2,3,4]])\n",
        "\n",
        "# plt.subplot(4, 2, 4)\n",
        "# plt.title(\"rrmse_train\")\n",
        "# plt.bar([x for x in [0,1,2,3,4]],[rrmse_train_arr[x] for x in [0,1,2,3,4]])\n",
        "\n",
        "# plt.subplot(4, 2, 5)\n",
        "# plt.title(\"r2_test\")\n",
        "# plt.bar([x for x in [0,1,2,3,4]],[r2_test_arr[x] for x in [0,1,2,3,4]])\n",
        "\n",
        "# plt.subplot(4, 2, 6)\n",
        "# plt.title(\"r2_train\")\n",
        "# plt.bar([x for x in [0,1,2,3,4]],[r2_train_arr[x] for x in [0,1,2,3,4]])\n",
        "\n",
        "# plt.subplot(4, 2, 7)\n",
        "# plt.title(\"mae_test\")\n",
        "# plt.bar([x for x in [0,1,2,3,4]],[mae_test_arr[x] for x in [0,1,2,3,4]])\n",
        "\n",
        "# plt.subplot(4, 2, 8)\n",
        "# plt.title(\"mae_train\")\n",
        "# plt.bar([x for x in [0,1,2,3,4]],[mae_train_arr[x] for x in [0,1,2,3,4]])\n",
        "# plt.show()\n",
        "\n"
      ],
      "metadata": {
        "id": "MSvXfaFlkVSn",
        "colab": {
          "base_uri": "https://localhost:8080/",
          "height": 425
        },
        "outputId": "1261a8ba-811f-440d-93ab-c2cca4574a65"
      },
      "execution_count": null,
      "outputs": [
        {
          "output_type": "stream",
          "name": "stderr",
          "text": [
            "<ipython-input-33-e2888801e383>:68: DeprecationWarning: `np.float` is a deprecated alias for the builtin `float`. To silence this warning, use `float` by itself. Doing this will not modify any behavior and is safe. If you specifically wanted the numpy scalar type, use `np.float64` here.\n",
            "Deprecated in NumPy 1.20; for more details and guidance: https://numpy.org/devdocs/release/1.20.0-notes.html#deprecations\n",
            "  data['RRMSE test'][3]=np.mean(np.array(rrmse_test_arr).astype(np.float))\n",
            "<ipython-input-33-e2888801e383>:69: DeprecationWarning: `np.float` is a deprecated alias for the builtin `float`. To silence this warning, use `float` by itself. Doing this will not modify any behavior and is safe. If you specifically wanted the numpy scalar type, use `np.float64` here.\n",
            "Deprecated in NumPy 1.20; for more details and guidance: https://numpy.org/devdocs/release/1.20.0-notes.html#deprecations\n",
            "  data['RRMSE train'][3]=np.mean(np.array(rrmse_train_arr).astype(np.float))\n"
          ]
        },
        {
          "output_type": "execute_result",
          "data": {
            "text/plain": [
              "<BarContainer object of 5 artists>"
            ]
          },
          "metadata": {},
          "execution_count": 33
        },
        {
          "output_type": "display_data",
          "data": {
            "text/plain": [
              "<Figure size 1200x1200 with 1 Axes>"
            ],
            "image/png": "[encoded data removed]"
          },
          "metadata": {}
        }
      ]
    },
    {
      "cell_type": "code",
      "source": [
        "tr = [ 0 , 1,  5,  6,  7 , 8 , 9 ,10 ,11, 13, 14, 16, 17, 18 ,19 ,20, 21, 22 ,23 ,24] \n",
        "tt = [ 2 ,3 , 4 ,12 ,15]\n",
        "x_train, x_test = df_train[selected_features_final].iloc[tr], df_train[selected_features_final].iloc[tt]\n",
        "y_train, y_test = df_train['prod'].iloc[tr], df_train['prod'].iloc[tt]\n",
        "print(tr,tt)\n",
        "scaler = MinMaxScaler()\n",
        "X_train = scaler.fit_transform(x_train)\n",
        "X_test = scaler.transform(x_test)\n",
        "K=5\n",
        "model = neighbors.KNeighborsRegressor(n_neighbors = K).fit(X_train, y_train)\n",
        "\n",
        "x_ = df_test[selected_features_final]\n",
        "y_ = df_test['prod']\n",
        "y_pred_ = model.predict(x_)\n",
        "\n",
        "rmse_test = float(format(np.sqrt(mean_squared_error(y_pred_, y_)), '.3f'))\n",
        "print(\"\\nRMSE test: \", rmse_test)\n",
        "\n",
        "rrmse_test = format(float(rmse_test*100/np.mean(y_)),'.2f')\n",
        "print(\"\\nRRMSE test: \", rrmse_test,\"%\")\n",
        "\n",
        "\n",
        "# plt.figure(figsize=(12,12))\n",
        "# plt.scatter(y_, y_pred_)\n",
        "# # p1 = max(max(y_pred_), max(y_))\n",
        "# # p2 = min(min(y_pred_), min(y_))\n",
        "# # plt.plot( [p1,p2], [p1,p2], linestyle='--', color='k' )\n",
        "# plt.show()"
      ],
      "metadata": {
        "colab": {
          "base_uri": "https://localhost:8080/"
        },
        "id": "YqxqgKTniUNb",
        "outputId": "5b9d13e4-2709-46b5-a496-3cd166b73892"
      },
      "execution_count": null,
      "outputs": [
        {
          "output_type": "stream",
          "name": "stdout",
          "text": [
            "[0, 1, 5, 6, 7, 8, 9, 10, 11, 13, 14, 16, 17, 18, 19, 20, 21, 22, 23, 24] [2, 3, 4, 12, 15]\n",
            "\n",
            "RMSE test:  790.146\n",
            "\n",
            "RRMSE test:  21.38 %\n"
          ]
        },
        {
          "output_type": "stream",
          "name": "stderr",
          "text": [
            "/usr/local/lib/python3.10/dist-packages/sklearn/base.py:432: UserWarning: X has feature names, but KNeighborsRegressor was fitted without feature names\n",
            "  warnings.warn(\n"
          ]
        }
      ]
    },
    {
      "cell_type": "markdown",
      "metadata": {
        "id": "B-HNDjjm4BRX"
      },
      "source": [
        "##Random Forest"
      ]
    },
    {
      "cell_type": "code",
      "source": [
        "cv = KFold(n_splits=5, shuffle=True, random_state=42)\n",
        "\n",
        "# Iterate through CV splits\n",
        "rmse_test_arr = []\n",
        "rrmse_test_arr =[]\n",
        "r2_test_arr= []\n",
        "mae_test_arr = []\n",
        "\n",
        "rmse_train_arr = []\n",
        "rrmse_train_arr =[]\n",
        "r2_train_arr= []\n",
        "mae_train_arr = []\n",
        "\n",
        "bias_test_arr = []\n",
        "bias_train_arr = []\n",
        "\n",
        "for tr, tt in cv.split(df_train): #tr,tt are indexes\n",
        "    x_train, x_test = df_train[selected_features_final].iloc[tr], df_train[selected_features_final].iloc[tt]\n",
        "    y_train, y_test = df_train['prod'].iloc[tr], df_train['prod'].iloc[tt]\n",
        "    print(tr,tt)\n",
        "    scaler = MinMaxScaler()\n",
        "    X_train = scaler.fit_transform(pd.DataFrame(x_train))\n",
        "    X_test = scaler.transform(pd.DataFrame(x_test))\n",
        "    model =  RandomForestRegressor(n_estimators = 1000, random_state = 42).fit(X_train, y_train)\n",
        "    y_pred= model.predict(X_test)\n",
        "    y_pred_train= model.predict(X_train)\n",
        "\n",
        "    r2_test=r2_score(y_test,y_pred)\n",
        "    r2_train=r2_score(y_train,y_pred_train)\n",
        "    #print(r2_test)\n",
        "    #print(r2_train)\n",
        "    r2_test_arr.append(r2_test)\n",
        "    r2_train_arr.append(r2_train)\n",
        "\n",
        "    rmse_test = float(format(np.sqrt(mean_squared_error(y_test, y_pred)), '.3f'))\n",
        "    #print(\"\\nRMSE test: \", rmse_test)\n",
        "    rmse_test_arr.append(rmse_test)\n",
        "\n",
        "    rrmse_test = format(float(rmse_test*100/np.mean(y_test)),'.2f')\n",
        "    #print(\"\\nRRMSE test: \", rrmse_test,\"%\")\n",
        "    rrmse_test_arr.append(rrmse_test)\n",
        "\n",
        "    rmse_train = float(format(np.sqrt(mean_squared_error(y_train, y_pred_train)), '.3f'))\n",
        "    #print(\"\\nRMSE train: \", rmse_train)\n",
        "    rmse_train_arr.append(rmse_train)\n",
        "\n",
        "    rrmse_train = format(float(rmse_train*100/np.mean(y_train)),'.2f')\n",
        "    #print(\"\\nRRMSE train: \", rrmse_train,\"%\")\n",
        "    rrmse_train_arr.append(rrmse_train)\n",
        "\n",
        "\n",
        "    mae_test = float(format(mean_absolute_error(y_test, y_pred), '.3f'))\n",
        "    #print(\"\\nMAE Test: \", mae_test)\n",
        "    mae_test_arr.append(mae_test)\n",
        "    mae_train = float(format(mean_absolute_error(y_train, y_pred_train), '.3f'))\n",
        "    #print(\"\\nMAE Train: \", mae_train)\n",
        "    mae_train_arr.append(mae_train)\n",
        "\n",
        "    #print(\"\\nBias Test: \\n\", bias_value(y_test,y_pred))\n",
        "    bias_test_arr.append(bias_value(y_test,y_pred))\n",
        "    #print(\"\\nBias Train: \\n\", bias_value(y_train, y_pred_train))\n",
        "    bias_train_arr.append(bias_value(y_train, y_pred_train))\n",
        "\n",
        "data['Method'][4]='Random Forest'\n",
        "data['RMSE test'][4]=np.mean(rmse_test_arr)\n",
        "data['RMSE train'][4]=np.mean(rmse_train_arr)\n",
        "data['RRMSE test'][4]=np.mean(np.array(rrmse_test_arr).astype(np.float))\n",
        "data['RRMSE train'][4]=np.mean(np.array(rrmse_train_arr).astype(np.float))\n",
        "data['MAE test'][4]=np.mean(mae_test_arr)\n",
        "data['MAE train'][4]=np.mean(mae_train_arr)\n",
        "data['R2_score test'][4]=np.mean(r2_test_arr)\n",
        "data['R2_score train'][4]=np.mean(r2_train_arr)\n",
        "data['Bias test'][4]=np.mean(bias_test_arr)\n",
        "data['Bias train'][4]=np.mean(bias_train_arr)\n",
        "\n",
        "print(np.array(rmse_test_arr).astype(np.float))\n",
        "print(sum(np.array(rmse_test_arr))/5)\n",
        "x_train, x_test = df_train[selected_features_final], df_test[selected_features_final]\n",
        "y_train, y_test = df_train['prod'], df_test['prod']\n",
        "\n",
        "X_train = scaler.fit_transform(pd.DataFrame(x_train))\n",
        "X_test = scaler.transform(pd.DataFrame(x_test))\n",
        "#model =  RandomForestRegressor(n_estimators = 1000, random_state = 42).fit(X_train, y_train)\n",
        "y_pred= model.predict(X_test)\n",
        "rmse_test = float(format(np.sqrt(mean_squared_error(y_test, y_pred)), '.3f'))\n",
        "print(rmse_test)"
      ],
      "metadata": {
        "id": "Nbv4aL77Hj7T",
        "colab": {
          "base_uri": "https://localhost:8080/"
        },
        "outputId": "92c5bb17-0686-4d8d-ffb9-0734023d4aab"
      },
      "execution_count": null,
      "outputs": [
        {
          "output_type": "stream",
          "name": "stdout",
          "text": [
            "[ 1  2  3  4  5  6  7  9 10 12 13 14 15 17 18 19 20 21 22 24] [ 0  8 11 16 23]\n",
            "[ 0  2  3  4  6  7  8 10 11 12 14 15 16 17 18 19 20 21 23 24] [ 1  5  9 13 22]\n",
            "[ 0  1  5  6  7  8  9 10 11 13 14 16 17 18 19 20 21 22 23 24] [ 2  3  4 12 15]\n",
            "[ 0  1  2  3  4  5  6  7  8  9 10 11 12 13 14 15 16 19 22 23] [17 18 20 21 24]\n",
            "[ 0  1  2  3  4  5  8  9 11 12 13 15 16 17 18 20 21 22 23 24] [ 6  7 10 14 19]\n",
            "[363.7   369.52  158.208 265.554 351.309]\n",
            "301.65819999999997\n",
            "482.327\n"
          ]
        },
        {
          "output_type": "stream",
          "name": "stderr",
          "text": [
            "<ipython-input-34-ec6b422faa6f>:67: DeprecationWarning: `np.float` is a deprecated alias for the builtin `float`. To silence this warning, use `float` by itself. Doing this will not modify any behavior and is safe. If you specifically wanted the numpy scalar type, use `np.float64` here.\n",
            "Deprecated in NumPy 1.20; for more details and guidance: https://numpy.org/devdocs/release/1.20.0-notes.html#deprecations\n",
            "  data['RRMSE test'][4]=np.mean(np.array(rrmse_test_arr).astype(np.float))\n",
            "<ipython-input-34-ec6b422faa6f>:68: DeprecationWarning: `np.float` is a deprecated alias for the builtin `float`. To silence this warning, use `float` by itself. Doing this will not modify any behavior and is safe. If you specifically wanted the numpy scalar type, use `np.float64` here.\n",
            "Deprecated in NumPy 1.20; for more details and guidance: https://numpy.org/devdocs/release/1.20.0-notes.html#deprecations\n",
            "  data['RRMSE train'][4]=np.mean(np.array(rrmse_train_arr).astype(np.float))\n",
            "<ipython-input-34-ec6b422faa6f>:76: DeprecationWarning: `np.float` is a deprecated alias for the builtin `float`. To silence this warning, use `float` by itself. Doing this will not modify any behavior and is safe. If you specifically wanted the numpy scalar type, use `np.float64` here.\n",
            "Deprecated in NumPy 1.20; for more details and guidance: https://numpy.org/devdocs/release/1.20.0-notes.html#deprecations\n",
            "  print(np.array(rmse_test_arr).astype(np.float))\n"
          ]
        }
      ]
    },
    {
      "cell_type": "code",
      "source": [
        "tr = [ 0 , 1,  5,  6,  7 , 8 , 9 ,10 ,11, 13, 14, 16, 17, 18 ,19 ,20, 21, 22 ,23 ,24] \n",
        "tt = [ 2 ,3 , 4 ,12 ,15]\n",
        "x_train, x_test = df_train[selected_features_final].iloc[tr], df_train[selected_features_final].iloc[tt]\n",
        "y_train, y_test = df_train['prod'].iloc[tr], df_train['prod'].iloc[tt]\n",
        "print(tr,tt)\n",
        "scaler = MinMaxScaler()\n",
        "X_train = scaler.fit_transform(x_train)\n",
        "X_test = scaler.transform(x_test)\n",
        "model =  RandomForestRegressor(n_estimators = 1000, random_state = 42).fit(X_train, y_train)\n",
        "\n",
        "x_ = df_test[selected_features_final]\n",
        "y_ = df_test['prod']\n",
        "y_pred_ = model.predict(x_)\n",
        "\n",
        "rmse_test = float(format(np.sqrt(mean_squared_error(y_pred_, y_)), '.3f'))\n",
        "print(\"\\nRMSE test: \", rmse_test)\n",
        "\n",
        "rrmse_test = format(float(rmse_test*100/np.mean(y_)),'.2f')\n",
        "print(\"\\nRRMSE test: \", rrmse_test,\"%\")\n",
        "\n",
        "\n",
        "# plt.figure(figsize=(12,12))\n",
        "# plt.scatter(y_, y_pred_)\n",
        "# # p1 = max(max(y_pred_), max(y_))\n",
        "# # p2 = min(min(y_pred_), min(y_))\n",
        "# # plt.plot( [p1,p2], [p1,p2], linestyle='--', color='k' )\n",
        "# plt.show()"
      ],
      "metadata": {
        "colab": {
          "base_uri": "https://localhost:8080/"
        },
        "id": "-cDQAgM0ijYN",
        "outputId": "7859c784-3e09-422d-e3c8-22b040d3a0b9"
      },
      "execution_count": null,
      "outputs": [
        {
          "output_type": "stream",
          "name": "stdout",
          "text": [
            "[0, 1, 5, 6, 7, 8, 9, 10, 11, 13, 14, 16, 17, 18, 19, 20, 21, 22, 23, 24] [2, 3, 4, 12, 15]\n",
            "\n",
            "RMSE test:  574.66\n",
            "\n",
            "RRMSE test:  15.55 %\n"
          ]
        },
        {
          "output_type": "stream",
          "name": "stderr",
          "text": [
            "/usr/local/lib/python3.10/dist-packages/sklearn/base.py:432: UserWarning: X has feature names, but RandomForestRegressor was fitted without feature names\n",
            "  warnings.warn(\n"
          ]
        }
      ]
    },
    {
      "cell_type": "markdown",
      "metadata": {
        "id": "4D91CwhK_Wwz"
      },
      "source": [
        "# Results"
      ]
    },
    {
      "cell_type": "code",
      "execution_count": null,
      "metadata": {
        "id": "1i0QozER-dN5",
        "colab": {
          "base_uri": "https://localhost:8080/"
        },
        "outputId": "6dd404c0-c520-45fe-b5c1-7e73fa5071a1"
      },
      "outputs": [
        {
          "output_type": "stream",
          "name": "stdout",
          "text": [
            "dataset:  Kurunegala yala kannaya\n",
            "test size :  10 , 28.571428571428573 %\n",
            "              Method  RMSE test  RMSE train  RRMSE test  RRMSE train  \\\n",
            "0  Linear Regression   256.2128    249.0210       8.316        8.094   \n",
            "1                SVR   300.7232    314.8746       9.786       10.236   \n",
            "2                MLP   256.8892    248.8570       8.338        8.088   \n",
            "3                KNN   279.1920    231.4560       9.084        7.526   \n",
            "4      Random Forest   301.6582    126.5108       9.828        4.112   \n",
            "\n",
            "   MAE test  MAE train  R2_score test  R2_score train  Bias test    Bias train  \n",
            "0  192.3728   179.1372      -1.154093        0.376682  -6.773030  9.094947e-15  \n",
            "1  263.0356   246.9512      -0.411670        0.006557  -7.264710 -7.370390e+00  \n",
            "2  193.1378   178.9546      -1.155499        0.377642  -6.051441  3.380729e-02  \n",
            "3  217.7520   180.1420      -1.657802        0.455945  25.384000  2.146600e+01  \n",
            "4  249.7424    95.0060      -2.159932        0.836041  22.623738  8.713952e+00  \n"
          ]
        }
      ],
      "source": [
        "mydf = pd.DataFrame(data, columns = ['Method', 'RMSE test','RMSE train','RRMSE test','RRMSE train','MAE test','MAE train','R2_score test','R2_score train','Bias test','Bias train'])\n",
        "print(\"dataset: \", dataset)\n",
        "print(\"test size : \",test_size,\",\", test_size*100/len(df.index),\"%\")\n",
        "print(mydf)"
      ]
    },
    {
      "cell_type": "code",
      "execution_count": null,
      "metadata": {
        "id": "tzyYz9Qh-ef0"
      },
      "outputs": [],
      "source": [
        "mydf.to_excel (r'export_dataframe.xlsx', index = False, header=True)"
      ]
    }
  ]
}