{
  "nbformat": 4,
  "nbformat_minor": 0,
  "metadata": {
    "colab": {
      "provenance": []
    },
    "kernelspec": {
      "name": "python3",
      "display_name": "Python 3"
    },
    "language_info": {
      "name": "python"
    }
  },
  "cells": [
    {
      "cell_type": "code",
      "execution_count": null,
      "metadata": {
        "colab": {
          "base_uri": "https://localhost:8080/"
        },
        "id": "CVRWlce-Eu-_",
        "outputId": "ea9ecb9c-6e5c-4cb1-9e7e-467a171cba12"
      },
      "outputs": [
        {
          "output_type": "stream",
          "name": "stdout",
          "text": [
            "Mounted at /content/drive\n"
          ]
        }
      ],
      "source": [
        "from google.colab import drive\n",
        "drive.mount('/content/drive')"
      ]
    },
    {
      "cell_type": "code",
      "execution_count": null,
      "metadata": {
        "id": "AMcXr6qpE7Ep"
      },
      "outputs": [],
      "source": [
        "import numpy as np\n",
        "import pandas as pd\n",
        "from array import *\n",
        "import math"
      ]
    },
    {
      "cell_type": "markdown",
      "metadata": {
        "id": "_7eC-Wi-U-4R"
      },
      "source": [
        "##All datasets"
      ]
    },
    {
      "cell_type": "code",
      "execution_count": null,
      "metadata": {
        "id": "JHpptGXZFPRA"
      },
      "outputs": [],
      "source": [
        "df1 = pd.read_csv('/content/drive/MyDrive/ML_research/Am.csv')\n",
        "dataset1=\"Anuradhapura maha kannaya\""
      ]
    },
    {
      "cell_type": "code",
      "execution_count": null,
      "metadata": {
        "id": "xboE-hgKVWER"
      },
      "outputs": [],
      "source": [
        "df2 = pd.read_csv('/content/drive/MyDrive/ML_research/Ay.csv')\n",
        "dataset2=\"Anuradhapura yala kannaya\""
      ]
    },
    {
      "cell_type": "code",
      "execution_count": null,
      "metadata": {
        "id": "HEj561w1VYn-"
      },
      "outputs": [],
      "source": [
        "df3 = pd.read_csv('/content/drive/MyDrive/ML_research/Km.csv')\n",
        "dataset3=\"Kurunegala maha kannaya\""
      ]
    },
    {
      "cell_type": "code",
      "execution_count": null,
      "metadata": {
        "id": "s-VIkr7XVa0z"
      },
      "outputs": [],
      "source": [
        "df4 = pd.read_csv('/content/drive/MyDrive/ML_research/Ky.csv')\n",
        "dataset4=\"Kurunegala yala kannaya\""
      ]
    },
    {
      "cell_type": "code",
      "source": [
        "df5 = pd.read_csv('/content/drive/MyDrive/ML_research/total.csv')"
      ],
      "metadata": {
        "id": "FL3XfO2E2k_B"
      },
      "execution_count": null,
      "outputs": []
    },
    {
      "cell_type": "code",
      "execution_count": null,
      "metadata": {
        "id": "tKnzCD9d2aLH",
        "colab": {
          "base_uri": "https://localhost:8080/"
        },
        "outputId": "0b29bdf3-854c-4df7-98c8-55ae627c3b39"
      },
      "outputs": [
        {
          "output_type": "stream",
          "name": "stdout",
          "text": [
            "    year           X1         X2         X3         X4   X5  X6  X7   X8  X9  \\\n",
            "0   1982  1053.400000  30.823585  33.266667  27.871429  106   3  14  108  15   \n",
            "1   1983  1056.500000  30.770755  33.460000  27.441667  106   5  12  107  16   \n",
            "2   1984   884.800000  30.618812   0.000000  28.118182  101   0  22  105  18   \n",
            "3   1985  1071.600000  30.316832  33.450000  26.820000  101   2  20  105  18   \n",
            "4   1986   366.100000  30.830435   0.000000  28.550000  115   0   8   95  28   \n",
            "5   1987  1071.200000  30.748246  33.300000  27.375000  114   1   8   86  37   \n",
            "6   1988   486.692521  30.899933  33.360000  25.170000  108   5  10   99  24   \n",
            "7   1989   968.600000  30.741071  33.100000  26.928571  112   4   7  105  18   \n",
            "8   1990  1034.600000  30.721591  33.709091  27.870833   88  11  24   98  25   \n",
            "9   1991   759.700000  30.628261   0.000000  28.164516   92   0  31  110  13   \n",
            "10  1992   662.800000  30.529213   0.000000  28.184959   89   0  34  121   2   \n",
            "11  1993  1151.000000  30.539796   0.000000  28.152000   98   0  25  117   6   \n",
            "12  1994   883.500000  30.629524   0.000000  28.250000  105   0  18  118   5   \n",
            "13  1995   660.100000  30.525243   0.000000  27.595000  103   0  20  112  11   \n",
            "14  1996   671.500000  30.446296  33.500000  27.592308  108   1  13  115   8   \n",
            "15  1997  1311.800000  31.303604  33.175000  28.300000  111   4   8  115   8   \n",
            "16  1998   931.700000  30.546535   0.000000  27.427273  101   0  22  105  18   \n",
            "17  1999   617.200000  30.315094  36.700000  27.612500  106   1  16  121   2   \n",
            "18  2000   765.000000  30.659302  33.100000  27.438889   86   1  36  112  11   \n",
            "19  2001   652.800000  30.540708   0.000000  27.700000  113   0  10  110  13   \n",
            "20  2002  1305.900000  30.523158  33.100000  27.745833   95   4  24  118   5   \n",
            "21  2003   382.300000  30.967826  33.100000  27.880000  115   3   5  116   7   \n",
            "22  2004   835.800000  30.530556  33.100000  26.957143  108   1  14  108  15   \n",
            "23  2005   949.800000  30.509574  34.466667  27.030769   94   3  26  114   9   \n",
            "24  2006  1373.300000  30.819388  33.350000  27.210526   98   6  19  114   9   \n",
            "25  2007   782.700000  30.632075   0.000000  27.511765  106   0  17  121   2   \n",
            "26  2008   802.000000  30.678125  34.061538  27.671429   96  13  14  123   0   \n",
            "27  2009   766.300000  31.083495  33.171429  28.253846  103   7  13  121   2   \n",
            "28  2010  1410.200000  30.503571   0.000000  26.302564   84   0  39  118   5   \n",
            "29  2011   453.448571  30.877451  33.314286  27.857143  102   7  14  122   1   \n",
            "30  2012  1440.800000  30.425000  34.331250  26.800000   84  16  23  118   5   \n",
            "31  2013   759.400000  30.651020  33.200000  27.845000   98   5  20  108  15   \n",
            "32  2014  1007.100000  30.465672  33.800000  26.992857   91  13  19   88  35   \n",
            "33  2015   703.500000  30.728571  34.600000  27.872727  104   4  15   72  51   \n",
            "34  2016   405.800000  30.476056  33.600000  27.544444   96  15  12  100  23   \n",
            "35  2017  1275.810000  30.263889  33.600000  27.433333   97  18   8   97  26   \n",
            "36  2018   648.310000  29.724800  33.120000  27.599588   25   1  97  121   2   \n",
            "37  2019  1100.500000  29.695769   0.000000  27.703711   26   0  97  121   2   \n",
            "\n",
            "          X10        X11  prod  \n",
            "0   24.480000  22.354630  3698  \n",
            "1   24.800000  22.632710  3633  \n",
            "2   24.950000  22.361905  3055  \n",
            "3   24.538889  22.600952  3617  \n",
            "4   24.589286  22.713684  3724  \n",
            "5   24.548649  22.861628  3663  \n",
            "6   24.500000  22.342840  3353  \n",
            "7   25.133333  22.267619  3438  \n",
            "8   24.812000  22.589796  3436  \n",
            "9   24.584615  22.274831  3619  \n",
            "10  24.350000  21.790909  3265  \n",
            "11  24.333333  22.618803  3372  \n",
            "12  24.820000  22.382203  3515  \n",
            "13  24.545455  22.091964  3533  \n",
            "14  24.650000  21.480870  3171  \n",
            "15  24.287500  22.767826  3493  \n",
            "16  24.633333  22.230476  3460  \n",
            "17  24.650000  22.163636  3171  \n",
            "18  24.390909  22.444643  3614  \n",
            "19  24.938462  22.071818  3601  \n",
            "20  24.600000  22.382203  3521  \n",
            "21  24.357143  22.314655  3520  \n",
            "22  24.666667  22.632407  3608  \n",
            "23  24.588889  22.206140  3492  \n",
            "24  24.511111  22.578070  3655  \n",
            "25  24.400000  22.073554  4035  \n",
            "26   0.000000  21.682114  3838  \n",
            "27  26.150000  22.301653  3940  \n",
            "28  24.500000  21.746610  4033  \n",
            "29  24.400000  20.414754  3319  \n",
            "30  24.700000  22.288983  3934  \n",
            "31  24.766667  22.450926  4806  \n",
            "32  23.696154  22.264773  4062  \n",
            "33  23.689474  22.400000  3609  \n",
            "34  23.547059  21.440659  4131  \n",
            "35  23.435000  21.479121  4540  \n",
            "36  23.135000  20.525868  4711  \n",
            "37  23.090000  21.072397  4732  \n"
          ]
        }
      ],
      "source": [
        "df = df3\n",
        "df\n",
        "\n",
        "dataset=dataset3\n",
        "print(df)"
      ]
    },
    {
      "cell_type": "markdown",
      "metadata": {
        "id": "2z3Q9IRiaBy0"
      },
      "source": [
        "##pre processing"
      ]
    },
    {
      "cell_type": "code",
      "execution_count": null,
      "metadata": {
        "id": "fYnSW3lAaJID",
        "colab": {
          "base_uri": "https://localhost:8080/"
        },
        "outputId": "317d7df0-ff18-4004-996e-33eaceae89b2"
      },
      "outputs": [
        {
          "output_type": "stream",
          "name": "stdout",
          "text": [
            "    year           X1         X2         X3         X4   X5  X6  X7   X8  X9  \\\n",
            "0   1982  1053.400000  30.823585  33.266667  27.871429  106   3  14  108  15   \n",
            "1   1983  1056.500000  30.770755  33.460000  27.441667  106   5  12  107  16   \n",
            "3   1985  1071.600000  30.316832  33.450000  26.820000  101   2  20  105  18   \n",
            "5   1987  1071.200000  30.748246  33.300000  27.375000  114   1   8   86  37   \n",
            "6   1988   486.692521  30.899933  33.360000  25.170000  108   5  10   99  24   \n",
            "7   1989   968.600000  30.741071  33.100000  26.928571  112   4   7  105  18   \n",
            "8   1990  1034.600000  30.721591  33.709091  27.870833   88  11  24   98  25   \n",
            "14  1996   671.500000  30.446296  33.500000  27.592308  108   1  13  115   8   \n",
            "15  1997  1311.800000  31.303604  33.175000  28.300000  111   4   8  115   8   \n",
            "17  1999   617.200000  30.315094  36.700000  27.612500  106   1  16  121   2   \n",
            "18  2000   765.000000  30.659302  33.100000  27.438889   86   1  36  112  11   \n",
            "20  2002  1305.900000  30.523158  33.100000  27.745833   95   4  24  118   5   \n",
            "21  2003   382.300000  30.967826  33.100000  27.880000  115   3   5  116   7   \n",
            "22  2004   835.800000  30.530556  33.100000  26.957143  108   1  14  108  15   \n",
            "23  2005   949.800000  30.509574  34.466667  27.030769   94   3  26  114   9   \n",
            "24  2006  1373.300000  30.819388  33.350000  27.210526   98   6  19  114   9   \n",
            "27  2009   766.300000  31.083495  33.171429  28.253846  103   7  13  121   2   \n",
            "29  2011   453.448571  30.877451  33.314286  27.857143  102   7  14  122   1   \n",
            "30  2012  1440.800000  30.425000  34.331250  26.800000   84  16  23  118   5   \n",
            "31  2013   759.400000  30.651020  33.200000  27.845000   98   5  20  108  15   \n",
            "32  2014  1007.100000  30.465672  33.800000  26.992857   91  13  19   88  35   \n",
            "33  2015   703.500000  30.728571  34.600000  27.872727  104   4  15   72  51   \n",
            "34  2016   405.800000  30.476056  33.600000  27.544444   96  15  12  100  23   \n",
            "35  2017  1275.810000  30.263889  33.600000  27.433333   97  18   8   97  26   \n",
            "36  2018   648.310000  29.724800  33.120000  27.599588   25   1  97  121   2   \n",
            "\n",
            "          X10        X11  prod  \n",
            "0   24.480000  22.354630  3698  \n",
            "1   24.800000  22.632710  3633  \n",
            "3   24.538889  22.600952  3617  \n",
            "5   24.548649  22.861628  3663  \n",
            "6   24.500000  22.342840  3353  \n",
            "7   25.133333  22.267619  3438  \n",
            "8   24.812000  22.589796  3436  \n",
            "14  24.650000  21.480870  3171  \n",
            "15  24.287500  22.767826  3493  \n",
            "17  24.650000  22.163636  3171  \n",
            "18  24.390909  22.444643  3614  \n",
            "20  24.600000  22.382203  3521  \n",
            "21  24.357143  22.314655  3520  \n",
            "22  24.666667  22.632407  3608  \n",
            "23  24.588889  22.206140  3492  \n",
            "24  24.511111  22.578070  3655  \n",
            "27  26.150000  22.301653  3940  \n",
            "29  24.400000  20.414754  3319  \n",
            "30  24.700000  22.288983  3934  \n",
            "31  24.766667  22.450926  4806  \n",
            "32  23.696154  22.264773  4062  \n",
            "33  23.689474  22.400000  3609  \n",
            "34  23.547059  21.440659  4131  \n",
            "35  23.435000  21.479121  4540  \n",
            "36  23.135000  20.525868  4711  \n"
          ]
        }
      ],
      "source": [
        "#Delete row whose column value is equal to 0\n",
        "df = df.drop(df.index[df['X2'] == 0])\n",
        "df = df.drop(df.index[df['X3'] == 0])\n",
        "df = df.drop(df.index[df['X4'] == 0])\n",
        "df = df.drop(df.index[df['X10'] == 0])\n",
        "df = df.drop(df.index[df['X11'] == 0])\n",
        "df.size\n",
        "\n",
        "import matplotlib.pyplot as plt\n",
        "from sklearn.metrics import mean_squared_error\n",
        "from sklearn.model_selection import KFold\n",
        "from sklearn.model_selection import train_test_split\n",
        "from sklearn.metrics import r2_score\n",
        "from sklearn.preprocessing import MinMaxScaler\n",
        "from sklearn.linear_model import Lasso\n",
        "from sklearn.linear_model import LinearRegression \n",
        "from sklearn.metrics import mean_absolute_error\n",
        "from sklearn.linear_model import Ridge\n",
        "from sklearn.svm import SVR\n",
        "from sklearn.linear_model import ElasticNet\n",
        "from sklearn.neural_network import MLPRegressor\n",
        "from sklearn import neighbors\n",
        "from sklearn.ensemble import RandomForestRegressor\n",
        "print(df)"
      ]
    },
    {
      "cell_type": "code",
      "source": [
        "df.boxplot(column=['X1'])"
      ],
      "metadata": {
        "colab": {
          "base_uri": "https://localhost:8080/",
          "height": 447
        },
        "id": "uszZ_JGwGDMv",
        "outputId": "0652926b-f3c6-4240-f669-42c1c8199fbf"
      },
      "execution_count": null,
      "outputs": [
        {
          "output_type": "execute_result",
          "data": {
            "text/plain": [
              "<Axes: >"
            ]
          },
          "metadata": {},
          "execution_count": 10
        },
        {
          "output_type": "display_data",
          "data": {
            "text/plain": [
              "<Figure size 640x480 with 1 Axes>"
            ],
            "image/png": "[encoded data removed]"
          },
          "metadata": {}
        }
      ]
    },
    {
      "cell_type": "code",
      "source": [
        "df.boxplot(column=['X2'])\n"
      ],
      "metadata": {
        "colab": {
          "base_uri": "https://localhost:8080/",
          "height": 447
        },
        "id": "Ez_zO8aWGc2A",
        "outputId": "4777c8fc-17eb-49bf-c170-ee620b40e63b"
      },
      "execution_count": null,
      "outputs": [
        {
          "output_type": "execute_result",
          "data": {
            "text/plain": [
              "<Axes: >"
            ]
          },
          "metadata": {},
          "execution_count": 11
        },
        {
          "output_type": "display_data",
          "data": {
            "text/plain": [
              "<Figure size 640x480 with 1 Axes>"
            ],
            "image/png": "[encoded data removed]"
          },
          "metadata": {}
        }
      ]
    },
    {
      "cell_type": "code",
      "source": [
        "df.boxplot(column=['X3'])\n"
      ],
      "metadata": {
        "colab": {
          "base_uri": "https://localhost:8080/",
          "height": 447
        },
        "id": "wAUa2JNuGh7I",
        "outputId": "40a61d87-8e77-4529-b884-6b164b9764ae"
      },
      "execution_count": null,
      "outputs": [
        {
          "output_type": "execute_result",
          "data": {
            "text/plain": [
              "<Axes: >"
            ]
          },
          "metadata": {},
          "execution_count": 12
        },
        {
          "output_type": "display_data",
          "data": {
            "text/plain": [
              "<Figure size 640x480 with 1 Axes>"
            ],
            "image/png": "[encoded data removed]"
          },
          "metadata": {}
        }
      ]
    },
    {
      "cell_type": "code",
      "source": [
        "df.boxplot(column=['X4'])\n"
      ],
      "metadata": {
        "colab": {
          "base_uri": "https://localhost:8080/",
          "height": 447
        },
        "id": "yhwHBUNlGm88",
        "outputId": "2599db08-7d5c-4402-df99-937ae554ab9a"
      },
      "execution_count": null,
      "outputs": [
        {
          "output_type": "execute_result",
          "data": {
            "text/plain": [
              "<Axes: >"
            ]
          },
          "metadata": {},
          "execution_count": 13
        },
        {
          "output_type": "display_data",
          "data": {
            "text/plain": [
              "<Figure size 640x480 with 1 Axes>"
            ],
            "image/png": "[encoded data removed]"
          },
          "metadata": {}
        }
      ]
    },
    {
      "cell_type": "code",
      "source": [
        "df.boxplot(column=['X5'])\n"
      ],
      "metadata": {
        "colab": {
          "base_uri": "https://localhost:8080/",
          "height": 447
        },
        "id": "WSlAB0JIGq7e",
        "outputId": "bed44fec-b9ff-42f0-c122-2ec85603c2bf"
      },
      "execution_count": null,
      "outputs": [
        {
          "output_type": "execute_result",
          "data": {
            "text/plain": [
              "<Axes: >"
            ]
          },
          "metadata": {},
          "execution_count": 14
        },
        {
          "output_type": "display_data",
          "data": {
            "text/plain": [
              "<Figure size 640x480 with 1 Axes>"
            ],
            "image/png": "[encoded data removed]"
          },
          "metadata": {}
        }
      ]
    },
    {
      "cell_type": "code",
      "source": [
        "df.boxplot(column=['X6'])\n"
      ],
      "metadata": {
        "colab": {
          "base_uri": "https://localhost:8080/",
          "height": 447
        },
        "id": "06aNmoMkGsyL",
        "outputId": "c0929b5c-5693-41f7-88e0-a5afdf895249"
      },
      "execution_count": null,
      "outputs": [
        {
          "output_type": "execute_result",
          "data": {
            "text/plain": [
              "<Axes: >"
            ]
          },
          "metadata": {},
          "execution_count": 15
        },
        {
          "output_type": "display_data",
          "data": {
            "text/plain": [
              "<Figure size 640x480 with 1 Axes>"
            ],
            "image/png": "[encoded data removed]"
          },
          "metadata": {}
        }
      ]
    },
    {
      "cell_type": "code",
      "source": [
        "df.boxplot(column=['X7'])\n"
      ],
      "metadata": {
        "colab": {
          "base_uri": "https://localhost:8080/",
          "height": 447
        },
        "id": "8tXSdesCGvPa",
        "outputId": "384051a2-ffcd-43f8-fb87-5fe92e54e886"
      },
      "execution_count": null,
      "outputs": [
        {
          "output_type": "execute_result",
          "data": {
            "text/plain": [
              "<Axes: >"
            ]
          },
          "metadata": {},
          "execution_count": 16
        },
        {
          "output_type": "display_data",
          "data": {
            "text/plain": [
              "<Figure size 640x480 with 1 Axes>"
            ],
            "image/png": "[encoded data removed]"
          },
          "metadata": {}
        }
      ]
    },
    {
      "cell_type": "code",
      "source": [
        "df.boxplot(column=['X8'])\n"
      ],
      "metadata": {
        "colab": {
          "base_uri": "https://localhost:8080/",
          "height": 447
        },
        "id": "yh8zbLUqGyBV",
        "outputId": "28eb6c24-fb51-4278-b3f9-379d74912d6c"
      },
      "execution_count": null,
      "outputs": [
        {
          "output_type": "execute_result",
          "data": {
            "text/plain": [
              "<Axes: >"
            ]
          },
          "metadata": {},
          "execution_count": 17
        },
        {
          "output_type": "display_data",
          "data": {
            "text/plain": [
              "<Figure size 640x480 with 1 Axes>"
            ],
            "image/png": "[encoded data removed]"
          },
          "metadata": {}
        }
      ]
    },
    {
      "cell_type": "code",
      "source": [
        "df.boxplot(column=['X9'])\n"
      ],
      "metadata": {
        "colab": {
          "base_uri": "https://localhost:8080/",
          "height": 447
        },
        "id": "EY6sjX8hG1X1",
        "outputId": "e423e34f-d052-41fc-8402-36df495c57ed"
      },
      "execution_count": null,
      "outputs": [
        {
          "output_type": "execute_result",
          "data": {
            "text/plain": [
              "<Axes: >"
            ]
          },
          "metadata": {},
          "execution_count": 18
        },
        {
          "output_type": "display_data",
          "data": {
            "text/plain": [
              "<Figure size 640x480 with 1 Axes>"
            ],
            "image/png": "[encoded data removed]"
          },
          "metadata": {}
        }
      ]
    },
    {
      "cell_type": "code",
      "source": [
        "df.boxplot(column=['X10'])\n"
      ],
      "metadata": {
        "colab": {
          "base_uri": "https://localhost:8080/",
          "height": 447
        },
        "id": "bPdc2bfVG4S-",
        "outputId": "f40d9a77-97fe-4e27-f3a1-d296ae4d7f96"
      },
      "execution_count": null,
      "outputs": [
        {
          "output_type": "execute_result",
          "data": {
            "text/plain": [
              "<Axes: >"
            ]
          },
          "metadata": {},
          "execution_count": 19
        },
        {
          "output_type": "display_data",
          "data": {
            "text/plain": [
              "<Figure size 640x480 with 1 Axes>"
            ],
            "image/png": "[encoded data removed]"
          },
          "metadata": {}
        }
      ]
    },
    {
      "cell_type": "code",
      "source": [
        "df.boxplot(column=['X11'])"
      ],
      "metadata": {
        "colab": {
          "base_uri": "https://localhost:8080/",
          "height": 447
        },
        "id": "QMVx-bMMG6ML",
        "outputId": "cefc6121-e2b6-45e2-df5f-d44953559bcf"
      },
      "execution_count": null,
      "outputs": [
        {
          "output_type": "execute_result",
          "data": {
            "text/plain": [
              "<Axes: >"
            ]
          },
          "metadata": {},
          "execution_count": 20
        },
        {
          "output_type": "display_data",
          "data": {
            "text/plain": [
              "<Figure size 640x480 with 1 Axes>"
            ],
            "image/png": "[encoded data removed]"
          },
          "metadata": {}
        }
      ]
    },
    {
      "cell_type": "code",
      "source": [
        "df['X1'] = np.where(df['X1'] < (df['X1'].quantile(0.10)), (df['X1'].quantile(0.10)),df['X1'])\n",
        "df['X1'] = np.where(df['X1'] >(df['X1'].quantile(0.90)), (df['X1'].quantile(0.90)),df['X1'])\n",
        "\n",
        "df['X2'] = np.where(df['X2'] < (df['X2'].quantile(0.10)), (df['X2'].quantile(0.10)),df['X2'])\n",
        "df['X2'] = np.where(df['X2'] >(df['X2'].quantile(0.90)), (df['X2'].quantile(0.90)),df['X2'])\n",
        "\n",
        "df['X3'] = np.where(df['X3'] < (df['X3'].quantile(0.10)), (df['X3'].quantile(0.10)),df['X3'])\n",
        "df['X3'] = np.where(df['X3'] >(df['X3'].quantile(0.90)), (df['X3'].quantile(0.90)),df['X3'])\n",
        "\n",
        "df['X4'] = np.where(df['X4'] < (df['X4'].quantile(0.10)), (df['X4'].quantile(0.10)),df['X4'])\n",
        "df['X4'] = np.where(df['X4'] >(df['X4'].quantile(0.90)), (df['X4'].quantile(0.90)),df['X4'])\n",
        "\n",
        "df['X5'] = np.where(df['X5'] < (df['X5'].quantile(0.10)), (df['X5'].quantile(0.10)),df['X5'])\n",
        "df['X5'] = np.where(df['X5'] >(df['X5'].quantile(0.90)), (df['X5'].quantile(0.90)),df['X5'])\n",
        "\n",
        "df['X6'] = np.where(df['X6'] < (df['X6'].quantile(0.10)), (df['X6'].quantile(0.10)),df['X6'])\n",
        "df['X6'] = np.where(df['X6'] >(df['X6'].quantile(0.90)), (df['X6'].quantile(0.90)),df['X6'])\n",
        "\n",
        "df['X7'] = np.where(df['X7'] < (df['X7'].quantile(0.10)), (df['X7'].quantile(0.10)),df['X7'])\n",
        "df['X7'] = np.where(df['X7'] >(df['X7'].quantile(0.90)), (df['X7'].quantile(0.90)),df['X7'])\n",
        "\n",
        "df['X8'] = np.where(df['X8'] < (df['X8'].quantile(0.10)), (df['X8'].quantile(0.10)),df['X8'])\n",
        "df['X8'] = np.where(df['X8'] >(df['X8'].quantile(0.90)), (df['X8'].quantile(0.90)),df['X8'])\n",
        "\n",
        "df['X9'] = np.where(df['X9'] < (df['X9'].quantile(0.10)), (df['X9'].quantile(0.10)),df['X9'])\n",
        "df['X9'] = np.where(df['X9'] >(df['X9'].quantile(0.90)), (df['X9'].quantile(0.90)),df['X9'])\n",
        "\n",
        "df['X10'] = np.where(df['X10'] < (df['X10'].quantile(0.10)), (df['X10'].quantile(0.10)),df['X10'])\n",
        "df['X10'] = np.where(df['X10'] >(df['X10'].quantile(0.90)), (df['X10'].quantile(0.90)),df['X10'])\n",
        "\n",
        "df['X11'] = np.where(df['X11'] < (df['X11'].quantile(0.10)), (df['X11'].quantile(0.10)),df['X11'])\n",
        "df['X11'] = np.where(df['X11'] >(df['X11'].quantile(0.90)), (df['X11'].quantile(0.90)),df['X11'])"
      ],
      "metadata": {
        "id": "X33VYWV6SLAc"
      },
      "execution_count": null,
      "outputs": []
    },
    {
      "cell_type": "code",
      "execution_count": null,
      "metadata": {
        "colab": {
          "base_uri": "https://localhost:8080/"
        },
        "id": "X119TUHM7yJr",
        "outputId": "e3c5117e-7b0b-44d4-cccf-72ae91645d33"
      },
      "outputs": [
        {
          "output_type": "stream",
          "name": "stdout",
          "text": [
            "              Method  RMSE test  RMSE train  RRMSE test  RRMSE train  \\\n",
            "0  Linear Regression          0           0           0            0   \n",
            "1                SVR          0           0           0            0   \n",
            "2                MLP          0           0           0            0   \n",
            "3                KNN          0           0           0            0   \n",
            "4      Random Forest          0           0           0            0   \n",
            "\n",
            "   MAE test  MAE train  R2_score test  R2_score train  Bias test  Bias train  \n",
            "0         0          0              0               0          0           0  \n",
            "1         0          0              0               0          0           0  \n",
            "2         0          0              0               0          0           0  \n",
            "3         0          0              0               0          0           0  \n",
            "4         0          0              0               0          0           0  \n",
            "7\n",
            "25 18 7\n"
          ]
        }
      ],
      "source": [
        "####################3\n",
        "def bias_value(y_test, y_pred):\n",
        "  ytest_list = list(y_test.values)\n",
        "  diff=0.0\n",
        "  avg_diff=0.0\n",
        "  for i in range(0,len(ytest_list)):\n",
        "    diff=diff+ytest_list[i]-y_pred[i]\n",
        "\n",
        "  avg_diff=diff/len(ytest_list)\n",
        "  return avg_diff\n",
        "\n",
        "data = {'Method': ['Linear Regression','SVR','MLP','KNN','Random Forest'],\n",
        "        'RMSE test': [0,0,0,0,0],\n",
        "        'RMSE train': [0,0,0,0,0],\n",
        "        'RRMSE test': [0,0,0,0,0],\n",
        "        'RRMSE train': [0,0,0,0,0],\n",
        "        'MAE test': [0,0,0,0,0],\n",
        "        'MAE train': [0,0,0,0,0],\n",
        "        'R2_score test': [0,0,0,0,0],\n",
        "        'R2_score train': [0,0,0,0,0],\n",
        "        'Bias test': [0,0,0,0,0],\n",
        "        'Bias train': [0,0,0,0,0],\n",
        "        }\n",
        "\n",
        "mydf = pd.DataFrame(data, columns = ['Method', 'RMSE test','RMSE train','RRMSE test','RRMSE train','MAE test','MAE train','R2_score test','R2_score train','Bias test','Bias train'])\n",
        "print(mydf)\n",
        "test_percentage = 0.3\n",
        "test_size = math.floor(len(df.index)*test_percentage)\n",
        "print(test_size)\n",
        "\n",
        "df_train = df[:-test_size]\n",
        "df_test = df[-test_size:]\n",
        "\n",
        "print(len(df.index), len(df_train.index) , len(df_test.index))"
      ]
    },
    {
      "cell_type": "code",
      "execution_count": null,
      "metadata": {
        "id": "3YTL0bgKLRLk",
        "colab": {
          "base_uri": "https://localhost:8080/",
          "height": 658
        },
        "outputId": "40bb8460-a33b-4f36-c3a6-498f80da70b0"
      },
      "outputs": [
        {
          "output_type": "stream",
          "name": "stdout",
          "text": [
            "Feature: 0, Score: 0.18534\n",
            "Feature: 1, Score: 0.05602\n",
            "Feature: 2, Score: 0.07105\n",
            "Feature: 3, Score: 0.07707\n",
            "Feature: 4, Score: 0.04691\n",
            "Feature: 5, Score: 0.04670\n",
            "Feature: 6, Score: 0.03975\n",
            "Feature: 7, Score: 0.06201\n",
            "Feature: 8, Score: 0.06027\n",
            "Feature: 9, Score: 0.06177\n",
            "Feature: 10, Score: 0.29312\n"
          ]
        },
        {
          "output_type": "display_data",
          "data": {
            "text/plain": [
              "<Figure size 640x480 with 1 Axes>"
            ],
            "image/png": "[encoded data removed]"
          },
          "metadata": {}
        },
        {
          "output_type": "stream",
          "name": "stdout",
          "text": [
            "[[0, 0.18533542055510033], [1, 0.05602237968099115], [2, 0.07104722668990869], [3, 0.07706882734223972], [4, 0.04690638957346219], [5, 0.04670483144917676], [6, 0.039745767653377284], [7, 0.06201131889971038], [8, 0.06027018225208345], [9, 0.061771485945825454], [10, 0.2931161699581245]]\n"
          ]
        }
      ],
      "source": [
        "#Random forest\n",
        "from sklearn.ensemble import RandomForestRegressor\n",
        "from sklearn.model_selection import train_test_split\n",
        "from sklearn.feature_selection import RFECV\n",
        "import matplotlib.pyplot as plt\n",
        "\n",
        "X=df_train.drop(['year','prod'], axis=1)\n",
        "y=df_train['prod']\n",
        "from sklearn.model_selection import train_test_split\n",
        "x_train, x_test, y_train, y_test= train_test_split(X,y,test_size=0.3,random_state=42)\n",
        "\n",
        "feature_names = [f\"feature {i}\" for i in range(X.shape[1])]\n",
        "\n",
        "from sklearn.preprocessing import MinMaxScaler\n",
        "scaler = MinMaxScaler()\n",
        "X_train = scaler.fit_transform(x_train)\n",
        "x_train = pd.DataFrame(X_train)\n",
        "X_test = scaler.transform(x_test)\n",
        "x_test = pd.DataFrame(X_test)\n",
        "\n",
        "rf = RandomForestRegressor(random_state=42)\n",
        "\n",
        "rf.fit(x_train,y_train)\n",
        "\n",
        "importance = rf.feature_importances_\n",
        "# summarize feature importance and assign them to an array 'arr' with the feature index\n",
        "arr = [[0 for x in range(2)] for y in range(11)] \n",
        "for i,v in enumerate(importance):\n",
        "\tarr[i][0] = i\n",
        "\tarr[i][1] = v\n",
        "\tprint('Feature: %0d, Score: %.5f' % (i,v))\n",
        "# plot feature importance\n",
        "plt.barh([x for x in range(len(importance))], importance)\n",
        "plt.show()\n",
        "\n",
        "print(arr)\n"
      ]
    },
    {
      "cell_type": "code",
      "source": [
        "arr.sort(key=lambda row: (row[1]), reverse=True)\n",
        "print(arr)\n",
        "plt.barh([x[0] for x in arr],[x[1] for x in arr])\n",
        "plt.show()\n"
      ],
      "metadata": {
        "id": "glTOJObVxpfk",
        "colab": {
          "base_uri": "https://localhost:8080/",
          "height": 467
        },
        "outputId": "8e211529-ace6-481f-8eb2-9114ae9106d7"
      },
      "execution_count": null,
      "outputs": [
        {
          "output_type": "stream",
          "name": "stdout",
          "text": [
            "[[10, 0.2931161699581245], [0, 0.18533542055510033], [3, 0.07706882734223972], [2, 0.07104722668990869], [7, 0.06201131889971038], [9, 0.061771485945825454], [8, 0.06027018225208345], [1, 0.05602237968099115], [4, 0.04690638957346219], [5, 0.04670483144917676], [6, 0.039745767653377284]]\n"
          ]
        },
        {
          "output_type": "display_data",
          "data": {
            "text/plain": [
              "<Figure size 640x480 with 1 Axes>"
            ],
            "image/png": "[encoded data removed]"
          },
          "metadata": {}
        }
      ]
    },
    {
      "cell_type": "code",
      "source": [
        "acc_array=list()\n",
        "#feature_array=list()\n",
        "\n",
        "\n",
        "cv = KFold(n_splits=5, shuffle=True, random_state=42)\n",
        "\n",
        "for n in range(1,12):\n",
        "  num_of_features = n\n",
        "  #print(num_of_features)\n",
        "  selected = [0 for y in range(num_of_features)]\n",
        "  for i in range(num_of_features):\n",
        "    selected[i] = sorted(arr,key=lambda row: (row[1]), reverse=True)[i]\n",
        "  print(selected) \n",
        "  selected_features_list = [0 for y in range(num_of_features)]\n",
        "  for i in range(num_of_features):\n",
        "    selected_features_list[i] = df_train.columns[selected[i][0]+1]\n",
        "  print(selected_features_list)"
      ],
      "metadata": {
        "id": "L4rm4Yp3Bc3u",
        "colab": {
          "base_uri": "https://localhost:8080/"
        },
        "outputId": "44647933-3231-46c8-bbf7-6e32611e5b49"
      },
      "execution_count": null,
      "outputs": [
        {
          "output_type": "stream",
          "name": "stdout",
          "text": [
            "[[10, 0.2931161699581245]]\n",
            "['X11']\n",
            "[[10, 0.2931161699581245], [0, 0.18533542055510033]]\n",
            "['X11', 'X1']\n",
            "[[10, 0.2931161699581245], [0, 0.18533542055510033], [3, 0.07706882734223972]]\n",
            "['X11', 'X1', 'X4']\n",
            "[[10, 0.2931161699581245], [0, 0.18533542055510033], [3, 0.07706882734223972], [2, 0.07104722668990869]]\n",
            "['X11', 'X1', 'X4', 'X3']\n",
            "[[10, 0.2931161699581245], [0, 0.18533542055510033], [3, 0.07706882734223972], [2, 0.07104722668990869], [7, 0.06201131889971038]]\n",
            "['X11', 'X1', 'X4', 'X3', 'X8']\n",
            "[[10, 0.2931161699581245], [0, 0.18533542055510033], [3, 0.07706882734223972], [2, 0.07104722668990869], [7, 0.06201131889971038], [9, 0.061771485945825454]]\n",
            "['X11', 'X1', 'X4', 'X3', 'X8', 'X10']\n",
            "[[10, 0.2931161699581245], [0, 0.18533542055510033], [3, 0.07706882734223972], [2, 0.07104722668990869], [7, 0.06201131889971038], [9, 0.061771485945825454], [8, 0.06027018225208345]]\n",
            "['X11', 'X1', 'X4', 'X3', 'X8', 'X10', 'X9']\n",
            "[[10, 0.2931161699581245], [0, 0.18533542055510033], [3, 0.07706882734223972], [2, 0.07104722668990869], [7, 0.06201131889971038], [9, 0.061771485945825454], [8, 0.06027018225208345], [1, 0.05602237968099115]]\n",
            "['X11', 'X1', 'X4', 'X3', 'X8', 'X10', 'X9', 'X2']\n",
            "[[10, 0.2931161699581245], [0, 0.18533542055510033], [3, 0.07706882734223972], [2, 0.07104722668990869], [7, 0.06201131889971038], [9, 0.061771485945825454], [8, 0.06027018225208345], [1, 0.05602237968099115], [4, 0.04690638957346219]]\n",
            "['X11', 'X1', 'X4', 'X3', 'X8', 'X10', 'X9', 'X2', 'X5']\n",
            "[[10, 0.2931161699581245], [0, 0.18533542055510033], [3, 0.07706882734223972], [2, 0.07104722668990869], [7, 0.06201131889971038], [9, 0.061771485945825454], [8, 0.06027018225208345], [1, 0.05602237968099115], [4, 0.04690638957346219], [5, 0.04670483144917676]]\n",
            "['X11', 'X1', 'X4', 'X3', 'X8', 'X10', 'X9', 'X2', 'X5', 'X6']\n",
            "[[10, 0.2931161699581245], [0, 0.18533542055510033], [3, 0.07706882734223972], [2, 0.07104722668990869], [7, 0.06201131889971038], [9, 0.061771485945825454], [8, 0.06027018225208345], [1, 0.05602237968099115], [4, 0.04690638957346219], [5, 0.04670483144917676], [6, 0.039745767653377284]]\n",
            "['X11', 'X1', 'X4', 'X3', 'X8', 'X10', 'X9', 'X2', 'X5', 'X6', 'X7']\n"
          ]
        }
      ]
    },
    {
      "cell_type": "code",
      "source": [
        "\n",
        "acc_array=list()\n",
        "#feature_array=list()\n",
        "\n",
        "\n",
        "cv = KFold(n_splits=5, shuffle=True, random_state=42)\n",
        "min=2000\n",
        "selected_features_final=list()\n",
        "for n in range(1,12):\n",
        "  num_of_features = n\n",
        "  selected = [[0 for x in range(2)] for y in range(num_of_features)] \n",
        "  #copy the selected most important n features' indices and their importance to 'selected' array\n",
        "  for i in range(num_of_features):\n",
        "    selected[i] = sorted(arr,key=lambda row: (row[1]), reverse=True)[i]\n",
        "  #assign selected feature columns in 'X' dataset to new dataset 'selected_features'\n",
        "  selected_features = pd.DataFrame()\n",
        "  selected_features_list = [0 for y in range(num_of_features)]\n",
        "  for i in range(num_of_features):\n",
        "    selected_features[i] = df_train.iloc[:, selected[i][0]+1]\n",
        "    #print(selected_features)\n",
        "    selected_features_list[i] = df_train.columns[selected[i][0]+1]\n",
        "  #print(selected_features_list)\n",
        "  rmse_test_arr = []\n",
        "  rrmse_test_arr =[]\n",
        "  r2_test_arr= []\n",
        "  mae_test_arr = []\n",
        "\n",
        "  rmse_train_arr = []\n",
        "  rrmse_train_arr =[]\n",
        "  r2_train_arr= []\n",
        "  mae_train_arr = []\n",
        "\n",
        "  bias_test_arr = []\n",
        "  bias_train_arr = []\n",
        "  #print(selected_features[i])\n",
        "  for tr, tt in cv.split(df_train): #tr,tt are indexes\n",
        "    x_train, x_test = selected_features[i].iloc[tr], selected_features[i].iloc[tt]\n",
        "    y_train, y_test = df_train['prod'].iloc[tr], df_train['prod'].iloc[tt]\n",
        "    #print(tr,tt)\n",
        "    scaler = MinMaxScaler()\n",
        "    X_train = scaler.fit_transform(pd.DataFrame(x_train))\n",
        "    X_test = scaler.transform(pd.DataFrame(x_test))\n",
        "    model =  RandomForestRegressor(n_estimators = 1000, random_state = 42).fit(X_train, y_train)\n",
        "    y_pred= model.predict(X_test)\n",
        "    y_pred_train= model.predict(X_train)\n",
        "\n",
        "    r2_test=r2_score(y_test,y_pred)\n",
        "    r2_train=r2_score(y_train,y_pred_train)\n",
        "    #print(r2_test)\n",
        "    #print(r2_train)\n",
        "    r2_test_arr.append(r2_test)\n",
        "    r2_train_arr.append(r2_train)\n",
        "\n",
        "    rmse_test = float(format(np.sqrt(mean_squared_error(y_test, y_pred)), '.3f'))\n",
        "    #print(\"\\nRMSE test: \", rmse_test)\n",
        "    rmse_test_arr.append(rmse_test)\n",
        "\n",
        "    rrmse_test = format(float(rmse_test*100/np.mean(y_test)),'.2f')\n",
        "    #print(\"\\nRRMSE test: \", rrmse_test,\"%\")\n",
        "    rrmse_test_arr.append(rrmse_test)\n",
        "\n",
        "    rmse_train = float(format(np.sqrt(mean_squared_error(y_train, y_pred_train)), '.3f'))\n",
        "    #print(\"\\nRMSE train: \", rmse_train)\n",
        "    rmse_train_arr.append(rmse_train)\n",
        "\n",
        "    rrmse_train = format(float(rmse_train*100/np.mean(y_train)),'.2f')\n",
        "    #print(\"\\nRRMSE train: \", rrmse_train,\"%\")\n",
        "    rrmse_train_arr.append(rrmse_train)\n",
        "\n",
        "\n",
        "    mae_test = float(format(mean_absolute_error(y_test, y_pred), '.3f'))\n",
        "    #print(\"\\nMAE Test: \", mae_test)\n",
        "    mae_test_arr.append(mae_test)\n",
        "    mae_train = float(format(mean_absolute_error(y_train, y_pred_train), '.3f'))\n",
        "    #print(\"\\nMAE Train: \", mae_train)\n",
        "    mae_train_arr.append(mae_train)\n",
        "\n",
        "    #print(\"\\nBias Test: \\n\", bias_value(y_test,y_pred))\n",
        "    bias_test_arr.append(bias_value(y_test,y_pred))\n",
        "    #print(\"\\nBias Train: \\n\", bias_value(y_train, y_pred_train))\n",
        "    bias_train_arr.append(bias_value(y_train, y_pred_train))\n",
        "    \n",
        "  acc_array.append(np.mean(np.array(rmse_test_arr).astype(np.float)))\n",
        "  if(min > np.mean(np.array(rmse_test_arr).astype(np.float))):\n",
        "    min=np.mean(np.array(rmse_test_arr).astype(np.float))\n",
        "    selected_features_final = selected_features_list\n",
        "plt.plot(np.arange(11), acc_array)\n",
        "plt.show()\n",
        "print(selected_features_final)\n",
        "print(min)"
      ],
      "metadata": {
        "id": "z28t7juDs5RB",
        "colab": {
          "base_uri": "https://localhost:8080/",
          "height": 1000
        },
        "outputId": "95facce7-bd35-4052-be70-50184f8e3702"
      },
      "execution_count": null,
      "outputs": [
        {
          "output_type": "stream",
          "name": "stderr",
          "text": [
            "<ipython-input-26-457796cc4b7d>:82: DeprecationWarning: `np.float` is a deprecated alias for the builtin `float`. To silence this warning, use `float` by itself. Doing this will not modify any behavior and is safe. If you specifically wanted the numpy scalar type, use `np.float64` here.\n",
            "Deprecated in NumPy 1.20; for more details and guidance: https://numpy.org/devdocs/release/1.20.0-notes.html#deprecations\n",
            "  acc_array.append(np.mean(np.array(rmse_test_arr).astype(np.float)))\n",
            "<ipython-input-26-457796cc4b7d>:83: DeprecationWarning: `np.float` is a deprecated alias for the builtin `float`. To silence this warning, use `float` by itself. Doing this will not modify any behavior and is safe. If you specifically wanted the numpy scalar type, use `np.float64` here.\n",
            "Deprecated in NumPy 1.20; for more details and guidance: https://numpy.org/devdocs/release/1.20.0-notes.html#deprecations\n",
            "  if(min > np.mean(np.array(rmse_test_arr).astype(np.float))):\n",
            "<ipython-input-26-457796cc4b7d>:84: DeprecationWarning: `np.float` is a deprecated alias for the builtin `float`. To silence this warning, use `float` by itself. Doing this will not modify any behavior and is safe. If you specifically wanted the numpy scalar type, use `np.float64` here.\n",
            "Deprecated in NumPy 1.20; for more details and guidance: https://numpy.org/devdocs/release/1.20.0-notes.html#deprecations\n",
            "  min=np.mean(np.array(rmse_test_arr).astype(np.float))\n",
            "<ipython-input-26-457796cc4b7d>:82: DeprecationWarning: `np.float` is a deprecated alias for the builtin `float`. To silence this warning, use `float` by itself. Doing this will not modify any behavior and is safe. If you specifically wanted the numpy scalar type, use `np.float64` here.\n",
            "Deprecated in NumPy 1.20; for more details and guidance: https://numpy.org/devdocs/release/1.20.0-notes.html#deprecations\n",
            "  acc_array.append(np.mean(np.array(rmse_test_arr).astype(np.float)))\n",
            "<ipython-input-26-457796cc4b7d>:83: DeprecationWarning: `np.float` is a deprecated alias for the builtin `float`. To silence this warning, use `float` by itself. Doing this will not modify any behavior and is safe. If you specifically wanted the numpy scalar type, use `np.float64` here.\n",
            "Deprecated in NumPy 1.20; for more details and guidance: https://numpy.org/devdocs/release/1.20.0-notes.html#deprecations\n",
            "  if(min > np.mean(np.array(rmse_test_arr).astype(np.float))):\n",
            "<ipython-input-26-457796cc4b7d>:84: DeprecationWarning: `np.float` is a deprecated alias for the builtin `float`. To silence this warning, use `float` by itself. Doing this will not modify any behavior and is safe. If you specifically wanted the numpy scalar type, use `np.float64` here.\n",
            "Deprecated in NumPy 1.20; for more details and guidance: https://numpy.org/devdocs/release/1.20.0-notes.html#deprecations\n",
            "  min=np.mean(np.array(rmse_test_arr).astype(np.float))\n",
            "<ipython-input-26-457796cc4b7d>:82: DeprecationWarning: `np.float` is a deprecated alias for the builtin `float`. To silence this warning, use `float` by itself. Doing this will not modify any behavior and is safe. If you specifically wanted the numpy scalar type, use `np.float64` here.\n",
            "Deprecated in NumPy 1.20; for more details and guidance: https://numpy.org/devdocs/release/1.20.0-notes.html#deprecations\n",
            "  acc_array.append(np.mean(np.array(rmse_test_arr).astype(np.float)))\n",
            "<ipython-input-26-457796cc4b7d>:83: DeprecationWarning: `np.float` is a deprecated alias for the builtin `float`. To silence this warning, use `float` by itself. Doing this will not modify any behavior and is safe. If you specifically wanted the numpy scalar type, use `np.float64` here.\n",
            "Deprecated in NumPy 1.20; for more details and guidance: https://numpy.org/devdocs/release/1.20.0-notes.html#deprecations\n",
            "  if(min > np.mean(np.array(rmse_test_arr).astype(np.float))):\n",
            "<ipython-input-26-457796cc4b7d>:82: DeprecationWarning: `np.float` is a deprecated alias for the builtin `float`. To silence this warning, use `float` by itself. Doing this will not modify any behavior and is safe. If you specifically wanted the numpy scalar type, use `np.float64` here.\n",
            "Deprecated in NumPy 1.20; for more details and guidance: https://numpy.org/devdocs/release/1.20.0-notes.html#deprecations\n",
            "  acc_array.append(np.mean(np.array(rmse_test_arr).astype(np.float)))\n",
            "<ipython-input-26-457796cc4b7d>:83: DeprecationWarning: `np.float` is a deprecated alias for the builtin `float`. To silence this warning, use `float` by itself. Doing this will not modify any behavior and is safe. If you specifically wanted the numpy scalar type, use `np.float64` here.\n",
            "Deprecated in NumPy 1.20; for more details and guidance: https://numpy.org/devdocs/release/1.20.0-notes.html#deprecations\n",
            "  if(min > np.mean(np.array(rmse_test_arr).astype(np.float))):\n",
            "<ipython-input-26-457796cc4b7d>:82: DeprecationWarning: `np.float` is a deprecated alias for the builtin `float`. To silence this warning, use `float` by itself. Doing this will not modify any behavior and is safe. If you specifically wanted the numpy scalar type, use `np.float64` here.\n",
            "Deprecated in NumPy 1.20; for more details and guidance: https://numpy.org/devdocs/release/1.20.0-notes.html#deprecations\n",
            "  acc_array.append(np.mean(np.array(rmse_test_arr).astype(np.float)))\n",
            "<ipython-input-26-457796cc4b7d>:83: DeprecationWarning: `np.float` is a deprecated alias for the builtin `float`. To silence this warning, use `float` by itself. Doing this will not modify any behavior and is safe. If you specifically wanted the numpy scalar type, use `np.float64` here.\n",
            "Deprecated in NumPy 1.20; for more details and guidance: https://numpy.org/devdocs/release/1.20.0-notes.html#deprecations\n",
            "  if(min > np.mean(np.array(rmse_test_arr).astype(np.float))):\n",
            "<ipython-input-26-457796cc4b7d>:82: DeprecationWarning: `np.float` is a deprecated alias for the builtin `float`. To silence this warning, use `float` by itself. Doing this will not modify any behavior and is safe. If you specifically wanted the numpy scalar type, use `np.float64` here.\n",
            "Deprecated in NumPy 1.20; for more details and guidance: https://numpy.org/devdocs/release/1.20.0-notes.html#deprecations\n",
            "  acc_array.append(np.mean(np.array(rmse_test_arr).astype(np.float)))\n",
            "<ipython-input-26-457796cc4b7d>:83: DeprecationWarning: `np.float` is a deprecated alias for the builtin `float`. To silence this warning, use `float` by itself. Doing this will not modify any behavior and is safe. If you specifically wanted the numpy scalar type, use `np.float64` here.\n",
            "Deprecated in NumPy 1.20; for more details and guidance: https://numpy.org/devdocs/release/1.20.0-notes.html#deprecations\n",
            "  if(min > np.mean(np.array(rmse_test_arr).astype(np.float))):\n",
            "<ipython-input-26-457796cc4b7d>:82: DeprecationWarning: `np.float` is a deprecated alias for the builtin `float`. To silence this warning, use `float` by itself. Doing this will not modify any behavior and is safe. If you specifically wanted the numpy scalar type, use `np.float64` here.\n",
            "Deprecated in NumPy 1.20; for more details and guidance: https://numpy.org/devdocs/release/1.20.0-notes.html#deprecations\n",
            "  acc_array.append(np.mean(np.array(rmse_test_arr).astype(np.float)))\n",
            "<ipython-input-26-457796cc4b7d>:83: DeprecationWarning: `np.float` is a deprecated alias for the builtin `float`. To silence this warning, use `float` by itself. Doing this will not modify any behavior and is safe. If you specifically wanted the numpy scalar type, use `np.float64` here.\n",
            "Deprecated in NumPy 1.20; for more details and guidance: https://numpy.org/devdocs/release/1.20.0-notes.html#deprecations\n",
            "  if(min > np.mean(np.array(rmse_test_arr).astype(np.float))):\n",
            "<ipython-input-26-457796cc4b7d>:82: DeprecationWarning: `np.float` is a deprecated alias for the builtin `float`. To silence this warning, use `float` by itself. Doing this will not modify any behavior and is safe. If you specifically wanted the numpy scalar type, use `np.float64` here.\n",
            "Deprecated in NumPy 1.20; for more details and guidance: https://numpy.org/devdocs/release/1.20.0-notes.html#deprecations\n",
            "  acc_array.append(np.mean(np.array(rmse_test_arr).astype(np.float)))\n",
            "<ipython-input-26-457796cc4b7d>:83: DeprecationWarning: `np.float` is a deprecated alias for the builtin `float`. To silence this warning, use `float` by itself. Doing this will not modify any behavior and is safe. If you specifically wanted the numpy scalar type, use `np.float64` here.\n",
            "Deprecated in NumPy 1.20; for more details and guidance: https://numpy.org/devdocs/release/1.20.0-notes.html#deprecations\n",
            "  if(min > np.mean(np.array(rmse_test_arr).astype(np.float))):\n",
            "<ipython-input-26-457796cc4b7d>:82: DeprecationWarning: `np.float` is a deprecated alias for the builtin `float`. To silence this warning, use `float` by itself. Doing this will not modify any behavior and is safe. If you specifically wanted the numpy scalar type, use `np.float64` here.\n",
            "Deprecated in NumPy 1.20; for more details and guidance: https://numpy.org/devdocs/release/1.20.0-notes.html#deprecations\n",
            "  acc_array.append(np.mean(np.array(rmse_test_arr).astype(np.float)))\n",
            "<ipython-input-26-457796cc4b7d>:83: DeprecationWarning: `np.float` is a deprecated alias for the builtin `float`. To silence this warning, use `float` by itself. Doing this will not modify any behavior and is safe. If you specifically wanted the numpy scalar type, use `np.float64` here.\n",
            "Deprecated in NumPy 1.20; for more details and guidance: https://numpy.org/devdocs/release/1.20.0-notes.html#deprecations\n",
            "  if(min > np.mean(np.array(rmse_test_arr).astype(np.float))):\n",
            "<ipython-input-26-457796cc4b7d>:82: DeprecationWarning: `np.float` is a deprecated alias for the builtin `float`. To silence this warning, use `float` by itself. Doing this will not modify any behavior and is safe. If you specifically wanted the numpy scalar type, use `np.float64` here.\n",
            "Deprecated in NumPy 1.20; for more details and guidance: https://numpy.org/devdocs/release/1.20.0-notes.html#deprecations\n",
            "  acc_array.append(np.mean(np.array(rmse_test_arr).astype(np.float)))\n",
            "<ipython-input-26-457796cc4b7d>:83: DeprecationWarning: `np.float` is a deprecated alias for the builtin `float`. To silence this warning, use `float` by itself. Doing this will not modify any behavior and is safe. If you specifically wanted the numpy scalar type, use `np.float64` here.\n",
            "Deprecated in NumPy 1.20; for more details and guidance: https://numpy.org/devdocs/release/1.20.0-notes.html#deprecations\n",
            "  if(min > np.mean(np.array(rmse_test_arr).astype(np.float))):\n",
            "<ipython-input-26-457796cc4b7d>:82: DeprecationWarning: `np.float` is a deprecated alias for the builtin `float`. To silence this warning, use `float` by itself. Doing this will not modify any behavior and is safe. If you specifically wanted the numpy scalar type, use `np.float64` here.\n",
            "Deprecated in NumPy 1.20; for more details and guidance: https://numpy.org/devdocs/release/1.20.0-notes.html#deprecations\n",
            "  acc_array.append(np.mean(np.array(rmse_test_arr).astype(np.float)))\n",
            "<ipython-input-26-457796cc4b7d>:83: DeprecationWarning: `np.float` is a deprecated alias for the builtin `float`. To silence this warning, use `float` by itself. Doing this will not modify any behavior and is safe. If you specifically wanted the numpy scalar type, use `np.float64` here.\n",
            "Deprecated in NumPy 1.20; for more details and guidance: https://numpy.org/devdocs/release/1.20.0-notes.html#deprecations\n",
            "  if(min > np.mean(np.array(rmse_test_arr).astype(np.float))):\n"
          ]
        },
        {
          "output_type": "display_data",
          "data": {
            "text/plain": [
              "<Figure size 640x480 with 1 Axes>"
            ],
            "image/png": "[encoded data removed]"
          },
          "metadata": {}
        },
        {
          "output_type": "stream",
          "name": "stdout",
          "text": [
            "['X11', 'X1']\n",
            "147.6628\n"
          ]
        }
      ]
    },
    {
      "cell_type": "markdown",
      "metadata": {
        "id": "HLhsL0ezHk_8"
      },
      "source": [
        "##LinearRegression"
      ]
    },
    {
      "cell_type": "code",
      "source": [
        "cv = KFold(n_splits=5, shuffle=True,random_state=42)\n",
        "\n",
        "rmse_test_arr = []\n",
        "rrmse_test_arr =[]\n",
        "r2_test_arr= []\n",
        "mae_test_arr = []\n",
        "\n",
        "rmse_train_arr = []\n",
        "rrmse_train_arr =[]\n",
        "r2_train_arr= []\n",
        "mae_train_arr = []\n",
        "\n",
        "bias_test_arr = []\n",
        "bias_train_arr = []\n",
        "\n",
        "for tr, tt in cv.split(df_train): #tr,tt are indexes\n",
        "    x_train, x_test = df_train[selected_features_final].iloc[tr], df_train[selected_features_final].iloc[tt]\n",
        "    y_train, y_test = df_train['prod'].iloc[tr], df_train['prod'].iloc[tt]\n",
        "    print(tr,tt)\n",
        "    scaler = MinMaxScaler()\n",
        "    X_train = scaler.fit_transform(x_train)\n",
        "    X_test = scaler.transform(x_test)\n",
        "    model = LinearRegression().fit(X_train, y_train)\n",
        "    y_pred= model.predict(X_test)\n",
        "    y_pred_train= model.predict(X_train)\n",
        "\n",
        "    r2_test=r2_score(y_test,y_pred)\n",
        "    r2_train=r2_score(y_train,y_pred_train)\n",
        "    #print(r2_test)\n",
        "    #print(r2_train)\n",
        "    r2_test_arr.append(r2_test)\n",
        "    r2_train_arr.append(r2_train)\n",
        "\n",
        "    rmse_test = float(format(np.sqrt(mean_squared_error(y_test, y_pred)), '.3f'))\n",
        "    #print(\"\\nRMSE test: \", rmse_test)\n",
        "    rmse_test_arr.append(rmse_test)\n",
        "\n",
        "    rrmse_test = format(float(rmse_test*100/np.mean(y_test)),'.2f')\n",
        "    #print(\"\\nRRMSE test: \", rrmse_test,\"%\")\n",
        "    rrmse_test_arr.append(rrmse_test)\n",
        "\n",
        "    rmse_train = float(format(np.sqrt(mean_squared_error(y_train, y_pred_train)), '.3f'))\n",
        "    #print(\"\\nRMSE train: \", rmse_train)\n",
        "    rmse_train_arr.append(rmse_train)\n",
        "\n",
        "    rrmse_train = format(float(rmse_train*100/np.mean(y_train)),'.2f')\n",
        "    #print(\"\\nRRMSE train: \", rrmse_train,\"%\")\n",
        "    rrmse_train_arr.append(rrmse_train)\n",
        "\n",
        "    mae_test = float(format(mean_absolute_error(y_test, y_pred), '.3f'))\n",
        "    #print(\"\\nMAE Test: \", mae_test)\n",
        "    mae_test_arr.append(mae_test)\n",
        "    mae_train = float(format(mean_absolute_error(y_train, y_pred_train), '.3f'))\n",
        "    #print(\"\\nMAE Train: \", mae_train)\n",
        "    mae_train_arr.append(mae_train)\n",
        "\n",
        "    #print(\"\\nBias Test: \\n\", bias_value(y_test,y_pred))\n",
        "    bias_test_arr.append(bias_value(y_test,y_pred))\n",
        "    #print(\"\\nBias Train: \\n\", bias_value(y_train, y_pred_train))\n",
        "    bias_train_arr.append(bias_value(y_train, y_pred_train))\n",
        "\n",
        "data['Method'][0]='Linear Regression'\n",
        "data['RMSE test'][0]=np.mean(rmse_test_arr)\n",
        "data['RMSE train'][0]=np.mean(rmse_train_arr)\n",
        "data['RRMSE test'][0]=np.mean(np.array(rrmse_test_arr).astype(np.float))\n",
        "data['RRMSE train'][0]=np.mean(np.array(rrmse_train_arr).astype(np.float))\n",
        "data['MAE test'][0]=np.mean(mae_test_arr)\n",
        "data['MAE train'][0]=np.mean(mae_train_arr)\n",
        "data['R2_score test'][0]=np.mean(r2_test_arr)\n",
        "data['R2_score train'][0]=np.mean(r2_train_arr)\n",
        "data['Bias test'][0]=np.mean(bias_test_arr)\n",
        "data['Bias train'][0]=np.mean(bias_train_arr)\n",
        "\n",
        "#print(np.array(rmse_test_arr).astype(np.float))\n",
        "print(rmse_test_arr)\n",
        "print(sum(rmse_test_arr)/5)\n",
        "plt.figure(figsize=(12,12))\n",
        "plt.subplot(4, 2, 1)\n",
        "plt.title(\"rmse_test\")\n",
        "plt.bar([x for x in [0,1,2,3,4]],[rmse_test_arr[x] for x in [0,1,2,3,4]])"
      ],
      "metadata": {
        "colab": {
          "base_uri": "https://localhost:8080/",
          "height": 546
        },
        "id": "Q1Ivz1Pdrnje",
        "outputId": "0b1827df-ca27-4e5d-8b19-d7a16446723e"
      },
      "execution_count": null,
      "outputs": [
        {
          "output_type": "stream",
          "name": "stdout",
          "text": [
            "[ 2  3  4  6  7  9 10 11 12 13 14 15 16 17] [0 1 5 8]\n",
            "[ 0  1  2  4  5  6  7  8  9 10 11 12 14 17] [ 3 13 15 16]\n",
            "[ 0  1  3  4  5  6  7  8 10 12 13 14 15 16] [ 2  9 11 17]\n",
            "[ 0  1  2  3  5  6  8  9 10 11 13 14 15 16 17] [ 4  7 12]\n",
            "[ 0  1  2  3  4  5  7  8  9 11 12 13 15 16 17] [ 6 10 14]\n",
            "[114.867, 250.562, 158.335, 139.58, 108.448]\n",
            "154.35840000000002\n"
          ]
        },
        {
          "output_type": "stream",
          "name": "stderr",
          "text": [
            "<ipython-input-27-703380dd22a2>:65: DeprecationWarning: `np.float` is a deprecated alias for the builtin `float`. To silence this warning, use `float` by itself. Doing this will not modify any behavior and is safe. If you specifically wanted the numpy scalar type, use `np.float64` here.\n",
            "Deprecated in NumPy 1.20; for more details and guidance: https://numpy.org/devdocs/release/1.20.0-notes.html#deprecations\n",
            "  data['RRMSE test'][0]=np.mean(np.array(rrmse_test_arr).astype(np.float))\n",
            "<ipython-input-27-703380dd22a2>:66: DeprecationWarning: `np.float` is a deprecated alias for the builtin `float`. To silence this warning, use `float` by itself. Doing this will not modify any behavior and is safe. If you specifically wanted the numpy scalar type, use `np.float64` here.\n",
            "Deprecated in NumPy 1.20; for more details and guidance: https://numpy.org/devdocs/release/1.20.0-notes.html#deprecations\n",
            "  data['RRMSE train'][0]=np.mean(np.array(rrmse_train_arr).astype(np.float))\n"
          ]
        },
        {
          "output_type": "execute_result",
          "data": {
            "text/plain": [
              "<BarContainer object of 5 artists>"
            ]
          },
          "metadata": {},
          "execution_count": 27
        },
        {
          "output_type": "display_data",
          "data": {
            "text/plain": [
              "<Figure size 1200x1200 with 1 Axes>"
            ],
            "image/png": "[encoded data removed]"
          },
          "metadata": {}
        }
      ]
    },
    {
      "cell_type": "code",
      "source": [
        "tr = [ 0 , 1 , 2 , 3 , 4 , 5 , 7 , 8 , 9 ,11, 12, 13, 15, 16, 17] \n",
        "tt = [ 6 ,10 ,14]\n",
        "x_train, x_test = df_train[selected_features_final].iloc[tr], df_train[selected_features_final].iloc[tt]\n",
        "y_train, y_test = df_train['prod'].iloc[tr], df_train['prod'].iloc[tt]\n",
        "print(tr,tt)\n",
        "scaler = MinMaxScaler()\n",
        "X_train = scaler.fit_transform(x_train)\n",
        "X_test = scaler.transform(x_test)\n",
        "model = LinearRegression().fit(X_train, y_train)\n",
        "\n",
        "x_ = df_test[selected_features_final]\n",
        "y_ = df_test['prod']\n",
        "y_pred_ = model.predict(x_)\n",
        "\n",
        "rmse_test = float(format(np.sqrt(mean_squared_error(y_pred_, y_)), '.3f'))\n",
        "print(\"\\nRMSE test: \", rmse_test)\n",
        "\n",
        "rrmse_test = format(float(rmse_test*100/np.mean(y_)),'.2f')\n",
        "print(\"\\nRRMSE test: \", rrmse_test,\"%\")\n",
        "\n",
        "\n",
        "# plt.figure(figsize=(12,12))\n",
        "# plt.scatter(y_, y_pred_)\n",
        "# # p1 = max(max(y_pred_), max(y_))\n",
        "# # p2 = min(min(y_pred_), min(y_))\n",
        "# # plt.plot( [p1,p2], [p1,p2], linestyle='--', color='k' )\n",
        "# plt.show()\n",
        "\n"
      ],
      "metadata": {
        "colab": {
          "base_uri": "https://localhost:8080/"
        },
        "id": "F227i3axaonQ",
        "outputId": "50b3fbe6-e863-4e54-a571-e89a406a688a"
      },
      "execution_count": null,
      "outputs": [
        {
          "output_type": "stream",
          "name": "stdout",
          "text": [
            "[0, 1, 2, 3, 4, 5, 7, 8, 9, 11, 12, 13, 15, 16, 17] [6, 10, 14]\n",
            "\n",
            "RMSE test:  65456.386\n",
            "\n",
            "RRMSE test:  1537.93 %\n"
          ]
        },
        {
          "output_type": "stream",
          "name": "stderr",
          "text": [
            "/usr/local/lib/python3.10/dist-packages/sklearn/base.py:432: UserWarning: X has feature names, but LinearRegression was fitted without feature names\n",
            "  warnings.warn(\n"
          ]
        }
      ]
    },
    {
      "cell_type": "markdown",
      "metadata": {
        "id": "R80vCw0NI3xI"
      },
      "source": [
        "##SVR"
      ]
    },
    {
      "cell_type": "code",
      "execution_count": null,
      "metadata": {
        "id": "4E-wKr-LIYz2",
        "colab": {
          "base_uri": "https://localhost:8080/",
          "height": 425
        },
        "outputId": "536f1f27-d064-457b-9da1-e192f4351eaa"
      },
      "outputs": [
        {
          "output_type": "stream",
          "name": "stderr",
          "text": [
            "<ipython-input-31-192795a3e4f3>:67: DeprecationWarning: `np.float` is a deprecated alias for the builtin `float`. To silence this warning, use `float` by itself. Doing this will not modify any behavior and is safe. If you specifically wanted the numpy scalar type, use `np.float64` here.\n",
            "Deprecated in NumPy 1.20; for more details and guidance: https://numpy.org/devdocs/release/1.20.0-notes.html#deprecations\n",
            "  data['RRMSE test'][1]=np.mean(np.array(rrmse_test_arr).astype(np.float))\n",
            "<ipython-input-31-192795a3e4f3>:68: DeprecationWarning: `np.float` is a deprecated alias for the builtin `float`. To silence this warning, use `float` by itself. Doing this will not modify any behavior and is safe. If you specifically wanted the numpy scalar type, use `np.float64` here.\n",
            "Deprecated in NumPy 1.20; for more details and guidance: https://numpy.org/devdocs/release/1.20.0-notes.html#deprecations\n",
            "  data['RRMSE train'][1]=np.mean(np.array(rrmse_train_arr).astype(np.float))\n"
          ]
        },
        {
          "output_type": "execute_result",
          "data": {
            "text/plain": [
              "<BarContainer object of 5 artists>"
            ]
          },
          "metadata": {},
          "execution_count": 31
        },
        {
          "output_type": "display_data",
          "data": {
            "text/plain": [
              "<Figure size 1200x1200 with 1 Axes>"
            ],
            "image/png": "[encoded data removed]"
          },
          "metadata": {}
        }
      ],
      "source": [
        "\n",
        "\n",
        "cv = KFold(n_splits=5, shuffle=True, random_state=42)\n",
        "\n",
        "# Iterate through CV splits\n",
        "rmse_test_arr = []\n",
        "rrmse_test_arr =[]\n",
        "r2_test_arr= []\n",
        "mae_test_arr = []\n",
        "\n",
        "rmse_train_arr = []\n",
        "rrmse_train_arr =[]\n",
        "r2_train_arr= []\n",
        "mae_train_arr = []\n",
        "\n",
        "bias_test_arr = []\n",
        "bias_train_arr = []\n",
        "\n",
        "\n",
        "for tr, tt in cv.split(df_train): #tr,tt are indexes\n",
        "    x_train, x_test = df_train[selected_features_final].iloc[tr], df_train[selected_features_final].iloc[tt]\n",
        "    y_train, y_test = df_train['prod'].iloc[tr], df_train['prod'].iloc[tt]\n",
        "    scaler = MinMaxScaler()\n",
        "    X_train = scaler.fit_transform(x_train)\n",
        "    X_test = scaler.transform(x_test)\n",
        "    model = SVR().fit(X_train, y_train)\n",
        "    y_pred= model.predict(X_test)\n",
        "    y_pred_train= model.predict(X_train)\n",
        "\n",
        "    r2_test=r2_score(y_test,y_pred)\n",
        "    r2_train=r2_score(y_train,y_pred_train)\n",
        "    #print(r2_test)\n",
        "    #print(r2_train)\n",
        "    r2_test_arr.append(r2_test)\n",
        "    r2_train_arr.append(r2_train)\n",
        "\n",
        "    rmse_test = float(format(np.sqrt(mean_squared_error(y_test, y_pred)), '.3f'))\n",
        "    #print(\"\\nRMSE test: \", rmse_test)\n",
        "    rmse_test_arr.append(rmse_test)\n",
        "\n",
        "    rrmse_test = format(float(rmse_test*100/np.mean(y_test)),'.2f')\n",
        "    #print(\"\\nRRMSE test: \", rrmse_test,\"%\")\n",
        "    rrmse_test_arr.append(rrmse_test)\n",
        "\n",
        "    rmse_train = float(format(np.sqrt(mean_squared_error(y_train, y_pred_train)), '.3f'))\n",
        "    #print(\"\\nRMSE train: \", rmse_train)\n",
        "    rmse_train_arr.append(rmse_train)\n",
        "\n",
        "    rrmse_train = format(float(rmse_train*100/np.mean(y_train)),'.2f')\n",
        "    #print(\"\\nRRMSE train: \", rrmse_train,\"%\")\n",
        "    rrmse_train_arr.append(rrmse_train)\n",
        "\n",
        "\n",
        "    mae_test = float(format(mean_absolute_error(y_test, y_pred), '.3f'))\n",
        "    #print(\"\\nMAE Test: \", mae_test)\n",
        "    mae_test_arr.append(mae_test)\n",
        "    mae_train = float(format(mean_absolute_error(y_train, y_pred_train), '.3f'))\n",
        "    #print(\"\\nMAE Train: \", mae_train)\n",
        "    mae_train_arr.append(mae_train)\n",
        "\n",
        "                #print(\"\\nBias Test: \\n\", bias_value(y_test,y_pred))\n",
        "    bias_test_arr.append(bias_value(y_test,y_pred))\n",
        "    #print(\"\\nBias Train: \\n\", bias_value(y_train, y_pred_train))\n",
        "    bias_train_arr.append(bias_value(y_train, y_pred_train))\n",
        "\n",
        "data['Method'][1]='SVR'\n",
        "data['RMSE test'][1]=np.mean(rmse_test_arr)\n",
        "data['RMSE train'][1]=np.mean(rmse_train_arr)\n",
        "data['RRMSE test'][1]=np.mean(np.array(rrmse_test_arr).astype(np.float))\n",
        "data['RRMSE train'][1]=np.mean(np.array(rrmse_train_arr).astype(np.float))\n",
        "data['MAE test'][1]=np.mean(mae_test_arr)\n",
        "data['MAE train'][1]=np.mean(mae_train_arr)\n",
        "data['R2_score test'][1]=np.mean(r2_test_arr)\n",
        "data['R2_score train'][1]=np.mean(r2_train_arr)\n",
        "data['Bias test'][1]=np.mean(bias_test_arr)\n",
        "data['Bias train'][1]=np.mean(bias_train_arr)\n",
        "\n",
        "plt.figure(figsize=(12,12))\n",
        "plt.subplot(4, 2, 1)\n",
        "plt.title(\"rmse_test\")\n",
        "plt.bar([x for x in [0,1,2,3,4]],[rmse_test_arr[x] for x in [0,1,2,3,4]])\n",
        "\n",
        "# plt.subplot(4, 2, 2)\n",
        "# plt.title(\"rmse_train\")\n",
        "# plt.bar([x for x in [0,1,2,3,4]],[rmse_train_arr[x] for x in [0,1,2,3,4]])\n",
        "\n",
        "# plt.subplot(4, 2, 3)\n",
        "# plt.title(\"rrmse_test\")\n",
        "# plt.bar([x for x in [0,1,2,3,4]],[rrmse_test_arr[x] for x in [0,1,2,3,4]])\n",
        "\n",
        "# plt.subplot(4, 2, 4)\n",
        "# plt.title(\"rrmse_train\")\n",
        "# plt.bar([x for x in [0,1,2,3,4]],[rrmse_train_arr[x] for x in [0,1,2,3,4]])\n",
        "\n",
        "# plt.subplot(4, 2, 5)\n",
        "# plt.title(\"r2_test\")\n",
        "# plt.bar([x for x in [0,1,2,3,4]],[r2_test_arr[x] for x in [0,1,2,3,4]])\n",
        "\n",
        "# plt.subplot(4, 2, 6)\n",
        "# plt.title(\"r2_train\")\n",
        "# plt.bar([x for x in [0,1,2,3,4]],[r2_train_arr[x] for x in [0,1,2,3,4]])\n",
        "\n",
        "# plt.subplot(4, 2, 7)\n",
        "# plt.title(\"mae_test\")\n",
        "# plt.bar([x for x in [0,1,2,3,4]],[mae_test_arr[x] for x in [0,1,2,3,4]])\n",
        "\n",
        "# plt.subplot(4, 2, 8)\n",
        "# plt.title(\"mae_train\")\n",
        "# plt.bar([x for x in [0,1,2,3,4]],[mae_train_arr[x] for x in [0,1,2,3,4]])\n",
        "# plt.show()\n",
        "\n"
      ]
    },
    {
      "cell_type": "code",
      "source": [
        "tr = [ 0 , 1 , 2 , 3 , 4 , 5 , 7 , 8 , 9 ,11, 12, 13, 15, 16, 17] \n",
        "tt = [ 6 ,10 ,14]\n",
        "x_train, x_test = df_train[selected_features_final].iloc[tr], df_train[selected_features_final].iloc[tt]\n",
        "y_train, y_test = df_train['prod'].iloc[tr], df_train['prod'].iloc[tt]\n",
        "print(tr,tt)\n",
        "scaler = MinMaxScaler()\n",
        "X_train = scaler.fit_transform(x_train)\n",
        "X_test = scaler.transform(x_test)\n",
        "model = SVR().fit(X_train, y_train)\n",
        "\n",
        "x_ = df_test[selected_features_final]\n",
        "y_ = df_test['prod']\n",
        "y_pred_ = model.predict(x_)\n",
        "\n",
        "rmse_test = float(format(np.sqrt(mean_squared_error(y_pred_, y_)), '.3f'))\n",
        "print(\"\\nRMSE test: \", rmse_test)\n",
        "\n",
        "rrmse_test = format(float(rmse_test*100/np.mean(y_)),'.2f')\n",
        "print(\"\\nRRMSE test: \", rrmse_test,\"%\")\n",
        "\n",
        "\n",
        "# plt.figure(figsize=(12,12))\n",
        "# plt.scatter(y_, y_pred_)\n",
        "# # p1 = max(max(y_pred_), max(y_))\n",
        "# # p2 = min(min(y_pred_), min(y_))\n",
        "# # plt.plot( [p1,p2], [p1,p2], linestyle='--', color='k' )\n",
        "# plt.show()\n"
      ],
      "metadata": {
        "colab": {
          "base_uri": "https://localhost:8080/"
        },
        "id": "65AOzzdxbGXu",
        "outputId": "18b5aab8-2d5a-451e-cabc-4510ccdbcfa4"
      },
      "execution_count": null,
      "outputs": [
        {
          "output_type": "stream",
          "name": "stdout",
          "text": [
            "[0, 1, 2, 3, 4, 5, 7, 8, 9, 11, 12, 13, 15, 16, 17] [6, 10, 14]\n",
            "\n",
            "RMSE test:  840.885\n",
            "\n",
            "RRMSE test:  19.76 %\n"
          ]
        },
        {
          "output_type": "stream",
          "name": "stderr",
          "text": [
            "/usr/local/lib/python3.10/dist-packages/sklearn/base.py:432: UserWarning: X has feature names, but SVR was fitted without feature names\n",
            "  warnings.warn(\n"
          ]
        }
      ]
    },
    {
      "cell_type": "markdown",
      "source": [
        "##MLP"
      ],
      "metadata": {
        "id": "lMO0wcDQGt6B"
      }
    },
    {
      "cell_type": "code",
      "execution_count": null,
      "metadata": {
        "id": "E-mvNIKke2P3",
        "colab": {
          "base_uri": "https://localhost:8080/",
          "height": 598
        },
        "outputId": "632d5367-50c2-4483-e2b8-13e7e5858dce"
      },
      "outputs": [
        {
          "output_type": "stream",
          "name": "stderr",
          "text": [
            "/usr/local/lib/python3.10/dist-packages/sklearn/neural_network/_multilayer_perceptron.py:686: ConvergenceWarning: Stochastic Optimizer: Maximum iterations (2000) reached and the optimization hasn't converged yet.\n",
            "  warnings.warn(\n",
            "/usr/local/lib/python3.10/dist-packages/sklearn/neural_network/_multilayer_perceptron.py:686: ConvergenceWarning: Stochastic Optimizer: Maximum iterations (2000) reached and the optimization hasn't converged yet.\n",
            "  warnings.warn(\n",
            "/usr/local/lib/python3.10/dist-packages/sklearn/neural_network/_multilayer_perceptron.py:686: ConvergenceWarning: Stochastic Optimizer: Maximum iterations (2000) reached and the optimization hasn't converged yet.\n",
            "  warnings.warn(\n",
            "/usr/local/lib/python3.10/dist-packages/sklearn/neural_network/_multilayer_perceptron.py:686: ConvergenceWarning: Stochastic Optimizer: Maximum iterations (2000) reached and the optimization hasn't converged yet.\n",
            "  warnings.warn(\n",
            "/usr/local/lib/python3.10/dist-packages/sklearn/neural_network/_multilayer_perceptron.py:686: ConvergenceWarning: Stochastic Optimizer: Maximum iterations (2000) reached and the optimization hasn't converged yet.\n",
            "  warnings.warn(\n",
            "<ipython-input-32-0930d9ed6269>:67: DeprecationWarning: `np.float` is a deprecated alias for the builtin `float`. To silence this warning, use `float` by itself. Doing this will not modify any behavior and is safe. If you specifically wanted the numpy scalar type, use `np.float64` here.\n",
            "Deprecated in NumPy 1.20; for more details and guidance: https://numpy.org/devdocs/release/1.20.0-notes.html#deprecations\n",
            "  data['RRMSE test'][2]=np.mean(np.array(rrmse_test_arr).astype(np.float))\n",
            "<ipython-input-32-0930d9ed6269>:68: DeprecationWarning: `np.float` is a deprecated alias for the builtin `float`. To silence this warning, use `float` by itself. Doing this will not modify any behavior and is safe. If you specifically wanted the numpy scalar type, use `np.float64` here.\n",
            "Deprecated in NumPy 1.20; for more details and guidance: https://numpy.org/devdocs/release/1.20.0-notes.html#deprecations\n",
            "  data['RRMSE train'][2]=np.mean(np.array(rrmse_train_arr).astype(np.float))\n"
          ]
        },
        {
          "output_type": "execute_result",
          "data": {
            "text/plain": [
              "<BarContainer object of 5 artists>"
            ]
          },
          "metadata": {},
          "execution_count": 32
        },
        {
          "output_type": "display_data",
          "data": {
            "text/plain": [
              "<Figure size 1200x1200 with 1 Axes>"
            ],
            "image/png": "[encoded data removed]"
          },
          "metadata": {}
        }
      ],
      "source": [
        "\n",
        "cv = KFold(n_splits=5, shuffle=True, random_state=42)\n",
        "\n",
        "# Iterate through CV splits\n",
        "rmse_test_arr = []\n",
        "rrmse_test_arr =[]\n",
        "r2_test_arr= []\n",
        "mae_test_arr = []\n",
        "\n",
        "rmse_train_arr = []\n",
        "rrmse_train_arr =[]\n",
        "r2_train_arr= []\n",
        "mae_train_arr = []\n",
        "\n",
        "bias_test_arr = []\n",
        "bias_train_arr = []\n",
        "\n",
        "\n",
        "for tr, tt in cv.split(df_train): #tr,tt are indexes\n",
        "    x_train, x_test = df_train[selected_features_final].iloc[tr], df_train[selected_features_final].iloc[tt]\n",
        "    y_train, y_test = df_train['prod'].iloc[tr], df_train['prod'].iloc[tt]\n",
        "    scaler = MinMaxScaler()\n",
        "    X_train = scaler.fit_transform(x_train)\n",
        "    X_test = scaler.transform(x_test)\n",
        "    model = MLPRegressor(hidden_layer_sizes=(64,64,64),activation=\"relu\" ,random_state=1, max_iter=2000).fit(X_train, y_train)\n",
        "    y_pred= model.predict(X_test)\n",
        "    y_pred_train= model.predict(X_train)\n",
        "\n",
        "    r2_test=r2_score(y_test,y_pred)\n",
        "    r2_train=r2_score(y_train,y_pred_train)\n",
        "    #print(r2_test)\n",
        "    #print(r2_train)\n",
        "    r2_test_arr.append(r2_test)\n",
        "    r2_train_arr.append(r2_train)\n",
        "\n",
        "    rmse_test = float(format(np.sqrt(mean_squared_error(y_test, y_pred)), '.3f'))\n",
        "    #print(\"\\nRMSE test: \", rmse_test)\n",
        "    rmse_test_arr.append(rmse_test)\n",
        "\n",
        "    rrmse_test = format(float(rmse_test*100/np.mean(y_test)),'.2f')\n",
        "    #print(\"\\nRRMSE test: \", rrmse_test,\"%\")\n",
        "    rrmse_test_arr.append(rrmse_test)\n",
        "\n",
        "    rmse_train = float(format(np.sqrt(mean_squared_error(y_train, y_pred_train)), '.3f'))\n",
        "    #print(\"\\nRMSE train: \", rmse_train)\n",
        "    rmse_train_arr.append(rmse_train)\n",
        "\n",
        "    rrmse_train = format(float(rmse_train*100/np.mean(y_train)),'.2f')\n",
        "    #print(\"\\nRRMSE train: \", rrmse_train,\"%\")\n",
        "    rrmse_train_arr.append(rrmse_train)\n",
        "\n",
        "\n",
        "    mae_test = float(format(mean_absolute_error(y_test, y_pred), '.3f'))\n",
        "    #print(\"\\nMAE Test: \", mae_test)\n",
        "    mae_test_arr.append(mae_test)\n",
        "    mae_train = float(format(mean_absolute_error(y_train, y_pred_train), '.3f'))\n",
        "    #print(\"\\nMAE Train: \", mae_train)\n",
        "    mae_train_arr.append(mae_train)\n",
        "\n",
        "                #print(\"\\nBias Test: \\n\", bias_value(y_test,y_pred))\n",
        "    bias_test_arr.append(bias_value(y_test,y_pred))\n",
        "    #print(\"\\nBias Train: \\n\", bias_value(y_train, y_pred_train))\n",
        "    bias_train_arr.append(bias_value(y_train, y_pred_train))\n",
        "\n",
        "data['Method'][2]='MLP'\n",
        "data['RMSE test'][2]=np.mean(rmse_test_arr)\n",
        "data['RMSE train'][2]=np.mean(rmse_train_arr)\n",
        "data['RRMSE test'][2]=np.mean(np.array(rrmse_test_arr).astype(np.float))\n",
        "data['RRMSE train'][2]=np.mean(np.array(rrmse_train_arr).astype(np.float))\n",
        "data['MAE test'][2]=np.mean(mae_test_arr)\n",
        "data['MAE train'][2]=np.mean(mae_train_arr)\n",
        "data['R2_score test'][2]=np.mean(r2_test_arr)\n",
        "data['R2_score train'][2]=np.mean(r2_train_arr)\n",
        "data['Bias test'][2]=np.mean(bias_test_arr)\n",
        "data['Bias train'][2]=np.mean(bias_train_arr)\n",
        "\n",
        "plt.figure(figsize=(12,12))\n",
        "plt.subplot(4, 2, 1)\n",
        "plt.title(\"rmse_test\")\n",
        "plt.bar([x for x in [0,1,2,3,4]],[rmse_test_arr[x] for x in [0,1,2,3,4]])\n",
        "\n",
        "# plt.subplot(4, 2, 2)\n",
        "# plt.title(\"rmse_train\")\n",
        "# plt.bar([x for x in [0,1,2,3,4]],[rmse_train_arr[x] for x in [0,1,2,3,4]])\n",
        "\n",
        "# plt.subplot(4, 2, 3)\n",
        "# plt.title(\"rrmse_test\")\n",
        "# plt.bar([x for x in [0,1,2,3,4]],[rrmse_test_arr[x] for x in [0,1,2,3,4]])\n",
        "\n",
        "# plt.subplot(4, 2, 4)\n",
        "# plt.title(\"rrmse_train\")\n",
        "# plt.bar([x for x in [0,1,2,3,4]],[rrmse_train_arr[x] for x in [0,1,2,3,4]])\n",
        "\n",
        "# plt.subplot(4, 2, 5)\n",
        "# plt.title(\"r2_test\")\n",
        "# plt.bar([x for x in [0,1,2,3,4]],[r2_test_arr[x] for x in [0,1,2,3,4]])\n",
        "\n",
        "# plt.subplot(4, 2, 6)\n",
        "# plt.title(\"r2_train\")\n",
        "# plt.bar([x for x in [0,1,2,3,4]],[r2_train_arr[x] for x in [0,1,2,3,4]])\n",
        "\n",
        "# plt.subplot(4, 2, 7)\n",
        "# plt.title(\"mae_test\")\n",
        "# plt.bar([x for x in [0,1,2,3,4]],[mae_test_arr[x] for x in [0,1,2,3,4]])\n",
        "\n",
        "# plt.subplot(4, 2, 8)\n",
        "# plt.title(\"mae_train\")\n",
        "# plt.bar([x for x in [0,1,2,3,4]],[mae_train_arr[x] for x in [0,1,2,3,4]])\n",
        "# plt.show()\n",
        "\n"
      ]
    },
    {
      "cell_type": "code",
      "source": [
        "tr = [ 0 , 1 , 2 , 3 , 4 , 5 , 7 , 8 , 9 ,11, 12, 13, 15, 16, 17] \n",
        "tt = [ 6 ,10 ,14]\n",
        "x_train, x_test = df_train[selected_features_final].iloc[tr], df_train[selected_features_final].iloc[tt]\n",
        "y_train, y_test = df_train['prod'].iloc[tr], df_train['prod'].iloc[tt]\n",
        "print(tr,tt)\n",
        "scaler = MinMaxScaler()\n",
        "X_train = scaler.fit_transform(x_train)\n",
        "X_test = scaler.transform(x_test)\n",
        "model = MLPRegressor(hidden_layer_sizes=(64,64,64),activation=\"relu\" ,random_state=1, max_iter=2000).fit(X_train, y_train)\n",
        "\n",
        "\n",
        "x_ = df_test[selected_features_final]\n",
        "y_ = df_test['prod']\n",
        "y_pred_ = model.predict(x_)\n",
        "\n",
        "rmse_test = float(format(np.sqrt(mean_squared_error(y_pred_, y_)), '.3f'))\n",
        "print(\"\\nRMSE test: \", rmse_test)\n",
        "\n",
        "rrmse_test = format(float(rmse_test*100/np.mean(y_)),'.2f')\n",
        "print(\"\\nRRMSE test: \", rrmse_test,\"%\")\n",
        "\n",
        "\n",
        "# plt.figure(figsize=(12,12))\n",
        "# plt.scatter(y_, y_pred_)\n",
        "# # p1 = max(max(y_pred_), max(y_))\n",
        "# # p2 = min(min(y_pred_), min(y_))\n",
        "# # plt.plot( [p1,p2], [p1,p2], linestyle='--', color='k' )\n",
        "# plt.show()\n"
      ],
      "metadata": {
        "colab": {
          "base_uri": "https://localhost:8080/"
        },
        "id": "di6McCtKbT53",
        "outputId": "16658bad-fe4c-41e0-b5ca-f84fc8486c63"
      },
      "execution_count": null,
      "outputs": [
        {
          "output_type": "stream",
          "name": "stdout",
          "text": [
            "[0, 1, 2, 3, 4, 5, 7, 8, 9, 11, 12, 13, 15, 16, 17] [6, 10, 14]\n",
            "\n",
            "RMSE test:  471550.796\n",
            "\n",
            "RRMSE test:  11079.30 %\n"
          ]
        },
        {
          "output_type": "stream",
          "name": "stderr",
          "text": [
            "/usr/local/lib/python3.10/dist-packages/sklearn/neural_network/_multilayer_perceptron.py:686: ConvergenceWarning: Stochastic Optimizer: Maximum iterations (2000) reached and the optimization hasn't converged yet.\n",
            "  warnings.warn(\n",
            "/usr/local/lib/python3.10/dist-packages/sklearn/base.py:432: UserWarning: X has feature names, but MLPRegressor was fitted without feature names\n",
            "  warnings.warn(\n"
          ]
        }
      ]
    },
    {
      "cell_type": "markdown",
      "metadata": {
        "id": "YC7q8JzuRjUg"
      },
      "source": [
        "##KNN"
      ]
    },
    {
      "cell_type": "code",
      "source": [
        "\n",
        "\n",
        "cv = KFold(n_splits=5, shuffle=True, random_state=42)\n",
        "\n",
        "# Iterate through CV splits\n",
        "rmse_test_arr = []\n",
        "rrmse_test_arr =[]\n",
        "r2_test_arr= []\n",
        "mae_test_arr = []\n",
        "\n",
        "rmse_train_arr = []\n",
        "rrmse_train_arr =[]\n",
        "r2_train_arr= []\n",
        "mae_train_arr = []\n",
        "\n",
        "bias_test_arr = []\n",
        "bias_train_arr = []\n",
        "\n",
        "\n",
        "for tr, tt in cv.split(df_train): #tr,tt are indexes\n",
        "    x_train, x_test = df_train[selected_features_final].iloc[tr], df_train[selected_features_final].iloc[tt]\n",
        "    y_train, y_test = df_train['prod'].iloc[tr], df_train['prod'].iloc[tt]\n",
        "    scaler = MinMaxScaler()\n",
        "    X_train = scaler.fit_transform(x_train)\n",
        "    X_test = scaler.transform(x_test)\n",
        "    print(tr,tt)\n",
        "    K=5\n",
        "    model = neighbors.KNeighborsRegressor(n_neighbors = K).fit(X_train, y_train)\n",
        "    y_pred= model.predict(X_test)\n",
        "    y_pred_train= model.predict(X_train)\n",
        "\n",
        "    r2_test=r2_score(y_test,y_pred)\n",
        "    r2_train=r2_score(y_train,y_pred_train)\n",
        "    #print(r2_test)\n",
        "    #print(r2_train)\n",
        "    r2_test_arr.append(r2_test)\n",
        "    r2_train_arr.append(r2_train)\n",
        "\n",
        "    rmse_test = float(format(np.sqrt(mean_squared_error(y_test, y_pred)), '.3f'))\n",
        "    #print(\"\\nRMSE test: \", rmse_test)\n",
        "    rmse_test_arr.append(rmse_test)\n",
        "\n",
        "    rrmse_test = format(float(rmse_test*100/np.mean(y_test)),'.2f')\n",
        "    #print(\"\\nRRMSE test: \", rrmse_test,\"%\")\n",
        "    rrmse_test_arr.append(rrmse_test)\n",
        "\n",
        "    rmse_train = float(format(np.sqrt(mean_squared_error(y_train, y_pred_train)), '.3f'))\n",
        "    #print(\"\\nRMSE train: \", rmse_train)\n",
        "    rmse_train_arr.append(rmse_train)\n",
        "\n",
        "    rrmse_train = format(float(rmse_train*100/np.mean(y_train)),'.2f')\n",
        "    #print(\"\\nRRMSE train: \", rrmse_train,\"%\")\n",
        "    rrmse_train_arr.append(rrmse_train)\n",
        "\n",
        "\n",
        "    mae_test = float(format(mean_absolute_error(y_test, y_pred), '.3f'))\n",
        "    #print(\"\\nMAE Test: \", mae_test)\n",
        "    mae_test_arr.append(mae_test)\n",
        "    mae_train = float(format(mean_absolute_error(y_train, y_pred_train), '.3f'))\n",
        "    #print(\"\\nMAE Train: \", mae_train)\n",
        "    mae_train_arr.append(mae_train)\n",
        "\n",
        "                #print(\"\\nBias Test: \\n\", bias_value(y_test,y_pred))\n",
        "    bias_test_arr.append(bias_value(y_test,y_pred))\n",
        "    #print(\"\\nBias Train: \\n\", bias_value(y_train, y_pred_train))\n",
        "    bias_train_arr.append(bias_value(y_train, y_pred_train))\n",
        "\n",
        "data['Method'][3]='KNN'\n",
        "data['RMSE test'][3]=np.mean(rmse_test_arr)\n",
        "data['RMSE train'][3]=np.mean(rmse_train_arr)\n",
        "data['RRMSE test'][3]=np.mean(np.array(rrmse_test_arr).astype(np.float))\n",
        "data['RRMSE train'][3]=np.mean(np.array(rrmse_train_arr).astype(np.float))\n",
        "data['MAE test'][3]=np.mean(mae_test_arr)\n",
        "data['MAE train'][3]=np.mean(mae_train_arr)\n",
        "data['R2_score test'][3]=np.mean(r2_test_arr)\n",
        "data['R2_score train'][3]=np.mean(r2_train_arr)\n",
        "data['Bias test'][3]=np.mean(bias_test_arr)\n",
        "data['Bias train'][3]=np.mean(bias_train_arr)\n",
        "\n",
        "plt.figure(figsize=(12,12))\n",
        "plt.subplot(4, 2, 1)\n",
        "plt.title(\"rmse_test\")\n",
        "plt.bar([x for x in [0,1,2,3,4]],[rmse_test_arr[x] for x in [0,1,2,3,4]])\n",
        "\n",
        "# plt.subplot(4, 2, 2)\n",
        "# plt.title(\"rmse_train\")\n",
        "# plt.bar([x for x in [0,1,2,3,4]],[rmse_train_arr[x] for x in [0,1,2,3,4]])\n",
        "\n",
        "# plt.subplot(4, 2, 3)\n",
        "# plt.title(\"rrmse_test\")\n",
        "# plt.bar([x for x in [0,1,2,3,4]],[rrmse_test_arr[x] for x in [0,1,2,3,4]])\n",
        "\n",
        "# plt.subplot(4, 2, 4)\n",
        "# plt.title(\"rrmse_train\")\n",
        "# plt.bar([x for x in [0,1,2,3,4]],[rrmse_train_arr[x] for x in [0,1,2,3,4]])\n",
        "\n",
        "# plt.subplot(4, 2, 5)\n",
        "# plt.title(\"r2_test\")\n",
        "# plt.bar([x for x in [0,1,2,3,4]],[r2_test_arr[x] for x in [0,1,2,3,4]])\n",
        "\n",
        "# plt.subplot(4, 2, 6)\n",
        "# plt.title(\"r2_train\")\n",
        "# plt.bar([x for x in [0,1,2,3,4]],[r2_train_arr[x] for x in [0,1,2,3,4]])\n",
        "\n",
        "# plt.subplot(4, 2, 7)\n",
        "# plt.title(\"mae_test\")\n",
        "# plt.bar([x for x in [0,1,2,3,4]],[mae_test_arr[x] for x in [0,1,2,3,4]])\n",
        "\n",
        "# plt.subplot(4, 2, 8)\n",
        "# plt.title(\"mae_train\")\n",
        "# plt.bar([x for x in [0,1,2,3,4]],[mae_train_arr[x] for x in [0,1,2,3,4]])\n",
        "# plt.show()\n",
        "\n"
      ],
      "metadata": {
        "id": "MSvXfaFlkVSn",
        "colab": {
          "base_uri": "https://localhost:8080/",
          "height": 511
        },
        "outputId": "0cda97d3-5c16-4496-d914-7db7b83a81f5"
      },
      "execution_count": null,
      "outputs": [
        {
          "output_type": "stream",
          "name": "stdout",
          "text": [
            "[ 2  3  4  6  7  9 10 11 12 13 14 15 16 17] [0 1 5 8]\n",
            "[ 0  1  2  4  5  6  7  8  9 10 11 12 14 17] [ 3 13 15 16]\n",
            "[ 0  1  3  4  5  6  7  8 10 12 13 14 15 16] [ 2  9 11 17]\n",
            "[ 0  1  2  3  5  6  8  9 10 11 13 14 15 16 17] [ 4  7 12]\n",
            "[ 0  1  2  3  4  5  7  8  9 11 12 13 15 16 17] [ 6 10 14]\n"
          ]
        },
        {
          "output_type": "stream",
          "name": "stderr",
          "text": [
            "<ipython-input-43-2cd0d5ff9748>:69: DeprecationWarning: `np.float` is a deprecated alias for the builtin `float`. To silence this warning, use `float` by itself. Doing this will not modify any behavior and is safe. If you specifically wanted the numpy scalar type, use `np.float64` here.\n",
            "Deprecated in NumPy 1.20; for more details and guidance: https://numpy.org/devdocs/release/1.20.0-notes.html#deprecations\n",
            "  data['RRMSE test'][3]=np.mean(np.array(rrmse_test_arr).astype(np.float))\n",
            "<ipython-input-43-2cd0d5ff9748>:70: DeprecationWarning: `np.float` is a deprecated alias for the builtin `float`. To silence this warning, use `float` by itself. Doing this will not modify any behavior and is safe. If you specifically wanted the numpy scalar type, use `np.float64` here.\n",
            "Deprecated in NumPy 1.20; for more details and guidance: https://numpy.org/devdocs/release/1.20.0-notes.html#deprecations\n",
            "  data['RRMSE train'][3]=np.mean(np.array(rrmse_train_arr).astype(np.float))\n"
          ]
        },
        {
          "output_type": "execute_result",
          "data": {
            "text/plain": [
              "<BarContainer object of 5 artists>"
            ]
          },
          "metadata": {},
          "execution_count": 43
        },
        {
          "output_type": "display_data",
          "data": {
            "text/plain": [
              "<Figure size 1200x1200 with 1 Axes>"
            ],
            "image/png": "[encoded data removed]"
          },
          "metadata": {}
        }
      ]
    },
    {
      "cell_type": "code",
      "source": [
        "tr = [ 2 , 3 , 4 , 6 , 7 , 9 ,10, 11, 12, 13, 14, 15, 16, 17] \n",
        "tt = [0, 1 ,5 ,8]\n",
        "x_train, x_test = df_train[selected_features_final].iloc[tr], df_train[selected_features_final].iloc[tt]\n",
        "y_train, y_test = df_train['prod'].iloc[tr], df_train['prod'].iloc[tt]\n",
        "print(tr,tt)\n",
        "scaler = MinMaxScaler()\n",
        "X_train = scaler.fit_transform(x_train)\n",
        "X_test = scaler.transform(x_test)\n",
        "K=5\n",
        "model = neighbors.KNeighborsRegressor(n_neighbors = K).fit(X_train, y_train)\n",
        "\n",
        "x_ = df_test[selected_features_final]\n",
        "y_ = df_test['prod']\n",
        "y_pred_ = model.predict(x_)\n",
        "\n",
        "rmse_test = float(format(np.sqrt(mean_squared_error(y_pred_, y_)), '.3f'))\n",
        "print(\"\\nRMSE test: \", rmse_test)\n",
        "\n",
        "rrmse_test = format(float(rmse_test*100/np.mean(y_)),'.2f')\n",
        "print(\"\\nRRMSE test: \", rrmse_test,\"%\")\n",
        "\n",
        "\n",
        "# plt.figure(figsize=(12,12))\n",
        "# plt.scatter(y_, y_pred_)\n",
        "# # p1 = max(max(y_pred_), max(y_))\n",
        "# # p2 = min(min(y_pred_), min(y_))\n",
        "# # plt.plot( [p1,p2], [p1,p2], linestyle='--', color='k' )\n",
        "# plt.show()"
      ],
      "metadata": {
        "colab": {
          "base_uri": "https://localhost:8080/"
        },
        "id": "sdVX-vcNbtLf",
        "outputId": "c251ce40-7f0b-4896-992e-46fc3e9b9023"
      },
      "execution_count": null,
      "outputs": [
        {
          "output_type": "stream",
          "name": "stdout",
          "text": [
            "[2, 3, 4, 6, 7, 9, 10, 11, 12, 13, 14, 15, 16, 17] [0, 1, 5, 8]\n",
            "\n",
            "RMSE test:  791.119\n",
            "\n",
            "RRMSE test:  18.59 %\n"
          ]
        },
        {
          "output_type": "stream",
          "name": "stderr",
          "text": [
            "/usr/local/lib/python3.10/dist-packages/sklearn/base.py:432: UserWarning: X has feature names, but KNeighborsRegressor was fitted without feature names\n",
            "  warnings.warn(\n"
          ]
        }
      ]
    },
    {
      "cell_type": "markdown",
      "metadata": {
        "id": "B-HNDjjm4BRX"
      },
      "source": [
        "##Random Forest"
      ]
    },
    {
      "cell_type": "code",
      "source": [
        "cv = KFold(n_splits=5, shuffle=True, random_state=42)\n",
        "\n",
        "# Iterate through CV splits\n",
        "rmse_test_arr = []\n",
        "rrmse_test_arr =[]\n",
        "r2_test_arr= []\n",
        "mae_test_arr = []\n",
        "\n",
        "rmse_train_arr = []\n",
        "rrmse_train_arr =[]\n",
        "r2_train_arr= []\n",
        "mae_train_arr = []\n",
        "\n",
        "bias_test_arr = []\n",
        "bias_train_arr = []\n",
        "\n",
        "for tr, tt in cv.split(df_train): #tr,tt are indexes\n",
        "    x_train, x_test = df_train[selected_features_final].iloc[tr], df_train[selected_features_final].iloc[tt]\n",
        "    y_train, y_test = df_train['prod'].iloc[tr], df_train['prod'].iloc[tt]\n",
        "    print(tr,tt)\n",
        "    scaler = MinMaxScaler()\n",
        "    X_train = scaler.fit_transform(pd.DataFrame(x_train))\n",
        "    X_test = scaler.transform(pd.DataFrame(x_test))\n",
        "    model =  RandomForestRegressor(n_estimators = 1000, random_state = 42).fit(X_train, y_train)\n",
        "    y_pred= model.predict(X_test)\n",
        "    y_pred_train= model.predict(X_train)\n",
        "\n",
        "    r2_test=r2_score(y_test,y_pred)\n",
        "    r2_train=r2_score(y_train,y_pred_train)\n",
        "    #print(r2_test)\n",
        "    #print(r2_train)\n",
        "    r2_test_arr.append(r2_test)\n",
        "    r2_train_arr.append(r2_train)\n",
        "\n",
        "    rmse_test = float(format(np.sqrt(mean_squared_error(y_test, y_pred)), '.3f'))\n",
        "    #print(\"\\nRMSE test: \", rmse_test)\n",
        "    rmse_test_arr.append(rmse_test)\n",
        "\n",
        "    rrmse_test = format(float(rmse_test*100/np.mean(y_test)),'.2f')\n",
        "    #print(\"\\nRRMSE test: \", rrmse_test,\"%\")\n",
        "    rrmse_test_arr.append(rrmse_test)\n",
        "\n",
        "    rmse_train = float(format(np.sqrt(mean_squared_error(y_train, y_pred_train)), '.3f'))\n",
        "    #print(\"\\nRMSE train: \", rmse_train)\n",
        "    rmse_train_arr.append(rmse_train)\n",
        "\n",
        "    rrmse_train = format(float(rmse_train*100/np.mean(y_train)),'.2f')\n",
        "    #print(\"\\nRRMSE train: \", rrmse_train,\"%\")\n",
        "    rrmse_train_arr.append(rrmse_train)\n",
        "\n",
        "\n",
        "    mae_test = float(format(mean_absolute_error(y_test, y_pred), '.3f'))\n",
        "    #print(\"\\nMAE Test: \", mae_test)\n",
        "    mae_test_arr.append(mae_test)\n",
        "    mae_train = float(format(mean_absolute_error(y_train, y_pred_train), '.3f'))\n",
        "    #print(\"\\nMAE Train: \", mae_train)\n",
        "    mae_train_arr.append(mae_train)\n",
        "\n",
        "    #print(\"\\nBias Test: \\n\", bias_value(y_test,y_pred))\n",
        "    bias_test_arr.append(bias_value(y_test,y_pred))\n",
        "    #print(\"\\nBias Train: \\n\", bias_value(y_train, y_pred_train))\n",
        "    bias_train_arr.append(bias_value(y_train, y_pred_train))\n",
        "\n",
        "data['Method'][4]='Random Forest'\n",
        "data['RMSE test'][4]=np.mean(rmse_test_arr)\n",
        "data['RMSE train'][4]=np.mean(rmse_train_arr)\n",
        "data['RRMSE test'][4]=np.mean(np.array(rrmse_test_arr).astype(np.float))\n",
        "data['RRMSE train'][4]=np.mean(np.array(rrmse_train_arr).astype(np.float))\n",
        "data['MAE test'][4]=np.mean(mae_test_arr)\n",
        "data['MAE train'][4]=np.mean(mae_train_arr)\n",
        "data['R2_score test'][4]=np.mean(r2_test_arr)\n",
        "data['R2_score train'][4]=np.mean(r2_train_arr)\n",
        "data['Bias test'][4]=np.mean(bias_test_arr)\n",
        "data['Bias train'][4]=np.mean(bias_train_arr)\n",
        "\n",
        "print(np.array(rmse_test_arr).astype(np.float))\n",
        "print(sum(np.array(rmse_test_arr))/5)\n",
        "x_train, x_test = df_train[selected_features_final], df_test[selected_features_final]\n",
        "y_train, y_test = df_train['prod'], df_test['prod']\n",
        "\n",
        "X_train = scaler.fit_transform(pd.DataFrame(x_train))\n",
        "X_test = scaler.transform(pd.DataFrame(x_test))\n",
        "#model =  RandomForestRegressor(n_estimators = 1000, random_state = 42).fit(X_train, y_train)\n",
        "y_pred= model.predict(X_test)\n",
        "rmse_test = float(format(np.sqrt(mean_squared_error(y_test, y_pred)), '.3f'))\n",
        "print(rmse_test)"
      ],
      "metadata": {
        "id": "Nbv4aL77Hj7T",
        "colab": {
          "base_uri": "https://localhost:8080/"
        },
        "outputId": "72726a18-8fff-43dd-b2c3-64e4ec1bb157"
      },
      "execution_count": null,
      "outputs": [
        {
          "output_type": "stream",
          "name": "stdout",
          "text": [
            "[ 2  3  4  6  7  9 10 11 12 13 14 15 16 17] [0 1 5 8]\n",
            "[ 0  1  2  4  5  6  7  8  9 10 11 12 14 17] [ 3 13 15 16]\n",
            "[ 0  1  3  4  5  6  7  8 10 12 13 14 15 16] [ 2  9 11 17]\n",
            "[ 0  1  2  3  5  6  8  9 10 11 13 14 15 16 17] [ 4  7 12]\n",
            "[ 0  1  2  3  4  5  7  8  9 11 12 13 15 16 17] [ 6 10 14]\n",
            "[140.684 238.664 151.888 176.219 135.084]\n",
            "168.5078\n",
            "907.135\n"
          ]
        },
        {
          "output_type": "stream",
          "name": "stderr",
          "text": [
            "<ipython-input-34-ec6b422faa6f>:67: DeprecationWarning: `np.float` is a deprecated alias for the builtin `float`. To silence this warning, use `float` by itself. Doing this will not modify any behavior and is safe. If you specifically wanted the numpy scalar type, use `np.float64` here.\n",
            "Deprecated in NumPy 1.20; for more details and guidance: https://numpy.org/devdocs/release/1.20.0-notes.html#deprecations\n",
            "  data['RRMSE test'][4]=np.mean(np.array(rrmse_test_arr).astype(np.float))\n",
            "<ipython-input-34-ec6b422faa6f>:68: DeprecationWarning: `np.float` is a deprecated alias for the builtin `float`. To silence this warning, use `float` by itself. Doing this will not modify any behavior and is safe. If you specifically wanted the numpy scalar type, use `np.float64` here.\n",
            "Deprecated in NumPy 1.20; for more details and guidance: https://numpy.org/devdocs/release/1.20.0-notes.html#deprecations\n",
            "  data['RRMSE train'][4]=np.mean(np.array(rrmse_train_arr).astype(np.float))\n",
            "<ipython-input-34-ec6b422faa6f>:76: DeprecationWarning: `np.float` is a deprecated alias for the builtin `float`. To silence this warning, use `float` by itself. Doing this will not modify any behavior and is safe. If you specifically wanted the numpy scalar type, use `np.float64` here.\n",
            "Deprecated in NumPy 1.20; for more details and guidance: https://numpy.org/devdocs/release/1.20.0-notes.html#deprecations\n",
            "  print(np.array(rmse_test_arr).astype(np.float))\n"
          ]
        }
      ]
    },
    {
      "cell_type": "code",
      "source": [
        "tr = [ 0 , 1 , 2 , 3 , 4 , 5 , 7 , 8 , 9 ,11, 12, 13, 15, 16, 17] \n",
        "tt = [ 6 ,10 ,14]\n",
        "x_train, x_test = df_train[selected_features_final].iloc[tr], df_train[selected_features_final].iloc[tt]\n",
        "y_train, y_test = df_train['prod'].iloc[tr], df_train['prod'].iloc[tt]\n",
        "print(tr,tt)\n",
        "scaler = MinMaxScaler()\n",
        "X_train = scaler.fit_transform(x_train)\n",
        "X_test = scaler.transform(x_test)\n",
        "K=5\n",
        "model =  RandomForestRegressor(n_estimators = 1000, random_state = 42).fit(X_train, y_train)\n",
        "\n",
        "x_ = df_test[selected_features_final]\n",
        "y_ = df_test['prod']\n",
        "y_pred_ = model.predict(x_)\n",
        "\n",
        "rmse_test = float(format(np.sqrt(mean_squared_error(y_pred_, y_)), '.3f'))\n",
        "print(\"\\nRMSE test: \", rmse_test)\n",
        "\n",
        "rrmse_test = format(float(rmse_test*100/np.mean(y_)),'.2f')\n",
        "print(\"\\nRRMSE test: \", rrmse_test,\"%\")\n",
        "\n",
        "\n",
        "# plt.figure(figsize=(12,12))\n",
        "# plt.scatter(y_, y_pred_)\n",
        "# # p1 = max(max(y_pred_), max(y_))\n",
        "# # p2 = min(min(y_pred_), min(y_))\n",
        "# # plt.plot( [p1,p2], [p1,p2], linestyle='--', color='k' )\n",
        "# plt.show()"
      ],
      "metadata": {
        "colab": {
          "base_uri": "https://localhost:8080/"
        },
        "id": "8A0PpQCycuE5",
        "outputId": "7c8ad2fc-b191-4ead-d0c1-319ceb5f2a11"
      },
      "execution_count": null,
      "outputs": [
        {
          "output_type": "stream",
          "name": "stdout",
          "text": [
            "[0, 1, 2, 3, 4, 5, 7, 8, 9, 11, 12, 13, 15, 16, 17] [6, 10, 14]\n",
            "\n",
            "RMSE test:  823.566\n",
            "\n",
            "RRMSE test:  19.35 %\n"
          ]
        },
        {
          "output_type": "stream",
          "name": "stderr",
          "text": [
            "/usr/local/lib/python3.10/dist-packages/sklearn/base.py:432: UserWarning: X has feature names, but RandomForestRegressor was fitted without feature names\n",
            "  warnings.warn(\n"
          ]
        }
      ]
    },
    {
      "cell_type": "markdown",
      "metadata": {
        "id": "4D91CwhK_Wwz"
      },
      "source": [
        "# Results"
      ]
    },
    {
      "cell_type": "code",
      "execution_count": null,
      "metadata": {
        "id": "1i0QozER-dN5",
        "colab": {
          "base_uri": "https://localhost:8080/"
        },
        "outputId": "e42d14a5-7a4a-4b16-b31e-6c42d72e7f39"
      },
      "outputs": [
        {
          "output_type": "stream",
          "name": "stdout",
          "text": [
            "dataset:  Kurunegala maha kannaya\n",
            "test size :  7 , 28.0 %\n",
            "              Method  RMSE test  RMSE train  RRMSE test  RRMSE train  \\\n",
            "0  Linear Regression   154.3584    144.9892       4.374        4.118   \n",
            "1                SVR   195.1580    182.1444       5.590        5.176   \n",
            "2                MLP   160.5540    145.9364       4.554        4.144   \n",
            "3                KNN   203.1926    164.3094       5.788        4.666   \n",
            "4      Random Forest   168.5078     63.8724       4.786        1.812   \n",
            "\n",
            "   MAE test  MAE train  R2_score test  R2_score train  Bias test    Bias train  \n",
            "0  115.3900   100.1768      -0.760704        0.352474 -11.989516 -5.197113e-15  \n",
            "1  166.8362   139.0706      -1.444008       -0.019345 -31.223061 -2.271741e+01  \n",
            "2  121.3456    99.7646      -0.860099        0.343211  -9.379585  4.117029e-01  \n",
            "3  167.6566   124.8756      -2.019758        0.164921 -53.903333 -3.429886e+01  \n",
            "4  137.4432    50.8260      -1.149155        0.872719 -43.692050 -7.673689e+00  \n"
          ]
        }
      ],
      "source": [
        "mydf = pd.DataFrame(data, columns = ['Method', 'RMSE test','RMSE train','RRMSE test','RRMSE train','MAE test','MAE train','R2_score test','R2_score train','Bias test','Bias train'])\n",
        "print(\"dataset: \", dataset)\n",
        "print(\"test size : \",test_size,\",\", test_size*100/len(df.index),\"%\")\n",
        "print(mydf)"
      ]
    },
    {
      "cell_type": "code",
      "execution_count": null,
      "metadata": {
        "id": "tzyYz9Qh-ef0"
      },
      "outputs": [],
      "source": [
        "mydf.to_excel (r'export_dataframe.xlsx', index = False, header=True)"
      ]
    }
  ]
}