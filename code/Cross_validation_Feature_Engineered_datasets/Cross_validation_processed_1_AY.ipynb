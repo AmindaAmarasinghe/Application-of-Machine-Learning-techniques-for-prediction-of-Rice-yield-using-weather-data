{
  "nbformat": 4,
  "nbformat_minor": 0,
  "metadata": {
    "colab": {
      "provenance": []
    },
    "kernelspec": {
      "name": "python3",
      "display_name": "Python 3"
    },
    "language_info": {
      "name": "python"
    }
  },
  "cells": [
    {
      "cell_type": "code",
      "execution_count": null,
      "metadata": {
        "colab": {
          "base_uri": "https://localhost:8080/"
        },
        "id": "CVRWlce-Eu-_",
        "outputId": "79ad7427-94a7-43be-a096-c1f96d8c0e5a"
      },
      "outputs": [
        {
          "output_type": "stream",
          "name": "stdout",
          "text": [
            "Mounted at /content/drive\n"
          ]
        }
      ],
      "source": [
        "from google.colab import drive\n",
        "drive.mount('/content/drive')"
      ]
    },
    {
      "cell_type": "code",
      "execution_count": null,
      "metadata": {
        "id": "AMcXr6qpE7Ep"
      },
      "outputs": [],
      "source": [
        "import numpy as np\n",
        "import pandas as pd\n",
        "from array import *\n",
        "import math"
      ]
    },
    {
      "cell_type": "markdown",
      "metadata": {
        "id": "_7eC-Wi-U-4R"
      },
      "source": [
        "##All datasets"
      ]
    },
    {
      "cell_type": "code",
      "execution_count": null,
      "metadata": {
        "id": "JHpptGXZFPRA"
      },
      "outputs": [],
      "source": [
        "df1 = pd.read_csv('/content/drive/MyDrive/ML_research/Am.csv')\n",
        "dataset1=\"Anuradhapura maha kannaya\""
      ]
    },
    {
      "cell_type": "code",
      "execution_count": null,
      "metadata": {
        "id": "xboE-hgKVWER"
      },
      "outputs": [],
      "source": [
        "df2 = pd.read_csv('/content/drive/MyDrive/ML_research/Ay.csv')\n",
        "dataset2=\"Anuradhapura yala kannaya\""
      ]
    },
    {
      "cell_type": "code",
      "execution_count": null,
      "metadata": {
        "id": "HEj561w1VYn-"
      },
      "outputs": [],
      "source": [
        "df3 = pd.read_csv('/content/drive/MyDrive/ML_research/Km.csv')\n",
        "dataset3=\"Kurunegala maha kannaya\""
      ]
    },
    {
      "cell_type": "code",
      "execution_count": null,
      "metadata": {
        "id": "s-VIkr7XVa0z"
      },
      "outputs": [],
      "source": [
        "df4 = pd.read_csv('/content/drive/MyDrive/ML_research/Ky.csv')\n",
        "dataset4=\"Kurunegala yala kannaya\""
      ]
    },
    {
      "cell_type": "code",
      "source": [
        "df5 = pd.read_csv('/content/drive/MyDrive/ML_research/total.csv')"
      ],
      "metadata": {
        "id": "FL3XfO2E2k_B"
      },
      "execution_count": null,
      "outputs": []
    },
    {
      "cell_type": "code",
      "execution_count": null,
      "metadata": {
        "id": "tKnzCD9d2aLH",
        "colab": {
          "base_uri": "https://localhost:8080/"
        },
        "outputId": "f8e6de1d-3b45-4f96-da20-827f42b211e0"
      },
      "outputs": [
        {
          "output_type": "stream",
          "name": "stdout",
          "text": [
            "    year        X1         X2         X3         X4  X5   X6  X7  X8   X9  \\\n",
            "0   1982  186.3000  31.737288  34.025397  29.000000  59   63   1  26   97   \n",
            "1   1983  267.9000  32.135714  34.465702   0.000000  14  109   0  34   89   \n",
            "2   1984   85.1000  31.721875  34.226966  28.500000  32   89   2  33   90   \n",
            "3   1985  185.2000  31.658824  34.444231  28.366667  68   52   3  27   96   \n",
            "4   1986  198.1000  32.046774  33.781967   0.000000  62   61   0  23  100   \n",
            "5   1987  187.9000  32.245833  34.282828   0.000000  24   99   0  24   99   \n",
            "6   1988  201.8000  31.669949  33.782143  27.725000  91   28   4  20  103   \n",
            "7   1989  250.7200  31.659906  33.917618  28.050000  88   31   4  28   95   \n",
            "8   1990  332.3000  31.880853  33.641379  28.900000  92   29   2  22  101   \n",
            "9   1991  201.9000  31.644737  34.158696  28.500000  76   46   1  19  104   \n",
            "10  1992  150.6000  31.569474  33.620000  27.766667  95   25   3  27   96   \n",
            "11  1993  133.7000  31.801299  34.077778   0.000000  77   45   0  24   99   \n",
            "12  1994   42.6680  32.118818  33.936737   0.000000  70   52   0  15  108   \n",
            "13  1995  171.0000  31.826744  33.629730   0.000000  86   37   0  11  112   \n",
            "14  1996  251.9000  31.764815  34.170769  28.025000  54   65   4  29   94   \n",
            "15  1997  227.3000  32.017391  33.776623   0.000000  46   77   0  23  100   \n",
            "16  1998  277.5000  31.442593  34.010606  28.666667  54   66   3  29   94   \n",
            "17  1999   67.0000  31.801064  33.416000  28.600000  94   25   4  37   86   \n",
            "18  2000  175.6000  31.504918  34.060000  28.150000  61   60   2  27   96   \n",
            "19  2001  156.4000  31.633333  33.719608   0.000000  72   51   0  17  106   \n",
            "20  2002   61.1000  32.070000  33.823611  29.000000  50   72   1  20  103   \n",
            "21  2003  160.1000  31.981481  33.714925  28.200000  54   67   2  17  106   \n",
            "22  2004  141.3000  31.850000  34.171698  28.200000  68   53   2  21  102   \n",
            "23  2005  148.0000  31.882609  33.972727   0.000000  46   77   0  16  107   \n",
            "24  2006  153.7000  31.934426  33.739344  28.600000  61   61   1  27   96   \n",
            "25  2007   49.5000  31.789286  33.953030  28.500000  56   66   1  16  107   \n",
            "26  2008   46.6000  32.030137  33.608163  28.400000  73   49   1  26   97   \n",
            "27  2009  134.4000  31.976087  34.031579  28.400000  46   76   1  13  110   \n",
            "28  2010  220.8000  31.711111  34.038983  29.000000  63   59   1  33   90   \n",
            "29  2011   57.8000  32.339623  33.598571   0.000000  53   70   0  14  109   \n",
            "30  2012   38.6000  32.429412  33.985393   0.000000  34   89   0  12  111   \n",
            "31  2013  179.5000  31.848235  33.816216  27.300000  85   37   1  23  100   \n",
            "32  2014   27.8000  32.176471  33.597297  28.457143  44   52  27  13  110   \n",
            "33  2015  136.4000  32.439286  33.779677  28.320000  72   45   6  17  106   \n",
            "34  2016   92.4296  31.819231  34.017647  28.300000  70   45   8   8  115   \n",
            "35  2017  134.7000  31.525000  34.110811  28.533333  60   51  12   8  115   \n",
            "36  2018   50.8000  31.683051  34.021429  28.200000  78   38   7  18  105   \n",
            "37  2019  154.8500  31.984444  35.030260  28.040000  45   77   1   9  114   \n",
            "\n",
            "          X10        X11         prod  \n",
            "0   24.842268  23.369231  3788.000000  \n",
            "1   25.273034  22.800000  3788.000000  \n",
            "2   24.666667  23.393939  3122.000000  \n",
            "3   24.725000  23.596296  3756.000000  \n",
            "4   25.696000  23.352174  3555.000000  \n",
            "5   24.996970  23.379167  2912.000000  \n",
            "6   25.136893  23.255000  3459.000000  \n",
            "7   24.810468  23.103571  2594.000000  \n",
            "8   24.800000  23.277273  3332.000000  \n",
            "9   24.895192  23.510526  3384.000000  \n",
            "10  24.861458  23.496296  3126.000000  \n",
            "11  24.849495  23.491667  3123.000000  \n",
            "12  25.055487  23.686667  3203.000000  \n",
            "13  24.972321  23.654545  3258.000000  \n",
            "14  25.030851  23.482759  3828.000000  \n",
            "15  25.177000  23.273913  3455.000000  \n",
            "16  25.455319  23.448276  3870.000000  \n",
            "17  24.676744  23.624324  4126.000000  \n",
            "18  25.101042  23.181481  4248.000000  \n",
            "19  25.084906  23.388235  4409.000000  \n",
            "20  25.026214  23.550000  4190.000000  \n",
            "21  25.241509  22.964706  3891.000000  \n",
            "22  24.925490  23.252381  4117.000000  \n",
            "23  25.083178  23.337500  4228.000000  \n",
            "24  24.983333  23.403704  4560.000000  \n",
            "25  25.041121  23.518750  4804.000000  \n",
            "26  24.856701  23.334615  4396.000000  \n",
            "27  25.087273  23.192308  4426.000000  \n",
            "28  24.914444  23.345455  4887.000000  \n",
            "29  24.956881  23.635714  4775.249002  \n",
            "30  25.083784  23.466667  4048.745701  \n",
            "31  24.963000  23.408696  4284.494470  \n",
            "32  25.307229  23.288889  4461.000000  \n",
            "33  25.001235  23.363636  4612.000000  \n",
            "34  25.159341  23.800000  4295.000000  \n",
            "35  25.113953  23.025000  3909.000000  \n",
            "36  25.030263  23.469231  5262.000000  \n",
            "37  25.483947  23.505556  5119.000000  \n"
          ]
        }
      ],
      "source": [
        "df = df2\n",
        "df\n",
        "\n",
        "dataset=dataset2\n",
        "print(df)"
      ]
    },
    {
      "cell_type": "markdown",
      "metadata": {
        "id": "2z3Q9IRiaBy0"
      },
      "source": [
        "##pre processing"
      ]
    },
    {
      "cell_type": "code",
      "execution_count": null,
      "metadata": {
        "id": "fYnSW3lAaJID",
        "colab": {
          "base_uri": "https://localhost:8080/"
        },
        "outputId": "6556a22d-56f7-4eb7-861a-02f4367f4f49"
      },
      "outputs": [
        {
          "output_type": "stream",
          "name": "stdout",
          "text": [
            "    year        X1         X2         X3         X4  X5  X6  X7  X8   X9  \\\n",
            "0   1982  186.3000  31.737288  34.025397  29.000000  59  63   1  26   97   \n",
            "2   1984   85.1000  31.721875  34.226966  28.500000  32  89   2  33   90   \n",
            "3   1985  185.2000  31.658824  34.444231  28.366667  68  52   3  27   96   \n",
            "6   1988  201.8000  31.669949  33.782143  27.725000  91  28   4  20  103   \n",
            "7   1989  250.7200  31.659906  33.917618  28.050000  88  31   4  28   95   \n",
            "8   1990  332.3000  31.880853  33.641379  28.900000  92  29   2  22  101   \n",
            "9   1991  201.9000  31.644737  34.158696  28.500000  76  46   1  19  104   \n",
            "10  1992  150.6000  31.569474  33.620000  27.766667  95  25   3  27   96   \n",
            "14  1996  251.9000  31.764815  34.170769  28.025000  54  65   4  29   94   \n",
            "16  1998  277.5000  31.442593  34.010606  28.666667  54  66   3  29   94   \n",
            "17  1999   67.0000  31.801064  33.416000  28.600000  94  25   4  37   86   \n",
            "18  2000  175.6000  31.504918  34.060000  28.150000  61  60   2  27   96   \n",
            "20  2002   61.1000  32.070000  33.823611  29.000000  50  72   1  20  103   \n",
            "21  2003  160.1000  31.981481  33.714925  28.200000  54  67   2  17  106   \n",
            "22  2004  141.3000  31.850000  34.171698  28.200000  68  53   2  21  102   \n",
            "24  2006  153.7000  31.934426  33.739344  28.600000  61  61   1  27   96   \n",
            "25  2007   49.5000  31.789286  33.953030  28.500000  56  66   1  16  107   \n",
            "26  2008   46.6000  32.030137  33.608163  28.400000  73  49   1  26   97   \n",
            "27  2009  134.4000  31.976087  34.031579  28.400000  46  76   1  13  110   \n",
            "28  2010  220.8000  31.711111  34.038983  29.000000  63  59   1  33   90   \n",
            "31  2013  179.5000  31.848235  33.816216  27.300000  85  37   1  23  100   \n",
            "32  2014   27.8000  32.176471  33.597297  28.457143  44  52  27  13  110   \n",
            "33  2015  136.4000  32.439286  33.779677  28.320000  72  45   6  17  106   \n",
            "34  2016   92.4296  31.819231  34.017647  28.300000  70  45   8   8  115   \n",
            "35  2017  134.7000  31.525000  34.110811  28.533333  60  51  12   8  115   \n",
            "36  2018   50.8000  31.683051  34.021429  28.200000  78  38   7  18  105   \n",
            "37  2019  154.8500  31.984444  35.030260  28.040000  45  77   1   9  114   \n",
            "\n",
            "          X10        X11        prod  \n",
            "0   24.842268  23.369231  3788.00000  \n",
            "2   24.666667  23.393939  3122.00000  \n",
            "3   24.725000  23.596296  3756.00000  \n",
            "6   25.136893  23.255000  3459.00000  \n",
            "7   24.810468  23.103571  2594.00000  \n",
            "8   24.800000  23.277273  3332.00000  \n",
            "9   24.895192  23.510526  3384.00000  \n",
            "10  24.861458  23.496296  3126.00000  \n",
            "14  25.030851  23.482759  3828.00000  \n",
            "16  25.455319  23.448276  3870.00000  \n",
            "17  24.676744  23.624324  4126.00000  \n",
            "18  25.101042  23.181481  4248.00000  \n",
            "20  25.026214  23.550000  4190.00000  \n",
            "21  25.241509  22.964706  3891.00000  \n",
            "22  24.925490  23.252381  4117.00000  \n",
            "24  24.983333  23.403704  4560.00000  \n",
            "25  25.041121  23.518750  4804.00000  \n",
            "26  24.856701  23.334615  4396.00000  \n",
            "27  25.087273  23.192308  4426.00000  \n",
            "28  24.914444  23.345455  4887.00000  \n",
            "31  24.963000  23.408696  4284.49447  \n",
            "32  25.307229  23.288889  4461.00000  \n",
            "33  25.001235  23.363636  4612.00000  \n",
            "34  25.159341  23.800000  4295.00000  \n",
            "35  25.113953  23.025000  3909.00000  \n",
            "36  25.030263  23.469231  5262.00000  \n",
            "37  25.483947  23.505556  5119.00000  \n"
          ]
        }
      ],
      "source": [
        "#Delete row whose column value is equal to 0\n",
        "df = df.drop(df.index[df['X2'] == 0])\n",
        "df = df.drop(df.index[df['X3'] == 0])\n",
        "df = df.drop(df.index[df['X4'] == 0])\n",
        "df = df.drop(df.index[df['X10'] == 0])\n",
        "df = df.drop(df.index[df['X11'] == 0])\n",
        "df.size\n",
        "\n",
        "import matplotlib.pyplot as plt\n",
        "from sklearn.metrics import mean_squared_error\n",
        "from sklearn.model_selection import KFold\n",
        "from sklearn.model_selection import train_test_split\n",
        "from sklearn.metrics import r2_score\n",
        "from sklearn.preprocessing import MinMaxScaler\n",
        "from sklearn.linear_model import Lasso\n",
        "from sklearn.linear_model import LinearRegression \n",
        "from sklearn.metrics import mean_absolute_error\n",
        "from sklearn.linear_model import Ridge\n",
        "from sklearn.svm import SVR\n",
        "from sklearn.linear_model import ElasticNet\n",
        "from sklearn.neural_network import MLPRegressor\n",
        "from sklearn import neighbors\n",
        "from sklearn.ensemble import RandomForestRegressor\n",
        "print(df)"
      ]
    },
    {
      "cell_type": "code",
      "source": [
        "df.boxplot(column=['X1'])"
      ],
      "metadata": {
        "colab": {
          "base_uri": "https://localhost:8080/",
          "height": 447
        },
        "id": "uszZ_JGwGDMv",
        "outputId": "e21f84b8-5a02-4d5f-88e1-c80ded2573e9"
      },
      "execution_count": null,
      "outputs": [
        {
          "output_type": "execute_result",
          "data": {
            "text/plain": [
              "<Axes: >"
            ]
          },
          "metadata": {},
          "execution_count": 10
        },
        {
          "output_type": "display_data",
          "data": {
            "text/plain": [
              "<Figure size 640x480 with 1 Axes>"
            ],
            "image/png": "[encoded data removed]"
          },
          "metadata": {}
        }
      ]
    },
    {
      "cell_type": "code",
      "source": [
        "df.boxplot(column=['X2'])\n"
      ],
      "metadata": {
        "colab": {
          "base_uri": "https://localhost:8080/",
          "height": 447
        },
        "id": "Ez_zO8aWGc2A",
        "outputId": "01830077-808a-40fe-f75d-9811a2a97f87"
      },
      "execution_count": null,
      "outputs": [
        {
          "output_type": "execute_result",
          "data": {
            "text/plain": [
              "<Axes: >"
            ]
          },
          "metadata": {},
          "execution_count": 11
        },
        {
          "output_type": "display_data",
          "data": {
            "text/plain": [
              "<Figure size 640x480 with 1 Axes>"
            ],
            "image/png": "[encoded data removed]"
          },
          "metadata": {}
        }
      ]
    },
    {
      "cell_type": "code",
      "source": [
        "df.boxplot(column=['X3'])\n"
      ],
      "metadata": {
        "colab": {
          "base_uri": "https://localhost:8080/",
          "height": 447
        },
        "id": "wAUa2JNuGh7I",
        "outputId": "9165deda-6a83-42c5-8c3a-81abc7ead2ce"
      },
      "execution_count": null,
      "outputs": [
        {
          "output_type": "execute_result",
          "data": {
            "text/plain": [
              "<Axes: >"
            ]
          },
          "metadata": {},
          "execution_count": 12
        },
        {
          "output_type": "display_data",
          "data": {
            "text/plain": [
              "<Figure size 640x480 with 1 Axes>"
            ],
            "image/png": "[encoded data removed]"
          },
          "metadata": {}
        }
      ]
    },
    {
      "cell_type": "code",
      "source": [
        "df.boxplot(column=['X4'])\n"
      ],
      "metadata": {
        "colab": {
          "base_uri": "https://localhost:8080/",
          "height": 447
        },
        "id": "yhwHBUNlGm88",
        "outputId": "a6f23b78-45cf-4b36-b5eb-509c6f59f954"
      },
      "execution_count": null,
      "outputs": [
        {
          "output_type": "execute_result",
          "data": {
            "text/plain": [
              "<Axes: >"
            ]
          },
          "metadata": {},
          "execution_count": 13
        },
        {
          "output_type": "display_data",
          "data": {
            "text/plain": [
              "<Figure size 640x480 with 1 Axes>"
            ],
            "image/png": "[encoded data removed]"
          },
          "metadata": {}
        }
      ]
    },
    {
      "cell_type": "code",
      "source": [
        "df.boxplot(column=['X5'])\n"
      ],
      "metadata": {
        "colab": {
          "base_uri": "https://localhost:8080/",
          "height": 447
        },
        "id": "WSlAB0JIGq7e",
        "outputId": "a9360b5a-28c8-44e1-fbd6-c5d5e7984b02"
      },
      "execution_count": null,
      "outputs": [
        {
          "output_type": "execute_result",
          "data": {
            "text/plain": [
              "<Axes: >"
            ]
          },
          "metadata": {},
          "execution_count": 14
        },
        {
          "output_type": "display_data",
          "data": {
            "text/plain": [
              "<Figure size 640x480 with 1 Axes>"
            ],
            "image/png": "[encoded data removed]"
          },
          "metadata": {}
        }
      ]
    },
    {
      "cell_type": "code",
      "source": [
        "df.boxplot(column=['X6'])\n"
      ],
      "metadata": {
        "colab": {
          "base_uri": "https://localhost:8080/",
          "height": 447
        },
        "id": "06aNmoMkGsyL",
        "outputId": "c370893e-69b6-4b4a-e03d-2fdd2821152d"
      },
      "execution_count": null,
      "outputs": [
        {
          "output_type": "execute_result",
          "data": {
            "text/plain": [
              "<Axes: >"
            ]
          },
          "metadata": {},
          "execution_count": 15
        },
        {
          "output_type": "display_data",
          "data": {
            "text/plain": [
              "<Figure size 640x480 with 1 Axes>"
            ],
            "image/png": "[encoded data removed]"
          },
          "metadata": {}
        }
      ]
    },
    {
      "cell_type": "code",
      "source": [
        "df.boxplot(column=['X7'])\n"
      ],
      "metadata": {
        "colab": {
          "base_uri": "https://localhost:8080/",
          "height": 447
        },
        "id": "8tXSdesCGvPa",
        "outputId": "18d5f81f-6d63-4636-a282-3079c95a6617"
      },
      "execution_count": null,
      "outputs": [
        {
          "output_type": "execute_result",
          "data": {
            "text/plain": [
              "<Axes: >"
            ]
          },
          "metadata": {},
          "execution_count": 16
        },
        {
          "output_type": "display_data",
          "data": {
            "text/plain": [
              "<Figure size 640x480 with 1 Axes>"
            ],
            "image/png": "[encoded data removed]"
          },
          "metadata": {}
        }
      ]
    },
    {
      "cell_type": "code",
      "source": [
        "df.boxplot(column=['X8'])\n"
      ],
      "metadata": {
        "colab": {
          "base_uri": "https://localhost:8080/",
          "height": 447
        },
        "id": "yh8zbLUqGyBV",
        "outputId": "58c608b7-a625-41c3-c13d-46374e2a7b21"
      },
      "execution_count": null,
      "outputs": [
        {
          "output_type": "execute_result",
          "data": {
            "text/plain": [
              "<Axes: >"
            ]
          },
          "metadata": {},
          "execution_count": 17
        },
        {
          "output_type": "display_data",
          "data": {
            "text/plain": [
              "<Figure size 640x480 with 1 Axes>"
            ],
            "image/png": "[encoded data removed]"
          },
          "metadata": {}
        }
      ]
    },
    {
      "cell_type": "code",
      "source": [
        "df.boxplot(column=['X9'])\n"
      ],
      "metadata": {
        "colab": {
          "base_uri": "https://localhost:8080/",
          "height": 447
        },
        "id": "EY6sjX8hG1X1",
        "outputId": "65997605-0e50-4a25-a6e6-afffa0b6d2a2"
      },
      "execution_count": null,
      "outputs": [
        {
          "output_type": "execute_result",
          "data": {
            "text/plain": [
              "<Axes: >"
            ]
          },
          "metadata": {},
          "execution_count": 18
        },
        {
          "output_type": "display_data",
          "data": {
            "text/plain": [
              "<Figure size 640x480 with 1 Axes>"
            ],
            "image/png": "[encoded data removed]"
          },
          "metadata": {}
        }
      ]
    },
    {
      "cell_type": "code",
      "source": [
        "df.boxplot(column=['X10'])\n"
      ],
      "metadata": {
        "colab": {
          "base_uri": "https://localhost:8080/",
          "height": 447
        },
        "id": "bPdc2bfVG4S-",
        "outputId": "c120f22e-2581-4775-9f3b-974845098b36"
      },
      "execution_count": null,
      "outputs": [
        {
          "output_type": "execute_result",
          "data": {
            "text/plain": [
              "<Axes: >"
            ]
          },
          "metadata": {},
          "execution_count": 19
        },
        {
          "output_type": "display_data",
          "data": {
            "text/plain": [
              "<Figure size 640x480 with 1 Axes>"
            ],
            "image/png": "[encoded data removed]"
          },
          "metadata": {}
        }
      ]
    },
    {
      "cell_type": "code",
      "source": [
        "df.boxplot(column=['X11'])"
      ],
      "metadata": {
        "colab": {
          "base_uri": "https://localhost:8080/",
          "height": 447
        },
        "id": "QMVx-bMMG6ML",
        "outputId": "48bde415-54e2-49cf-acec-203235c3a4bd"
      },
      "execution_count": null,
      "outputs": [
        {
          "output_type": "execute_result",
          "data": {
            "text/plain": [
              "<Axes: >"
            ]
          },
          "metadata": {},
          "execution_count": 20
        },
        {
          "output_type": "display_data",
          "data": {
            "text/plain": [
              "<Figure size 640x480 with 1 Axes>"
            ],
            "image/png": "[encoded data removed]"
          },
          "metadata": {}
        }
      ]
    },
    {
      "cell_type": "code",
      "source": [
        "df['X1'] = np.where(df['X1'] < (df['X1'].quantile(0.10)), (df['X1'].quantile(0.10)),df['X1'])\n",
        "df['X1'] = np.where(df['X1'] >(df['X1'].quantile(0.90)), (df['X1'].quantile(0.90)),df['X1'])\n",
        "\n",
        "df['X2'] = np.where(df['X2'] < (df['X2'].quantile(0.10)), (df['X2'].quantile(0.10)),df['X2'])\n",
        "df['X2'] = np.where(df['X2'] >(df['X2'].quantile(0.90)), (df['X2'].quantile(0.90)),df['X2'])\n",
        "\n",
        "df['X3'] = np.where(df['X3'] < (df['X3'].quantile(0.10)), (df['X3'].quantile(0.10)),df['X3'])\n",
        "df['X3'] = np.where(df['X3'] >(df['X3'].quantile(0.90)), (df['X3'].quantile(0.90)),df['X3'])\n",
        "\n",
        "df['X4'] = np.where(df['X4'] < (df['X4'].quantile(0.10)), (df['X4'].quantile(0.10)),df['X4'])\n",
        "df['X4'] = np.where(df['X4'] >(df['X4'].quantile(0.90)), (df['X4'].quantile(0.90)),df['X4'])\n",
        "\n",
        "df['X5'] = np.where(df['X5'] < (df['X5'].quantile(0.10)), (df['X5'].quantile(0.10)),df['X5'])\n",
        "df['X5'] = np.where(df['X5'] >(df['X5'].quantile(0.90)), (df['X5'].quantile(0.90)),df['X5'])\n",
        "\n",
        "df['X6'] = np.where(df['X6'] < (df['X6'].quantile(0.10)), (df['X6'].quantile(0.10)),df['X6'])\n",
        "df['X6'] = np.where(df['X6'] >(df['X6'].quantile(0.90)), (df['X6'].quantile(0.90)),df['X6'])\n",
        "\n",
        "df['X7'] = np.where(df['X7'] < (df['X7'].quantile(0.10)), (df['X7'].quantile(0.10)),df['X7'])\n",
        "df['X7'] = np.where(df['X7'] >(df['X7'].quantile(0.90)), (df['X7'].quantile(0.90)),df['X7'])\n",
        "\n",
        "df['X8'] = np.where(df['X8'] < (df['X8'].quantile(0.10)), (df['X8'].quantile(0.10)),df['X8'])\n",
        "df['X8'] = np.where(df['X8'] >(df['X8'].quantile(0.90)), (df['X8'].quantile(0.90)),df['X8'])\n",
        "\n",
        "df['X9'] = np.where(df['X9'] < (df['X9'].quantile(0.10)), (df['X9'].quantile(0.10)),df['X9'])\n",
        "df['X9'] = np.where(df['X9'] >(df['X9'].quantile(0.90)), (df['X9'].quantile(0.90)),df['X9'])\n",
        "\n",
        "df['X10'] = np.where(df['X10'] < (df['X10'].quantile(0.10)), (df['X10'].quantile(0.10)),df['X10'])\n",
        "df['X10'] = np.where(df['X10'] >(df['X10'].quantile(0.90)), (df['X10'].quantile(0.90)),df['X10'])\n",
        "\n",
        "df['X11'] = np.where(df['X11'] < (df['X11'].quantile(0.10)), (df['X11'].quantile(0.10)),df['X11'])\n",
        "df['X11'] = np.where(df['X11'] >(df['X11'].quantile(0.90)), (df['X11'].quantile(0.90)),df['X11'])"
      ],
      "metadata": {
        "id": "X33VYWV6SLAc"
      },
      "execution_count": null,
      "outputs": []
    },
    {
      "cell_type": "code",
      "execution_count": null,
      "metadata": {
        "colab": {
          "base_uri": "https://localhost:8080/"
        },
        "id": "X119TUHM7yJr",
        "outputId": "9b693643-0a69-472c-f560-1930e741449b"
      },
      "outputs": [
        {
          "output_type": "stream",
          "name": "stdout",
          "text": [
            "              Method  RMSE test  RMSE train  RRMSE test  RRMSE train  \\\n",
            "0  Linear Regression          0           0           0            0   \n",
            "1                SVR          0           0           0            0   \n",
            "2                MLP          0           0           0            0   \n",
            "3                KNN          0           0           0            0   \n",
            "4      Random Forest          0           0           0            0   \n",
            "\n",
            "   MAE test  MAE train  R2_score test  R2_score train  Bias test  Bias train  \n",
            "0         0          0              0               0          0           0  \n",
            "1         0          0              0               0          0           0  \n",
            "2         0          0              0               0          0           0  \n",
            "3         0          0              0               0          0           0  \n",
            "4         0          0              0               0          0           0  \n",
            "8\n",
            "27 19 8\n"
          ]
        }
      ],
      "source": [
        "####################3\n",
        "def bias_value(y_test, y_pred):\n",
        "  ytest_list = list(y_test.values)\n",
        "  diff=0.0\n",
        "  avg_diff=0.0\n",
        "  for i in range(0,len(ytest_list)):\n",
        "    diff=diff+ytest_list[i]-y_pred[i]\n",
        "\n",
        "  avg_diff=diff/len(ytest_list)\n",
        "  return avg_diff\n",
        "\n",
        "data = {'Method': ['Linear Regression','SVR','MLP','KNN','Random Forest'],\n",
        "        'RMSE test': [0,0,0,0,0],\n",
        "        'RMSE train': [0,0,0,0,0],\n",
        "        'RRMSE test': [0,0,0,0,0],\n",
        "        'RRMSE train': [0,0,0,0,0],\n",
        "        'MAE test': [0,0,0,0,0],\n",
        "        'MAE train': [0,0,0,0,0],\n",
        "        'R2_score test': [0,0,0,0,0],\n",
        "        'R2_score train': [0,0,0,0,0],\n",
        "        'Bias test': [0,0,0,0,0],\n",
        "        'Bias train': [0,0,0,0,0],\n",
        "        }\n",
        "\n",
        "mydf = pd.DataFrame(data, columns = ['Method', 'RMSE test','RMSE train','RRMSE test','RRMSE train','MAE test','MAE train','R2_score test','R2_score train','Bias test','Bias train'])\n",
        "print(mydf)\n",
        "test_percentage = 0.3\n",
        "test_size = math.floor(len(df.index)*test_percentage)\n",
        "print(test_size)\n",
        "\n",
        "df_train = df[:-test_size]\n",
        "df_test = df[-test_size:]\n",
        "\n",
        "print(len(df.index), len(df_train.index) , len(df_test.index))"
      ]
    },
    {
      "cell_type": "code",
      "execution_count": null,
      "metadata": {
        "id": "3YTL0bgKLRLk",
        "colab": {
          "base_uri": "https://localhost:8080/",
          "height": 658
        },
        "outputId": "adb5a7d8-3ecc-4aca-f84c-8d8526bad5bd"
      },
      "outputs": [
        {
          "output_type": "stream",
          "name": "stdout",
          "text": [
            "Feature: 0, Score: 0.19053\n",
            "Feature: 1, Score: 0.23359\n",
            "Feature: 2, Score: 0.01755\n",
            "Feature: 3, Score: 0.17399\n",
            "Feature: 4, Score: 0.11794\n",
            "Feature: 5, Score: 0.11625\n",
            "Feature: 6, Score: 0.05290\n",
            "Feature: 7, Score: 0.01537\n",
            "Feature: 8, Score: 0.01502\n",
            "Feature: 9, Score: 0.01969\n",
            "Feature: 10, Score: 0.04716\n"
          ]
        },
        {
          "output_type": "display_data",
          "data": {
            "text/plain": [
              "<Figure size 640x480 with 1 Axes>"
            ],
            "image/png": "[encoded data removed]"
          },
          "metadata": {}
        },
        {
          "output_type": "stream",
          "name": "stdout",
          "text": [
            "[[0, 0.19052866600115292], [1, 0.2335883210772327], [2, 0.01754933570128063], [3, 0.173992441603109], [4, 0.11793884650753476], [5, 0.11625259102621138], [6, 0.052903793079597895], [7, 0.015365817393871998], [8, 0.015024690998882909], [9, 0.019694112014497066], [10, 0.047161384596628504]]\n"
          ]
        }
      ],
      "source": [
        "#Random forest\n",
        "from sklearn.ensemble import RandomForestRegressor\n",
        "from sklearn.model_selection import train_test_split\n",
        "from sklearn.feature_selection import RFECV\n",
        "import matplotlib.pyplot as plt\n",
        "\n",
        "X=df_train.drop(['year','prod'], axis=1)\n",
        "y=df_train['prod']\n",
        "from sklearn.model_selection import train_test_split\n",
        "x_train, x_test, y_train, y_test= train_test_split(X,y,test_size=0.3,random_state=42)\n",
        "\n",
        "feature_names = [f\"feature {i}\" for i in range(X.shape[1])]\n",
        "\n",
        "from sklearn.preprocessing import MinMaxScaler\n",
        "scaler = MinMaxScaler()\n",
        "X_train = scaler.fit_transform(x_train)\n",
        "x_train = pd.DataFrame(X_train)\n",
        "X_test = scaler.transform(x_test)\n",
        "x_test = pd.DataFrame(X_test)\n",
        "\n",
        "rf = RandomForestRegressor(random_state=42)\n",
        "\n",
        "rf.fit(x_train,y_train)\n",
        "\n",
        "importance = rf.feature_importances_\n",
        "# summarize feature importance and assign them to an array 'arr' with the feature index\n",
        "arr = [[0 for x in range(2)] for y in range(11)] \n",
        "for i,v in enumerate(importance):\n",
        "\tarr[i][0] = i\n",
        "\tarr[i][1] = v\n",
        "\tprint('Feature: %0d, Score: %.5f' % (i,v))\n",
        "# plot feature importance\n",
        "plt.barh([x for x in range(len(importance))], importance)\n",
        "plt.show()\n",
        "\n",
        "print(arr)\n"
      ]
    },
    {
      "cell_type": "code",
      "source": [
        "arr.sort(key=lambda row: (row[1]), reverse=True)\n",
        "print(arr)\n",
        "plt.barh([x[0] for x in arr],[x[1] for x in arr])\n",
        "plt.show()\n"
      ],
      "metadata": {
        "id": "glTOJObVxpfk",
        "colab": {
          "base_uri": "https://localhost:8080/",
          "height": 467
        },
        "outputId": "bf85bb59-40a9-4e5e-db3a-6ad246b8cbc6"
      },
      "execution_count": null,
      "outputs": [
        {
          "output_type": "stream",
          "name": "stdout",
          "text": [
            "[[1, 0.2335883210772327], [0, 0.19052866600115292], [3, 0.173992441603109], [4, 0.11793884650753476], [5, 0.11625259102621138], [6, 0.052903793079597895], [10, 0.047161384596628504], [9, 0.019694112014497066], [2, 0.01754933570128063], [7, 0.015365817393871998], [8, 0.015024690998882909]]\n"
          ]
        },
        {
          "output_type": "display_data",
          "data": {
            "text/plain": [
              "<Figure size 640x480 with 1 Axes>"
            ],
            "image/png": "[encoded data removed]"
          },
          "metadata": {}
        }
      ]
    },
    {
      "cell_type": "code",
      "source": [
        "acc_array=list()\n",
        "#feature_array=list()\n",
        "\n",
        "\n",
        "cv = KFold(n_splits=5, shuffle=True, random_state=42)\n",
        "\n",
        "for n in range(1,12):\n",
        "  num_of_features = n\n",
        "  #print(num_of_features)\n",
        "  selected = [0 for y in range(num_of_features)]\n",
        "  for i in range(num_of_features):\n",
        "    selected[i] = sorted(arr,key=lambda row: (row[1]), reverse=True)[i]\n",
        "  print(selected) \n",
        "  selected_features_list = [0 for y in range(num_of_features)]\n",
        "  for i in range(num_of_features):\n",
        "    selected_features_list[i] = df_train.columns[selected[i][0]+1]\n",
        "  print(selected_features_list)"
      ],
      "metadata": {
        "id": "L4rm4Yp3Bc3u",
        "colab": {
          "base_uri": "https://localhost:8080/"
        },
        "outputId": "a699d117-938c-4b10-a9d6-ca5be0b7cf3b"
      },
      "execution_count": null,
      "outputs": [
        {
          "output_type": "stream",
          "name": "stdout",
          "text": [
            "[[1, 0.2335883210772327]]\n",
            "['X2']\n",
            "[[1, 0.2335883210772327], [0, 0.19052866600115292]]\n",
            "['X2', 'X1']\n",
            "[[1, 0.2335883210772327], [0, 0.19052866600115292], [3, 0.173992441603109]]\n",
            "['X2', 'X1', 'X4']\n",
            "[[1, 0.2335883210772327], [0, 0.19052866600115292], [3, 0.173992441603109], [4, 0.11793884650753476]]\n",
            "['X2', 'X1', 'X4', 'X5']\n",
            "[[1, 0.2335883210772327], [0, 0.19052866600115292], [3, 0.173992441603109], [4, 0.11793884650753476], [5, 0.11625259102621138]]\n",
            "['X2', 'X1', 'X4', 'X5', 'X6']\n",
            "[[1, 0.2335883210772327], [0, 0.19052866600115292], [3, 0.173992441603109], [4, 0.11793884650753476], [5, 0.11625259102621138], [6, 0.052903793079597895]]\n",
            "['X2', 'X1', 'X4', 'X5', 'X6', 'X7']\n",
            "[[1, 0.2335883210772327], [0, 0.19052866600115292], [3, 0.173992441603109], [4, 0.11793884650753476], [5, 0.11625259102621138], [6, 0.052903793079597895], [10, 0.047161384596628504]]\n",
            "['X2', 'X1', 'X4', 'X5', 'X6', 'X7', 'X11']\n",
            "[[1, 0.2335883210772327], [0, 0.19052866600115292], [3, 0.173992441603109], [4, 0.11793884650753476], [5, 0.11625259102621138], [6, 0.052903793079597895], [10, 0.047161384596628504], [9, 0.019694112014497066]]\n",
            "['X2', 'X1', 'X4', 'X5', 'X6', 'X7', 'X11', 'X10']\n",
            "[[1, 0.2335883210772327], [0, 0.19052866600115292], [3, 0.173992441603109], [4, 0.11793884650753476], [5, 0.11625259102621138], [6, 0.052903793079597895], [10, 0.047161384596628504], [9, 0.019694112014497066], [2, 0.01754933570128063]]\n",
            "['X2', 'X1', 'X4', 'X5', 'X6', 'X7', 'X11', 'X10', 'X3']\n",
            "[[1, 0.2335883210772327], [0, 0.19052866600115292], [3, 0.173992441603109], [4, 0.11793884650753476], [5, 0.11625259102621138], [6, 0.052903793079597895], [10, 0.047161384596628504], [9, 0.019694112014497066], [2, 0.01754933570128063], [7, 0.015365817393871998]]\n",
            "['X2', 'X1', 'X4', 'X5', 'X6', 'X7', 'X11', 'X10', 'X3', 'X8']\n",
            "[[1, 0.2335883210772327], [0, 0.19052866600115292], [3, 0.173992441603109], [4, 0.11793884650753476], [5, 0.11625259102621138], [6, 0.052903793079597895], [10, 0.047161384596628504], [9, 0.019694112014497066], [2, 0.01754933570128063], [7, 0.015365817393871998], [8, 0.015024690998882909]]\n",
            "['X2', 'X1', 'X4', 'X5', 'X6', 'X7', 'X11', 'X10', 'X3', 'X8', 'X9']\n"
          ]
        }
      ]
    },
    {
      "cell_type": "code",
      "source": [
        "\n",
        "acc_array=list()\n",
        "#feature_array=list()\n",
        "\n",
        "\n",
        "cv = KFold(n_splits=5, shuffle=True, random_state=42)\n",
        "min=2000\n",
        "selected_features_final=list()\n",
        "for n in range(1,12):\n",
        "  num_of_features = n\n",
        "  selected = [[0 for x in range(2)] for y in range(num_of_features)] \n",
        "  #copy the selected most important n features' indices and their importance to 'selected' array\n",
        "  for i in range(num_of_features):\n",
        "    selected[i] = sorted(arr,key=lambda row: (row[1]), reverse=True)[i]\n",
        "  #assign selected feature columns in 'X' dataset to new dataset 'selected_features'\n",
        "  selected_features = pd.DataFrame()\n",
        "  selected_features_list = [0 for y in range(num_of_features)]\n",
        "  for i in range(num_of_features):\n",
        "    selected_features[i] = df_train.iloc[:, selected[i][0]+1]\n",
        "    #print(selected_features)\n",
        "    selected_features_list[i] = df_train.columns[selected[i][0]+1]\n",
        "  #print(selected_features_list)\n",
        "  rmse_test_arr = []\n",
        "  rrmse_test_arr =[]\n",
        "  r2_test_arr= []\n",
        "  mae_test_arr = []\n",
        "\n",
        "  rmse_train_arr = []\n",
        "  rrmse_train_arr =[]\n",
        "  r2_train_arr= []\n",
        "  mae_train_arr = []\n",
        "\n",
        "  bias_test_arr = []\n",
        "  bias_train_arr = []\n",
        "  #print(selected_features[i])\n",
        "  for tr, tt in cv.split(df_train): #tr,tt are indexes\n",
        "    x_train, x_test = selected_features[i].iloc[tr], selected_features[i].iloc[tt]\n",
        "    y_train, y_test = df_train['prod'].iloc[tr], df_train['prod'].iloc[tt]\n",
        "    #print(tr,tt)\n",
        "    scaler = MinMaxScaler()\n",
        "    X_train = scaler.fit_transform(pd.DataFrame(x_train))\n",
        "    X_test = scaler.transform(pd.DataFrame(x_test))\n",
        "    model =  RandomForestRegressor(n_estimators = 1000, random_state = 42).fit(X_train, y_train)\n",
        "    y_pred= model.predict(X_test)\n",
        "    y_pred_train= model.predict(X_train)\n",
        "\n",
        "    r2_test=r2_score(y_test,y_pred)\n",
        "    r2_train=r2_score(y_train,y_pred_train)\n",
        "    #print(r2_test)\n",
        "    #print(r2_train)\n",
        "    r2_test_arr.append(r2_test)\n",
        "    r2_train_arr.append(r2_train)\n",
        "\n",
        "    rmse_test = float(format(np.sqrt(mean_squared_error(y_test, y_pred)), '.3f'))\n",
        "    #print(\"\\nRMSE test: \", rmse_test)\n",
        "    rmse_test_arr.append(rmse_test)\n",
        "\n",
        "    rrmse_test = format(float(rmse_test*100/np.mean(y_test)),'.2f')\n",
        "    #print(\"\\nRRMSE test: \", rrmse_test,\"%\")\n",
        "    rrmse_test_arr.append(rrmse_test)\n",
        "\n",
        "    rmse_train = float(format(np.sqrt(mean_squared_error(y_train, y_pred_train)), '.3f'))\n",
        "    #print(\"\\nRMSE train: \", rmse_train)\n",
        "    rmse_train_arr.append(rmse_train)\n",
        "\n",
        "    rrmse_train = format(float(rmse_train*100/np.mean(y_train)),'.2f')\n",
        "    #print(\"\\nRRMSE train: \", rrmse_train,\"%\")\n",
        "    rrmse_train_arr.append(rrmse_train)\n",
        "\n",
        "\n",
        "    mae_test = float(format(mean_absolute_error(y_test, y_pred), '.3f'))\n",
        "    #print(\"\\nMAE Test: \", mae_test)\n",
        "    mae_test_arr.append(mae_test)\n",
        "    mae_train = float(format(mean_absolute_error(y_train, y_pred_train), '.3f'))\n",
        "    #print(\"\\nMAE Train: \", mae_train)\n",
        "    mae_train_arr.append(mae_train)\n",
        "\n",
        "    #print(\"\\nBias Test: \\n\", bias_value(y_test,y_pred))\n",
        "    bias_test_arr.append(bias_value(y_test,y_pred))\n",
        "    #print(\"\\nBias Train: \\n\", bias_value(y_train, y_pred_train))\n",
        "    bias_train_arr.append(bias_value(y_train, y_pred_train))\n",
        "    \n",
        "  acc_array.append(np.mean(np.array(rmse_test_arr).astype(np.float)))\n",
        "  if(min > np.mean(np.array(rmse_test_arr).astype(np.float))):\n",
        "    min=np.mean(np.array(rmse_test_arr).astype(np.float))\n",
        "    selected_features_final = selected_features_list\n",
        "plt.plot(np.arange(11), acc_array)\n",
        "plt.show()\n",
        "print(selected_features_final)\n",
        "print(min)"
      ],
      "metadata": {
        "id": "z28t7juDs5RB",
        "colab": {
          "base_uri": "https://localhost:8080/",
          "height": 1000
        },
        "outputId": "c9a30bf3-3b63-4553-faff-1631d4870480"
      },
      "execution_count": null,
      "outputs": [
        {
          "output_type": "stream",
          "name": "stderr",
          "text": [
            "<ipython-input-14-457796cc4b7d>:82: DeprecationWarning: `np.float` is a deprecated alias for the builtin `float`. To silence this warning, use `float` by itself. Doing this will not modify any behavior and is safe. If you specifically wanted the numpy scalar type, use `np.float64` here.\n",
            "Deprecated in NumPy 1.20; for more details and guidance: https://numpy.org/devdocs/release/1.20.0-notes.html#deprecations\n",
            "  acc_array.append(np.mean(np.array(rmse_test_arr).astype(np.float)))\n",
            "<ipython-input-14-457796cc4b7d>:83: DeprecationWarning: `np.float` is a deprecated alias for the builtin `float`. To silence this warning, use `float` by itself. Doing this will not modify any behavior and is safe. If you specifically wanted the numpy scalar type, use `np.float64` here.\n",
            "Deprecated in NumPy 1.20; for more details and guidance: https://numpy.org/devdocs/release/1.20.0-notes.html#deprecations\n",
            "  if(min > np.mean(np.array(rmse_test_arr).astype(np.float))):\n",
            "<ipython-input-14-457796cc4b7d>:84: DeprecationWarning: `np.float` is a deprecated alias for the builtin `float`. To silence this warning, use `float` by itself. Doing this will not modify any behavior and is safe. If you specifically wanted the numpy scalar type, use `np.float64` here.\n",
            "Deprecated in NumPy 1.20; for more details and guidance: https://numpy.org/devdocs/release/1.20.0-notes.html#deprecations\n",
            "  min=np.mean(np.array(rmse_test_arr).astype(np.float))\n",
            "<ipython-input-14-457796cc4b7d>:82: DeprecationWarning: `np.float` is a deprecated alias for the builtin `float`. To silence this warning, use `float` by itself. Doing this will not modify any behavior and is safe. If you specifically wanted the numpy scalar type, use `np.float64` here.\n",
            "Deprecated in NumPy 1.20; for more details and guidance: https://numpy.org/devdocs/release/1.20.0-notes.html#deprecations\n",
            "  acc_array.append(np.mean(np.array(rmse_test_arr).astype(np.float)))\n",
            "<ipython-input-14-457796cc4b7d>:83: DeprecationWarning: `np.float` is a deprecated alias for the builtin `float`. To silence this warning, use `float` by itself. Doing this will not modify any behavior and is safe. If you specifically wanted the numpy scalar type, use `np.float64` here.\n",
            "Deprecated in NumPy 1.20; for more details and guidance: https://numpy.org/devdocs/release/1.20.0-notes.html#deprecations\n",
            "  if(min > np.mean(np.array(rmse_test_arr).astype(np.float))):\n",
            "<ipython-input-14-457796cc4b7d>:84: DeprecationWarning: `np.float` is a deprecated alias for the builtin `float`. To silence this warning, use `float` by itself. Doing this will not modify any behavior and is safe. If you specifically wanted the numpy scalar type, use `np.float64` here.\n",
            "Deprecated in NumPy 1.20; for more details and guidance: https://numpy.org/devdocs/release/1.20.0-notes.html#deprecations\n",
            "  min=np.mean(np.array(rmse_test_arr).astype(np.float))\n",
            "<ipython-input-14-457796cc4b7d>:82: DeprecationWarning: `np.float` is a deprecated alias for the builtin `float`. To silence this warning, use `float` by itself. Doing this will not modify any behavior and is safe. If you specifically wanted the numpy scalar type, use `np.float64` here.\n",
            "Deprecated in NumPy 1.20; for more details and guidance: https://numpy.org/devdocs/release/1.20.0-notes.html#deprecations\n",
            "  acc_array.append(np.mean(np.array(rmse_test_arr).astype(np.float)))\n",
            "<ipython-input-14-457796cc4b7d>:83: DeprecationWarning: `np.float` is a deprecated alias for the builtin `float`. To silence this warning, use `float` by itself. Doing this will not modify any behavior and is safe. If you specifically wanted the numpy scalar type, use `np.float64` here.\n",
            "Deprecated in NumPy 1.20; for more details and guidance: https://numpy.org/devdocs/release/1.20.0-notes.html#deprecations\n",
            "  if(min > np.mean(np.array(rmse_test_arr).astype(np.float))):\n",
            "<ipython-input-14-457796cc4b7d>:82: DeprecationWarning: `np.float` is a deprecated alias for the builtin `float`. To silence this warning, use `float` by itself. Doing this will not modify any behavior and is safe. If you specifically wanted the numpy scalar type, use `np.float64` here.\n",
            "Deprecated in NumPy 1.20; for more details and guidance: https://numpy.org/devdocs/release/1.20.0-notes.html#deprecations\n",
            "  acc_array.append(np.mean(np.array(rmse_test_arr).astype(np.float)))\n",
            "<ipython-input-14-457796cc4b7d>:83: DeprecationWarning: `np.float` is a deprecated alias for the builtin `float`. To silence this warning, use `float` by itself. Doing this will not modify any behavior and is safe. If you specifically wanted the numpy scalar type, use `np.float64` here.\n",
            "Deprecated in NumPy 1.20; for more details and guidance: https://numpy.org/devdocs/release/1.20.0-notes.html#deprecations\n",
            "  if(min > np.mean(np.array(rmse_test_arr).astype(np.float))):\n",
            "<ipython-input-14-457796cc4b7d>:82: DeprecationWarning: `np.float` is a deprecated alias for the builtin `float`. To silence this warning, use `float` by itself. Doing this will not modify any behavior and is safe. If you specifically wanted the numpy scalar type, use `np.float64` here.\n",
            "Deprecated in NumPy 1.20; for more details and guidance: https://numpy.org/devdocs/release/1.20.0-notes.html#deprecations\n",
            "  acc_array.append(np.mean(np.array(rmse_test_arr).astype(np.float)))\n",
            "<ipython-input-14-457796cc4b7d>:83: DeprecationWarning: `np.float` is a deprecated alias for the builtin `float`. To silence this warning, use `float` by itself. Doing this will not modify any behavior and is safe. If you specifically wanted the numpy scalar type, use `np.float64` here.\n",
            "Deprecated in NumPy 1.20; for more details and guidance: https://numpy.org/devdocs/release/1.20.0-notes.html#deprecations\n",
            "  if(min > np.mean(np.array(rmse_test_arr).astype(np.float))):\n",
            "<ipython-input-14-457796cc4b7d>:82: DeprecationWarning: `np.float` is a deprecated alias for the builtin `float`. To silence this warning, use `float` by itself. Doing this will not modify any behavior and is safe. If you specifically wanted the numpy scalar type, use `np.float64` here.\n",
            "Deprecated in NumPy 1.20; for more details and guidance: https://numpy.org/devdocs/release/1.20.0-notes.html#deprecations\n",
            "  acc_array.append(np.mean(np.array(rmse_test_arr).astype(np.float)))\n",
            "<ipython-input-14-457796cc4b7d>:83: DeprecationWarning: `np.float` is a deprecated alias for the builtin `float`. To silence this warning, use `float` by itself. Doing this will not modify any behavior and is safe. If you specifically wanted the numpy scalar type, use `np.float64` here.\n",
            "Deprecated in NumPy 1.20; for more details and guidance: https://numpy.org/devdocs/release/1.20.0-notes.html#deprecations\n",
            "  if(min > np.mean(np.array(rmse_test_arr).astype(np.float))):\n",
            "<ipython-input-14-457796cc4b7d>:82: DeprecationWarning: `np.float` is a deprecated alias for the builtin `float`. To silence this warning, use `float` by itself. Doing this will not modify any behavior and is safe. If you specifically wanted the numpy scalar type, use `np.float64` here.\n",
            "Deprecated in NumPy 1.20; for more details and guidance: https://numpy.org/devdocs/release/1.20.0-notes.html#deprecations\n",
            "  acc_array.append(np.mean(np.array(rmse_test_arr).astype(np.float)))\n",
            "<ipython-input-14-457796cc4b7d>:83: DeprecationWarning: `np.float` is a deprecated alias for the builtin `float`. To silence this warning, use `float` by itself. Doing this will not modify any behavior and is safe. If you specifically wanted the numpy scalar type, use `np.float64` here.\n",
            "Deprecated in NumPy 1.20; for more details and guidance: https://numpy.org/devdocs/release/1.20.0-notes.html#deprecations\n",
            "  if(min > np.mean(np.array(rmse_test_arr).astype(np.float))):\n",
            "<ipython-input-14-457796cc4b7d>:82: DeprecationWarning: `np.float` is a deprecated alias for the builtin `float`. To silence this warning, use `float` by itself. Doing this will not modify any behavior and is safe. If you specifically wanted the numpy scalar type, use `np.float64` here.\n",
            "Deprecated in NumPy 1.20; for more details and guidance: https://numpy.org/devdocs/release/1.20.0-notes.html#deprecations\n",
            "  acc_array.append(np.mean(np.array(rmse_test_arr).astype(np.float)))\n",
            "<ipython-input-14-457796cc4b7d>:83: DeprecationWarning: `np.float` is a deprecated alias for the builtin `float`. To silence this warning, use `float` by itself. Doing this will not modify any behavior and is safe. If you specifically wanted the numpy scalar type, use `np.float64` here.\n",
            "Deprecated in NumPy 1.20; for more details and guidance: https://numpy.org/devdocs/release/1.20.0-notes.html#deprecations\n",
            "  if(min > np.mean(np.array(rmse_test_arr).astype(np.float))):\n",
            "<ipython-input-14-457796cc4b7d>:82: DeprecationWarning: `np.float` is a deprecated alias for the builtin `float`. To silence this warning, use `float` by itself. Doing this will not modify any behavior and is safe. If you specifically wanted the numpy scalar type, use `np.float64` here.\n",
            "Deprecated in NumPy 1.20; for more details and guidance: https://numpy.org/devdocs/release/1.20.0-notes.html#deprecations\n",
            "  acc_array.append(np.mean(np.array(rmse_test_arr).astype(np.float)))\n",
            "<ipython-input-14-457796cc4b7d>:83: DeprecationWarning: `np.float` is a deprecated alias for the builtin `float`. To silence this warning, use `float` by itself. Doing this will not modify any behavior and is safe. If you specifically wanted the numpy scalar type, use `np.float64` here.\n",
            "Deprecated in NumPy 1.20; for more details and guidance: https://numpy.org/devdocs/release/1.20.0-notes.html#deprecations\n",
            "  if(min > np.mean(np.array(rmse_test_arr).astype(np.float))):\n",
            "<ipython-input-14-457796cc4b7d>:82: DeprecationWarning: `np.float` is a deprecated alias for the builtin `float`. To silence this warning, use `float` by itself. Doing this will not modify any behavior and is safe. If you specifically wanted the numpy scalar type, use `np.float64` here.\n",
            "Deprecated in NumPy 1.20; for more details and guidance: https://numpy.org/devdocs/release/1.20.0-notes.html#deprecations\n",
            "  acc_array.append(np.mean(np.array(rmse_test_arr).astype(np.float)))\n",
            "<ipython-input-14-457796cc4b7d>:83: DeprecationWarning: `np.float` is a deprecated alias for the builtin `float`. To silence this warning, use `float` by itself. Doing this will not modify any behavior and is safe. If you specifically wanted the numpy scalar type, use `np.float64` here.\n",
            "Deprecated in NumPy 1.20; for more details and guidance: https://numpy.org/devdocs/release/1.20.0-notes.html#deprecations\n",
            "  if(min > np.mean(np.array(rmse_test_arr).astype(np.float))):\n",
            "<ipython-input-14-457796cc4b7d>:82: DeprecationWarning: `np.float` is a deprecated alias for the builtin `float`. To silence this warning, use `float` by itself. Doing this will not modify any behavior and is safe. If you specifically wanted the numpy scalar type, use `np.float64` here.\n",
            "Deprecated in NumPy 1.20; for more details and guidance: https://numpy.org/devdocs/release/1.20.0-notes.html#deprecations\n",
            "  acc_array.append(np.mean(np.array(rmse_test_arr).astype(np.float)))\n",
            "<ipython-input-14-457796cc4b7d>:83: DeprecationWarning: `np.float` is a deprecated alias for the builtin `float`. To silence this warning, use `float` by itself. Doing this will not modify any behavior and is safe. If you specifically wanted the numpy scalar type, use `np.float64` here.\n",
            "Deprecated in NumPy 1.20; for more details and guidance: https://numpy.org/devdocs/release/1.20.0-notes.html#deprecations\n",
            "  if(min > np.mean(np.array(rmse_test_arr).astype(np.float))):\n"
          ]
        },
        {
          "output_type": "display_data",
          "data": {
            "text/plain": [
              "<Figure size 640x480 with 1 Axes>"
            ],
            "image/png": "[encoded data removed]"
          },
          "metadata": {}
        },
        {
          "output_type": "stream",
          "name": "stdout",
          "text": [
            "['X2', 'X1']\n",
            "510.0361999999999\n"
          ]
        }
      ]
    },
    {
      "cell_type": "markdown",
      "metadata": {
        "id": "HLhsL0ezHk_8"
      },
      "source": [
        "##LinearRegression"
      ]
    },
    {
      "cell_type": "code",
      "source": [
        "cv = KFold(n_splits=5, shuffle=True,random_state=42)\n",
        "\n",
        "rmse_test_arr = []\n",
        "rrmse_test_arr =[]\n",
        "r2_test_arr= []\n",
        "mae_test_arr = []\n",
        "\n",
        "rmse_train_arr = []\n",
        "rrmse_train_arr =[]\n",
        "r2_train_arr= []\n",
        "mae_train_arr = []\n",
        "\n",
        "bias_test_arr = []\n",
        "bias_train_arr = []\n",
        "\n",
        "for tr, tt in cv.split(df_train): #tr,tt are indexes\n",
        "    x_train, x_test = df_train[selected_features_final].iloc[tr], df_train[selected_features_final].iloc[tt]\n",
        "    y_train, y_test = df_train['prod'].iloc[tr], df_train['prod'].iloc[tt]\n",
        "    print(tr,tt)\n",
        "    scaler = MinMaxScaler()\n",
        "    X_train = scaler.fit_transform(x_train)\n",
        "    X_test = scaler.transform(x_test)\n",
        "    model = LinearRegression().fit(X_train, y_train)\n",
        "    y_pred= model.predict(X_test)\n",
        "    y_pred_train= model.predict(X_train)\n",
        "\n",
        "    r2_test=r2_score(y_test,y_pred)\n",
        "    r2_train=r2_score(y_train,y_pred_train)\n",
        "    #print(r2_test)\n",
        "    #print(r2_train)\n",
        "    r2_test_arr.append(r2_test)\n",
        "    r2_train_arr.append(r2_train)\n",
        "\n",
        "    rmse_test = float(format(np.sqrt(mean_squared_error(y_test, y_pred)), '.3f'))\n",
        "    #print(\"\\nRMSE test: \", rmse_test)\n",
        "    rmse_test_arr.append(rmse_test)\n",
        "\n",
        "    rrmse_test = format(float(rmse_test*100/np.mean(y_test)),'.2f')\n",
        "    #print(\"\\nRRMSE test: \", rrmse_test,\"%\")\n",
        "    rrmse_test_arr.append(rrmse_test)\n",
        "\n",
        "    rmse_train = float(format(np.sqrt(mean_squared_error(y_train, y_pred_train)), '.3f'))\n",
        "    #print(\"\\nRMSE train: \", rmse_train)\n",
        "    rmse_train_arr.append(rmse_train)\n",
        "\n",
        "    rrmse_train = format(float(rmse_train*100/np.mean(y_train)),'.2f')\n",
        "    #print(\"\\nRRMSE train: \", rrmse_train,\"%\")\n",
        "    rrmse_train_arr.append(rrmse_train)\n",
        "\n",
        "    mae_test = float(format(mean_absolute_error(y_test, y_pred), '.3f'))\n",
        "    #print(\"\\nMAE Test: \", mae_test)\n",
        "    mae_test_arr.append(mae_test)\n",
        "    mae_train = float(format(mean_absolute_error(y_train, y_pred_train), '.3f'))\n",
        "    #print(\"\\nMAE Train: \", mae_train)\n",
        "    mae_train_arr.append(mae_train)\n",
        "\n",
        "    #print(\"\\nBias Test: \\n\", bias_value(y_test,y_pred))\n",
        "    bias_test_arr.append(bias_value(y_test,y_pred))\n",
        "    #print(\"\\nBias Train: \\n\", bias_value(y_train, y_pred_train))\n",
        "    bias_train_arr.append(bias_value(y_train, y_pred_train))\n",
        "\n",
        "data['Method'][0]='Linear Regression'\n",
        "data['RMSE test'][0]=np.mean(rmse_test_arr)\n",
        "data['RMSE train'][0]=np.mean(rmse_train_arr)\n",
        "data['RRMSE test'][0]=np.mean(np.array(rrmse_test_arr).astype(np.float))\n",
        "data['RRMSE train'][0]=np.mean(np.array(rrmse_train_arr).astype(np.float))\n",
        "data['MAE test'][0]=np.mean(mae_test_arr)\n",
        "data['MAE train'][0]=np.mean(mae_train_arr)\n",
        "data['R2_score test'][0]=np.mean(r2_test_arr)\n",
        "data['R2_score train'][0]=np.mean(r2_train_arr)\n",
        "data['Bias test'][0]=np.mean(bias_test_arr)\n",
        "data['Bias train'][0]=np.mean(bias_train_arr)\n",
        "\n",
        "#print(np.array(rmse_test_arr).astype(np.float))\n",
        "print(rmse_test_arr)\n",
        "print(sum(rmse_test_arr)/5)\n",
        "plt.figure(figsize=(12,12))\n",
        "plt.subplot(4, 2, 1)\n",
        "plt.title(\"rmse_test\")\n",
        "plt.bar([x for x in [0,1,2,3,4]],[rmse_test_arr[x] for x in [0,1,2,3,4]])"
      ],
      "metadata": {
        "colab": {
          "base_uri": "https://localhost:8080/",
          "height": 546
        },
        "id": "Q1Ivz1Pdrnje",
        "outputId": "c03f643d-e203-489b-f8f1-af1b1f1548e8"
      },
      "execution_count": null,
      "outputs": [
        {
          "output_type": "stream",
          "name": "stdout",
          "text": [
            "[ 2  3  4  6  7  8  9 10 12 13 14 15 16 17 18] [ 0  1  5 11]\n",
            "[ 0  1  2  4  5  6  7  9 10 11 12 14 15 17 18] [ 3  8 13 16]\n",
            "[ 0  1  3  4  5  6  7  8 10 11 12 13 14 16 18] [ 2  9 15 17]\n",
            "[ 0  1  2  3  5  6  8  9 10 11 13 14 15 16 17] [ 4  7 12 18]\n",
            "[ 0  1  2  3  4  5  7  8  9 11 12 13 15 16 17 18] [ 6 10 14]\n",
            "[618.145, 410.896, 492.414, 645.31, 140.705]\n",
            "461.49399999999997\n"
          ]
        },
        {
          "output_type": "stream",
          "name": "stderr",
          "text": [
            "<ipython-input-15-703380dd22a2>:65: DeprecationWarning: `np.float` is a deprecated alias for the builtin `float`. To silence this warning, use `float` by itself. Doing this will not modify any behavior and is safe. If you specifically wanted the numpy scalar type, use `np.float64` here.\n",
            "Deprecated in NumPy 1.20; for more details and guidance: https://numpy.org/devdocs/release/1.20.0-notes.html#deprecations\n",
            "  data['RRMSE test'][0]=np.mean(np.array(rrmse_test_arr).astype(np.float))\n",
            "<ipython-input-15-703380dd22a2>:66: DeprecationWarning: `np.float` is a deprecated alias for the builtin `float`. To silence this warning, use `float` by itself. Doing this will not modify any behavior and is safe. If you specifically wanted the numpy scalar type, use `np.float64` here.\n",
            "Deprecated in NumPy 1.20; for more details and guidance: https://numpy.org/devdocs/release/1.20.0-notes.html#deprecations\n",
            "  data['RRMSE train'][0]=np.mean(np.array(rrmse_train_arr).astype(np.float))\n"
          ]
        },
        {
          "output_type": "execute_result",
          "data": {
            "text/plain": [
              "<BarContainer object of 5 artists>"
            ]
          },
          "metadata": {},
          "execution_count": 15
        },
        {
          "output_type": "display_data",
          "data": {
            "text/plain": [
              "<Figure size 1200x1200 with 1 Axes>"
            ],
            "image/png": "[encoded data removed]"
          },
          "metadata": {}
        }
      ]
    },
    {
      "cell_type": "code",
      "source": [
        "tr = [ 0 , 1 , 2 , 3 , 4 , 5 , 7 , 8 , 9 ,11, 12, 13, 15, 16, 17, 18] \n",
        "tt = [ 6,10,14]\n",
        "x_train, x_test = df_train[selected_features_final].iloc[tr], df_train[selected_features_final].iloc[tt]\n",
        "y_train, y_test = df_train['prod'].iloc[tr], df_train['prod'].iloc[tt]\n",
        "print(tr,tt)\n",
        "scaler = MinMaxScaler()\n",
        "X_train = scaler.fit_transform(x_train)\n",
        "X_test = scaler.transform(x_test)\n",
        "model = LinearRegression().fit(X_train, y_train)\n",
        "\n",
        "x_ = df_test[selected_features_final]\n",
        "y_ = df_test['prod']\n",
        "y_pred_ = model.predict(x_)\n",
        "\n",
        "rmse_test = float(format(np.sqrt(mean_squared_error(y_pred_, y_)), '.3f'))\n",
        "print(\"\\nRMSE test: \", rmse_test)\n",
        "\n",
        "rrmse_test = format(float(rmse_test*100/np.mean(y_)),'.2f')\n",
        "print(\"\\nRRMSE test: \", rrmse_test,\"%\")\n",
        "\n",
        "\n",
        "# plt.figure(figsize=(12,12))\n",
        "# plt.scatter(y_, y_pred_)\n",
        "# # p1 = max(max(y_pred_), max(y_))\n",
        "# # p2 = min(min(y_pred_), min(y_))\n",
        "# # plt.plot( [p1,p2], [p1,p2], linestyle='--', color='k' )\n",
        "# plt.show()"
      ],
      "metadata": {
        "colab": {
          "base_uri": "https://localhost:8080/"
        },
        "id": "HZbyL6z8XNOu",
        "outputId": "edb2fcc4-ecb5-4494-9098-6ca7b87433cb"
      },
      "execution_count": null,
      "outputs": [
        {
          "output_type": "stream",
          "name": "stdout",
          "text": [
            "[0, 1, 2, 3, 4, 5, 7, 8, 9, 11, 12, 13, 15, 16, 17, 18] [6, 10, 14]\n",
            "\n",
            "RMSE test:  74710.409\n",
            "\n",
            "RRMSE test:  1622.84 %\n"
          ]
        },
        {
          "output_type": "stream",
          "name": "stderr",
          "text": [
            "/usr/local/lib/python3.10/dist-packages/sklearn/base.py:432: UserWarning: X has feature names, but LinearRegression was fitted without feature names\n",
            "  warnings.warn(\n"
          ]
        }
      ]
    },
    {
      "cell_type": "markdown",
      "metadata": {
        "id": "R80vCw0NI3xI"
      },
      "source": [
        "##SVR"
      ]
    },
    {
      "cell_type": "code",
      "execution_count": null,
      "metadata": {
        "id": "4E-wKr-LIYz2",
        "colab": {
          "base_uri": "https://localhost:8080/",
          "height": 511
        },
        "outputId": "74829fb4-7bae-4326-866b-17752a9bb46d"
      },
      "outputs": [
        {
          "output_type": "stream",
          "name": "stdout",
          "text": [
            "[ 2  3  4  6  7  8  9 10 12 13 14 15 16 17 18] [ 0  1  5 11]\n",
            "[ 0  1  2  4  5  6  7  9 10 11 12 14 15 17 18] [ 3  8 13 16]\n",
            "[ 0  1  3  4  5  6  7  8 10 11 12 13 14 16 18] [ 2  9 15 17]\n",
            "[ 0  1  2  3  5  6  8  9 10 11 13 14 15 16 17] [ 4  7 12 18]\n",
            "[ 0  1  2  3  4  5  7  8  9 11 12 13 15 16 17 18] [ 6 10 14]\n"
          ]
        },
        {
          "output_type": "stream",
          "name": "stderr",
          "text": [
            "<ipython-input-18-c4e701f267ca>:68: DeprecationWarning: `np.float` is a deprecated alias for the builtin `float`. To silence this warning, use `float` by itself. Doing this will not modify any behavior and is safe. If you specifically wanted the numpy scalar type, use `np.float64` here.\n",
            "Deprecated in NumPy 1.20; for more details and guidance: https://numpy.org/devdocs/release/1.20.0-notes.html#deprecations\n",
            "  data['RRMSE test'][1]=np.mean(np.array(rrmse_test_arr).astype(np.float))\n",
            "<ipython-input-18-c4e701f267ca>:69: DeprecationWarning: `np.float` is a deprecated alias for the builtin `float`. To silence this warning, use `float` by itself. Doing this will not modify any behavior and is safe. If you specifically wanted the numpy scalar type, use `np.float64` here.\n",
            "Deprecated in NumPy 1.20; for more details and guidance: https://numpy.org/devdocs/release/1.20.0-notes.html#deprecations\n",
            "  data['RRMSE train'][1]=np.mean(np.array(rrmse_train_arr).astype(np.float))\n"
          ]
        },
        {
          "output_type": "execute_result",
          "data": {
            "text/plain": [
              "<BarContainer object of 5 artists>"
            ]
          },
          "metadata": {},
          "execution_count": 18
        },
        {
          "output_type": "display_data",
          "data": {
            "text/plain": [
              "<Figure size 1200x1200 with 1 Axes>"
            ],
            "image/png": "[encoded data removed]"
          },
          "metadata": {}
        }
      ],
      "source": [
        "\n",
        "\n",
        "cv = KFold(n_splits=5, shuffle=True, random_state=42)\n",
        "\n",
        "# Iterate through CV splits\n",
        "rmse_test_arr = []\n",
        "rrmse_test_arr =[]\n",
        "r2_test_arr= []\n",
        "mae_test_arr = []\n",
        "\n",
        "rmse_train_arr = []\n",
        "rrmse_train_arr =[]\n",
        "r2_train_arr= []\n",
        "mae_train_arr = []\n",
        "\n",
        "bias_test_arr = []\n",
        "bias_train_arr = []\n",
        "\n",
        "\n",
        "for tr, tt in cv.split(df_train): #tr,tt are indexes\n",
        "    x_train, x_test = df_train[selected_features_final].iloc[tr], df_train[selected_features_final].iloc[tt]\n",
        "    y_train, y_test = df_train['prod'].iloc[tr], df_train['prod'].iloc[tt]\n",
        "    scaler = MinMaxScaler()\n",
        "    print(tr,tt)\n",
        "    X_train = scaler.fit_transform(x_train)\n",
        "    X_test = scaler.transform(x_test)\n",
        "    model = SVR().fit(X_train, y_train)\n",
        "    y_pred= model.predict(X_test)\n",
        "    y_pred_train= model.predict(X_train)\n",
        "\n",
        "    r2_test=r2_score(y_test,y_pred)\n",
        "    r2_train=r2_score(y_train,y_pred_train)\n",
        "    #print(r2_test)\n",
        "    #print(r2_train)\n",
        "    r2_test_arr.append(r2_test)\n",
        "    r2_train_arr.append(r2_train)\n",
        "\n",
        "    rmse_test = float(format(np.sqrt(mean_squared_error(y_test, y_pred)), '.3f'))\n",
        "    #print(\"\\nRMSE test: \", rmse_test)\n",
        "    rmse_test_arr.append(rmse_test)\n",
        "\n",
        "    rrmse_test = format(float(rmse_test*100/np.mean(y_test)),'.2f')\n",
        "    #print(\"\\nRRMSE test: \", rrmse_test,\"%\")\n",
        "    rrmse_test_arr.append(rrmse_test)\n",
        "\n",
        "    rmse_train = float(format(np.sqrt(mean_squared_error(y_train, y_pred_train)), '.3f'))\n",
        "    #print(\"\\nRMSE train: \", rmse_train)\n",
        "    rmse_train_arr.append(rmse_train)\n",
        "\n",
        "    rrmse_train = format(float(rmse_train*100/np.mean(y_train)),'.2f')\n",
        "    #print(\"\\nRRMSE train: \", rrmse_train,\"%\")\n",
        "    rrmse_train_arr.append(rrmse_train)\n",
        "\n",
        "\n",
        "    mae_test = float(format(mean_absolute_error(y_test, y_pred), '.3f'))\n",
        "    #print(\"\\nMAE Test: \", mae_test)\n",
        "    mae_test_arr.append(mae_test)\n",
        "    mae_train = float(format(mean_absolute_error(y_train, y_pred_train), '.3f'))\n",
        "    #print(\"\\nMAE Train: \", mae_train)\n",
        "    mae_train_arr.append(mae_train)\n",
        "\n",
        "                #print(\"\\nBias Test: \\n\", bias_value(y_test,y_pred))\n",
        "    bias_test_arr.append(bias_value(y_test,y_pred))\n",
        "    #print(\"\\nBias Train: \\n\", bias_value(y_train, y_pred_train))\n",
        "    bias_train_arr.append(bias_value(y_train, y_pred_train))\n",
        "\n",
        "data['Method'][1]='SVR'\n",
        "data['RMSE test'][1]=np.mean(rmse_test_arr)\n",
        "data['RMSE train'][1]=np.mean(rmse_train_arr)\n",
        "data['RRMSE test'][1]=np.mean(np.array(rrmse_test_arr).astype(np.float))\n",
        "data['RRMSE train'][1]=np.mean(np.array(rrmse_train_arr).astype(np.float))\n",
        "data['MAE test'][1]=np.mean(mae_test_arr)\n",
        "data['MAE train'][1]=np.mean(mae_train_arr)\n",
        "data['R2_score test'][1]=np.mean(r2_test_arr)\n",
        "data['R2_score train'][1]=np.mean(r2_train_arr)\n",
        "data['Bias test'][1]=np.mean(bias_test_arr)\n",
        "data['Bias train'][1]=np.mean(bias_train_arr)\n",
        "\n",
        "plt.figure(figsize=(12,12))\n",
        "plt.subplot(4, 2, 1)\n",
        "plt.title(\"rmse_test\")\n",
        "plt.bar([x for x in [0,1,2,3,4]],[rmse_test_arr[x] for x in [0,1,2,3,4]])\n",
        "\n",
        "# plt.subplot(4, 2, 2)\n",
        "# plt.title(\"rmse_train\")\n",
        "# plt.bar([x for x in [0,1,2,3,4]],[rmse_train_arr[x] for x in [0,1,2,3,4]])\n",
        "\n",
        "# plt.subplot(4, 2, 3)\n",
        "# plt.title(\"rrmse_test\")\n",
        "# plt.bar([x for x in [0,1,2,3,4]],[rrmse_test_arr[x] for x in [0,1,2,3,4]])\n",
        "\n",
        "# plt.subplot(4, 2, 4)\n",
        "# plt.title(\"rrmse_train\")\n",
        "# plt.bar([x for x in [0,1,2,3,4]],[rrmse_train_arr[x] for x in [0,1,2,3,4]])\n",
        "\n",
        "# plt.subplot(4, 2, 5)\n",
        "# plt.title(\"r2_test\")\n",
        "# plt.bar([x for x in [0,1,2,3,4]],[r2_test_arr[x] for x in [0,1,2,3,4]])\n",
        "\n",
        "# plt.subplot(4, 2, 6)\n",
        "# plt.title(\"r2_train\")\n",
        "# plt.bar([x for x in [0,1,2,3,4]],[r2_train_arr[x] for x in [0,1,2,3,4]])\n",
        "\n",
        "# plt.subplot(4, 2, 7)\n",
        "# plt.title(\"mae_test\")\n",
        "# plt.bar([x for x in [0,1,2,3,4]],[mae_test_arr[x] for x in [0,1,2,3,4]])\n",
        "\n",
        "# plt.subplot(4, 2, 8)\n",
        "# plt.title(\"mae_train\")\n",
        "# plt.bar([x for x in [0,1,2,3,4]],[mae_train_arr[x] for x in [0,1,2,3,4]])\n",
        "# plt.show()\n",
        "\n"
      ]
    },
    {
      "cell_type": "code",
      "source": [
        "tr = [ 0 , 1 , 2 , 3 , 4 , 5 , 7 , 8 , 9 ,11, 12, 13, 15, 16, 17, 18] \n",
        "tt = [ 6,10,14]\n",
        "x_train, x_test = df_train[selected_features_final].iloc[tr], df_train[selected_features_final].iloc[tt]\n",
        "y_train, y_test = df_train['prod'].iloc[tr], df_train['prod'].iloc[tt]\n",
        "print(tr,tt)\n",
        "scaler = MinMaxScaler()\n",
        "X_train = scaler.fit_transform(x_train)\n",
        "X_test = scaler.transform(x_test)\n",
        "model = SVR().fit(X_train, y_train)\n",
        "\n",
        "x_ = df_test[selected_features_final]\n",
        "y_ = df_test['prod']\n",
        "y_pred_ = model.predict(x_)\n",
        "\n",
        "rmse_test = float(format(np.sqrt(mean_squared_error(y_pred_, y_)), '.3f'))\n",
        "print(\"\\nRMSE test: \", rmse_test)\n",
        "\n",
        "rrmse_test = format(float(rmse_test*100/np.mean(y_)),'.2f')\n",
        "print(\"\\nRRMSE test: \", rrmse_test,\"%\")\n",
        "\n",
        "\n",
        "# plt.figure(figsize=(12,12))\n",
        "# plt.scatter(y_, y_pred_)\n",
        "# # p1 = max(max(y_pred_), max(y_))\n",
        "# # p2 = min(min(y_pred_), min(y_))\n",
        "# # plt.plot( [p1,p2], [p1,p2], linestyle='--', color='k' )\n",
        "# plt.show()"
      ],
      "metadata": {
        "colab": {
          "base_uri": "https://localhost:8080/"
        },
        "id": "wQ1ex5QZXtCf",
        "outputId": "ae2f9956-790c-4826-f647-8ab58ca1359d"
      },
      "execution_count": null,
      "outputs": [
        {
          "output_type": "stream",
          "name": "stdout",
          "text": [
            "[0, 1, 2, 3, 4, 5, 7, 8, 9, 11, 12, 13, 15, 16, 17, 18] [6, 10, 14]\n",
            "\n",
            "RMSE test:  866.396\n",
            "\n",
            "RRMSE test:  18.82 %\n"
          ]
        },
        {
          "output_type": "stream",
          "name": "stderr",
          "text": [
            "/usr/local/lib/python3.10/dist-packages/sklearn/base.py:432: UserWarning: X has feature names, but SVR was fitted without feature names\n",
            "  warnings.warn(\n"
          ]
        }
      ]
    },
    {
      "cell_type": "markdown",
      "source": [
        "##MLP"
      ],
      "metadata": {
        "id": "lMO0wcDQGt6B"
      }
    },
    {
      "cell_type": "code",
      "execution_count": null,
      "metadata": {
        "id": "E-mvNIKke2P3",
        "colab": {
          "base_uri": "https://localhost:8080/",
          "height": 598
        },
        "outputId": "b007eebe-ac12-4f90-f2ba-37f5c9a1d2f0"
      },
      "outputs": [
        {
          "output_type": "stream",
          "name": "stderr",
          "text": [
            "/usr/local/lib/python3.10/dist-packages/sklearn/neural_network/_multilayer_perceptron.py:686: ConvergenceWarning: Stochastic Optimizer: Maximum iterations (2000) reached and the optimization hasn't converged yet.\n",
            "  warnings.warn(\n",
            "/usr/local/lib/python3.10/dist-packages/sklearn/neural_network/_multilayer_perceptron.py:686: ConvergenceWarning: Stochastic Optimizer: Maximum iterations (2000) reached and the optimization hasn't converged yet.\n",
            "  warnings.warn(\n",
            "/usr/local/lib/python3.10/dist-packages/sklearn/neural_network/_multilayer_perceptron.py:686: ConvergenceWarning: Stochastic Optimizer: Maximum iterations (2000) reached and the optimization hasn't converged yet.\n",
            "  warnings.warn(\n",
            "/usr/local/lib/python3.10/dist-packages/sklearn/neural_network/_multilayer_perceptron.py:686: ConvergenceWarning: Stochastic Optimizer: Maximum iterations (2000) reached and the optimization hasn't converged yet.\n",
            "  warnings.warn(\n",
            "/usr/local/lib/python3.10/dist-packages/sklearn/neural_network/_multilayer_perceptron.py:686: ConvergenceWarning: Stochastic Optimizer: Maximum iterations (2000) reached and the optimization hasn't converged yet.\n",
            "  warnings.warn(\n",
            "<ipython-input-20-0930d9ed6269>:67: DeprecationWarning: `np.float` is a deprecated alias for the builtin `float`. To silence this warning, use `float` by itself. Doing this will not modify any behavior and is safe. If you specifically wanted the numpy scalar type, use `np.float64` here.\n",
            "Deprecated in NumPy 1.20; for more details and guidance: https://numpy.org/devdocs/release/1.20.0-notes.html#deprecations\n",
            "  data['RRMSE test'][2]=np.mean(np.array(rrmse_test_arr).astype(np.float))\n",
            "<ipython-input-20-0930d9ed6269>:68: DeprecationWarning: `np.float` is a deprecated alias for the builtin `float`. To silence this warning, use `float` by itself. Doing this will not modify any behavior and is safe. If you specifically wanted the numpy scalar type, use `np.float64` here.\n",
            "Deprecated in NumPy 1.20; for more details and guidance: https://numpy.org/devdocs/release/1.20.0-notes.html#deprecations\n",
            "  data['RRMSE train'][2]=np.mean(np.array(rrmse_train_arr).astype(np.float))\n"
          ]
        },
        {
          "output_type": "execute_result",
          "data": {
            "text/plain": [
              "<BarContainer object of 5 artists>"
            ]
          },
          "metadata": {},
          "execution_count": 20
        },
        {
          "output_type": "display_data",
          "data": {
            "text/plain": [
              "<Figure size 1200x1200 with 1 Axes>"
            ],
            "image/png": "[encoded data removed]"
          },
          "metadata": {}
        }
      ],
      "source": [
        "\n",
        "cv = KFold(n_splits=5, shuffle=True, random_state=42)\n",
        "\n",
        "# Iterate through CV splits\n",
        "rmse_test_arr = []\n",
        "rrmse_test_arr =[]\n",
        "r2_test_arr= []\n",
        "mae_test_arr = []\n",
        "\n",
        "rmse_train_arr = []\n",
        "rrmse_train_arr =[]\n",
        "r2_train_arr= []\n",
        "mae_train_arr = []\n",
        "\n",
        "bias_test_arr = []\n",
        "bias_train_arr = []\n",
        "\n",
        "\n",
        "for tr, tt in cv.split(df_train): #tr,tt are indexes\n",
        "    x_train, x_test = df_train[selected_features_final].iloc[tr], df_train[selected_features_final].iloc[tt]\n",
        "    y_train, y_test = df_train['prod'].iloc[tr], df_train['prod'].iloc[tt]\n",
        "    scaler = MinMaxScaler()\n",
        "    X_train = scaler.fit_transform(x_train)\n",
        "    X_test = scaler.transform(x_test)\n",
        "    model = MLPRegressor(hidden_layer_sizes=(64,64,64),activation=\"relu\" ,random_state=1, max_iter=2000).fit(X_train, y_train)\n",
        "    y_pred= model.predict(X_test)\n",
        "    y_pred_train= model.predict(X_train)\n",
        "\n",
        "    r2_test=r2_score(y_test,y_pred)\n",
        "    r2_train=r2_score(y_train,y_pred_train)\n",
        "    #print(r2_test)\n",
        "    #print(r2_train)\n",
        "    r2_test_arr.append(r2_test)\n",
        "    r2_train_arr.append(r2_train)\n",
        "\n",
        "    rmse_test = float(format(np.sqrt(mean_squared_error(y_test, y_pred)), '.3f'))\n",
        "    #print(\"\\nRMSE test: \", rmse_test)\n",
        "    rmse_test_arr.append(rmse_test)\n",
        "\n",
        "    rrmse_test = format(float(rmse_test*100/np.mean(y_test)),'.2f')\n",
        "    #print(\"\\nRRMSE test: \", rrmse_test,\"%\")\n",
        "    rrmse_test_arr.append(rrmse_test)\n",
        "\n",
        "    rmse_train = float(format(np.sqrt(mean_squared_error(y_train, y_pred_train)), '.3f'))\n",
        "    #print(\"\\nRMSE train: \", rmse_train)\n",
        "    rmse_train_arr.append(rmse_train)\n",
        "\n",
        "    rrmse_train = format(float(rmse_train*100/np.mean(y_train)),'.2f')\n",
        "    #print(\"\\nRRMSE train: \", rrmse_train,\"%\")\n",
        "    rrmse_train_arr.append(rrmse_train)\n",
        "\n",
        "\n",
        "    mae_test = float(format(mean_absolute_error(y_test, y_pred), '.3f'))\n",
        "    #print(\"\\nMAE Test: \", mae_test)\n",
        "    mae_test_arr.append(mae_test)\n",
        "    mae_train = float(format(mean_absolute_error(y_train, y_pred_train), '.3f'))\n",
        "    #print(\"\\nMAE Train: \", mae_train)\n",
        "    mae_train_arr.append(mae_train)\n",
        "\n",
        "                #print(\"\\nBias Test: \\n\", bias_value(y_test,y_pred))\n",
        "    bias_test_arr.append(bias_value(y_test,y_pred))\n",
        "    #print(\"\\nBias Train: \\n\", bias_value(y_train, y_pred_train))\n",
        "    bias_train_arr.append(bias_value(y_train, y_pred_train))\n",
        "\n",
        "data['Method'][2]='MLP'\n",
        "data['RMSE test'][2]=np.mean(rmse_test_arr)\n",
        "data['RMSE train'][2]=np.mean(rmse_train_arr)\n",
        "data['RRMSE test'][2]=np.mean(np.array(rrmse_test_arr).astype(np.float))\n",
        "data['RRMSE train'][2]=np.mean(np.array(rrmse_train_arr).astype(np.float))\n",
        "data['MAE test'][2]=np.mean(mae_test_arr)\n",
        "data['MAE train'][2]=np.mean(mae_train_arr)\n",
        "data['R2_score test'][2]=np.mean(r2_test_arr)\n",
        "data['R2_score train'][2]=np.mean(r2_train_arr)\n",
        "data['Bias test'][2]=np.mean(bias_test_arr)\n",
        "data['Bias train'][2]=np.mean(bias_train_arr)\n",
        "\n",
        "plt.figure(figsize=(12,12))\n",
        "plt.subplot(4, 2, 1)\n",
        "plt.title(\"rmse_test\")\n",
        "plt.bar([x for x in [0,1,2,3,4]],[rmse_test_arr[x] for x in [0,1,2,3,4]])\n",
        "\n",
        "# plt.subplot(4, 2, 2)\n",
        "# plt.title(\"rmse_train\")\n",
        "# plt.bar([x for x in [0,1,2,3,4]],[rmse_train_arr[x] for x in [0,1,2,3,4]])\n",
        "\n",
        "# plt.subplot(4, 2, 3)\n",
        "# plt.title(\"rrmse_test\")\n",
        "# plt.bar([x for x in [0,1,2,3,4]],[rrmse_test_arr[x] for x in [0,1,2,3,4]])\n",
        "\n",
        "# plt.subplot(4, 2, 4)\n",
        "# plt.title(\"rrmse_train\")\n",
        "# plt.bar([x for x in [0,1,2,3,4]],[rrmse_train_arr[x] for x in [0,1,2,3,4]])\n",
        "\n",
        "# plt.subplot(4, 2, 5)\n",
        "# plt.title(\"r2_test\")\n",
        "# plt.bar([x for x in [0,1,2,3,4]],[r2_test_arr[x] for x in [0,1,2,3,4]])\n",
        "\n",
        "# plt.subplot(4, 2, 6)\n",
        "# plt.title(\"r2_train\")\n",
        "# plt.bar([x for x in [0,1,2,3,4]],[r2_train_arr[x] for x in [0,1,2,3,4]])\n",
        "\n",
        "# plt.subplot(4, 2, 7)\n",
        "# plt.title(\"mae_test\")\n",
        "# plt.bar([x for x in [0,1,2,3,4]],[mae_test_arr[x] for x in [0,1,2,3,4]])\n",
        "\n",
        "# plt.subplot(4, 2, 8)\n",
        "# plt.title(\"mae_train\")\n",
        "# plt.bar([x for x in [0,1,2,3,4]],[mae_train_arr[x] for x in [0,1,2,3,4]])\n",
        "# plt.show()\n",
        "\n"
      ]
    },
    {
      "cell_type": "code",
      "source": [
        "tr = [ 0 , 1 , 2 , 3 , 4 , 5 , 7 , 8 , 9 ,11, 12, 13, 15, 16, 17, 18] \n",
        "tt = [ 6,10,14]\n",
        "x_train, x_test = df_train[selected_features_final].iloc[tr], df_train[selected_features_final].iloc[tt]\n",
        "y_train, y_test = df_train['prod'].iloc[tr], df_train['prod'].iloc[tt]\n",
        "print(tr,tt)\n",
        "scaler = MinMaxScaler()\n",
        "X_train = scaler.fit_transform(x_train)\n",
        "X_test = scaler.transform(x_test)\n",
        "model = MLPRegressor(hidden_layer_sizes=(64,64,64),activation=\"relu\" ,random_state=1, max_iter=2000).fit(X_train, y_train)\n",
        "\n",
        "\n",
        "x_ = df_test[selected_features_final]\n",
        "y_ = df_test['prod']\n",
        "y_pred_ = model.predict(x_)\n",
        "\n",
        "rmse_test = float(format(np.sqrt(mean_squared_error(y_pred_, y_)), '.3f'))\n",
        "print(\"\\nRMSE test: \", rmse_test)\n",
        "\n",
        "rrmse_test = format(float(rmse_test*100/np.mean(y_)),'.2f')\n",
        "print(\"\\nRRMSE test: \", rrmse_test,\"%\")\n",
        "\n",
        "\n",
        "# plt.figure(figsize=(12,12))\n",
        "# plt.scatter(y_, y_pred_)\n",
        "# # p1 = max(max(y_pred_), max(y_))\n",
        "# # p2 = min(min(y_pred_), min(y_))\n",
        "# # plt.plot( [p1,p2], [p1,p2], linestyle='--', color='k' )\n",
        "# plt.show()"
      ],
      "metadata": {
        "colab": {
          "base_uri": "https://localhost:8080/"
        },
        "id": "Ge2FfnLiYNkc",
        "outputId": "be692aff-1185-4a35-bc2c-36fdee771087"
      },
      "execution_count": null,
      "outputs": [
        {
          "output_type": "stream",
          "name": "stdout",
          "text": [
            "[0, 1, 2, 3, 4, 5, 7, 8, 9, 11, 12, 13, 15, 16, 17, 18] [6, 10, 14]\n",
            "\n",
            "RMSE test:  42323.895\n",
            "\n",
            "RRMSE test:  919.35 %\n"
          ]
        },
        {
          "output_type": "stream",
          "name": "stderr",
          "text": [
            "/usr/local/lib/python3.10/dist-packages/sklearn/neural_network/_multilayer_perceptron.py:686: ConvergenceWarning: Stochastic Optimizer: Maximum iterations (2000) reached and the optimization hasn't converged yet.\n",
            "  warnings.warn(\n",
            "/usr/local/lib/python3.10/dist-packages/sklearn/base.py:432: UserWarning: X has feature names, but MLPRegressor was fitted without feature names\n",
            "  warnings.warn(\n"
          ]
        }
      ]
    },
    {
      "cell_type": "markdown",
      "metadata": {
        "id": "YC7q8JzuRjUg"
      },
      "source": [
        "##KNN"
      ]
    },
    {
      "cell_type": "code",
      "source": [
        "\n",
        "\n",
        "cv = KFold(n_splits=5, shuffle=True, random_state=42)\n",
        "\n",
        "# Iterate through CV splits\n",
        "rmse_test_arr = []\n",
        "rrmse_test_arr =[]\n",
        "r2_test_arr= []\n",
        "mae_test_arr = []\n",
        "\n",
        "rmse_train_arr = []\n",
        "rrmse_train_arr =[]\n",
        "r2_train_arr= []\n",
        "mae_train_arr = []\n",
        "\n",
        "bias_test_arr = []\n",
        "bias_train_arr = []\n",
        "\n",
        "\n",
        "for tr, tt in cv.split(df_train): #tr,tt are indexes\n",
        "    x_train, x_test = df_train[selected_features_final].iloc[tr], df_train[selected_features_final].iloc[tt]\n",
        "    y_train, y_test = df_train['prod'].iloc[tr], df_train['prod'].iloc[tt]\n",
        "    scaler = MinMaxScaler()\n",
        "    X_train = scaler.fit_transform(x_train)\n",
        "    X_test = scaler.transform(x_test)\n",
        "    K=5\n",
        "    model = neighbors.KNeighborsRegressor(n_neighbors = K).fit(X_train, y_train)\n",
        "    y_pred= model.predict(X_test)\n",
        "    y_pred_train= model.predict(X_train)\n",
        "\n",
        "    r2_test=r2_score(y_test,y_pred)\n",
        "    r2_train=r2_score(y_train,y_pred_train)\n",
        "    #print(r2_test)\n",
        "    #print(r2_train)\n",
        "    r2_test_arr.append(r2_test)\n",
        "    r2_train_arr.append(r2_train)\n",
        "\n",
        "    rmse_test = float(format(np.sqrt(mean_squared_error(y_test, y_pred)), '.3f'))\n",
        "    #print(\"\\nRMSE test: \", rmse_test)\n",
        "    rmse_test_arr.append(rmse_test)\n",
        "\n",
        "    rrmse_test = format(float(rmse_test*100/np.mean(y_test)),'.2f')\n",
        "    #print(\"\\nRRMSE test: \", rrmse_test,\"%\")\n",
        "    rrmse_test_arr.append(rrmse_test)\n",
        "\n",
        "    rmse_train = float(format(np.sqrt(mean_squared_error(y_train, y_pred_train)), '.3f'))\n",
        "    #print(\"\\nRMSE train: \", rmse_train)\n",
        "    rmse_train_arr.append(rmse_train)\n",
        "\n",
        "    rrmse_train = format(float(rmse_train*100/np.mean(y_train)),'.2f')\n",
        "    #print(\"\\nRRMSE train: \", rrmse_train,\"%\")\n",
        "    rrmse_train_arr.append(rrmse_train)\n",
        "\n",
        "\n",
        "    mae_test = float(format(mean_absolute_error(y_test, y_pred), '.3f'))\n",
        "    #print(\"\\nMAE Test: \", mae_test)\n",
        "    mae_test_arr.append(mae_test)\n",
        "    mae_train = float(format(mean_absolute_error(y_train, y_pred_train), '.3f'))\n",
        "    #print(\"\\nMAE Train: \", mae_train)\n",
        "    mae_train_arr.append(mae_train)\n",
        "\n",
        "                #print(\"\\nBias Test: \\n\", bias_value(y_test,y_pred))\n",
        "    bias_test_arr.append(bias_value(y_test,y_pred))\n",
        "    #print(\"\\nBias Train: \\n\", bias_value(y_train, y_pred_train))\n",
        "    bias_train_arr.append(bias_value(y_train, y_pred_train))\n",
        "\n",
        "data['Method'][3]='KNN'\n",
        "data['RMSE test'][3]=np.mean(rmse_test_arr)\n",
        "data['RMSE train'][3]=np.mean(rmse_train_arr)\n",
        "data['RRMSE test'][3]=np.mean(np.array(rrmse_test_arr).astype(np.float))\n",
        "data['RRMSE train'][3]=np.mean(np.array(rrmse_train_arr).astype(np.float))\n",
        "data['MAE test'][3]=np.mean(mae_test_arr)\n",
        "data['MAE train'][3]=np.mean(mae_train_arr)\n",
        "data['R2_score test'][3]=np.mean(r2_test_arr)\n",
        "data['R2_score train'][3]=np.mean(r2_train_arr)\n",
        "data['Bias test'][3]=np.mean(bias_test_arr)\n",
        "data['Bias train'][3]=np.mean(bias_train_arr)\n",
        "\n",
        "plt.figure(figsize=(12,12))\n",
        "plt.subplot(4, 2, 1)\n",
        "plt.title(\"rmse_test\")\n",
        "plt.bar([x for x in [0,1,2,3,4]],[rmse_test_arr[x] for x in [0,1,2,3,4]])\n",
        "\n",
        "# plt.subplot(4, 2, 2)\n",
        "# plt.title(\"rmse_train\")\n",
        "# plt.bar([x for x in [0,1,2,3,4]],[rmse_train_arr[x] for x in [0,1,2,3,4]])\n",
        "\n",
        "# plt.subplot(4, 2, 3)\n",
        "# plt.title(\"rrmse_test\")\n",
        "# plt.bar([x for x in [0,1,2,3,4]],[rrmse_test_arr[x] for x in [0,1,2,3,4]])\n",
        "\n",
        "# plt.subplot(4, 2, 4)\n",
        "# plt.title(\"rrmse_train\")\n",
        "# plt.bar([x for x in [0,1,2,3,4]],[rrmse_train_arr[x] for x in [0,1,2,3,4]])\n",
        "\n",
        "# plt.subplot(4, 2, 5)\n",
        "# plt.title(\"r2_test\")\n",
        "# plt.bar([x for x in [0,1,2,3,4]],[r2_test_arr[x] for x in [0,1,2,3,4]])\n",
        "\n",
        "# plt.subplot(4, 2, 6)\n",
        "# plt.title(\"r2_train\")\n",
        "# plt.bar([x for x in [0,1,2,3,4]],[r2_train_arr[x] for x in [0,1,2,3,4]])\n",
        "\n",
        "# plt.subplot(4, 2, 7)\n",
        "# plt.title(\"mae_test\")\n",
        "# plt.bar([x for x in [0,1,2,3,4]],[mae_test_arr[x] for x in [0,1,2,3,4]])\n",
        "\n",
        "# plt.subplot(4, 2, 8)\n",
        "# plt.title(\"mae_train\")\n",
        "# plt.bar([x for x in [0,1,2,3,4]],[mae_train_arr[x] for x in [0,1,2,3,4]])\n",
        "# plt.show()\n",
        "\n"
      ],
      "metadata": {
        "id": "MSvXfaFlkVSn",
        "colab": {
          "base_uri": "https://localhost:8080/",
          "height": 245
        },
        "outputId": "52728a7a-9174-444a-81e0-7606c9e30e80"
      },
      "execution_count": null,
      "outputs": [
        {
          "output_type": "stream",
          "name": "stderr",
          "text": [
            "<ipython-input-33-e2888801e383>:68: DeprecationWarning: `np.float` is a deprecated alias for the builtin `float`. To silence this warning, use `float` by itself. Doing this will not modify any behavior and is safe. If you specifically wanted the numpy scalar type, use `np.float64` here.\n",
            "Deprecated in NumPy 1.20; for more details and guidance: https://numpy.org/devdocs/release/1.20.0-notes.html#deprecations\n",
            "  data['RRMSE test'][3]=np.mean(np.array(rrmse_test_arr).astype(np.float))\n",
            "<ipython-input-33-e2888801e383>:69: DeprecationWarning: `np.float` is a deprecated alias for the builtin `float`. To silence this warning, use `float` by itself. Doing this will not modify any behavior and is safe. If you specifically wanted the numpy scalar type, use `np.float64` here.\n",
            "Deprecated in NumPy 1.20; for more details and guidance: https://numpy.org/devdocs/release/1.20.0-notes.html#deprecations\n",
            "  data['RRMSE train'][3]=np.mean(np.array(rrmse_train_arr).astype(np.float))\n"
          ]
        },
        {
          "output_type": "execute_result",
          "data": {
            "text/plain": [
              "<BarContainer object of 5 artists>"
            ]
          },
          "metadata": {},
          "execution_count": 33
        },
        {
          "output_type": "display_data",
          "data": {
            "text/plain": [
              "<Figure size 1200x1200 with 1 Axes>"
            ],
            "image/png": "[encoded data removed]"
          },
          "metadata": {}
        }
      ]
    },
    {
      "cell_type": "code",
      "source": [
        "tr = [ 0 , 1 , 2 , 3 , 4 , 5 , 7 , 8 , 9 ,11, 12, 13, 15, 16, 17, 18] \n",
        "tt = [ 6,10,14]\n",
        "x_train, x_test = df_train[selected_features_final].iloc[tr], df_train[selected_features_final].iloc[tt]\n",
        "y_train, y_test = df_train['prod'].iloc[tr], df_train['prod'].iloc[tt]\n",
        "print(tr,tt)\n",
        "scaler = MinMaxScaler()\n",
        "X_train = scaler.fit_transform(x_train)\n",
        "X_test = scaler.transform(x_test)\n",
        "K=5\n",
        "model = neighbors.KNeighborsRegressor(n_neighbors = K).fit(X_train, y_train)\n",
        "\n",
        "x_ = df_test[selected_features_final]\n",
        "y_ = df_test['prod']\n",
        "y_pred_ = model.predict(x_)\n",
        "\n",
        "rmse_test = float(format(np.sqrt(mean_squared_error(y_pred_, y_)), '.3f'))\n",
        "print(\"\\nRMSE test: \", rmse_test)\n",
        "\n",
        "rrmse_test = format(float(rmse_test*100/np.mean(y_)),'.2f')\n",
        "print(\"\\nRRMSE test: \", rrmse_test,\"%\")\n",
        "\n",
        "\n",
        "# plt.figure(figsize=(12,12))\n",
        "# plt.scatter(y_, y_pred_)\n",
        "# # p1 = max(max(y_pred_), max(y_))\n",
        "# # p2 = min(min(y_pred_), min(y_))\n",
        "# # plt.plot( [p1,p2], [p1,p2], linestyle='--', color='k' )\n",
        "# plt.show()"
      ],
      "metadata": {
        "colab": {
          "base_uri": "https://localhost:8080/"
        },
        "id": "XmUhP56_YlxF",
        "outputId": "01bfb4bd-d74c-418f-8d46-68d3fd69c1b5"
      },
      "execution_count": null,
      "outputs": [
        {
          "output_type": "stream",
          "name": "stdout",
          "text": [
            "[0, 1, 2, 3, 4, 5, 7, 8, 9, 11, 12, 13, 15, 16, 17, 18] [6, 10, 14]\n",
            "\n",
            "RMSE test:  1218.537\n",
            "\n",
            "RRMSE test:  26.47 %\n"
          ]
        },
        {
          "output_type": "stream",
          "name": "stderr",
          "text": [
            "/usr/local/lib/python3.10/dist-packages/sklearn/base.py:432: UserWarning: X has feature names, but KNeighborsRegressor was fitted without feature names\n",
            "  warnings.warn(\n"
          ]
        }
      ]
    },
    {
      "cell_type": "markdown",
      "metadata": {
        "id": "B-HNDjjm4BRX"
      },
      "source": [
        "##Random Forest"
      ]
    },
    {
      "cell_type": "code",
      "source": [
        "cv = KFold(n_splits=5, shuffle=True, random_state=42)\n",
        "\n",
        "# Iterate through CV splits\n",
        "rmse_test_arr = []\n",
        "rrmse_test_arr =[]\n",
        "r2_test_arr= []\n",
        "mae_test_arr = []\n",
        "\n",
        "rmse_train_arr = []\n",
        "rrmse_train_arr =[]\n",
        "r2_train_arr= []\n",
        "mae_train_arr = []\n",
        "\n",
        "bias_test_arr = []\n",
        "bias_train_arr = []\n",
        "\n",
        "for tr, tt in cv.split(df_train): #tr,tt are indexes\n",
        "    x_train, x_test = df_train[selected_features_final].iloc[tr], df_train[selected_features_final].iloc[tt]\n",
        "    y_train, y_test = df_train['prod'].iloc[tr], df_train['prod'].iloc[tt]\n",
        "    print(tr,tt)\n",
        "    scaler = MinMaxScaler()\n",
        "    X_train = scaler.fit_transform(pd.DataFrame(x_train))\n",
        "    X_test = scaler.transform(pd.DataFrame(x_test))\n",
        "    model =  RandomForestRegressor(n_estimators = 1000, random_state = 42).fit(X_train, y_train)\n",
        "    y_pred= model.predict(X_test)\n",
        "    y_pred_train= model.predict(X_train)\n",
        "\n",
        "    r2_test=r2_score(y_test,y_pred)\n",
        "    r2_train=r2_score(y_train,y_pred_train)\n",
        "    #print(r2_test)\n",
        "    #print(r2_train)\n",
        "    r2_test_arr.append(r2_test)\n",
        "    r2_train_arr.append(r2_train)\n",
        "\n",
        "    rmse_test = float(format(np.sqrt(mean_squared_error(y_test, y_pred)), '.3f'))\n",
        "    #print(\"\\nRMSE test: \", rmse_test)\n",
        "    rmse_test_arr.append(rmse_test)\n",
        "\n",
        "    rrmse_test = format(float(rmse_test*100/np.mean(y_test)),'.2f')\n",
        "    #print(\"\\nRRMSE test: \", rrmse_test,\"%\")\n",
        "    rrmse_test_arr.append(rrmse_test)\n",
        "\n",
        "    rmse_train = float(format(np.sqrt(mean_squared_error(y_train, y_pred_train)), '.3f'))\n",
        "    #print(\"\\nRMSE train: \", rmse_train)\n",
        "    rmse_train_arr.append(rmse_train)\n",
        "\n",
        "    rrmse_train = format(float(rmse_train*100/np.mean(y_train)),'.2f')\n",
        "    #print(\"\\nRRMSE train: \", rrmse_train,\"%\")\n",
        "    rrmse_train_arr.append(rrmse_train)\n",
        "\n",
        "\n",
        "    mae_test = float(format(mean_absolute_error(y_test, y_pred), '.3f'))\n",
        "    #print(\"\\nMAE Test: \", mae_test)\n",
        "    mae_test_arr.append(mae_test)\n",
        "    mae_train = float(format(mean_absolute_error(y_train, y_pred_train), '.3f'))\n",
        "    #print(\"\\nMAE Train: \", mae_train)\n",
        "    mae_train_arr.append(mae_train)\n",
        "\n",
        "    #print(\"\\nBias Test: \\n\", bias_value(y_test,y_pred))\n",
        "    bias_test_arr.append(bias_value(y_test,y_pred))\n",
        "    #print(\"\\nBias Train: \\n\", bias_value(y_train, y_pred_train))\n",
        "    bias_train_arr.append(bias_value(y_train, y_pred_train))\n",
        "\n",
        "data['Method'][4]='Random Forest'\n",
        "data['RMSE test'][4]=np.mean(rmse_test_arr)\n",
        "data['RMSE train'][4]=np.mean(rmse_train_arr)\n",
        "data['RRMSE test'][4]=np.mean(np.array(rrmse_test_arr).astype(np.float))\n",
        "data['RRMSE train'][4]=np.mean(np.array(rrmse_train_arr).astype(np.float))\n",
        "data['MAE test'][4]=np.mean(mae_test_arr)\n",
        "data['MAE train'][4]=np.mean(mae_train_arr)\n",
        "data['R2_score test'][4]=np.mean(r2_test_arr)\n",
        "data['R2_score train'][4]=np.mean(r2_train_arr)\n",
        "data['Bias test'][4]=np.mean(bias_test_arr)\n",
        "data['Bias train'][4]=np.mean(bias_train_arr)\n",
        "\n",
        "print(np.array(rmse_test_arr).astype(np.float))\n",
        "print(sum(np.array(rmse_test_arr))/5)\n",
        "x_train, x_test = df_train[selected_features_final], df_test[selected_features_final]\n",
        "y_train, y_test = df_train['prod'], df_test['prod']\n",
        "\n",
        "X_train = scaler.fit_transform(pd.DataFrame(x_train))\n",
        "X_test = scaler.transform(pd.DataFrame(x_test))\n",
        "#model =  RandomForestRegressor(n_estimators = 1000, random_state = 42).fit(X_train, y_train)\n",
        "y_pred= model.predict(X_test)\n",
        "rmse_test = float(format(np.sqrt(mean_squared_error(y_test, y_pred)), '.3f'))\n",
        "print(rmse_test)"
      ],
      "metadata": {
        "id": "Nbv4aL77Hj7T",
        "colab": {
          "base_uri": "https://localhost:8080/"
        },
        "outputId": "fcf98323-adc6-463c-c661-c9dafd5ebda7"
      },
      "execution_count": null,
      "outputs": [
        {
          "output_type": "stream",
          "name": "stdout",
          "text": [
            "[ 2  3  4  6  7  8  9 10 12 13 14 15 16 17 18] [ 0  1  5 11]\n",
            "[ 0  1  2  4  5  6  7  9 10 11 12 14 15 17 18] [ 3  8 13 16]\n",
            "[ 0  1  3  4  5  6  7  8 10 11 12 13 14 16 18] [ 2  9 15 17]\n",
            "[ 0  1  2  3  5  6  8  9 10 11 13 14 15 16 17] [ 4  7 12 18]\n",
            "[ 0  1  2  3  4  5  7  8  9 11 12 13 15 16 17 18] [ 6 10 14]\n",
            "[625.505 531.847 416.257 736.142 132.409]\n",
            "488.4320000000001\n",
            "846.076\n"
          ]
        },
        {
          "output_type": "stream",
          "name": "stderr",
          "text": [
            "<ipython-input-34-ec6b422faa6f>:67: DeprecationWarning: `np.float` is a deprecated alias for the builtin `float`. To silence this warning, use `float` by itself. Doing this will not modify any behavior and is safe. If you specifically wanted the numpy scalar type, use `np.float64` here.\n",
            "Deprecated in NumPy 1.20; for more details and guidance: https://numpy.org/devdocs/release/1.20.0-notes.html#deprecations\n",
            "  data['RRMSE test'][4]=np.mean(np.array(rrmse_test_arr).astype(np.float))\n",
            "<ipython-input-34-ec6b422faa6f>:68: DeprecationWarning: `np.float` is a deprecated alias for the builtin `float`. To silence this warning, use `float` by itself. Doing this will not modify any behavior and is safe. If you specifically wanted the numpy scalar type, use `np.float64` here.\n",
            "Deprecated in NumPy 1.20; for more details and guidance: https://numpy.org/devdocs/release/1.20.0-notes.html#deprecations\n",
            "  data['RRMSE train'][4]=np.mean(np.array(rrmse_train_arr).astype(np.float))\n",
            "<ipython-input-34-ec6b422faa6f>:76: DeprecationWarning: `np.float` is a deprecated alias for the builtin `float`. To silence this warning, use `float` by itself. Doing this will not modify any behavior and is safe. If you specifically wanted the numpy scalar type, use `np.float64` here.\n",
            "Deprecated in NumPy 1.20; for more details and guidance: https://numpy.org/devdocs/release/1.20.0-notes.html#deprecations\n",
            "  print(np.array(rmse_test_arr).astype(np.float))\n"
          ]
        }
      ]
    },
    {
      "cell_type": "code",
      "source": [
        "tr = [ 0 , 1 , 2 , 3 , 4 , 5 , 7 , 8 , 9 ,11, 12, 13, 15, 16, 17, 18] \n",
        "tt = [ 6,10,14]\n",
        "x_train, x_test = df_train[selected_features_final].iloc[tr], df_train[selected_features_final].iloc[tt]\n",
        "y_train, y_test = df_train['prod'].iloc[tr], df_train['prod'].iloc[tt]\n",
        "print(tr,tt)\n",
        "scaler = MinMaxScaler()\n",
        "\n",
        "X_train = scaler.fit_transform(x_train)\n",
        "X_test = scaler.transform(x_test)\n",
        "model =  RandomForestRegressor(n_estimators = 1000, random_state = 42).fit(X_train, y_train)\n",
        "\n",
        "\n",
        "x_ = df_test[selected_features_final]\n",
        "y_ = df_test['prod']\n",
        "y_pred_ = model.predict(x_)\n",
        "\n",
        "rmse_test = float(format(np.sqrt(mean_squared_error(y_pred_, y_)), '.3f'))\n",
        "print(\"\\nRMSE test: \", rmse_test)\n",
        "\n",
        "rrmse_test = format(float(rmse_test*100/np.mean(y_)),'.2f')\n",
        "print(\"\\nRRMSE test: \", rrmse_test,\"%\")\n",
        "\n",
        "\n",
        "# plt.figure(figsize=(12,12))\n",
        "# plt.scatter(y_, y_pred_)\n",
        "# # p1 = max(max(y_pred_), max(y_))\n",
        "# # p2 = min(min(y_pred_), min(y_))\n",
        "# # plt.plot( [p1,p2], [p1,p2], linestyle='--', color='k' )\n",
        "# plt.show()\n"
      ],
      "metadata": {
        "colab": {
          "base_uri": "https://localhost:8080/"
        },
        "id": "piDQQtscY4gA",
        "outputId": "693548da-38bd-4048-dad6-1753fbeb419c"
      },
      "execution_count": null,
      "outputs": [
        {
          "output_type": "stream",
          "name": "stdout",
          "text": [
            "[0, 1, 2, 3, 4, 5, 7, 8, 9, 11, 12, 13, 15, 16, 17, 18] [6, 10, 14]\n",
            "\n",
            "RMSE test:  900.368\n",
            "\n",
            "RRMSE test:  19.56 %\n"
          ]
        },
        {
          "output_type": "stream",
          "name": "stderr",
          "text": [
            "/usr/local/lib/python3.10/dist-packages/sklearn/base.py:432: UserWarning: X has feature names, but RandomForestRegressor was fitted without feature names\n",
            "  warnings.warn(\n"
          ]
        }
      ]
    },
    {
      "cell_type": "markdown",
      "metadata": {
        "id": "4D91CwhK_Wwz"
      },
      "source": [
        "# Results"
      ]
    },
    {
      "cell_type": "code",
      "execution_count": null,
      "metadata": {
        "id": "1i0QozER-dN5",
        "colab": {
          "base_uri": "https://localhost:8080/"
        },
        "outputId": "48862b2c-928d-46c6-ba3c-c106bc936328"
      },
      "outputs": [
        {
          "output_type": "stream",
          "name": "stdout",
          "text": [
            "dataset:  Anuradhapura yala kannaya\n",
            "test size :  8 , 29.62962962962963 %\n",
            "              Method  RMSE test  RMSE train  RRMSE test  RRMSE train  \\\n",
            "0  Linear Regression   461.4940    430.2904      12.172       11.210   \n",
            "1                SVR   526.0700    545.2514      13.860       14.202   \n",
            "2                MLP   467.5914    431.3306      12.328       11.236   \n",
            "3                KNN   446.0690    403.8738      11.780       10.516   \n",
            "4      Random Forest   488.4320    201.0934      12.916        5.236   \n",
            "\n",
            "   MAE test  MAE train  R2_score test  R2_score train  Bias test    Bias train  \n",
            "0  387.1164   346.1444      -0.142902        0.368660   6.057386 -1.008023e-13  \n",
            "1  440.4126   437.2064      -0.282639       -0.001314 -17.667301 -1.932393e+01  \n",
            "2  393.0264   344.9824      -0.175102        0.365965   7.941140  8.373249e-01  \n",
            "3  373.4000   314.8154       0.009217        0.436824   4.620000  1.162283e+01  \n",
            "4  421.2856   164.4674      -0.166420        0.862564 -46.637550 -1.099468e+01  \n"
          ]
        }
      ],
      "source": [
        "mydf = pd.DataFrame(data, columns = ['Method', 'RMSE test','RMSE train','RRMSE test','RRMSE train','MAE test','MAE train','R2_score test','R2_score train','Bias test','Bias train'])\n",
        "print(\"dataset: \", dataset)\n",
        "print(\"test size : \",test_size,\",\", test_size*100/len(df.index),\"%\")\n",
        "print(mydf)"
      ]
    },
    {
      "cell_type": "code",
      "execution_count": null,
      "metadata": {
        "id": "tzyYz9Qh-ef0"
      },
      "outputs": [],
      "source": [
        "mydf.to_excel (r'export_dataframe.xlsx', index = False, header=True)"
      ]
    }
  ]
}