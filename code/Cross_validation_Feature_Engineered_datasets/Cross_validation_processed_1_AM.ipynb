{
  "nbformat": 4,
  "nbformat_minor": 0,
  "metadata": {
    "colab": {
      "provenance": []
    },
    "kernelspec": {
      "name": "python3",
      "display_name": "Python 3"
    },
    "language_info": {
      "name": "python"
    }
  },
  "cells": [
    {
      "cell_type": "code",
      "execution_count": null,
      "metadata": {
        "colab": {
          "base_uri": "https://localhost:8080/"
        },
        "id": "CVRWlce-Eu-_",
        "outputId": "0dc2f4ae-b739-4c35-992f-32deae3cb99a"
      },
      "outputs": [
        {
          "output_type": "stream",
          "name": "stdout",
          "text": [
            "Mounted at /content/drive\n"
          ]
        }
      ],
      "source": [
        "from google.colab import drive\n",
        "drive.mount('/content/drive')"
      ]
    },
    {
      "cell_type": "code",
      "execution_count": null,
      "metadata": {
        "id": "AMcXr6qpE7Ep"
      },
      "outputs": [],
      "source": [
        "import numpy as np\n",
        "import pandas as pd\n",
        "from array import *\n",
        "import math"
      ]
    },
    {
      "cell_type": "markdown",
      "metadata": {
        "id": "_7eC-Wi-U-4R"
      },
      "source": [
        "##All datasets"
      ]
    },
    {
      "cell_type": "code",
      "execution_count": null,
      "metadata": {
        "id": "JHpptGXZFPRA"
      },
      "outputs": [],
      "source": [
        "df1 = pd.read_csv('/content/drive/MyDrive/ML_research/Am.csv')\n",
        "dataset1=\"Anuradhapura maha kannaya\""
      ]
    },
    {
      "cell_type": "code",
      "execution_count": null,
      "metadata": {
        "id": "xboE-hgKVWER"
      },
      "outputs": [],
      "source": [
        "df2 = pd.read_csv('/content/drive/MyDrive/ML_research/Ay.csv')\n",
        "dataset2=\"Anuradhapura yala kannaya\""
      ]
    },
    {
      "cell_type": "code",
      "execution_count": null,
      "metadata": {
        "id": "HEj561w1VYn-"
      },
      "outputs": [],
      "source": [
        "df3 = pd.read_csv('/content/drive/MyDrive/ML_research/Km.csv')\n",
        "dataset3=\"Kurunegala maha kannaya\""
      ]
    },
    {
      "cell_type": "code",
      "execution_count": null,
      "metadata": {
        "id": "s-VIkr7XVa0z"
      },
      "outputs": [],
      "source": [
        "df4 = pd.read_csv('/content/drive/MyDrive/ML_research/Ky.csv')\n",
        "dataset4=\"Kurunegala yala kannaya\""
      ]
    },
    {
      "cell_type": "code",
      "source": [
        "df5 = pd.read_csv('/content/drive/MyDrive/ML_research/total.csv')"
      ],
      "metadata": {
        "id": "FL3XfO2E2k_B"
      },
      "execution_count": null,
      "outputs": []
    },
    {
      "cell_type": "code",
      "execution_count": null,
      "metadata": {
        "id": "tKnzCD9d2aLH",
        "colab": {
          "base_uri": "https://localhost:8080/"
        },
        "outputId": "f28f6abc-49a7-4fb0-c768-d93d5d1cfc7a"
      },
      "outputs": [
        {
          "output_type": "stream",
          "name": "stdout",
          "text": [
            "    year        X1         X2         X3         X4   X5  X6  X7   X8  X9  \\\n",
            "0   1982   638.000  30.856250  33.463636  27.500000   80  11  32  119   4   \n",
            "1   1983   958.200  30.702817  34.737037  27.292000   71  27  25  110  13   \n",
            "2   1984   650.200  30.578889  33.233333  27.575000   90   9  24  123   0   \n",
            "3   1985   821.400  30.459302  33.371429  26.796667   86   7  30  116   7   \n",
            "4   1986   392.600  30.618817  33.744444  27.990476   93   9  21  102  21   \n",
            "5   1987   813.200  31.009184  33.336364  27.942857   98  11  14  120   3   \n",
            "6   1988   815.893  30.591040   0.000000  28.334416  112   0  11  123   0   \n",
            "7   1989   850.100  30.628571  33.622222  28.034783   91   9  23  112  11   \n",
            "8   1990   779.000  30.526923  34.192857  27.480645   78  14  31  114   9   \n",
            "9   1991   702.800  30.512329  34.030000  28.002500   73  10  40  113  10   \n",
            "10  1992   661.600  30.747887  33.220000  28.068085   71   5  47  115   8   \n",
            "11  1993  1352.900  30.583824  33.500000  27.381481   68   1  54  118   5   \n",
            "12  1994   777.200  30.371084  33.200000  27.941026   83   1  39  123   0   \n",
            "13  1995   828.500  30.405128  34.075000  27.908000   78  20  25  109  14   \n",
            "14  1996   497.100  30.746392  33.425000  28.077273   97   4  22  115   8   \n",
            "15  1997  1414.900  31.262617  33.266667  27.938462  107   3  13  119   4   \n",
            "16  1998   635.600  31.003261  33.433333  27.577273   92   9  22  110  13   \n",
            "17  1999   888.400  30.334409   0.000000  27.876667   93   0  30  114   9   \n",
            "18  2000   836.600  30.859211  33.790000  27.440541   76  10  37  109  14   \n",
            "19  2001   501.800  31.029213  34.492308  28.525000   89  26   8  104  19   \n",
            "20  2002  1307.600  30.725000  33.518182  27.657143   84  11  28  120   3   \n",
            "21  2003   474.400  31.111458  33.914286  27.880000   96   7  20  115   8   \n",
            "22  2004   776.300  30.548864  33.420000  27.626667   88   5  30  120   3   \n",
            "23  2005   877.900  30.597297  34.875000  27.518919   74  12  37  110  13   \n",
            "24  2006   890.400  30.678049  33.740000  28.038710   82  10  31  115   8   \n",
            "25  2007   938.700  30.682828  33.800000  27.430435   99   1  23  116   7   \n",
            "26  2008   834.700  30.860241  34.330769  27.174074   83  13  27  122   1   \n",
            "27  2009   710.400  30.930120  33.981818  27.666667   83  22  18  117   6   \n",
            "28  2010  1047.600  30.860526  33.180000  26.657143   76   5  42  112  11   \n",
            "29  2011   786.100  31.035484  34.755000  25.407317   62  20  41  110  13   \n",
            "30  2012  1276.000  30.816418  34.864706  27.310256   67  17  39  115   8   \n",
            "31  2013   622.600  30.711538  34.050000  27.874074   78  18  27  109  14   \n",
            "32  2014   877.600  30.850000  33.100000  26.251429   75   1  47   94  29   \n",
            "33  2015   719.000  30.921622  38.200000  27.731250  100   1  22   85  38   \n",
            "34  2016   368.600  30.814103  33.550000  27.723077  102   4  17   94  29   \n",
            "35  2017   546.780  30.267826  33.672222  26.871382   69   9  45   80  43   \n",
            "36  2018   641.420  29.910714  33.390000  26.841894   56   2  65   96  27   \n",
            "37  2019  1131.250  29.896393   0.000000  26.801744   61   0  62   76  47   \n",
            "\n",
            "          X10        X11  prod  \n",
            "0   24.300000  21.906723  3071  \n",
            "1   24.792308  22.269091  3071  \n",
            "2    0.000000  21.770732  3144  \n",
            "3   24.342857  21.949138  3972  \n",
            "4   24.395238  22.021569  4567  \n",
            "5   24.433333  22.351667  3867  \n",
            "6    0.000000  22.188508  3544  \n",
            "7   24.472727  21.648146  3694  \n",
            "8   24.511111  22.021053  3824  \n",
            "9   24.710000  21.628319  4096  \n",
            "10  24.500000  21.474174  3594  \n",
            "11  24.440000  22.349153  3710  \n",
            "12   0.000000  22.030081  3837  \n",
            "13  24.728571  21.736697  4018  \n",
            "14  24.275000  21.363478  3700  \n",
            "15  24.325000  22.746218  3989  \n",
            "16  24.584615  22.097273  4264  \n",
            "17  24.547126  21.950877  4294  \n",
            "18  24.550000  21.870642  4400  \n",
            "19  24.563158  21.893269  4474  \n",
            "20  25.033333  21.839167  4323  \n",
            "21  24.337500  22.159130  4341  \n",
            "22  24.533333  22.285000  4523  \n",
            "23  24.369231  21.754545  4549  \n",
            "24  24.437500  21.980870  4520  \n",
            "25  24.357143  21.622414  4726  \n",
            "26  24.100000  21.359836  4311  \n",
            "27  24.466667  22.103419  4633  \n",
            "28  24.254545  21.877679  4924  \n",
            "29  24.615385  21.870000  4463  \n",
            "30  24.387500  22.153913  4982  \n",
            "31  24.635714  21.843119  4467  \n",
            "32  32.508696  21.878409  3898  \n",
            "33  23.562069  22.067416  4802  \n",
            "34  23.352381  21.300000  4748  \n",
            "35  23.937907  21.078125  4414  \n",
            "36  23.462963  21.210729  5414  \n",
            "37  23.401489  21.621579  5574  \n"
          ]
        }
      ],
      "source": [
        "df = df1\n",
        "df\n",
        "\n",
        "dataset=dataset1\n",
        "print(df)"
      ]
    },
    {
      "cell_type": "markdown",
      "metadata": {
        "id": "2z3Q9IRiaBy0"
      },
      "source": [
        "##pre processing"
      ]
    },
    {
      "cell_type": "code",
      "execution_count": null,
      "metadata": {
        "id": "fYnSW3lAaJID",
        "colab": {
          "base_uri": "https://localhost:8080/"
        },
        "outputId": "9b8b2abe-d3c9-482b-d61a-6f3e790a40ad"
      },
      "outputs": [
        {
          "output_type": "stream",
          "name": "stdout",
          "text": [
            "    year       X1         X2         X3         X4   X5  X6  X7   X8  X9  \\\n",
            "0   1982   638.00  30.856250  33.463636  27.500000   80  11  32  119   4   \n",
            "1   1983   958.20  30.702817  34.737037  27.292000   71  27  25  110  13   \n",
            "3   1985   821.40  30.459302  33.371429  26.796667   86   7  30  116   7   \n",
            "4   1986   392.60  30.618817  33.744444  27.990476   93   9  21  102  21   \n",
            "5   1987   813.20  31.009184  33.336364  27.942857   98  11  14  120   3   \n",
            "7   1989   850.10  30.628571  33.622222  28.034783   91   9  23  112  11   \n",
            "8   1990   779.00  30.526923  34.192857  27.480645   78  14  31  114   9   \n",
            "9   1991   702.80  30.512329  34.030000  28.002500   73  10  40  113  10   \n",
            "10  1992   661.60  30.747887  33.220000  28.068085   71   5  47  115   8   \n",
            "11  1993  1352.90  30.583824  33.500000  27.381481   68   1  54  118   5   \n",
            "13  1995   828.50  30.405128  34.075000  27.908000   78  20  25  109  14   \n",
            "14  1996   497.10  30.746392  33.425000  28.077273   97   4  22  115   8   \n",
            "15  1997  1414.90  31.262617  33.266667  27.938462  107   3  13  119   4   \n",
            "16  1998   635.60  31.003261  33.433333  27.577273   92   9  22  110  13   \n",
            "18  2000   836.60  30.859211  33.790000  27.440541   76  10  37  109  14   \n",
            "19  2001   501.80  31.029213  34.492308  28.525000   89  26   8  104  19   \n",
            "20  2002  1307.60  30.725000  33.518182  27.657143   84  11  28  120   3   \n",
            "21  2003   474.40  31.111458  33.914286  27.880000   96   7  20  115   8   \n",
            "22  2004   776.30  30.548864  33.420000  27.626667   88   5  30  120   3   \n",
            "23  2005   877.90  30.597297  34.875000  27.518919   74  12  37  110  13   \n",
            "24  2006   890.40  30.678049  33.740000  28.038710   82  10  31  115   8   \n",
            "25  2007   938.70  30.682828  33.800000  27.430435   99   1  23  116   7   \n",
            "26  2008   834.70  30.860241  34.330769  27.174074   83  13  27  122   1   \n",
            "27  2009   710.40  30.930120  33.981818  27.666667   83  22  18  117   6   \n",
            "28  2010  1047.60  30.860526  33.180000  26.657143   76   5  42  112  11   \n",
            "29  2011   786.10  31.035484  34.755000  25.407317   62  20  41  110  13   \n",
            "30  2012  1276.00  30.816418  34.864706  27.310256   67  17  39  115   8   \n",
            "31  2013   622.60  30.711538  34.050000  27.874074   78  18  27  109  14   \n",
            "32  2014   877.60  30.850000  33.100000  26.251429   75   1  47   94  29   \n",
            "33  2015   719.00  30.921622  38.200000  27.731250  100   1  22   85  38   \n",
            "34  2016   368.60  30.814103  33.550000  27.723077  102   4  17   94  29   \n",
            "35  2017   546.78  30.267826  33.672222  26.871382   69   9  45   80  43   \n",
            "36  2018   641.42  29.910714  33.390000  26.841894   56   2  65   96  27   \n",
            "\n",
            "          X10        X11  prod  \n",
            "0   24.300000  21.906723  3071  \n",
            "1   24.792308  22.269091  3071  \n",
            "3   24.342857  21.949138  3972  \n",
            "4   24.395238  22.021569  4567  \n",
            "5   24.433333  22.351667  3867  \n",
            "7   24.472727  21.648146  3694  \n",
            "8   24.511111  22.021053  3824  \n",
            "9   24.710000  21.628319  4096  \n",
            "10  24.500000  21.474174  3594  \n",
            "11  24.440000  22.349153  3710  \n",
            "13  24.728571  21.736697  4018  \n",
            "14  24.275000  21.363478  3700  \n",
            "15  24.325000  22.746218  3989  \n",
            "16  24.584615  22.097273  4264  \n",
            "18  24.550000  21.870642  4400  \n",
            "19  24.563158  21.893269  4474  \n",
            "20  25.033333  21.839167  4323  \n",
            "21  24.337500  22.159130  4341  \n",
            "22  24.533333  22.285000  4523  \n",
            "23  24.369231  21.754545  4549  \n",
            "24  24.437500  21.980870  4520  \n",
            "25  24.357143  21.622414  4726  \n",
            "26  24.100000  21.359836  4311  \n",
            "27  24.466667  22.103419  4633  \n",
            "28  24.254545  21.877679  4924  \n",
            "29  24.615385  21.870000  4463  \n",
            "30  24.387500  22.153913  4982  \n",
            "31  24.635714  21.843119  4467  \n",
            "32  32.508696  21.878409  3898  \n",
            "33  23.562069  22.067416  4802  \n",
            "34  23.352381  21.300000  4748  \n",
            "35  23.937907  21.078125  4414  \n",
            "36  23.462963  21.210729  5414  \n"
          ]
        }
      ],
      "source": [
        "#Delete row whose column value is equal to 0\n",
        "df = df.drop(df.index[df['X2'] == 0])\n",
        "df = df.drop(df.index[df['X3'] == 0])\n",
        "df = df.drop(df.index[df['X4'] == 0])\n",
        "df = df.drop(df.index[df['X10'] == 0])\n",
        "df = df.drop(df.index[df['X11'] == 0])\n",
        "df.size\n",
        "\n",
        "import matplotlib.pyplot as plt\n",
        "from sklearn.metrics import mean_squared_error\n",
        "from sklearn.model_selection import KFold\n",
        "from sklearn.model_selection import train_test_split\n",
        "from sklearn.metrics import r2_score\n",
        "from sklearn.preprocessing import MinMaxScaler\n",
        "from sklearn.linear_model import Lasso\n",
        "from sklearn.linear_model import LinearRegression \n",
        "from sklearn.metrics import mean_absolute_error\n",
        "from sklearn.linear_model import Ridge\n",
        "from sklearn.svm import SVR\n",
        "from sklearn.linear_model import ElasticNet\n",
        "from sklearn.neural_network import MLPRegressor\n",
        "from sklearn import neighbors\n",
        "from sklearn.ensemble import RandomForestRegressor\n",
        "print(df)"
      ]
    },
    {
      "cell_type": "code",
      "source": [
        "df.boxplot(column=['X1'])"
      ],
      "metadata": {
        "colab": {
          "base_uri": "https://localhost:8080/",
          "height": 447
        },
        "id": "uszZ_JGwGDMv",
        "outputId": "fe89bedf-077d-47ec-f0c2-02d9c5780a87"
      },
      "execution_count": null,
      "outputs": [
        {
          "output_type": "execute_result",
          "data": {
            "text/plain": [
              "<Axes: >"
            ]
          },
          "metadata": {},
          "execution_count": 10
        },
        {
          "output_type": "display_data",
          "data": {
            "text/plain": [
              "<Figure size 640x480 with 1 Axes>"
            ],
            "image/png": "[encoded data removed]"
          },
          "metadata": {}
        }
      ]
    },
    {
      "cell_type": "code",
      "source": [
        "df.boxplot(column=['X2'])\n"
      ],
      "metadata": {
        "colab": {
          "base_uri": "https://localhost:8080/",
          "height": 447
        },
        "id": "Ez_zO8aWGc2A",
        "outputId": "f0a50321-8a19-463b-fad0-ee564bed6880"
      },
      "execution_count": null,
      "outputs": [
        {
          "output_type": "execute_result",
          "data": {
            "text/plain": [
              "<Axes: >"
            ]
          },
          "metadata": {},
          "execution_count": 11
        },
        {
          "output_type": "display_data",
          "data": {
            "text/plain": [
              "<Figure size 640x480 with 1 Axes>"
            ],
            "image/png": "[encoded data removed]"
          },
          "metadata": {}
        }
      ]
    },
    {
      "cell_type": "code",
      "source": [
        "df.boxplot(column=['X3'])\n"
      ],
      "metadata": {
        "colab": {
          "base_uri": "https://localhost:8080/",
          "height": 447
        },
        "id": "wAUa2JNuGh7I",
        "outputId": "71ad7de1-f27f-4f83-ce18-30a71d44eacb"
      },
      "execution_count": null,
      "outputs": [
        {
          "output_type": "execute_result",
          "data": {
            "text/plain": [
              "<Axes: >"
            ]
          },
          "metadata": {},
          "execution_count": 12
        },
        {
          "output_type": "display_data",
          "data": {
            "text/plain": [
              "<Figure size 640x480 with 1 Axes>"
            ],
            "image/png": "[encoded data removed]"
          },
          "metadata": {}
        }
      ]
    },
    {
      "cell_type": "code",
      "source": [
        "df.boxplot(column=['X4'])\n"
      ],
      "metadata": {
        "colab": {
          "base_uri": "https://localhost:8080/",
          "height": 447
        },
        "id": "yhwHBUNlGm88",
        "outputId": "df0739df-eefd-4690-9525-d4b66de51559"
      },
      "execution_count": null,
      "outputs": [
        {
          "output_type": "execute_result",
          "data": {
            "text/plain": [
              "<Axes: >"
            ]
          },
          "metadata": {},
          "execution_count": 13
        },
        {
          "output_type": "display_data",
          "data": {
            "text/plain": [
              "<Figure size 640x480 with 1 Axes>"
            ],
            "image/png": "[encoded data removed]"
          },
          "metadata": {}
        }
      ]
    },
    {
      "cell_type": "code",
      "source": [
        "df.boxplot(column=['X5'])\n"
      ],
      "metadata": {
        "colab": {
          "base_uri": "https://localhost:8080/",
          "height": 447
        },
        "id": "WSlAB0JIGq7e",
        "outputId": "38c142b3-86af-457f-dfe3-3de63bca3529"
      },
      "execution_count": null,
      "outputs": [
        {
          "output_type": "execute_result",
          "data": {
            "text/plain": [
              "<Axes: >"
            ]
          },
          "metadata": {},
          "execution_count": 14
        },
        {
          "output_type": "display_data",
          "data": {
            "text/plain": [
              "<Figure size 640x480 with 1 Axes>"
            ],
            "image/png": "[encoded data removed]"
          },
          "metadata": {}
        }
      ]
    },
    {
      "cell_type": "code",
      "source": [
        "df.boxplot(column=['X6'])\n"
      ],
      "metadata": {
        "colab": {
          "base_uri": "https://localhost:8080/",
          "height": 447
        },
        "id": "06aNmoMkGsyL",
        "outputId": "048aa9d5-e70c-46b8-8311-2b318f1fb880"
      },
      "execution_count": null,
      "outputs": [
        {
          "output_type": "execute_result",
          "data": {
            "text/plain": [
              "<Axes: >"
            ]
          },
          "metadata": {},
          "execution_count": 15
        },
        {
          "output_type": "display_data",
          "data": {
            "text/plain": [
              "<Figure size 640x480 with 1 Axes>"
            ],
            "image/png": "[encoded data removed]"
          },
          "metadata": {}
        }
      ]
    },
    {
      "cell_type": "code",
      "source": [
        "df.boxplot(column=['X7'])\n"
      ],
      "metadata": {
        "colab": {
          "base_uri": "https://localhost:8080/",
          "height": 447
        },
        "id": "8tXSdesCGvPa",
        "outputId": "ee7fc9bd-6398-47e4-8685-00214dfa44f7"
      },
      "execution_count": null,
      "outputs": [
        {
          "output_type": "execute_result",
          "data": {
            "text/plain": [
              "<Axes: >"
            ]
          },
          "metadata": {},
          "execution_count": 16
        },
        {
          "output_type": "display_data",
          "data": {
            "text/plain": [
              "<Figure size 640x480 with 1 Axes>"
            ],
            "image/png": "[encoded data removed]"
          },
          "metadata": {}
        }
      ]
    },
    {
      "cell_type": "code",
      "source": [
        "df.boxplot(column=['X8'])\n"
      ],
      "metadata": {
        "colab": {
          "base_uri": "https://localhost:8080/",
          "height": 447
        },
        "id": "yh8zbLUqGyBV",
        "outputId": "aca3806f-3fe7-4fb5-c0c8-7177a7182d4c"
      },
      "execution_count": null,
      "outputs": [
        {
          "output_type": "execute_result",
          "data": {
            "text/plain": [
              "<Axes: >"
            ]
          },
          "metadata": {},
          "execution_count": 17
        },
        {
          "output_type": "display_data",
          "data": {
            "text/plain": [
              "<Figure size 640x480 with 1 Axes>"
            ],
            "image/png": "[encoded data removed]"
          },
          "metadata": {}
        }
      ]
    },
    {
      "cell_type": "code",
      "source": [
        "df.boxplot(column=['X9'])\n"
      ],
      "metadata": {
        "colab": {
          "base_uri": "https://localhost:8080/",
          "height": 447
        },
        "id": "EY6sjX8hG1X1",
        "outputId": "39cbcd84-e67b-4922-c89c-6694081a88d8"
      },
      "execution_count": null,
      "outputs": [
        {
          "output_type": "execute_result",
          "data": {
            "text/plain": [
              "<Axes: >"
            ]
          },
          "metadata": {},
          "execution_count": 18
        },
        {
          "output_type": "display_data",
          "data": {
            "text/plain": [
              "<Figure size 640x480 with 1 Axes>"
            ],
            "image/png": "[encoded data removed]"
          },
          "metadata": {}
        }
      ]
    },
    {
      "cell_type": "code",
      "source": [
        "df.boxplot(column=['X10'])\n"
      ],
      "metadata": {
        "colab": {
          "base_uri": "https://localhost:8080/",
          "height": 447
        },
        "id": "bPdc2bfVG4S-",
        "outputId": "3ff94b40-37c0-40bf-8e86-f7df47c23fda"
      },
      "execution_count": null,
      "outputs": [
        {
          "output_type": "execute_result",
          "data": {
            "text/plain": [
              "<Axes: >"
            ]
          },
          "metadata": {},
          "execution_count": 19
        },
        {
          "output_type": "display_data",
          "data": {
            "text/plain": [
              "<Figure size 640x480 with 1 Axes>"
            ],
            "image/png": "[encoded data removed]"
          },
          "metadata": {}
        }
      ]
    },
    {
      "cell_type": "code",
      "source": [
        "df.boxplot(column=['X11'])"
      ],
      "metadata": {
        "colab": {
          "base_uri": "https://localhost:8080/",
          "height": 447
        },
        "id": "QMVx-bMMG6ML",
        "outputId": "47648949-aa07-4466-a7a2-9738156f5aca"
      },
      "execution_count": null,
      "outputs": [
        {
          "output_type": "execute_result",
          "data": {
            "text/plain": [
              "<Axes: >"
            ]
          },
          "metadata": {},
          "execution_count": 20
        },
        {
          "output_type": "display_data",
          "data": {
            "text/plain": [
              "<Figure size 640x480 with 1 Axes>"
            ],
            "image/png": "[encoded data removed]"
          },
          "metadata": {}
        }
      ]
    },
    {
      "cell_type": "code",
      "source": [
        "df['X1'] = np.where(df['X1'] < (df['X1'].quantile(0.10)), (df['X1'].quantile(0.10)),df['X1'])\n",
        "df['X1'] = np.where(df['X1'] >(df['X1'].quantile(0.90)), (df['X1'].quantile(0.90)),df['X1'])\n",
        "\n",
        "df['X2'] = np.where(df['X2'] < (df['X2'].quantile(0.10)), (df['X2'].quantile(0.10)),df['X2'])\n",
        "df['X2'] = np.where(df['X2'] >(df['X2'].quantile(0.90)), (df['X2'].quantile(0.90)),df['X2'])\n",
        "\n",
        "df['X3'] = np.where(df['X3'] < (df['X3'].quantile(0.10)), (df['X3'].quantile(0.10)),df['X3'])\n",
        "df['X3'] = np.where(df['X3'] >(df['X3'].quantile(0.90)), (df['X3'].quantile(0.90)),df['X3'])\n",
        "\n",
        "df['X4'] = np.where(df['X4'] < (df['X4'].quantile(0.10)), (df['X4'].quantile(0.10)),df['X4'])\n",
        "df['X4'] = np.where(df['X4'] >(df['X4'].quantile(0.90)), (df['X4'].quantile(0.90)),df['X4'])\n",
        "\n",
        "df['X5'] = np.where(df['X5'] < (df['X5'].quantile(0.10)), (df['X5'].quantile(0.10)),df['X5'])\n",
        "df['X5'] = np.where(df['X5'] >(df['X5'].quantile(0.90)), (df['X5'].quantile(0.90)),df['X5'])\n",
        "\n",
        "df['X6'] = np.where(df['X6'] < (df['X6'].quantile(0.10)), (df['X6'].quantile(0.10)),df['X6'])\n",
        "df['X6'] = np.where(df['X6'] >(df['X6'].quantile(0.90)), (df['X6'].quantile(0.90)),df['X6'])\n",
        "\n",
        "df['X7'] = np.where(df['X7'] < (df['X7'].quantile(0.10)), (df['X7'].quantile(0.10)),df['X7'])\n",
        "df['X7'] = np.where(df['X7'] >(df['X7'].quantile(0.90)), (df['X7'].quantile(0.90)),df['X7'])\n",
        "\n",
        "df['X8'] = np.where(df['X8'] < (df['X8'].quantile(0.10)), (df['X8'].quantile(0.10)),df['X8'])\n",
        "df['X8'] = np.where(df['X8'] >(df['X8'].quantile(0.90)), (df['X8'].quantile(0.90)),df['X8'])\n",
        "\n",
        "df['X9'] = np.where(df['X9'] < (df['X9'].quantile(0.10)), (df['X9'].quantile(0.10)),df['X9'])\n",
        "df['X9'] = np.where(df['X9'] >(df['X9'].quantile(0.90)), (df['X9'].quantile(0.90)),df['X9'])\n",
        "\n",
        "df['X10'] = np.where(df['X10'] < (df['X10'].quantile(0.10)), (df['X10'].quantile(0.10)),df['X10'])\n",
        "df['X10'] = np.where(df['X10'] >(df['X10'].quantile(0.90)), (df['X10'].quantile(0.90)),df['X10'])\n",
        "\n",
        "df['X11'] = np.where(df['X11'] < (df['X11'].quantile(0.10)), (df['X11'].quantile(0.10)),df['X11'])\n",
        "df['X11'] = np.where(df['X11'] >(df['X11'].quantile(0.90)), (df['X11'].quantile(0.90)),df['X11'])"
      ],
      "metadata": {
        "id": "X33VYWV6SLAc"
      },
      "execution_count": null,
      "outputs": []
    },
    {
      "cell_type": "code",
      "execution_count": null,
      "metadata": {
        "colab": {
          "base_uri": "https://localhost:8080/"
        },
        "id": "X119TUHM7yJr",
        "outputId": "01209b63-39ed-41c5-b413-fa1f733b5bc8"
      },
      "outputs": [
        {
          "output_type": "stream",
          "name": "stdout",
          "text": [
            "              Method  RMSE test  RMSE train  RRMSE test  RRMSE train  \\\n",
            "0  Linear Regression          0           0           0            0   \n",
            "1                SVR          0           0           0            0   \n",
            "2                MLP          0           0           0            0   \n",
            "3                KNN          0           0           0            0   \n",
            "4      Random Forest          0           0           0            0   \n",
            "\n",
            "   MAE test  MAE train  R2_score test  R2_score train  Bias test  Bias train  \n",
            "0         0          0              0               0          0           0  \n",
            "1         0          0              0               0          0           0  \n",
            "2         0          0              0               0          0           0  \n",
            "3         0          0              0               0          0           0  \n",
            "4         0          0              0               0          0           0  \n",
            "9\n",
            "33 24 9\n"
          ]
        }
      ],
      "source": [
        "####################3\n",
        "def bias_value(y_test, y_pred):\n",
        "  ytest_list = list(y_test.values)\n",
        "  diff=0.0\n",
        "  avg_diff=0.0\n",
        "  for i in range(0,len(ytest_list)):\n",
        "    diff=diff+ytest_list[i]-y_pred[i]\n",
        "\n",
        "  avg_diff=diff/len(ytest_list)\n",
        "  return avg_diff\n",
        "\n",
        "data = {'Method': ['Linear Regression','SVR','MLP','KNN','Random Forest'],\n",
        "        'RMSE test': [0,0,0,0,0],\n",
        "        'RMSE train': [0,0,0,0,0],\n",
        "        'RRMSE test': [0,0,0,0,0],\n",
        "        'RRMSE train': [0,0,0,0,0],\n",
        "        'MAE test': [0,0,0,0,0],\n",
        "        'MAE train': [0,0,0,0,0],\n",
        "        'R2_score test': [0,0,0,0,0],\n",
        "        'R2_score train': [0,0,0,0,0],\n",
        "        'Bias test': [0,0,0,0,0],\n",
        "        'Bias train': [0,0,0,0,0],\n",
        "        }\n",
        "\n",
        "mydf = pd.DataFrame(data, columns = ['Method', 'RMSE test','RMSE train','RRMSE test','RRMSE train','MAE test','MAE train','R2_score test','R2_score train','Bias test','Bias train'])\n",
        "print(mydf)\n",
        "test_percentage = 0.3\n",
        "test_size = math.floor(len(df.index)*test_percentage)\n",
        "print(test_size)\n",
        "\n",
        "df_train = df[:-test_size]\n",
        "df_test = df[-test_size:]\n",
        "\n",
        "print(len(df.index), len(df_train.index) , len(df_test.index))"
      ]
    },
    {
      "cell_type": "code",
      "execution_count": null,
      "metadata": {
        "id": "3YTL0bgKLRLk",
        "colab": {
          "base_uri": "https://localhost:8080/",
          "height": 677
        },
        "outputId": "951a7a3b-2f8e-48fd-a6dd-d761bf0f92dd"
      },
      "outputs": [
        {
          "output_type": "stream",
          "name": "stdout",
          "text": [
            "Feature: 0, Score: 0.07851\n",
            "Feature: 1, Score: 0.24650\n",
            "Feature: 2, Score: 0.33129\n",
            "Feature: 3, Score: 0.03589\n",
            "Feature: 4, Score: 0.02286\n",
            "Feature: 5, Score: 0.03272\n",
            "Feature: 6, Score: 0.02707\n",
            "Feature: 7, Score: 0.01093\n",
            "Feature: 8, Score: 0.02861\n",
            "Feature: 9, Score: 0.12259\n",
            "Feature: 10, Score: 0.06304\n"
          ]
        },
        {
          "output_type": "display_data",
          "data": {
            "text/plain": [
              "<Figure size 640x480 with 1 Axes>"
            ],
            "image/png": "[encoded data removed]"
          },
          "metadata": {}
        },
        {
          "output_type": "stream",
          "name": "stdout",
          "text": [
            "[[0, 0.07850589947059329], [1, 0.24649747852142165], [2, 0.3312895034696119], [3, 0.035888251754657395], [4, 0.022862348126584928], [5, 0.032718879516636656], [6, 0.027066995464018116], [7, 0.010931085340160544], [8, 0.028611737642819244], [9, 0.12258741329870665], [10, 0.06304040739478971]]\n"
          ]
        }
      ],
      "source": [
        "#Random forest\n",
        "from sklearn.ensemble import RandomForestRegressor\n",
        "from sklearn.model_selection import train_test_split\n",
        "from sklearn.feature_selection import RFECV\n",
        "import matplotlib.pyplot as plt\n",
        "\n",
        "X=df_train.drop(['year','prod'], axis=1)\n",
        "y=df_train['prod']\n",
        "from sklearn.model_selection import train_test_split\n",
        "x_train, x_test, y_train, y_test= train_test_split(X,y,test_size=0.3,random_state=42)\n",
        "\n",
        "feature_names = [f\"feature {i}\" for i in range(X.shape[1])]\n",
        "\n",
        "from sklearn.preprocessing import MinMaxScaler\n",
        "scaler = MinMaxScaler()\n",
        "X_train = scaler.fit_transform(x_train)\n",
        "x_train = pd.DataFrame(X_train)\n",
        "X_test = scaler.transform(x_test)\n",
        "x_test = pd.DataFrame(X_test)\n",
        "\n",
        "rf = RandomForestRegressor(random_state=42)\n",
        "\n",
        "rf.fit(x_train,y_train)\n",
        "\n",
        "importance = rf.feature_importances_\n",
        "# summarize feature importance and assign them to an array 'arr' with the feature index\n",
        "arr = [[0 for x in range(2)] for y in range(11)] \n",
        "for i,v in enumerate(importance):\n",
        "\tarr[i][0] = i\n",
        "\tarr[i][1] = v\n",
        "\tprint('Feature: %0d, Score: %.5f' % (i,v))\n",
        "# plot feature importance\n",
        "plt.barh([x for x in range(1,len(importance)+1)], importance)\n",
        "plt.xlabel(\"feature importance score\")\n",
        "plt.ylabel(\"feature index\")\n",
        "plt.show()\n",
        "\n",
        "print(arr)\n"
      ]
    },
    {
      "cell_type": "code",
      "source": [
        "arr.sort(key=lambda row: (row[1]), reverse=True)\n",
        "print(arr)\n",
        "plt.barh([x[0] for x in arr],[x[1] for x in arr])\n",
        "plt.show()\n"
      ],
      "metadata": {
        "id": "glTOJObVxpfk",
        "colab": {
          "base_uri": "https://localhost:8080/",
          "height": 467
        },
        "outputId": "add84c6e-2956-42c7-f5d5-35fa9321c1da"
      },
      "execution_count": null,
      "outputs": [
        {
          "output_type": "stream",
          "name": "stdout",
          "text": [
            "[[2, 0.3312895034696119], [1, 0.24649747852142165], [9, 0.12258741329870665], [0, 0.07850589947059329], [10, 0.06304040739478971], [3, 0.035888251754657395], [5, 0.032718879516636656], [8, 0.028611737642819244], [6, 0.027066995464018116], [4, 0.022862348126584928], [7, 0.010931085340160544]]\n"
          ]
        },
        {
          "output_type": "display_data",
          "data": {
            "text/plain": [
              "<Figure size 640x480 with 1 Axes>"
            ],
            "image/png": "[encoded data removed]"
          },
          "metadata": {}
        }
      ]
    },
    {
      "cell_type": "code",
      "source": [
        "acc_array=list()\n",
        "#feature_array=list()\n",
        "\n",
        "\n",
        "cv = KFold(n_splits=5, shuffle=True, random_state=42)\n",
        "\n",
        "for n in range(1,12):\n",
        "  num_of_features = n\n",
        "  #print(num_of_features)\n",
        "  selected = [0 for y in range(num_of_features)]\n",
        "  for i in range(num_of_features):\n",
        "    selected[i] = sorted(arr,key=lambda row: (row[1]), reverse=True)[i]\n",
        "  print(selected) \n",
        "  selected_features_list = [0 for y in range(num_of_features)]\n",
        "  for i in range(num_of_features):\n",
        "    selected_features_list[i] = df_train.columns[selected[i][0]+1]\n",
        "  print(selected_features_list)"
      ],
      "metadata": {
        "id": "L4rm4Yp3Bc3u",
        "colab": {
          "base_uri": "https://localhost:8080/"
        },
        "outputId": "8529fe5a-73f4-4e76-824a-c3067d04fdf8"
      },
      "execution_count": null,
      "outputs": [
        {
          "output_type": "stream",
          "name": "stdout",
          "text": [
            "[[2, 0.3312895034696119]]\n",
            "['X3']\n",
            "[[2, 0.3312895034696119], [1, 0.24649747852142165]]\n",
            "['X3', 'X2']\n",
            "[[2, 0.3312895034696119], [1, 0.24649747852142165], [9, 0.12258741329870665]]\n",
            "['X3', 'X2', 'X10']\n",
            "[[2, 0.3312895034696119], [1, 0.24649747852142165], [9, 0.12258741329870665], [0, 0.07850589947059329]]\n",
            "['X3', 'X2', 'X10', 'X1']\n",
            "[[2, 0.3312895034696119], [1, 0.24649747852142165], [9, 0.12258741329870665], [0, 0.07850589947059329], [10, 0.06304040739478971]]\n",
            "['X3', 'X2', 'X10', 'X1', 'X11']\n",
            "[[2, 0.3312895034696119], [1, 0.24649747852142165], [9, 0.12258741329870665], [0, 0.07850589947059329], [10, 0.06304040739478971], [3, 0.035888251754657395]]\n",
            "['X3', 'X2', 'X10', 'X1', 'X11', 'X4']\n",
            "[[2, 0.3312895034696119], [1, 0.24649747852142165], [9, 0.12258741329870665], [0, 0.07850589947059329], [10, 0.06304040739478971], [3, 0.035888251754657395], [5, 0.032718879516636656]]\n",
            "['X3', 'X2', 'X10', 'X1', 'X11', 'X4', 'X6']\n",
            "[[2, 0.3312895034696119], [1, 0.24649747852142165], [9, 0.12258741329870665], [0, 0.07850589947059329], [10, 0.06304040739478971], [3, 0.035888251754657395], [5, 0.032718879516636656], [8, 0.028611737642819244]]\n",
            "['X3', 'X2', 'X10', 'X1', 'X11', 'X4', 'X6', 'X9']\n",
            "[[2, 0.3312895034696119], [1, 0.24649747852142165], [9, 0.12258741329870665], [0, 0.07850589947059329], [10, 0.06304040739478971], [3, 0.035888251754657395], [5, 0.032718879516636656], [8, 0.028611737642819244], [6, 0.027066995464018116]]\n",
            "['X3', 'X2', 'X10', 'X1', 'X11', 'X4', 'X6', 'X9', 'X7']\n",
            "[[2, 0.3312895034696119], [1, 0.24649747852142165], [9, 0.12258741329870665], [0, 0.07850589947059329], [10, 0.06304040739478971], [3, 0.035888251754657395], [5, 0.032718879516636656], [8, 0.028611737642819244], [6, 0.027066995464018116], [4, 0.022862348126584928]]\n",
            "['X3', 'X2', 'X10', 'X1', 'X11', 'X4', 'X6', 'X9', 'X7', 'X5']\n",
            "[[2, 0.3312895034696119], [1, 0.24649747852142165], [9, 0.12258741329870665], [0, 0.07850589947059329], [10, 0.06304040739478971], [3, 0.035888251754657395], [5, 0.032718879516636656], [8, 0.028611737642819244], [6, 0.027066995464018116], [4, 0.022862348126584928], [7, 0.010931085340160544]]\n",
            "['X3', 'X2', 'X10', 'X1', 'X11', 'X4', 'X6', 'X9', 'X7', 'X5', 'X8']\n"
          ]
        }
      ]
    },
    {
      "cell_type": "code",
      "source": [
        "\n",
        "acc_array=list()\n",
        "#feature_array=list()\n",
        "\n",
        "\n",
        "cv = KFold(n_splits=5, shuffle=True, random_state=42)\n",
        "min=2000\n",
        "selected_features_final=list()\n",
        "for n in range(1,12):\n",
        "  num_of_features = n\n",
        "  selected = [[0 for x in range(2)] for y in range(num_of_features)] \n",
        "  #copy the selected most important n features' indices and their importance to 'selected' array\n",
        "  for i in range(num_of_features):\n",
        "    selected[i] = sorted(arr,key=lambda row: (row[1]), reverse=True)[i]\n",
        "  #assign selected feature columns in 'X' dataset to new dataset 'selected_features'\n",
        "  selected_features = pd.DataFrame()\n",
        "  selected_features_list = [0 for y in range(num_of_features)]\n",
        "  for i in range(num_of_features):\n",
        "    selected_features[i] = df_train.iloc[:, selected[i][0]+1]\n",
        "    #print(selected_features)\n",
        "    selected_features_list[i] = df_train.columns[selected[i][0]+1]\n",
        "  #print(selected_features_list)\n",
        "  rmse_test_arr = []\n",
        "  rrmse_test_arr =[]\n",
        "  r2_test_arr= []\n",
        "  mae_test_arr = []\n",
        "\n",
        "  rmse_train_arr = []\n",
        "  rrmse_train_arr =[]\n",
        "  r2_train_arr= []\n",
        "  mae_train_arr = []\n",
        "\n",
        "  bias_test_arr = []\n",
        "  bias_train_arr = []\n",
        "  #print(selected_features[i])\n",
        "  for tr, tt in cv.split(df_train): #tr,tt are indexes\n",
        "    x_train, x_test = selected_features[i].iloc[tr], selected_features[i].iloc[tt]\n",
        "    y_train, y_test = df_train['prod'].iloc[tr], df_train['prod'].iloc[tt]\n",
        "    #print(tr,tt)\n",
        "    scaler = MinMaxScaler()\n",
        "    X_train = scaler.fit_transform(pd.DataFrame(x_train))\n",
        "    X_test = scaler.transform(pd.DataFrame(x_test))\n",
        "    model =  RandomForestRegressor(n_estimators = 1000, random_state = 42).fit(X_train, y_train)\n",
        "    y_pred= model.predict(X_test)\n",
        "    y_pred_train= model.predict(X_train)\n",
        "\n",
        "    r2_test=r2_score(y_test,y_pred)\n",
        "    r2_train=r2_score(y_train,y_pred_train)\n",
        "    #print(r2_test)\n",
        "    #print(r2_train)\n",
        "    r2_test_arr.append(r2_test)\n",
        "    r2_train_arr.append(r2_train)\n",
        "\n",
        "    rmse_test = float(format(np.sqrt(mean_squared_error(y_test, y_pred)), '.3f'))\n",
        "    #print(\"\\nRMSE test: \", rmse_test)\n",
        "    rmse_test_arr.append(rmse_test)\n",
        "\n",
        "    rrmse_test = format(float(rmse_test*100/np.mean(y_test)),'.2f')\n",
        "    #print(\"\\nRRMSE test: \", rrmse_test,\"%\")\n",
        "    rrmse_test_arr.append(rrmse_test)\n",
        "\n",
        "    rmse_train = float(format(np.sqrt(mean_squared_error(y_train, y_pred_train)), '.3f'))\n",
        "    #print(\"\\nRMSE train: \", rmse_train)\n",
        "    rmse_train_arr.append(rmse_train)\n",
        "\n",
        "    rrmse_train = format(float(rmse_train*100/np.mean(y_train)),'.2f')\n",
        "    #print(\"\\nRRMSE train: \", rrmse_train,\"%\")\n",
        "    rrmse_train_arr.append(rrmse_train)\n",
        "\n",
        "\n",
        "    mae_test = float(format(mean_absolute_error(y_test, y_pred), '.3f'))\n",
        "    #print(\"\\nMAE Test: \", mae_test)\n",
        "    mae_test_arr.append(mae_test)\n",
        "    mae_train = float(format(mean_absolute_error(y_train, y_pred_train), '.3f'))\n",
        "    #print(\"\\nMAE Train: \", mae_train)\n",
        "    mae_train_arr.append(mae_train)\n",
        "\n",
        "    #print(\"\\nBias Test: \\n\", bias_value(y_test,y_pred))\n",
        "    bias_test_arr.append(bias_value(y_test,y_pred))\n",
        "    #print(\"\\nBias Train: \\n\", bias_value(y_train, y_pred_train))\n",
        "    bias_train_arr.append(bias_value(y_train, y_pred_train))\n",
        "    \n",
        "  acc_array.append(np.mean(np.array(rmse_test_arr).astype(np.float)))\n",
        "  if(min > np.mean(np.array(rmse_test_arr).astype(np.float))):\n",
        "    min=np.mean(np.array(rmse_test_arr).astype(np.float))\n",
        "    selected_features_final = selected_features_list\n",
        "plt.bar(np.arange(1,12), acc_array)\n",
        "plt.xlabel(\"Number of features\")\n",
        "plt.ylabel(\"RMSE\")\n",
        "plt.show()\n",
        "print(selected_features_final)\n",
        "print(min)"
      ],
      "metadata": {
        "id": "z28t7juDs5RB",
        "colab": {
          "base_uri": "https://localhost:8080/",
          "height": 1000
        },
        "outputId": "3fc95b16-e3da-47a7-df83-238b5c0c5b91"
      },
      "execution_count": null,
      "outputs": [
        {
          "output_type": "stream",
          "name": "stderr",
          "text": [
            "<ipython-input-46-bc338d252c05>:82: DeprecationWarning: `np.float` is a deprecated alias for the builtin `float`. To silence this warning, use `float` by itself. Doing this will not modify any behavior and is safe. If you specifically wanted the numpy scalar type, use `np.float64` here.\n",
            "Deprecated in NumPy 1.20; for more details and guidance: https://numpy.org/devdocs/release/1.20.0-notes.html#deprecations\n",
            "  acc_array.append(np.mean(np.array(rmse_test_arr).astype(np.float)))\n",
            "<ipython-input-46-bc338d252c05>:83: DeprecationWarning: `np.float` is a deprecated alias for the builtin `float`. To silence this warning, use `float` by itself. Doing this will not modify any behavior and is safe. If you specifically wanted the numpy scalar type, use `np.float64` here.\n",
            "Deprecated in NumPy 1.20; for more details and guidance: https://numpy.org/devdocs/release/1.20.0-notes.html#deprecations\n",
            "  if(min > np.mean(np.array(rmse_test_arr).astype(np.float))):\n",
            "<ipython-input-46-bc338d252c05>:84: DeprecationWarning: `np.float` is a deprecated alias for the builtin `float`. To silence this warning, use `float` by itself. Doing this will not modify any behavior and is safe. If you specifically wanted the numpy scalar type, use `np.float64` here.\n",
            "Deprecated in NumPy 1.20; for more details and guidance: https://numpy.org/devdocs/release/1.20.0-notes.html#deprecations\n",
            "  min=np.mean(np.array(rmse_test_arr).astype(np.float))\n",
            "<ipython-input-46-bc338d252c05>:82: DeprecationWarning: `np.float` is a deprecated alias for the builtin `float`. To silence this warning, use `float` by itself. Doing this will not modify any behavior and is safe. If you specifically wanted the numpy scalar type, use `np.float64` here.\n",
            "Deprecated in NumPy 1.20; for more details and guidance: https://numpy.org/devdocs/release/1.20.0-notes.html#deprecations\n",
            "  acc_array.append(np.mean(np.array(rmse_test_arr).astype(np.float)))\n",
            "<ipython-input-46-bc338d252c05>:83: DeprecationWarning: `np.float` is a deprecated alias for the builtin `float`. To silence this warning, use `float` by itself. Doing this will not modify any behavior and is safe. If you specifically wanted the numpy scalar type, use `np.float64` here.\n",
            "Deprecated in NumPy 1.20; for more details and guidance: https://numpy.org/devdocs/release/1.20.0-notes.html#deprecations\n",
            "  if(min > np.mean(np.array(rmse_test_arr).astype(np.float))):\n",
            "<ipython-input-46-bc338d252c05>:82: DeprecationWarning: `np.float` is a deprecated alias for the builtin `float`. To silence this warning, use `float` by itself. Doing this will not modify any behavior and is safe. If you specifically wanted the numpy scalar type, use `np.float64` here.\n",
            "Deprecated in NumPy 1.20; for more details and guidance: https://numpy.org/devdocs/release/1.20.0-notes.html#deprecations\n",
            "  acc_array.append(np.mean(np.array(rmse_test_arr).astype(np.float)))\n",
            "<ipython-input-46-bc338d252c05>:83: DeprecationWarning: `np.float` is a deprecated alias for the builtin `float`. To silence this warning, use `float` by itself. Doing this will not modify any behavior and is safe. If you specifically wanted the numpy scalar type, use `np.float64` here.\n",
            "Deprecated in NumPy 1.20; for more details and guidance: https://numpy.org/devdocs/release/1.20.0-notes.html#deprecations\n",
            "  if(min > np.mean(np.array(rmse_test_arr).astype(np.float))):\n",
            "<ipython-input-46-bc338d252c05>:84: DeprecationWarning: `np.float` is a deprecated alias for the builtin `float`. To silence this warning, use `float` by itself. Doing this will not modify any behavior and is safe. If you specifically wanted the numpy scalar type, use `np.float64` here.\n",
            "Deprecated in NumPy 1.20; for more details and guidance: https://numpy.org/devdocs/release/1.20.0-notes.html#deprecations\n",
            "  min=np.mean(np.array(rmse_test_arr).astype(np.float))\n",
            "<ipython-input-46-bc338d252c05>:82: DeprecationWarning: `np.float` is a deprecated alias for the builtin `float`. To silence this warning, use `float` by itself. Doing this will not modify any behavior and is safe. If you specifically wanted the numpy scalar type, use `np.float64` here.\n",
            "Deprecated in NumPy 1.20; for more details and guidance: https://numpy.org/devdocs/release/1.20.0-notes.html#deprecations\n",
            "  acc_array.append(np.mean(np.array(rmse_test_arr).astype(np.float)))\n",
            "<ipython-input-46-bc338d252c05>:83: DeprecationWarning: `np.float` is a deprecated alias for the builtin `float`. To silence this warning, use `float` by itself. Doing this will not modify any behavior and is safe. If you specifically wanted the numpy scalar type, use `np.float64` here.\n",
            "Deprecated in NumPy 1.20; for more details and guidance: https://numpy.org/devdocs/release/1.20.0-notes.html#deprecations\n",
            "  if(min > np.mean(np.array(rmse_test_arr).astype(np.float))):\n",
            "<ipython-input-46-bc338d252c05>:82: DeprecationWarning: `np.float` is a deprecated alias for the builtin `float`. To silence this warning, use `float` by itself. Doing this will not modify any behavior and is safe. If you specifically wanted the numpy scalar type, use `np.float64` here.\n",
            "Deprecated in NumPy 1.20; for more details and guidance: https://numpy.org/devdocs/release/1.20.0-notes.html#deprecations\n",
            "  acc_array.append(np.mean(np.array(rmse_test_arr).astype(np.float)))\n",
            "<ipython-input-46-bc338d252c05>:83: DeprecationWarning: `np.float` is a deprecated alias for the builtin `float`. To silence this warning, use `float` by itself. Doing this will not modify any behavior and is safe. If you specifically wanted the numpy scalar type, use `np.float64` here.\n",
            "Deprecated in NumPy 1.20; for more details and guidance: https://numpy.org/devdocs/release/1.20.0-notes.html#deprecations\n",
            "  if(min > np.mean(np.array(rmse_test_arr).astype(np.float))):\n",
            "<ipython-input-46-bc338d252c05>:82: DeprecationWarning: `np.float` is a deprecated alias for the builtin `float`. To silence this warning, use `float` by itself. Doing this will not modify any behavior and is safe. If you specifically wanted the numpy scalar type, use `np.float64` here.\n",
            "Deprecated in NumPy 1.20; for more details and guidance: https://numpy.org/devdocs/release/1.20.0-notes.html#deprecations\n",
            "  acc_array.append(np.mean(np.array(rmse_test_arr).astype(np.float)))\n",
            "<ipython-input-46-bc338d252c05>:83: DeprecationWarning: `np.float` is a deprecated alias for the builtin `float`. To silence this warning, use `float` by itself. Doing this will not modify any behavior and is safe. If you specifically wanted the numpy scalar type, use `np.float64` here.\n",
            "Deprecated in NumPy 1.20; for more details and guidance: https://numpy.org/devdocs/release/1.20.0-notes.html#deprecations\n",
            "  if(min > np.mean(np.array(rmse_test_arr).astype(np.float))):\n",
            "<ipython-input-46-bc338d252c05>:82: DeprecationWarning: `np.float` is a deprecated alias for the builtin `float`. To silence this warning, use `float` by itself. Doing this will not modify any behavior and is safe. If you specifically wanted the numpy scalar type, use `np.float64` here.\n",
            "Deprecated in NumPy 1.20; for more details and guidance: https://numpy.org/devdocs/release/1.20.0-notes.html#deprecations\n",
            "  acc_array.append(np.mean(np.array(rmse_test_arr).astype(np.float)))\n",
            "<ipython-input-46-bc338d252c05>:83: DeprecationWarning: `np.float` is a deprecated alias for the builtin `float`. To silence this warning, use `float` by itself. Doing this will not modify any behavior and is safe. If you specifically wanted the numpy scalar type, use `np.float64` here.\n",
            "Deprecated in NumPy 1.20; for more details and guidance: https://numpy.org/devdocs/release/1.20.0-notes.html#deprecations\n",
            "  if(min > np.mean(np.array(rmse_test_arr).astype(np.float))):\n",
            "<ipython-input-46-bc338d252c05>:82: DeprecationWarning: `np.float` is a deprecated alias for the builtin `float`. To silence this warning, use `float` by itself. Doing this will not modify any behavior and is safe. If you specifically wanted the numpy scalar type, use `np.float64` here.\n",
            "Deprecated in NumPy 1.20; for more details and guidance: https://numpy.org/devdocs/release/1.20.0-notes.html#deprecations\n",
            "  acc_array.append(np.mean(np.array(rmse_test_arr).astype(np.float)))\n",
            "<ipython-input-46-bc338d252c05>:83: DeprecationWarning: `np.float` is a deprecated alias for the builtin `float`. To silence this warning, use `float` by itself. Doing this will not modify any behavior and is safe. If you specifically wanted the numpy scalar type, use `np.float64` here.\n",
            "Deprecated in NumPy 1.20; for more details and guidance: https://numpy.org/devdocs/release/1.20.0-notes.html#deprecations\n",
            "  if(min > np.mean(np.array(rmse_test_arr).astype(np.float))):\n",
            "<ipython-input-46-bc338d252c05>:82: DeprecationWarning: `np.float` is a deprecated alias for the builtin `float`. To silence this warning, use `float` by itself. Doing this will not modify any behavior and is safe. If you specifically wanted the numpy scalar type, use `np.float64` here.\n",
            "Deprecated in NumPy 1.20; for more details and guidance: https://numpy.org/devdocs/release/1.20.0-notes.html#deprecations\n",
            "  acc_array.append(np.mean(np.array(rmse_test_arr).astype(np.float)))\n",
            "<ipython-input-46-bc338d252c05>:83: DeprecationWarning: `np.float` is a deprecated alias for the builtin `float`. To silence this warning, use `float` by itself. Doing this will not modify any behavior and is safe. If you specifically wanted the numpy scalar type, use `np.float64` here.\n",
            "Deprecated in NumPy 1.20; for more details and guidance: https://numpy.org/devdocs/release/1.20.0-notes.html#deprecations\n",
            "  if(min > np.mean(np.array(rmse_test_arr).astype(np.float))):\n",
            "<ipython-input-46-bc338d252c05>:82: DeprecationWarning: `np.float` is a deprecated alias for the builtin `float`. To silence this warning, use `float` by itself. Doing this will not modify any behavior and is safe. If you specifically wanted the numpy scalar type, use `np.float64` here.\n",
            "Deprecated in NumPy 1.20; for more details and guidance: https://numpy.org/devdocs/release/1.20.0-notes.html#deprecations\n",
            "  acc_array.append(np.mean(np.array(rmse_test_arr).astype(np.float)))\n",
            "<ipython-input-46-bc338d252c05>:83: DeprecationWarning: `np.float` is a deprecated alias for the builtin `float`. To silence this warning, use `float` by itself. Doing this will not modify any behavior and is safe. If you specifically wanted the numpy scalar type, use `np.float64` here.\n",
            "Deprecated in NumPy 1.20; for more details and guidance: https://numpy.org/devdocs/release/1.20.0-notes.html#deprecations\n",
            "  if(min > np.mean(np.array(rmse_test_arr).astype(np.float))):\n",
            "<ipython-input-46-bc338d252c05>:82: DeprecationWarning: `np.float` is a deprecated alias for the builtin `float`. To silence this warning, use `float` by itself. Doing this will not modify any behavior and is safe. If you specifically wanted the numpy scalar type, use `np.float64` here.\n",
            "Deprecated in NumPy 1.20; for more details and guidance: https://numpy.org/devdocs/release/1.20.0-notes.html#deprecations\n",
            "  acc_array.append(np.mean(np.array(rmse_test_arr).astype(np.float)))\n",
            "<ipython-input-46-bc338d252c05>:83: DeprecationWarning: `np.float` is a deprecated alias for the builtin `float`. To silence this warning, use `float` by itself. Doing this will not modify any behavior and is safe. If you specifically wanted the numpy scalar type, use `np.float64` here.\n",
            "Deprecated in NumPy 1.20; for more details and guidance: https://numpy.org/devdocs/release/1.20.0-notes.html#deprecations\n",
            "  if(min > np.mean(np.array(rmse_test_arr).astype(np.float))):\n"
          ]
        },
        {
          "output_type": "display_data",
          "data": {
            "text/plain": [
              "<Figure size 640x480 with 1 Axes>"
            ],
            "image/png": "[encoded data removed]"
          },
          "metadata": {}
        },
        {
          "output_type": "stream",
          "name": "stdout",
          "text": [
            "['X3', 'X2', 'X10']\n",
            "467.36259999999993\n"
          ]
        }
      ]
    },
    {
      "cell_type": "markdown",
      "metadata": {
        "id": "HLhsL0ezHk_8"
      },
      "source": [
        "##LinearRegression"
      ]
    },
    {
      "cell_type": "code",
      "source": [
        "cv = KFold(n_splits=5, shuffle=True,random_state=42)\n",
        "\n",
        "rmse_test_arr = []\n",
        "rrmse_test_arr =[]\n",
        "r2_test_arr= []\n",
        "mae_test_arr = []\n",
        "\n",
        "rmse_train_arr = []\n",
        "rrmse_train_arr =[]\n",
        "r2_train_arr= []\n",
        "mae_train_arr = []\n",
        "\n",
        "bias_test_arr = []\n",
        "bias_train_arr = []\n",
        "\n",
        "for tr, tt in cv.split(df_train): #tr,tt are indexes\n",
        "    x_train, x_test = df_train[selected_features_final].iloc[tr], df_train[selected_features_final].iloc[tt]\n",
        "    y_train, y_test = df_train['prod'].iloc[tr], df_train['prod'].iloc[tt]\n",
        "    print(tr,tt)\n",
        "    scaler = MinMaxScaler()\n",
        "    X_train = scaler.fit_transform(x_train)\n",
        "    X_test = scaler.transform(x_test)\n",
        "    model = LinearRegression().fit(X_train, y_train)\n",
        "    y_pred= model.predict(X_test)\n",
        "    y_pred_train= model.predict(X_train)\n",
        "\n",
        "    r2_test=r2_score(y_test,y_pred)\n",
        "    r2_train=r2_score(y_train,y_pred_train)\n",
        "    #print(r2_test)\n",
        "    #print(r2_train)\n",
        "    r2_test_arr.append(r2_test)\n",
        "    r2_train_arr.append(r2_train)\n",
        "\n",
        "    rmse_test = float(format(np.sqrt(mean_squared_error(y_test, y_pred)), '.3f'))\n",
        "    #print(\"\\nRMSE test: \", rmse_test)\n",
        "    rmse_test_arr.append(rmse_test)\n",
        "\n",
        "    rrmse_test = format(float(rmse_test*100/np.mean(y_test)),'.2f')\n",
        "    #print(\"\\nRRMSE test: \", rrmse_test,\"%\")\n",
        "    rrmse_test_arr.append(rrmse_test)\n",
        "\n",
        "    rmse_train = float(format(np.sqrt(mean_squared_error(y_train, y_pred_train)), '.3f'))\n",
        "    #print(\"\\nRMSE train: \", rmse_train)\n",
        "    rmse_train_arr.append(rmse_train)\n",
        "\n",
        "    rrmse_train = format(float(rmse_train*100/np.mean(y_train)),'.2f')\n",
        "    #print(\"\\nRRMSE train: \", rrmse_train,\"%\")\n",
        "    rrmse_train_arr.append(rrmse_train)\n",
        "\n",
        "    mae_test = float(format(mean_absolute_error(y_test, y_pred), '.3f'))\n",
        "    #print(\"\\nMAE Test: \", mae_test)\n",
        "    mae_test_arr.append(mae_test)\n",
        "    mae_train = float(format(mean_absolute_error(y_train, y_pred_train), '.3f'))\n",
        "    #print(\"\\nMAE Train: \", mae_train)\n",
        "    mae_train_arr.append(mae_train)\n",
        "\n",
        "    #print(\"\\nBias Test: \\n\", bias_value(y_test,y_pred))\n",
        "    bias_test_arr.append(bias_value(y_test,y_pred))\n",
        "    #print(\"\\nBias Train: \\n\", bias_value(y_train, y_pred_train))\n",
        "    bias_train_arr.append(bias_value(y_train, y_pred_train))\n",
        "\n",
        "data['Method'][0]='Linear Regression'\n",
        "data['RMSE test'][0]=np.mean(rmse_test_arr)\n",
        "data['RMSE train'][0]=np.mean(rmse_train_arr)\n",
        "data['RRMSE test'][0]=np.mean(np.array(rrmse_test_arr).astype(np.float))\n",
        "data['RRMSE train'][0]=np.mean(np.array(rrmse_train_arr).astype(np.float))\n",
        "data['MAE test'][0]=np.mean(mae_test_arr)\n",
        "data['MAE train'][0]=np.mean(mae_train_arr)\n",
        "data['R2_score test'][0]=np.mean(r2_test_arr)\n",
        "data['R2_score train'][0]=np.mean(r2_train_arr)\n",
        "data['Bias test'][0]=np.mean(bias_test_arr)\n",
        "data['Bias train'][0]=np.mean(bias_train_arr)\n",
        "\n",
        "#print(np.array(rmse_test_arr).astype(np.float))\n",
        "print(rmse_test_arr)\n",
        "print(sum(rmse_test_arr)/5)\n",
        "plt.figure(figsize=(12,12))\n",
        "plt.subplot(4, 2, 1)\n",
        "plt.title(\"rmse_test\")\n",
        "plt.bar([x for x in [0,1,2,3,4]],[rmse_test_arr[x] for x in [0,1,2,3,4]])"
      ],
      "metadata": {
        "colab": {
          "base_uri": "https://localhost:8080/",
          "height": 546
        },
        "id": "Q1Ivz1Pdrnje",
        "outputId": "37fed6c5-7fb3-4854-84bc-e6da4c828f23"
      },
      "execution_count": null,
      "outputs": [
        {
          "output_type": "stream",
          "name": "stdout",
          "text": [
            "[ 1  2  3  4  5  6  7  9 10 12 13 14 15 17 19 20 21 22 23] [ 0  8 11 16 18]\n",
            "[ 0  2  3  4  6  7  8 10 11 12 14 15 16 17 18 19 20 22 23] [ 1  5  9 13 21]\n",
            "[ 0  1  5  6  7  8  9 10 11 13 14 16 17 18 19 20 21 22 23] [ 2  3  4 12 15]\n",
            "[ 0  1  2  3  4  5  6  8  9 10 11 12 13 14 15 16 18 19 21] [ 7 17 20 22 23]\n",
            "[ 0  1  2  3  4  5  7  8  9 11 12 13 15 16 17 18 20 21 22 23] [ 6 10 14 19]\n",
            "[722.267, 796.735, 291.707, 387.04, 279.564]\n",
            "495.46259999999995\n"
          ]
        },
        {
          "output_type": "stream",
          "name": "stderr",
          "text": [
            "<ipython-input-27-703380dd22a2>:65: DeprecationWarning: `np.float` is a deprecated alias for the builtin `float`. To silence this warning, use `float` by itself. Doing this will not modify any behavior and is safe. If you specifically wanted the numpy scalar type, use `np.float64` here.\n",
            "Deprecated in NumPy 1.20; for more details and guidance: https://numpy.org/devdocs/release/1.20.0-notes.html#deprecations\n",
            "  data['RRMSE test'][0]=np.mean(np.array(rrmse_test_arr).astype(np.float))\n",
            "<ipython-input-27-703380dd22a2>:66: DeprecationWarning: `np.float` is a deprecated alias for the builtin `float`. To silence this warning, use `float` by itself. Doing this will not modify any behavior and is safe. If you specifically wanted the numpy scalar type, use `np.float64` here.\n",
            "Deprecated in NumPy 1.20; for more details and guidance: https://numpy.org/devdocs/release/1.20.0-notes.html#deprecations\n",
            "  data['RRMSE train'][0]=np.mean(np.array(rrmse_train_arr).astype(np.float))\n"
          ]
        },
        {
          "output_type": "execute_result",
          "data": {
            "text/plain": [
              "<BarContainer object of 5 artists>"
            ]
          },
          "metadata": {},
          "execution_count": 27
        },
        {
          "output_type": "display_data",
          "data": {
            "text/plain": [
              "<Figure size 1200x1200 with 1 Axes>"
            ],
            "image/png": "[encoded data removed]"
          },
          "metadata": {}
        }
      ]
    },
    {
      "cell_type": "code",
      "source": [
        "\n",
        "tr = [ 0 , 1 , 5 , 6,  7,  8,  9, 10, 11, 13, 14, 16, 17, 18, 19, 20, 21, 22, 23]\n",
        "tt = [ 2 , 3 , 4 ,12, 15]\n",
        "x_train, x_test = df_train[selected_features_final].iloc[tr], df_train[selected_features_final].iloc[tt]\n",
        "y_train, y_test = df_train['prod'].iloc[tr], df_train['prod'].iloc[tt]\n",
        "print(tr,tt)\n",
        "scaler = MinMaxScaler()\n",
        "X_train = scaler.fit_transform(x_train)\n",
        "X_test = scaler.transform(x_test)\n",
        "model = LinearRegression().fit(X_train, y_train)\n",
        "\n",
        "x_ = df_test[selected_features_final]\n",
        "y_ = df_test['prod']\n",
        "y_pred_ = model.predict(x_)\n",
        "\n",
        "rmse_test = float(format(np.sqrt(mean_squared_error(y_pred_, y_)), '.3f'))\n",
        "print(\"\\nRMSE test: \", rmse_test)\n",
        "\n",
        "rrmse_test = format(float(rmse_test*100/np.mean(y_)),'.2f')\n",
        "print(\"\\nRRMSE test: \", rrmse_test,\"%\")\n",
        "\n",
        "\n",
        "# plt.figure(figsize=(12,12))\n",
        "# plt.scatter(y_, y_pred_)\n",
        "# # p1 = max(max(y_pred_), max(y_))\n",
        "# # p2 = min(min(y_pred_), min(y_))\n",
        "# # plt.plot( [p1,p2], [p1,p2], linestyle='--', color='k' )\n",
        "# plt.show()\n",
        "\n"
      ],
      "metadata": {
        "id": "K_PtSNheK6Lm",
        "colab": {
          "base_uri": "https://localhost:8080/"
        },
        "outputId": "db5553db-380b-4c2e-9736-5465d3239378"
      },
      "execution_count": null,
      "outputs": [
        {
          "output_type": "stream",
          "name": "stdout",
          "text": [
            "[0, 1, 5, 6, 7, 8, 9, 10, 11, 13, 14, 16, 17, 18, 19, 20, 21, 22, 23] [2, 3, 4, 12, 15]\n",
            "\n",
            "RMSE test:  5288.885\n",
            "\n",
            "RRMSE test:  113.03 %\n"
          ]
        },
        {
          "output_type": "stream",
          "name": "stderr",
          "text": [
            "/usr/local/lib/python3.10/dist-packages/sklearn/base.py:432: UserWarning: X has feature names, but LinearRegression was fitted without feature names\n",
            "  warnings.warn(\n"
          ]
        }
      ]
    },
    {
      "cell_type": "markdown",
      "metadata": {
        "id": "R80vCw0NI3xI"
      },
      "source": [
        "##SVR"
      ]
    },
    {
      "cell_type": "code",
      "execution_count": null,
      "metadata": {
        "id": "4E-wKr-LIYz2",
        "colab": {
          "base_uri": "https://localhost:8080/",
          "height": 511
        },
        "outputId": "410770fa-a7d4-4843-d4dc-315c2b88f4ed"
      },
      "outputs": [
        {
          "output_type": "stream",
          "name": "stdout",
          "text": [
            "[ 1  2  3  4  5  6  7  9 10 12 13 14 15 17 19 20 21 22 23] [ 0  8 11 16 18]\n",
            "[ 0  2  3  4  6  7  8 10 11 12 14 15 16 17 18 19 20 22 23] [ 1  5  9 13 21]\n",
            "[ 0  1  5  6  7  8  9 10 11 13 14 16 17 18 19 20 21 22 23] [ 2  3  4 12 15]\n",
            "[ 0  1  2  3  4  5  6  8  9 10 11 12 13 14 15 16 18 19 21] [ 7 17 20 22 23]\n",
            "[ 0  1  2  3  4  5  7  8  9 11 12 13 15 16 17 18 20 21 22 23] [ 6 10 14 19]\n"
          ]
        },
        {
          "output_type": "stream",
          "name": "stderr",
          "text": [
            "<ipython-input-32-fb44b5c36c5a>:68: DeprecationWarning: `np.float` is a deprecated alias for the builtin `float`. To silence this warning, use `float` by itself. Doing this will not modify any behavior and is safe. If you specifically wanted the numpy scalar type, use `np.float64` here.\n",
            "Deprecated in NumPy 1.20; for more details and guidance: https://numpy.org/devdocs/release/1.20.0-notes.html#deprecations\n",
            "  data['RRMSE test'][1]=np.mean(np.array(rrmse_test_arr).astype(np.float))\n",
            "<ipython-input-32-fb44b5c36c5a>:69: DeprecationWarning: `np.float` is a deprecated alias for the builtin `float`. To silence this warning, use `float` by itself. Doing this will not modify any behavior and is safe. If you specifically wanted the numpy scalar type, use `np.float64` here.\n",
            "Deprecated in NumPy 1.20; for more details and guidance: https://numpy.org/devdocs/release/1.20.0-notes.html#deprecations\n",
            "  data['RRMSE train'][1]=np.mean(np.array(rrmse_train_arr).astype(np.float))\n"
          ]
        },
        {
          "output_type": "execute_result",
          "data": {
            "text/plain": [
              "<BarContainer object of 5 artists>"
            ]
          },
          "metadata": {},
          "execution_count": 32
        },
        {
          "output_type": "display_data",
          "data": {
            "text/plain": [
              "<Figure size 1200x1200 with 1 Axes>"
            ],
            "image/png": "[encoded data removed]"
          },
          "metadata": {}
        }
      ],
      "source": [
        "\n",
        "\n",
        "cv = KFold(n_splits=5, shuffle=True, random_state=42)\n",
        "\n",
        "# Iterate through CV splits\n",
        "rmse_test_arr = []\n",
        "rrmse_test_arr =[]\n",
        "r2_test_arr= []\n",
        "mae_test_arr = []\n",
        "\n",
        "rmse_train_arr = []\n",
        "rrmse_train_arr =[]\n",
        "r2_train_arr= []\n",
        "mae_train_arr = []\n",
        "\n",
        "bias_test_arr = []\n",
        "bias_train_arr = []\n",
        "\n",
        "\n",
        "for tr, tt in cv.split(df_train): #tr,tt are indexes\n",
        "    x_train, x_test = df_train[selected_features_final].iloc[tr], df_train[selected_features_final].iloc[tt]\n",
        "    y_train, y_test = df_train['prod'].iloc[tr], df_train['prod'].iloc[tt]\n",
        "    print(tr,tt)\n",
        "    scaler = MinMaxScaler()\n",
        "    X_train = scaler.fit_transform(x_train)\n",
        "    X_test = scaler.transform(x_test)\n",
        "    model = SVR().fit(X_train, y_train)\n",
        "    y_pred= model.predict(X_test)\n",
        "    y_pred_train= model.predict(X_train)\n",
        "\n",
        "    r2_test=r2_score(y_test,y_pred)\n",
        "    r2_train=r2_score(y_train,y_pred_train)\n",
        "    #print(r2_test)\n",
        "    #print(r2_train)\n",
        "    r2_test_arr.append(r2_test)\n",
        "    r2_train_arr.append(r2_train)\n",
        "\n",
        "    rmse_test = float(format(np.sqrt(mean_squared_error(y_test, y_pred)), '.3f'))\n",
        "    #print(\"\\nRMSE test: \", rmse_test)\n",
        "    rmse_test_arr.append(rmse_test)\n",
        "\n",
        "    rrmse_test = format(float(rmse_test*100/np.mean(y_test)),'.2f')\n",
        "    #print(\"\\nRRMSE test: \", rrmse_test,\"%\")\n",
        "    rrmse_test_arr.append(rrmse_test)\n",
        "\n",
        "    rmse_train = float(format(np.sqrt(mean_squared_error(y_train, y_pred_train)), '.3f'))\n",
        "    #print(\"\\nRMSE train: \", rmse_train)\n",
        "    rmse_train_arr.append(rmse_train)\n",
        "\n",
        "    rrmse_train = format(float(rmse_train*100/np.mean(y_train)),'.2f')\n",
        "    #print(\"\\nRRMSE train: \", rrmse_train,\"%\")\n",
        "    rrmse_train_arr.append(rrmse_train)\n",
        "\n",
        "\n",
        "    mae_test = float(format(mean_absolute_error(y_test, y_pred), '.3f'))\n",
        "    #print(\"\\nMAE Test: \", mae_test)\n",
        "    mae_test_arr.append(mae_test)\n",
        "    mae_train = float(format(mean_absolute_error(y_train, y_pred_train), '.3f'))\n",
        "    #print(\"\\nMAE Train: \", mae_train)\n",
        "    mae_train_arr.append(mae_train)\n",
        "\n",
        "                #print(\"\\nBias Test: \\n\", bias_value(y_test,y_pred))\n",
        "    bias_test_arr.append(bias_value(y_test,y_pred))\n",
        "    #print(\"\\nBias Train: \\n\", bias_value(y_train, y_pred_train))\n",
        "    bias_train_arr.append(bias_value(y_train, y_pred_train))\n",
        "\n",
        "data['Method'][1]='SVR'\n",
        "data['RMSE test'][1]=np.mean(rmse_test_arr)\n",
        "data['RMSE train'][1]=np.mean(rmse_train_arr)\n",
        "data['RRMSE test'][1]=np.mean(np.array(rrmse_test_arr).astype(np.float))\n",
        "data['RRMSE train'][1]=np.mean(np.array(rrmse_train_arr).astype(np.float))\n",
        "data['MAE test'][1]=np.mean(mae_test_arr)\n",
        "data['MAE train'][1]=np.mean(mae_train_arr)\n",
        "data['R2_score test'][1]=np.mean(r2_test_arr)\n",
        "data['R2_score train'][1]=np.mean(r2_train_arr)\n",
        "data['Bias test'][1]=np.mean(bias_test_arr)\n",
        "data['Bias train'][1]=np.mean(bias_train_arr)\n",
        "\n",
        "plt.figure(figsize=(12,12))\n",
        "plt.subplot(4, 2, 1)\n",
        "plt.title(\"rmse_test\")\n",
        "plt.bar([x for x in [0,1,2,3,4]],[rmse_test_arr[x] for x in [0,1,2,3,4]])\n",
        "\n",
        "# plt.subplot(4, 2, 2)\n",
        "# plt.title(\"rmse_train\")\n",
        "# plt.bar([x for x in [0,1,2,3,4]],[rmse_train_arr[x] for x in [0,1,2,3,4]])\n",
        "\n",
        "# plt.subplot(4, 2, 3)\n",
        "# plt.title(\"rrmse_test\")\n",
        "# plt.bar([x for x in [0,1,2,3,4]],[rrmse_test_arr[x] for x in [0,1,2,3,4]])\n",
        "\n",
        "# plt.subplot(4, 2, 4)\n",
        "# plt.title(\"rrmse_train\")\n",
        "# plt.bar([x for x in [0,1,2,3,4]],[rrmse_train_arr[x] for x in [0,1,2,3,4]])\n",
        "\n",
        "# plt.subplot(4, 2, 5)\n",
        "# plt.title(\"r2_test\")\n",
        "# plt.bar([x for x in [0,1,2,3,4]],[r2_test_arr[x] for x in [0,1,2,3,4]])\n",
        "\n",
        "# plt.subplot(4, 2, 6)\n",
        "# plt.title(\"r2_train\")\n",
        "# plt.bar([x for x in [0,1,2,3,4]],[r2_train_arr[x] for x in [0,1,2,3,4]])\n",
        "\n",
        "# plt.subplot(4, 2, 7)\n",
        "# plt.title(\"mae_test\")\n",
        "# plt.bar([x for x in [0,1,2,3,4]],[mae_test_arr[x] for x in [0,1,2,3,4]])\n",
        "\n",
        "# plt.subplot(4, 2, 8)\n",
        "# plt.title(\"mae_train\")\n",
        "# plt.bar([x for x in [0,1,2,3,4]],[mae_train_arr[x] for x in [0,1,2,3,4]])\n",
        "# plt.show()\n",
        "\n"
      ]
    },
    {
      "cell_type": "code",
      "source": [
        "tr = [ 0 , 1 , 5 , 6,  7,  8,  9, 10, 11, 13, 14, 16, 17, 18, 19, 20, 21, 22, 23]\n",
        "tt = [ 2 , 3 , 4 ,12, 15]\n",
        "x_train, x_test = df_train[selected_features_final].iloc[tr], df_train[selected_features_final].iloc[tt]\n",
        "y_train, y_test = df_train['prod'].iloc[tr], df_train['prod'].iloc[tt]\n",
        "print(tr,tt)\n",
        "scaler = MinMaxScaler()\n",
        "X_train = scaler.fit_transform(x_train)\n",
        "X_test = scaler.transform(x_test)\n",
        "model = SVR().fit(X_train, y_train)\n",
        "\n",
        "x_ = df_test[selected_features_final]\n",
        "y_ = df_test['prod']\n",
        "y_pred_ = model.predict(x_)\n",
        "\n",
        "rmse_test = float(format(np.sqrt(mean_squared_error(y_pred_, y_)), '.3f'))\n",
        "print(\"\\nRMSE test: \", rmse_test)\n",
        "\n",
        "rrmse_test = format(float(rmse_test*100/np.mean(y_)),'.2f')\n",
        "print(\"\\nRRMSE test: \", rrmse_test,\"%\")\n",
        "\n",
        "\n",
        "# plt.figure(figsize=(12,12))\n",
        "# plt.scatter(y_, y_pred_)\n",
        "# # p1 = max(max(y_pred_), max(y_))\n",
        "# # p2 = min(min(y_pred_), min(y_))\n",
        "# # plt.plot( [p1,p2], [p1,p2], linestyle='--', color='k' )\n",
        "# plt.show()"
      ],
      "metadata": {
        "colab": {
          "base_uri": "https://localhost:8080/"
        },
        "id": "ZI9xK5-oP8Vu",
        "outputId": "bee3e542-e135-42f7-8744-5cc9bb5c7d41"
      },
      "execution_count": null,
      "outputs": [
        {
          "output_type": "stream",
          "name": "stdout",
          "text": [
            "[0, 1, 5, 6, 7, 8, 9, 10, 11, 13, 14, 16, 17, 18, 19, 20, 21, 22, 23] [2, 3, 4, 12, 15]\n",
            "\n",
            "RMSE test:  581.357\n",
            "\n",
            "RRMSE test:  12.42 %\n"
          ]
        },
        {
          "output_type": "stream",
          "name": "stderr",
          "text": [
            "/usr/local/lib/python3.10/dist-packages/sklearn/base.py:432: UserWarning: X has feature names, but SVR was fitted without feature names\n",
            "  warnings.warn(\n"
          ]
        }
      ]
    },
    {
      "cell_type": "markdown",
      "source": [
        "##MLP"
      ],
      "metadata": {
        "id": "lMO0wcDQGt6B"
      }
    },
    {
      "cell_type": "code",
      "execution_count": null,
      "metadata": {
        "id": "E-mvNIKke2P3",
        "colab": {
          "base_uri": "https://localhost:8080/",
          "height": 685
        },
        "outputId": "445d4243-41aa-45a5-9b25-f95fad304ad2"
      },
      "outputs": [
        {
          "output_type": "stream",
          "name": "stdout",
          "text": [
            "[ 1  2  3  4  5  6  7  9 10 12 13 14 15 17 19 20 21 22 23] [ 0  8 11 16 18]\n"
          ]
        },
        {
          "output_type": "stream",
          "name": "stderr",
          "text": [
            "/usr/local/lib/python3.10/dist-packages/sklearn/neural_network/_multilayer_perceptron.py:686: ConvergenceWarning: Stochastic Optimizer: Maximum iterations (2000) reached and the optimization hasn't converged yet.\n",
            "  warnings.warn(\n"
          ]
        },
        {
          "output_type": "stream",
          "name": "stdout",
          "text": [
            "[ 0  2  3  4  6  7  8 10 11 12 14 15 16 17 18 19 20 22 23] [ 1  5  9 13 21]\n"
          ]
        },
        {
          "output_type": "stream",
          "name": "stderr",
          "text": [
            "/usr/local/lib/python3.10/dist-packages/sklearn/neural_network/_multilayer_perceptron.py:686: ConvergenceWarning: Stochastic Optimizer: Maximum iterations (2000) reached and the optimization hasn't converged yet.\n",
            "  warnings.warn(\n"
          ]
        },
        {
          "output_type": "stream",
          "name": "stdout",
          "text": [
            "[ 0  1  5  6  7  8  9 10 11 13 14 16 17 18 19 20 21 22 23] [ 2  3  4 12 15]\n"
          ]
        },
        {
          "output_type": "stream",
          "name": "stderr",
          "text": [
            "/usr/local/lib/python3.10/dist-packages/sklearn/neural_network/_multilayer_perceptron.py:686: ConvergenceWarning: Stochastic Optimizer: Maximum iterations (2000) reached and the optimization hasn't converged yet.\n",
            "  warnings.warn(\n"
          ]
        },
        {
          "output_type": "stream",
          "name": "stdout",
          "text": [
            "[ 0  1  2  3  4  5  6  8  9 10 11 12 13 14 15 16 18 19 21] [ 7 17 20 22 23]\n"
          ]
        },
        {
          "output_type": "stream",
          "name": "stderr",
          "text": [
            "/usr/local/lib/python3.10/dist-packages/sklearn/neural_network/_multilayer_perceptron.py:686: ConvergenceWarning: Stochastic Optimizer: Maximum iterations (2000) reached and the optimization hasn't converged yet.\n",
            "  warnings.warn(\n"
          ]
        },
        {
          "output_type": "stream",
          "name": "stdout",
          "text": [
            "[ 0  1  2  3  4  5  7  8  9 11 12 13 15 16 17 18 20 21 22 23] [ 6 10 14 19]\n"
          ]
        },
        {
          "output_type": "stream",
          "name": "stderr",
          "text": [
            "/usr/local/lib/python3.10/dist-packages/sklearn/neural_network/_multilayer_perceptron.py:686: ConvergenceWarning: Stochastic Optimizer: Maximum iterations (2000) reached and the optimization hasn't converged yet.\n",
            "  warnings.warn(\n",
            "<ipython-input-34-f629258fd2bf>:68: DeprecationWarning: `np.float` is a deprecated alias for the builtin `float`. To silence this warning, use `float` by itself. Doing this will not modify any behavior and is safe. If you specifically wanted the numpy scalar type, use `np.float64` here.\n",
            "Deprecated in NumPy 1.20; for more details and guidance: https://numpy.org/devdocs/release/1.20.0-notes.html#deprecations\n",
            "  data['RRMSE test'][2]=np.mean(np.array(rrmse_test_arr).astype(np.float))\n",
            "<ipython-input-34-f629258fd2bf>:69: DeprecationWarning: `np.float` is a deprecated alias for the builtin `float`. To silence this warning, use `float` by itself. Doing this will not modify any behavior and is safe. If you specifically wanted the numpy scalar type, use `np.float64` here.\n",
            "Deprecated in NumPy 1.20; for more details and guidance: https://numpy.org/devdocs/release/1.20.0-notes.html#deprecations\n",
            "  data['RRMSE train'][2]=np.mean(np.array(rrmse_train_arr).astype(np.float))\n"
          ]
        },
        {
          "output_type": "execute_result",
          "data": {
            "text/plain": [
              "<BarContainer object of 5 artists>"
            ]
          },
          "metadata": {},
          "execution_count": 34
        },
        {
          "output_type": "display_data",
          "data": {
            "text/plain": [
              "<Figure size 1200x1200 with 1 Axes>"
            ],
            "image/png": "[encoded data removed]"
          },
          "metadata": {}
        }
      ],
      "source": [
        "\n",
        "cv = KFold(n_splits=5, shuffle=True, random_state=42)\n",
        "\n",
        "# Iterate through CV splits\n",
        "rmse_test_arr = []\n",
        "rrmse_test_arr =[]\n",
        "r2_test_arr= []\n",
        "mae_test_arr = []\n",
        "\n",
        "rmse_train_arr = []\n",
        "rrmse_train_arr =[]\n",
        "r2_train_arr= []\n",
        "mae_train_arr = []\n",
        "\n",
        "bias_test_arr = []\n",
        "bias_train_arr = []\n",
        "\n",
        "\n",
        "for tr, tt in cv.split(df_train): #tr,tt are indexes\n",
        "    x_train, x_test = df_train[selected_features_final].iloc[tr], df_train[selected_features_final].iloc[tt]\n",
        "    y_train, y_test = df_train['prod'].iloc[tr], df_train['prod'].iloc[tt]\n",
        "    scaler = MinMaxScaler()\n",
        "    print(tr,tt)\n",
        "    X_train = scaler.fit_transform(x_train)\n",
        "    X_test = scaler.transform(x_test)\n",
        "    model = MLPRegressor(hidden_layer_sizes=(64,64,64),activation=\"relu\" ,random_state=1, max_iter=2000).fit(X_train, y_train)\n",
        "    y_pred= model.predict(X_test)\n",
        "    y_pred_train= model.predict(X_train)\n",
        "\n",
        "    r2_test=r2_score(y_test,y_pred)\n",
        "    r2_train=r2_score(y_train,y_pred_train)\n",
        "    #print(r2_test)\n",
        "    #print(r2_train)\n",
        "    r2_test_arr.append(r2_test)\n",
        "    r2_train_arr.append(r2_train)\n",
        "\n",
        "    rmse_test = float(format(np.sqrt(mean_squared_error(y_test, y_pred)), '.3f'))\n",
        "    #print(\"\\nRMSE test: \", rmse_test)\n",
        "    rmse_test_arr.append(rmse_test)\n",
        "\n",
        "    rrmse_test = format(float(rmse_test*100/np.mean(y_test)),'.2f')\n",
        "    #print(\"\\nRRMSE test: \", rrmse_test,\"%\")\n",
        "    rrmse_test_arr.append(rrmse_test)\n",
        "\n",
        "    rmse_train = float(format(np.sqrt(mean_squared_error(y_train, y_pred_train)), '.3f'))\n",
        "    #print(\"\\nRMSE train: \", rmse_train)\n",
        "    rmse_train_arr.append(rmse_train)\n",
        "\n",
        "    rrmse_train = format(float(rmse_train*100/np.mean(y_train)),'.2f')\n",
        "    #print(\"\\nRRMSE train: \", rrmse_train,\"%\")\n",
        "    rrmse_train_arr.append(rrmse_train)\n",
        "\n",
        "\n",
        "    mae_test = float(format(mean_absolute_error(y_test, y_pred), '.3f'))\n",
        "    #print(\"\\nMAE Test: \", mae_test)\n",
        "    mae_test_arr.append(mae_test)\n",
        "    mae_train = float(format(mean_absolute_error(y_train, y_pred_train), '.3f'))\n",
        "    #print(\"\\nMAE Train: \", mae_train)\n",
        "    mae_train_arr.append(mae_train)\n",
        "\n",
        "                #print(\"\\nBias Test: \\n\", bias_value(y_test,y_pred))\n",
        "    bias_test_arr.append(bias_value(y_test,y_pred))\n",
        "    #print(\"\\nBias Train: \\n\", bias_value(y_train, y_pred_train))\n",
        "    bias_train_arr.append(bias_value(y_train, y_pred_train))\n",
        "\n",
        "data['Method'][2]='MLP'\n",
        "data['RMSE test'][2]=np.mean(rmse_test_arr)\n",
        "data['RMSE train'][2]=np.mean(rmse_train_arr)\n",
        "data['RRMSE test'][2]=np.mean(np.array(rrmse_test_arr).astype(np.float))\n",
        "data['RRMSE train'][2]=np.mean(np.array(rrmse_train_arr).astype(np.float))\n",
        "data['MAE test'][2]=np.mean(mae_test_arr)\n",
        "data['MAE train'][2]=np.mean(mae_train_arr)\n",
        "data['R2_score test'][2]=np.mean(r2_test_arr)\n",
        "data['R2_score train'][2]=np.mean(r2_train_arr)\n",
        "data['Bias test'][2]=np.mean(bias_test_arr)\n",
        "data['Bias train'][2]=np.mean(bias_train_arr)\n",
        "\n",
        "plt.figure(figsize=(12,12))\n",
        "plt.subplot(4, 2, 1)\n",
        "plt.title(\"rmse_test\")\n",
        "plt.bar([x for x in [0,1,2,3,4]],[rmse_test_arr[x] for x in [0,1,2,3,4]])\n",
        "\n",
        "# plt.subplot(4, 2, 2)\n",
        "# plt.title(\"rmse_train\")\n",
        "# plt.bar([x for x in [0,1,2,3,4]],[rmse_train_arr[x] for x in [0,1,2,3,4]])\n",
        "\n",
        "# plt.subplot(4, 2, 3)\n",
        "# plt.title(\"rrmse_test\")\n",
        "# plt.bar([x for x in [0,1,2,3,4]],[rrmse_test_arr[x] for x in [0,1,2,3,4]])\n",
        "\n",
        "# plt.subplot(4, 2, 4)\n",
        "# plt.title(\"rrmse_train\")\n",
        "# plt.bar([x for x in [0,1,2,3,4]],[rrmse_train_arr[x] for x in [0,1,2,3,4]])\n",
        "\n",
        "# plt.subplot(4, 2, 5)\n",
        "# plt.title(\"r2_test\")\n",
        "# plt.bar([x for x in [0,1,2,3,4]],[r2_test_arr[x] for x in [0,1,2,3,4]])\n",
        "\n",
        "# plt.subplot(4, 2, 6)\n",
        "# plt.title(\"r2_train\")\n",
        "# plt.bar([x for x in [0,1,2,3,4]],[r2_train_arr[x] for x in [0,1,2,3,4]])\n",
        "\n",
        "# plt.subplot(4, 2, 7)\n",
        "# plt.title(\"mae_test\")\n",
        "# plt.bar([x for x in [0,1,2,3,4]],[mae_test_arr[x] for x in [0,1,2,3,4]])\n",
        "\n",
        "# plt.subplot(4, 2, 8)\n",
        "# plt.title(\"mae_train\")\n",
        "# plt.bar([x for x in [0,1,2,3,4]],[mae_train_arr[x] for x in [0,1,2,3,4]])\n",
        "# plt.show()\n",
        "\n"
      ]
    },
    {
      "cell_type": "code",
      "source": [
        "tr = [ 0,  1,  2,  3,  4,  5,  7,  8,  9, 11, 12, 13, 15, 16, 17, 18, 20, 21, 22, 23] \n",
        "tt = [ 6, 10, 14, 19]\n",
        "x_train, x_test = df_train[selected_features_final].iloc[tr], df_train[selected_features_final].iloc[tt]\n",
        "y_train, y_test = df_train['prod'].iloc[tr], df_train['prod'].iloc[tt]\n",
        "print(tr,tt)\n",
        "scaler = MinMaxScaler()\n",
        "X_train = scaler.fit_transform(x_train)\n",
        "X_test = scaler.transform(x_test)\n",
        "model = MLPRegressor(hidden_layer_sizes=(64,64,64),activation=\"relu\" ,random_state=1, max_iter=2000).fit(X_train, y_train)\n",
        "\n",
        "x_ = df_test[selected_features_final]\n",
        "y_ = df_test['prod']\n",
        "y_pred_ = model.predict(x_)\n",
        "\n",
        "rmse_test = float(format(np.sqrt(mean_squared_error(y_pred_, y_)), '.3f'))\n",
        "print(\"\\nRMSE test: \", rmse_test)\n",
        "\n",
        "rrmse_test = format(float(rmse_test*100/np.mean(y_)),'.2f')\n",
        "print(\"\\nRRMSE test: \", rrmse_test,\"%\")\n",
        "\n",
        "\n",
        "# plt.figure(figsize=(12,12))\n",
        "# plt.scatter(y_, y_pred_)\n",
        "# # p1 = max(max(y_pred_), max(y_))\n",
        "# # p2 = min(min(y_pred_), min(y_))\n",
        "# # plt.plot( [p1,p2], [p1,p2], linestyle='--', color='k' )\n",
        "# plt.show()"
      ],
      "metadata": {
        "colab": {
          "base_uri": "https://localhost:8080/"
        },
        "outputId": "51aac71a-7cc6-45c4-c853-aebf75043569",
        "id": "Ggvnu7BxSzUb"
      },
      "execution_count": null,
      "outputs": [
        {
          "output_type": "stream",
          "name": "stdout",
          "text": [
            "[0, 1, 2, 3, 4, 5, 7, 8, 9, 11, 12, 13, 15, 16, 17, 18, 20, 21, 22, 23] [6, 10, 14, 19]\n",
            "\n",
            "RMSE test:  31811.316\n",
            "\n",
            "RRMSE test:  679.86 %\n"
          ]
        },
        {
          "output_type": "stream",
          "name": "stderr",
          "text": [
            "/usr/local/lib/python3.10/dist-packages/sklearn/neural_network/_multilayer_perceptron.py:686: ConvergenceWarning: Stochastic Optimizer: Maximum iterations (2000) reached and the optimization hasn't converged yet.\n",
            "  warnings.warn(\n",
            "/usr/local/lib/python3.10/dist-packages/sklearn/base.py:432: UserWarning: X has feature names, but MLPRegressor was fitted without feature names\n",
            "  warnings.warn(\n"
          ]
        }
      ]
    },
    {
      "cell_type": "markdown",
      "metadata": {
        "id": "YC7q8JzuRjUg"
      },
      "source": [
        "##KNN"
      ]
    },
    {
      "cell_type": "code",
      "source": [
        "\n",
        "\n",
        "cv = KFold(n_splits=5, shuffle=True, random_state=42)\n",
        "\n",
        "# Iterate through CV splits\n",
        "rmse_test_arr = []\n",
        "rrmse_test_arr =[]\n",
        "r2_test_arr= []\n",
        "mae_test_arr = []\n",
        "\n",
        "rmse_train_arr = []\n",
        "rrmse_train_arr =[]\n",
        "r2_train_arr= []\n",
        "mae_train_arr = []\n",
        "\n",
        "bias_test_arr = []\n",
        "bias_train_arr = []\n",
        "\n",
        "\n",
        "for tr, tt in cv.split(df_train): #tr,tt are indexes\n",
        "    x_train, x_test = df_train[selected_features_final].iloc[tr], df_train[selected_features_final].iloc[tt]\n",
        "    y_train, y_test = df_train['prod'].iloc[tr], df_train['prod'].iloc[tt]\n",
        "    print(tt,tr)\n",
        "    scaler = MinMaxScaler()\n",
        "    X_train = scaler.fit_transform(x_train)\n",
        "    X_test = scaler.transform(x_test)\n",
        "    K=5\n",
        "    model = neighbors.KNeighborsRegressor(n_neighbors = K).fit(X_train, y_train)\n",
        "    y_pred= model.predict(X_test)\n",
        "    y_pred_train= model.predict(X_train)\n",
        "\n",
        "    r2_test=r2_score(y_test,y_pred)\n",
        "    r2_train=r2_score(y_train,y_pred_train)\n",
        "    #print(r2_test)\n",
        "    #print(r2_train)\n",
        "    r2_test_arr.append(r2_test)\n",
        "    r2_train_arr.append(r2_train)\n",
        "\n",
        "    rmse_test = float(format(np.sqrt(mean_squared_error(y_test, y_pred)), '.3f'))\n",
        "    #print(\"\\nRMSE test: \", rmse_test)\n",
        "    rmse_test_arr.append(rmse_test)\n",
        "\n",
        "    rrmse_test = format(float(rmse_test*100/np.mean(y_test)),'.2f')\n",
        "    #print(\"\\nRRMSE test: \", rrmse_test,\"%\")\n",
        "    rrmse_test_arr.append(rrmse_test)\n",
        "\n",
        "    rmse_train = float(format(np.sqrt(mean_squared_error(y_train, y_pred_train)), '.3f'))\n",
        "    #print(\"\\nRMSE train: \", rmse_train)\n",
        "    rmse_train_arr.append(rmse_train)\n",
        "\n",
        "    rrmse_train = format(float(rmse_train*100/np.mean(y_train)),'.2f')\n",
        "    #print(\"\\nRRMSE train: \", rrmse_train,\"%\")\n",
        "    rrmse_train_arr.append(rrmse_train)\n",
        "\n",
        "\n",
        "    mae_test = float(format(mean_absolute_error(y_test, y_pred), '.3f'))\n",
        "    #print(\"\\nMAE Test: \", mae_test)\n",
        "    mae_test_arr.append(mae_test)\n",
        "    mae_train = float(format(mean_absolute_error(y_train, y_pred_train), '.3f'))\n",
        "    #print(\"\\nMAE Train: \", mae_train)\n",
        "    mae_train_arr.append(mae_train)\n",
        "\n",
        "                #print(\"\\nBias Test: \\n\", bias_value(y_test,y_pred))\n",
        "    bias_test_arr.append(bias_value(y_test,y_pred))\n",
        "    #print(\"\\nBias Train: \\n\", bias_value(y_train, y_pred_train))\n",
        "    bias_train_arr.append(bias_value(y_train, y_pred_train))\n",
        "\n",
        "data['Method'][3]='KNN'\n",
        "data['RMSE test'][3]=np.mean(rmse_test_arr)\n",
        "data['RMSE train'][3]=np.mean(rmse_train_arr)\n",
        "data['RRMSE test'][3]=np.mean(np.array(rrmse_test_arr).astype(np.float))\n",
        "data['RRMSE train'][3]=np.mean(np.array(rrmse_train_arr).astype(np.float))\n",
        "data['MAE test'][3]=np.mean(mae_test_arr)\n",
        "data['MAE train'][3]=np.mean(mae_train_arr)\n",
        "data['R2_score test'][3]=np.mean(r2_test_arr)\n",
        "data['R2_score train'][3]=np.mean(r2_train_arr)\n",
        "data['Bias test'][3]=np.mean(bias_test_arr)\n",
        "data['Bias train'][3]=np.mean(bias_train_arr)\n",
        "\n",
        "plt.figure(figsize=(12,12))\n",
        "plt.subplot(4, 2, 1)\n",
        "plt.title(\"rmse_test\")\n",
        "plt.bar([x for x in [0,1,2,3,4]],[rmse_test_arr[x] for x in [0,1,2,3,4]])\n",
        "\n",
        "# plt.subplot(4, 2, 2)\n",
        "# plt.title(\"rmse_train\")\n",
        "# plt.bar([x for x in [0,1,2,3,4]],[rmse_train_arr[x] for x in [0,1,2,3,4]])\n",
        "\n",
        "# plt.subplot(4, 2, 3)\n",
        "# plt.title(\"rrmse_test\")\n",
        "# plt.bar([x for x in [0,1,2,3,4]],[rrmse_test_arr[x] for x in [0,1,2,3,4]])\n",
        "\n",
        "# plt.subplot(4, 2, 4)\n",
        "# plt.title(\"rrmse_train\")\n",
        "# plt.bar([x for x in [0,1,2,3,4]],[rrmse_train_arr[x] for x in [0,1,2,3,4]])\n",
        "\n",
        "# plt.subplot(4, 2, 5)\n",
        "# plt.title(\"r2_test\")\n",
        "# plt.bar([x for x in [0,1,2,3,4]],[r2_test_arr[x] for x in [0,1,2,3,4]])\n",
        "\n",
        "# plt.subplot(4, 2, 6)\n",
        "# plt.title(\"r2_train\")\n",
        "# plt.bar([x for x in [0,1,2,3,4]],[r2_train_arr[x] for x in [0,1,2,3,4]])\n",
        "\n",
        "# plt.subplot(4, 2, 7)\n",
        "# plt.title(\"mae_test\")\n",
        "# plt.bar([x for x in [0,1,2,3,4]],[mae_test_arr[x] for x in [0,1,2,3,4]])\n",
        "\n",
        "# plt.subplot(4, 2, 8)\n",
        "# plt.title(\"mae_train\")\n",
        "# plt.bar([x for x in [0,1,2,3,4]],[mae_train_arr[x] for x in [0,1,2,3,4]])\n",
        "# plt.show()\n",
        "\n"
      ],
      "metadata": {
        "id": "MSvXfaFlkVSn",
        "colab": {
          "base_uri": "https://localhost:8080/",
          "height": 511
        },
        "outputId": "7fad6899-c6f8-4f7d-fc5b-2826bbc35f3a"
      },
      "execution_count": null,
      "outputs": [
        {
          "output_type": "stream",
          "name": "stderr",
          "text": [
            "<ipython-input-36-aac10397f0b3>:69: DeprecationWarning: `np.float` is a deprecated alias for the builtin `float`. To silence this warning, use `float` by itself. Doing this will not modify any behavior and is safe. If you specifically wanted the numpy scalar type, use `np.float64` here.\n",
            "Deprecated in NumPy 1.20; for more details and guidance: https://numpy.org/devdocs/release/1.20.0-notes.html#deprecations\n",
            "  data['RRMSE test'][3]=np.mean(np.array(rrmse_test_arr).astype(np.float))\n",
            "<ipython-input-36-aac10397f0b3>:70: DeprecationWarning: `np.float` is a deprecated alias for the builtin `float`. To silence this warning, use `float` by itself. Doing this will not modify any behavior and is safe. If you specifically wanted the numpy scalar type, use `np.float64` here.\n",
            "Deprecated in NumPy 1.20; for more details and guidance: https://numpy.org/devdocs/release/1.20.0-notes.html#deprecations\n",
            "  data['RRMSE train'][3]=np.mean(np.array(rrmse_train_arr).astype(np.float))\n"
          ]
        },
        {
          "output_type": "stream",
          "name": "stdout",
          "text": [
            "[ 0  8 11 16 18] [ 1  2  3  4  5  6  7  9 10 12 13 14 15 17 19 20 21 22 23]\n",
            "[ 1  5  9 13 21] [ 0  2  3  4  6  7  8 10 11 12 14 15 16 17 18 19 20 22 23]\n",
            "[ 2  3  4 12 15] [ 0  1  5  6  7  8  9 10 11 13 14 16 17 18 19 20 21 22 23]\n",
            "[ 7 17 20 22 23] [ 0  1  2  3  4  5  6  8  9 10 11 12 13 14 15 16 18 19 21]\n",
            "[ 6 10 14 19] [ 0  1  2  3  4  5  7  8  9 11 12 13 15 16 17 18 20 21 22 23]\n"
          ]
        },
        {
          "output_type": "execute_result",
          "data": {
            "text/plain": [
              "<BarContainer object of 5 artists>"
            ]
          },
          "metadata": {},
          "execution_count": 36
        },
        {
          "output_type": "display_data",
          "data": {
            "text/plain": [
              "<Figure size 1200x1200 with 1 Axes>"
            ],
            "image/png": "[encoded data removed]"
          },
          "metadata": {}
        }
      ]
    },
    {
      "cell_type": "code",
      "source": [
        "tr = [ 0 , 1 , 5 , 6,  7,  8,  9, 10, 11, 13, 14, 16, 17, 18, 19, 20, 21, 22, 23]\n",
        "tt = [ 2 , 3 , 4 ,12, 15]\n",
        "x_train, x_test = df_train[selected_features_final].iloc[tr], df_train[selected_features_final].iloc[tt]\n",
        "y_train, y_test = df_train['prod'].iloc[tr], df_train['prod'].iloc[tt]\n",
        "print(tr,tt)\n",
        "scaler = MinMaxScaler()\n",
        "X_train = scaler.fit_transform(x_train)\n",
        "X_test = scaler.transform(x_test)\n",
        "K=5\n",
        "model = neighbors.KNeighborsRegressor(n_neighbors = K).fit(X_train, y_train)\n",
        "x_ = df_test[selected_features_final]\n",
        "y_ = df_test['prod']\n",
        "y_pred_ = model.predict(x_)\n",
        "\n",
        "rmse_test = float(format(np.sqrt(mean_squared_error(y_pred_, y_)), '.3f'))\n",
        "print(\"\\nRMSE test: \", rmse_test)\n",
        "\n",
        "rrmse_test = format(float(rmse_test*100/np.mean(y_)),'.2f')\n",
        "print(\"\\nRRMSE test: \", rrmse_test,\"%\")\n",
        "\n",
        "\n",
        "# plt.figure(figsize=(12,12))\n",
        "# plt.scatter(y_, y_pred_)\n",
        "# # p1 = max(max(y_pred_), max(y_))\n",
        "# # p2 = min(min(y_pred_), min(y_))\n",
        "# # plt.plot( [p1,p2], [p1,p2], linestyle='--', color='k' )\n",
        "# plt.show()"
      ],
      "metadata": {
        "colab": {
          "base_uri": "https://localhost:8080/"
        },
        "id": "yDjlEbmZWykT",
        "outputId": "94baee29-a4fd-4a93-9d86-5663f4bd224a"
      },
      "execution_count": null,
      "outputs": [
        {
          "output_type": "stream",
          "name": "stdout",
          "text": [
            "[0, 1, 5, 6, 7, 8, 9, 10, 11, 13, 14, 16, 17, 18, 19, 20, 21, 22, 23] [2, 3, 4, 12, 15]\n",
            "\n",
            "RMSE test:  648.625\n",
            "\n",
            "RRMSE test:  13.86 %\n"
          ]
        },
        {
          "output_type": "stream",
          "name": "stderr",
          "text": [
            "/usr/local/lib/python3.10/dist-packages/sklearn/base.py:432: UserWarning: X has feature names, but KNeighborsRegressor was fitted without feature names\n",
            "  warnings.warn(\n"
          ]
        }
      ]
    },
    {
      "cell_type": "markdown",
      "metadata": {
        "id": "B-HNDjjm4BRX"
      },
      "source": [
        "##Random Forest"
      ]
    },
    {
      "cell_type": "code",
      "source": [
        "cv = KFold(n_splits=5, shuffle=True, random_state=42)\n",
        "\n",
        "# Iterate through CV splits\n",
        "rmse_test_arr = []\n",
        "rrmse_test_arr =[]\n",
        "r2_test_arr= []\n",
        "mae_test_arr = []\n",
        "\n",
        "rmse_train_arr = []\n",
        "rrmse_train_arr =[]\n",
        "r2_train_arr= []\n",
        "mae_train_arr = []\n",
        "\n",
        "bias_test_arr = []\n",
        "bias_train_arr = []\n",
        "\n",
        "for tr, tt in cv.split(df_train): #tr,tt are indexes\n",
        "    x_train, x_test = df_train[selected_features_final].iloc[tr], df_train[selected_features_final].iloc[tt]\n",
        "    y_train, y_test = df_train['prod'].iloc[tr], df_train['prod'].iloc[tt]\n",
        "    print(tr,tt)\n",
        "    scaler = MinMaxScaler()\n",
        "    X_train = scaler.fit_transform(pd.DataFrame(x_train))\n",
        "    X_test = scaler.transform(pd.DataFrame(x_test))\n",
        "    model =  RandomForestRegressor(n_estimators = 1000, random_state = 42).fit(X_train, y_train)\n",
        "    y_pred= model.predict(X_test)\n",
        "    y_pred_train= model.predict(X_train)\n",
        "\n",
        "    r2_test=r2_score(y_test,y_pred)\n",
        "    r2_train=r2_score(y_train,y_pred_train)\n",
        "    #print(r2_test)\n",
        "    #print(r2_train)\n",
        "    r2_test_arr.append(r2_test)\n",
        "    r2_train_arr.append(r2_train)\n",
        "\n",
        "    rmse_test = float(format(np.sqrt(mean_squared_error(y_test, y_pred)), '.3f'))\n",
        "    #print(\"\\nRMSE test: \", rmse_test)\n",
        "    rmse_test_arr.append(rmse_test)\n",
        "\n",
        "    rrmse_test = format(float(rmse_test*100/np.mean(y_test)),'.2f')\n",
        "    #print(\"\\nRRMSE test: \", rrmse_test,\"%\")\n",
        "    rrmse_test_arr.append(rrmse_test)\n",
        "\n",
        "    rmse_train = float(format(np.sqrt(mean_squared_error(y_train, y_pred_train)), '.3f'))\n",
        "    #print(\"\\nRMSE train: \", rmse_train)\n",
        "    rmse_train_arr.append(rmse_train)\n",
        "\n",
        "    rrmse_train = format(float(rmse_train*100/np.mean(y_train)),'.2f')\n",
        "    #print(\"\\nRRMSE train: \", rrmse_train,\"%\")\n",
        "    rrmse_train_arr.append(rrmse_train)\n",
        "\n",
        "\n",
        "    mae_test = float(format(mean_absolute_error(y_test, y_pred), '.3f'))\n",
        "    #print(\"\\nMAE Test: \", mae_test)\n",
        "    mae_test_arr.append(mae_test)\n",
        "    mae_train = float(format(mean_absolute_error(y_train, y_pred_train), '.3f'))\n",
        "    #print(\"\\nMAE Train: \", mae_train)\n",
        "    mae_train_arr.append(mae_train)\n",
        "\n",
        "    #print(\"\\nBias Test: \\n\", bias_value(y_test,y_pred))\n",
        "    bias_test_arr.append(bias_value(y_test,y_pred))\n",
        "    #print(\"\\nBias Train: \\n\", bias_value(y_train, y_pred_train))\n",
        "    bias_train_arr.append(bias_value(y_train, y_pred_train))\n",
        "\n",
        "data['Method'][4]='Random Forest'\n",
        "data['RMSE test'][4]=np.mean(rmse_test_arr)\n",
        "data['RMSE train'][4]=np.mean(rmse_train_arr)\n",
        "data['RRMSE test'][4]=np.mean(np.array(rrmse_test_arr).astype(np.float))\n",
        "data['RRMSE train'][4]=np.mean(np.array(rrmse_train_arr).astype(np.float))\n",
        "data['MAE test'][4]=np.mean(mae_test_arr)\n",
        "data['MAE train'][4]=np.mean(mae_train_arr)\n",
        "data['R2_score test'][4]=np.mean(r2_test_arr)\n",
        "data['R2_score train'][4]=np.mean(r2_train_arr)\n",
        "data['Bias test'][4]=np.mean(bias_test_arr)\n",
        "data['Bias train'][4]=np.mean(bias_train_arr)\n",
        "\n",
        "print(np.array(rmse_test_arr).astype(np.float))\n",
        "print(sum(np.array(rmse_test_arr))/5)\n",
        "x_train, x_test = df_train[selected_features_final], df_test[selected_features_final]\n",
        "y_train, y_test = df_train['prod'], df_test['prod']\n",
        "\n",
        "X_train = scaler.fit_transform(pd.DataFrame(x_train))\n",
        "X_test = scaler.transform(pd.DataFrame(x_test))\n",
        "#model =  RandomForestRegressor(n_estimators = 1000, random_state = 42).fit(X_train, y_train)\n",
        "y_pred= model.predict(X_test)\n",
        "rmse_test = float(format(np.sqrt(mean_squared_error(y_test, y_pred)), '.3f'))\n",
        "print(rmse_test)"
      ],
      "metadata": {
        "id": "Nbv4aL77Hj7T",
        "colab": {
          "base_uri": "https://localhost:8080/"
        },
        "outputId": "8bb95ccf-56c4-4d95-e007-9c2b2bbf3338"
      },
      "execution_count": null,
      "outputs": [
        {
          "output_type": "stream",
          "name": "stdout",
          "text": [
            "[ 1  2  3  4  5  6  7  9 10 12 13 14 15 17 19 20 21 22 23] [ 0  8 11 16 18]\n",
            "[ 0  2  3  4  6  7  8 10 11 12 14 15 16 17 18 19 20 22 23] [ 1  5  9 13 21]\n",
            "[ 0  1  5  6  7  8  9 10 11 13 14 16 17 18 19 20 21 22 23] [ 2  3  4 12 15]\n",
            "[ 0  1  2  3  4  5  6  8  9 10 11 12 13 14 15 16 18 19 21] [ 7 17 20 22 23]\n",
            "[ 0  1  2  3  4  5  7  8  9 11 12 13 15 16 17 18 20 21 22 23] [ 6 10 14 19]\n",
            "[609.788 744.619 208.395 324.913 435.858]\n",
            "464.7146000000001\n",
            "1003.168\n"
          ]
        },
        {
          "output_type": "stream",
          "name": "stderr",
          "text": [
            "<ipython-input-38-ec6b422faa6f>:67: DeprecationWarning: `np.float` is a deprecated alias for the builtin `float`. To silence this warning, use `float` by itself. Doing this will not modify any behavior and is safe. If you specifically wanted the numpy scalar type, use `np.float64` here.\n",
            "Deprecated in NumPy 1.20; for more details and guidance: https://numpy.org/devdocs/release/1.20.0-notes.html#deprecations\n",
            "  data['RRMSE test'][4]=np.mean(np.array(rrmse_test_arr).astype(np.float))\n",
            "<ipython-input-38-ec6b422faa6f>:68: DeprecationWarning: `np.float` is a deprecated alias for the builtin `float`. To silence this warning, use `float` by itself. Doing this will not modify any behavior and is safe. If you specifically wanted the numpy scalar type, use `np.float64` here.\n",
            "Deprecated in NumPy 1.20; for more details and guidance: https://numpy.org/devdocs/release/1.20.0-notes.html#deprecations\n",
            "  data['RRMSE train'][4]=np.mean(np.array(rrmse_train_arr).astype(np.float))\n",
            "<ipython-input-38-ec6b422faa6f>:76: DeprecationWarning: `np.float` is a deprecated alias for the builtin `float`. To silence this warning, use `float` by itself. Doing this will not modify any behavior and is safe. If you specifically wanted the numpy scalar type, use `np.float64` here.\n",
            "Deprecated in NumPy 1.20; for more details and guidance: https://numpy.org/devdocs/release/1.20.0-notes.html#deprecations\n",
            "  print(np.array(rmse_test_arr).astype(np.float))\n"
          ]
        }
      ]
    },
    {
      "cell_type": "code",
      "source": [
        "tr = [ 0 , 1 , 5 , 6,  7,  8,  9, 10, 11, 13, 14, 16, 17, 18, 19, 20, 21, 22, 23]\n",
        "tt = [ 2 , 3 , 4 ,12, 15]\n",
        "x_train, x_test = df_train[selected_features_final].iloc[tr], df_train[selected_features_final].iloc[tt]\n",
        "y_train, y_test = df_train['prod'].iloc[tr], df_train['prod'].iloc[tt]\n",
        "print(tr,tt)\n",
        "scaler = MinMaxScaler()\n",
        "X_train = scaler.fit_transform(x_train)\n",
        "X_test = scaler.transform(x_test)\n",
        "model =  RandomForestRegressor(n_estimators = 1000, random_state = 42).fit(X_train, y_train)\n",
        "x_ = df_test[selected_features_final]\n",
        "y_ = df_test['prod']\n",
        "y_pred_ = model.predict(x_)\n",
        "\n",
        "rmse_test = float(format(np.sqrt(mean_squared_error(y_pred_, y_)), '.3f'))\n",
        "print(\"\\nRMSE test: \", rmse_test)\n",
        "\n",
        "rrmse_test = format(float(rmse_test*100/np.mean(y_)),'.2f')\n",
        "print(\"\\nRRMSE test: \", rrmse_test,\"%\")\n",
        "\n",
        "\n",
        "# plt.figure(figsize=(12,12))\n",
        "# plt.scatter(y_, y_pred_)\n",
        "# # p1 = max(max(y_pred_), max(y_))\n",
        "# # p2 = min(min(y_pred_), min(y_))\n",
        "# # plt.plot( [p1,p2], [p1,p2], linestyle='--', color='k' )\n",
        "# plt.show()"
      ],
      "metadata": {
        "colab": {
          "base_uri": "https://localhost:8080/"
        },
        "id": "ICgUjR6cLRkA",
        "outputId": "0bb70297-dc3a-4b8f-99e4-cf621f6b0579"
      },
      "execution_count": null,
      "outputs": [
        {
          "output_type": "stream",
          "name": "stdout",
          "text": [
            "[0, 1, 5, 6, 7, 8, 9, 10, 11, 13, 14, 16, 17, 18, 19, 20, 21, 22, 23] [2, 3, 4, 12, 15]\n",
            "\n",
            "RMSE test:  980.183\n",
            "\n",
            "RRMSE test:  20.95 %\n"
          ]
        },
        {
          "output_type": "stream",
          "name": "stderr",
          "text": [
            "/usr/local/lib/python3.10/dist-packages/sklearn/base.py:432: UserWarning: X has feature names, but RandomForestRegressor was fitted without feature names\n",
            "  warnings.warn(\n"
          ]
        }
      ]
    },
    {
      "cell_type": "markdown",
      "metadata": {
        "id": "4D91CwhK_Wwz"
      },
      "source": [
        "# Results"
      ]
    },
    {
      "cell_type": "code",
      "execution_count": null,
      "metadata": {
        "id": "1i0QozER-dN5",
        "colab": {
          "base_uri": "https://localhost:8080/"
        },
        "outputId": "7d1abf00-3b8b-418d-b012-039ee068a24c"
      },
      "outputs": [
        {
          "output_type": "stream",
          "name": "stdout",
          "text": [
            "dataset:  Anuradhapura maha kannaya\n",
            "test size :  9 , 27.272727272727273 %\n",
            "              Method  RMSE test  RMSE train  RRMSE test  RRMSE train  \\\n",
            "0  Linear Regression   495.4626    426.2672      12.352       10.430   \n",
            "1                SVR   479.0678    464.2908      11.894       11.354   \n",
            "2                MLP   508.2938    414.9754      12.650       10.152   \n",
            "3                KNN   466.4114    382.2618      11.618        9.356   \n",
            "4      Random Forest   464.7146    177.1542      11.558        4.334   \n",
            "\n",
            "   MAE test  MAE train  R2_score test  R2_score train   Bias test  \\\n",
            "0  416.5004   352.6664      -1.052081        0.091372   -5.279204   \n",
            "1  418.8124   366.3136      -1.150186       -0.086239 -104.219556   \n",
            "2  422.0248   339.2340      -1.276189        0.137678   -2.070382   \n",
            "3  412.2920   319.4716      -0.810930        0.266758  -44.008000   \n",
            "4  390.0226   137.7782      -0.797936        0.841770  -38.439780   \n",
            "\n",
            "     Bias train  \n",
            "0  1.531781e-13  \n",
            "1 -1.080210e+02  \n",
            "2  5.981030e-03  \n",
            "3 -8.287579e+00  \n",
            "4  1.938977e+00  \n"
          ]
        }
      ],
      "source": [
        "mydf = pd.DataFrame(data, columns = ['Method', 'RMSE test','RMSE train','RRMSE test','RRMSE train','MAE test','MAE train','R2_score test','R2_score train','Bias test','Bias train'])\n",
        "print(\"dataset: \", dataset)\n",
        "print(\"test size : \",test_size,\",\", test_size*100/len(df.index),\"%\")\n",
        "print(mydf)"
      ]
    },
    {
      "cell_type": "code",
      "execution_count": null,
      "metadata": {
        "id": "tzyYz9Qh-ef0"
      },
      "outputs": [],
      "source": [
        "mydf.to_excel (r'export_dataframe.xlsx', index = False, header=True)"
      ]
    }
  ]
}